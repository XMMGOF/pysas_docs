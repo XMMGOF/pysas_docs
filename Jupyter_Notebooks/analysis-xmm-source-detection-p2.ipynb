{
 "cells": [
  {
   "cell_type": "markdown",
   "id": "41197847-3613-48d6-84d6-6a228b484e8c",
   "metadata": {},
   "source": [
    "# Source Detection with `edetect_chain` -- Part 2\n",
    "<hr style=\"border: 2px solid #fadbac\" />\n",
    "\n",
    "- **Description:** Using `edetect_chain` to automatically detect sources.\n",
    "- **Level:** Intermediate\n",
    "- **Data:** XMM observation of the Lockman Hole (obsid=0123700101)\n",
    "- **Requirements:** Must be run using pySAS version 2.0.\n",
    "- **Credit:** Ryan Tanner (August 2025)\n",
    "- **Support:** <a href=\"https://heasarc.gsfc.nasa.gov/docs/xmm/xmm_helpdesk.html\">XMM Newton GOF Helpdesk</a>\n",
    "- **Last verified to run:** 22 August 2025, for SAS v22.1 and pySAS v2.0\n",
    "\n",
    "<hr style=\"border: 2px solid #fadbac\" />"
   ]
  },
  {
   "cell_type": "markdown",
   "id": "af3cc6ad-35ba-4a22-b228-f5a965cfbd5f",
   "metadata": {},
   "source": [
    "## 1. Introduction\n",
    "This tutorial is the second part of automatic source detection using `edetect_chain`. This tutorial assumes you have already worked through [Part 1](./analysis-xmm-source-detection-p1.ipynb) and any prerequisite notebooks. This tutorial is based on [the analysis thread provided by the SOC at ESA](https://www.cosmos.esa.int/web/xmm-newton/sas-thread-src-find).\n",
    "\n",
    "Here we show how to simultaneously search for sources in all three EPIC cameras across 5 images (for each camera for a total of 15 images) extracted in the 0.2-0.5 keV, 0.5-1 keV, 1-2 keV, 2-4.5 keV, and 4.5-12 keV energy bands, respectively.\n",
    "\n",
    "#### SAS Tasks to be Used\n",
    "\n",
    "- `espfilt`[(Documentation for espfilt)](https://xmm-tools.cosmos.esa.int/external/sas/current/doc/espfilt/index.html)\n",
    "- `edetect_chain`[(Documentation for edetect_chain)](https://xmm-tools.cosmos.esa.int/external/sas/current/doc/edetect_chain/index.html)\n",
    "\n",
    "#### Useful Links\n",
    "\n",
    "- [`pysas` Documentation](https://xmm-tools.cosmos.esa.int/external/sas/current/doc/pysas/index.html \"pysas Documentation\")\n",
    "- [`pysas` on GitHub](https://github.com/XMMGOF/pysas)\n",
    "- [Common SAS Threads](https://www.cosmos.esa.int/web/xmm-newton/sas-threads/ \"SAS Threads\")\n",
    "- [Users' Guide to the XMM-Newton Science Analysis System (SAS)](https://xmm-tools.cosmos.esa.int/external/xmm_user_support/documentation/sas_usg/USG/SASUSG.html \"Users' Guide\")\n",
    "- [The XMM-Newton ABC Guide](https://heasarc.gsfc.nasa.gov/docs/xmm/abc/ \"ABC Guide\")\n",
    "- [XMM Newton GOF Helpdesk](https://heasarc.gsfc.nasa.gov/docs/xmm/xmm_helpdesk.html \"Helpdesk\") - Link to form to contact the GOF Helpdesk.\n",
    "\n",
    "<div class=\"alert alert-block alert-warning\">\n",
    "    <b>Warning:</b> By default this notebook will place observation data files in your default <tt>data_dir</tt> directory. Make sure pySAS has been configured properly.\n",
    "</div>"
   ]
  },
  {
   "cell_type": "code",
   "execution_count": null,
   "id": "2b00d763-6e96-4a54-900f-dd4634e2d5eb",
   "metadata": {
    "scrolled": true
   },
   "outputs": [],
   "source": [
    "# Make sure pySAS is up to date\n",
    "%pip install xmmpysas --upgrade"
   ]
  },
  {
   "cell_type": "code",
   "execution_count": null,
   "id": "a0a5065c-aae3-4d9b-b2cb-5434c5c4ff88",
   "metadata": {},
   "outputs": [],
   "source": [
    "# pySAS imports\n",
    "import pysas\n",
    "from pysas.sastask import MyTask\n",
    "from pysas.pysasplot_utils.pysasplot_utils import quick_image_plot as qip\n",
    "\n",
    "# Useful imports\n",
    "import os, glob\n",
    "\n",
    "# Matplotlib\n",
    "import matplotlib.pyplot as plt\n",
    "\n",
    "# Astropy import\n",
    "from astropy.visualization import astropy_mpl_style\n",
    "from astropy.io import fits\n",
    "from astropy.wcs import WCS\n",
    "import astropy.units as u\n",
    "from astropy.coordinates import SkyCoord\n",
    "from regions import CircleSkyRegion\n",
    "\n",
    "# To handle certain warnings\n",
    "import warnings\n",
    "warnings.filterwarnings(\"ignore\")"
   ]
  },
  {
   "cell_type": "code",
   "execution_count": null,
   "id": "75c96c48-5759-4bc9-acc2-570bd498bc2c",
   "metadata": {
    "scrolled": true
   },
   "outputs": [],
   "source": [
    "obsid = '0123700101'\n",
    "\n",
    "my_obs = pysas.obsid.ObsID(obsid)\n",
    "my_obs.basic_setup(overwrite=False,repo='heasarc',rerun=False,run_rgsproc=False)\n",
    "os.chdir(my_obs.work_dir)"
   ]
  },
  {
   "cell_type": "code",
   "execution_count": null,
   "id": "bf9d4112-2d12-4dcf-a54a-f3411fad4b47",
   "metadata": {},
   "outputs": [],
   "source": [
    "event_lists = []\n",
    "event_lists.append(my_obs.files['M1evt_list'][0])\n",
    "event_lists.append(my_obs.files['M2evt_list'][0])\n",
    "event_lists.append(my_obs.files['PNevt_list'][0])"
   ]
  },
  {
   "cell_type": "code",
   "execution_count": null,
   "id": "7196e3ce-0377-4422-bd2b-17adecd4edd0",
   "metadata": {},
   "outputs": [],
   "source": [
    "def make_hires_image(event_list,pi_min,pi_max,instrument,out_image='image.fits'):\n",
    "\n",
    "    if instrument == 'pn':\n",
    "        filter = 'XMMEA_EP&&((FLAG & 0x762a097c)==0)'\n",
    "        pattern = 4\n",
    "    elif 'mos' in instrument:\n",
    "        filter = 'XMMEA_EM'\n",
    "        pattern = 12\n",
    "\n",
    "    # Filter expression\n",
    "    expression = '(PATTERN in [0:{pattern}])&&(PI in [{pi_min}:{pi_max}])&&(FLAG == 0)&&#{filter}'.format(filter=filter,pattern=pattern,pi_min=pi_min,pi_max=pi_max)\n",
    "    \n",
    "    inargs = {'table'         : event_list+':EVENTS', \n",
    "              'withimageset'  : 'yes',\n",
    "              'imageset'      : out_image,\n",
    "              'expression'    : expression,\n",
    "              'imagebinning'  : 'binSize',\n",
    "              'xcolumn'       : 'X',\n",
    "              'ycolumn'       : 'Y',\n",
    "              'ximagebinsize' : 40,\n",
    "              'yimagebinsize' : 40}\n",
    "    \n",
    "    MyTask('evselect', inargs).run()\n",
    "\n",
    "    return out_image"
   ]
  },
  {
   "cell_type": "code",
   "execution_count": null,
   "id": "4180b50e-40e7-49a8-959b-444812921265",
   "metadata": {},
   "outputs": [],
   "source": [
    "# Function to make regions\n",
    "def make_regions(source_list):\n",
    "    obs_regions = []\n",
    "    with fits.open(source_list) as hdu:\n",
    "        data = hdu[1].data[hdu[1].data['ID_BAND'] == 1]\n",
    "    for i in range(len(data)):\n",
    "        RA     = data['RA'][i] * u.deg\n",
    "        Dec    = data['DEC'][i] * u.deg\n",
    "        radius = 30.0 * u.arcsec\n",
    "        obs_regions.append({'ra':RA, 'dec':Dec, 'radius':radius})\n",
    "    return obs_regions\n",
    "\n",
    "def plot_regions(image_file, source_list):\n",
    "\n",
    "    # Open file\n",
    "    hdu = fits.open(image_file)[0]\n",
    "    wcs = WCS(hdu.header)\n",
    "\n",
    "    # Plot\n",
    "    ax = plt.subplot(projection=wcs)\n",
    "    plt.imshow(hdu.data, origin='lower', norm='log', vmin=0.01, vmax=1.0)\n",
    "    ax.set_facecolor(\"black\")\n",
    "\n",
    "    # Add regions\n",
    "    for source in source_list:\n",
    "        # Define region\n",
    "        region = CircleSkyRegion(SkyCoord(source['ra'], source['dec']), source['radius'])\n",
    "        pixel_region = region.to_pixel(wcs)\n",
    "        # Convert region to artist object\n",
    "        artist = pixel_region.as_artist(color='lime')\n",
    "        ax.add_artist(artist)\n",
    "\n",
    "    plt.grid(color='blue', ls='solid')\n",
    "    plt.xlabel('RA')\n",
    "    plt.ylabel('Dec')\n",
    "    plt.colorbar()\n",
    "    plt.show()"
   ]
  },
  {
   "cell_type": "markdown",
   "id": "56af9db2-4395-4a5c-ba2f-53d85beeb1ee",
   "metadata": {},
   "source": [
    "## 2. Filter the Observation\n",
    "\n",
    "To filter this observation we will use the command [`espfilt`](https://xmm-tools.cosmos.esa.int/external/sas/current/doc/espfilt/espfilt.html) which can do a lot of automatic filtering of solar flare activity. This task outputs a number of files that include (with the corresponding filename format):\n",
    "\n",
    "    - Filtered event list (*-allevc.fits)\n",
    "    - Filtered image file (*-allimc.fits)\n",
    "    - Lightcurve file (*-fovlc.fits)\n",
    "    - UNfiltered event list for the corners (*-corev.fits)\n",
    "    - Filtered event list for the corners (*-corevc.fits)\n",
    "    - Filtered image file for the corners (*-corimc.fits)\n",
    "    - Lightcurve file for the corners (*-corlc.fits)\n",
    "    - Post-filtering Good Time Interval (GTI) file (*-gti.fits)\n",
    "\n",
    "The filenames will start with {instrument}{exposure ID}. For example, mos1S001, mos2S002, pnS003 etc."
   ]
  },
  {
   "cell_type": "code",
   "execution_count": null,
   "id": "0d9d57e3-109c-4d5b-bd35-cc1b0aea483d",
   "metadata": {
    "scrolled": true
   },
   "outputs": [],
   "source": [
    "for file in event_lists:\n",
    "    inargs = {'eventfile' : file}\n",
    "    MyTask('espfilt', inargs).run()"
   ]
  },
  {
   "cell_type": "code",
   "execution_count": null,
   "id": "1d2ada7e-7826-4a7e-aca7-c964536acf76",
   "metadata": {},
   "outputs": [],
   "source": [
    "cevent_lists = glob.glob('*allevc.fits')\n",
    "attitude_file = glob.glob('*AttHk.ds')[0]\n",
    "\n",
    "# Putting filenames into a dictionary to make things easier later on\n",
    "clean_event_lists = {}\n",
    "\n",
    "for event_list in cevent_lists:\n",
    "    instrument = event_list.replace('-allevc.fits','')[:-4]\n",
    "    clean_event_lists[instrument] = event_list"
   ]
  },
  {
   "cell_type": "markdown",
   "id": "259d4b8c-186d-4c5d-899c-305b8959b1ad",
   "metadata": {},
   "source": [
    "## 3. Make High Res Images for Analysis\n",
    "\n",
    "Now we will create 18 high resolution images, 6 for each EPIC camera (1 full band image + 5 narrower band images)."
   ]
  },
  {
   "cell_type": "code",
   "execution_count": null,
   "id": "0c524841-bb13-489a-b0d6-691d387694c5",
   "metadata": {},
   "outputs": [],
   "source": [
    "# List of the min energy for each energy band\n",
    "pi_min_list = [200,200,500,1000,2000,4500]\n",
    "# List of the max energy for each energy band\n",
    "pi_max_list = [12000,500,1000,2000,4500,12000]\n",
    "# List of the names of each energy band\n",
    "energy_bands = ['full','b1','b2','b3','b4','b5']"
   ]
  },
  {
   "cell_type": "code",
   "execution_count": null,
   "id": "a256134b-9302-4734-9360-cda24bd07222",
   "metadata": {
    "scrolled": true
   },
   "outputs": [],
   "source": [
    "band_images = {}\n",
    "\n",
    "# Loop over the three unfiltered event lists for the pn, MOS1, and MOS2\n",
    "for inst in clean_event_lists.keys():\n",
    "    band_images[inst] = []\n",
    "    # Loop over all six energy bands\n",
    "    for i,band in enumerate(energy_bands):\n",
    "        image_file = inst+'_image_'+band+'.fits'\n",
    "        band_images[inst].append(image_file)\n",
    "        make_hires_image(clean_event_lists[inst],pi_min_list[i],pi_max_list[i],inst,out_image=image_file)"
   ]
  },
  {
   "cell_type": "markdown",
   "id": "b0d8ce10-bf70-4437-a2d4-c69f36e737d3",
   "metadata": {},
   "source": [
    "Here we display *only* the full band images to check for quality."
   ]
  },
  {
   "cell_type": "code",
   "execution_count": null,
   "id": "58022b57-697a-4e10-aa1d-c4b9c782617a",
   "metadata": {},
   "outputs": [],
   "source": [
    "for inst in band_images.keys():\n",
    "    qip(band_images[inst][0],\n",
    "        vmin = 0.01,\n",
    "        vmax = 1.0, \n",
    "        xlabel = 'RA', \n",
    "        ylabel = 'Dec')"
   ]
  },
  {
   "cell_type": "markdown",
   "id": "b807c746-49b1-4f8f-8b2e-fbf493e74f28",
   "metadata": {},
   "source": [
    "## 4. Run `edetect_chain`\n",
    "\n",
    "We will now run `edetect_chain` two different ways.\n",
    "\n",
    "First we will run it individually for each instrument. This takes the 5 image files created for each energy band.\n",
    "\n",
    "Next we will run `edetect_chain` over all 5 bands and all 3 EPIC cameras simultaneously. This takes as an input 15 different image files."
   ]
  },
  {
   "cell_type": "code",
   "execution_count": null,
   "id": "00e37e07-3349-4ad8-8246-6e5957e78186",
   "metadata": {},
   "outputs": [],
   "source": [
    "# Function to run edetect_chain\n",
    "def run_edetect_chain(imagesets,filtered_event_list,attitude_file,eml_list,eboxl_list,eboxm_list,\n",
    "                      pimin,pimax,efc):\n",
    "    inargs = {'imagesets'   : imagesets, \n",
    "              'eventsets'   : filtered_event_list,\n",
    "              'attitudeset' : attitude_file, \n",
    "              'eml_list'    : eml_list,\n",
    "              'eboxl_list'  : eboxl_list,\n",
    "              'eboxm_list'  : eboxm_list,\n",
    "              'pimin'       : pimin, \n",
    "              'pimax'       : pimax,\n",
    "              'ecf'         : efc,\n",
    "              'esp_nsplinenodes' : 16,\n",
    "              'esen_mlmin'       : 15}\n",
    "    \n",
    "    MyTask('edetect_chain', inargs).run()"
   ]
  },
  {
   "cell_type": "markdown",
   "id": "cb01cc30-f668-48fa-80bd-0499f5787e35",
   "metadata": {},
   "source": [
    "Everything in the next cell is to get the inputs for `edetect_chain` into their proper format. We will effectively be running the following three commands:\n",
    "\n",
    "```\n",
    "edetect_chain imagesets=' \\\n",
    "  \"m1_image_b1.fits\" \"m1_image_b2.fits\" \"m1_image_b3.fits\" \"m1_image_b4.fits\" \"m1_image_b5.fits\"' \\\n",
    "  eventsets=mos1S001-allevc.fits attitudeset=0070_0123700101_AttHk.ds \\\n",
    "  pimin='200 500 1000 2000 4500' pimax='500 1000 2000 4500 12000' \\\n",
    "  ecf='1.734 1.746 2.041 0.737 0.145' \\\n",
    "  eboxl_list='mos1_eboxlist_l.fits' eboxm_list='mos1_eboxlist_m.fits' \\\n",
    "  esp_nsplinenodes=16 eml_list='mos1_emllist.fits' esen_mlmin=15\n",
    "\n",
    "edetect_chain imagesets=' \\\n",
    "  \"m2_image_b1.fits\" \"m2_image_b2.fits\" \"m2_image_b3.fits\" \"m2_image_b4.fits\" \"m2_image_b5.fits\"' \\\n",
    "  eventsets=mos2S002-allevc.fits attitudeset=0070_0123700101_AttHk.ds \\\n",
    "  pimin='200 500 1000 2000 4500' pimax='500 1000 2000 4500 12000' \\\n",
    "  ecf='0.991 1.387 1.789 0.703 0.150' \\\n",
    "  eboxl_list='mos2_eboxlist_l.fits' eboxm_list='mos2_eboxlist_m.fits' \\\n",
    "  esp_nsplinenodes=16 eml_list='mos2_emllist.fits' esen_mlmin=15\n",
    "\n",
    "edetect_chain imagesets=' \\\n",
    "  \"pn_image_b1.fits\" \"pn_image_b2.fits\" \"pn_image_b3.fits\" \"pn_image_b4.fits\" \"pn_image_b5.fits\"' \\\n",
    "  eventsets=pnS003-allevc.fits attitudeset=0070_0123700101_AttHk.ds \\\n",
    "  pimin='200 500 1000 2000 4500' pimax='500 1000 2000 4500 12000' \\\n",
    "  ecf='9.525 8.121 5.867 1.953 0.578' \\\n",
    "  eboxl_list='pn_eboxlist_l.fits' eboxm_list='pn_eboxlist_m.fits' \\\n",
    "  esp_nsplinenodes=16 eml_list='pn_emllist.fits' esen_mlmin=15\n",
    "```"
   ]
  },
  {
   "cell_type": "code",
   "execution_count": null,
   "id": "23232e5f-b4c8-4085-8d27-2c47caebf75c",
   "metadata": {},
   "outputs": [],
   "source": [
    "pi_min = []\n",
    "pi_max = []\n",
    "\n",
    "for pimin in pi_min_list[1:]: pi_min.append(f'{pimin}')\n",
    "for pimax in pi_max_list[1:]: pi_max.append(f'{pimax}')\n",
    "pi_min = \" \".join(pi_min)\n",
    "pi_max = \" \".join(pi_max)\n",
    "\n",
    "efcs = {'mos1' : '1.734 1.746 2.041 0.737 0.145',\n",
    "        'mos2' : '0.991 1.387 1.789 0.703 0.150',\n",
    "        'pn'   : '9.525 8.121 5.867 1.953 0.578'}\n",
    "\n",
    "imagesets = {}\n",
    "\n",
    "for inst in band_images.keys():\n",
    "    imagesets[inst] = []\n",
    "    for file in band_images[inst][1:]:\n",
    "        imagesets[inst].append(f'\"{file}\"')\n",
    "    imagesets[inst] = \" \".join(imagesets[inst])"
   ]
  },
  {
   "cell_type": "markdown",
   "id": "01208242-231a-442d-93a2-6bf9fe995f2c",
   "metadata": {},
   "source": [
    "The cell above creates dictionaries for the various `edetect_chain` input arguments where the dictionary keys are the names of the three instruments `mos1`, `mos2`, and `pn`. The next cell will display the input values created in the cell above."
   ]
  },
  {
   "cell_type": "code",
   "execution_count": null,
   "id": "d7572a80-1278-41a8-bd94-3fc9741be7d7",
   "metadata": {},
   "outputs": [],
   "source": [
    "eml_list = {}\n",
    "\n",
    "for inst in band_images.keys():\n",
    "    eml_list[inst] = inst+'_emllist.fits'\n",
    "    eboxl_list     = inst+'_eboxlist_l.fits'\n",
    "    eboxm_list     = inst+'_eboxlist_m.fits'\n",
    "    print(f'Input arguments for {inst}:\\n')\n",
    "    print(f'imageset    = \\'{imagesets[inst]}\\'')\n",
    "    print(f'eventsets   = \\'{clean_event_lists[inst]}\\'')\n",
    "    print(f'attitudeset = \\'{attitude_file}\\'')\n",
    "    print(f'eml_list    = \\'{eml_list[inst]}\\'')\n",
    "    print(f'eboxl_list  = \\'{eboxl_list}\\'')\n",
    "    print(f'eboxm_list  = \\'{eboxm_list}\\'')\n",
    "    print(f'pimin       = \\'{pi_min}\\'')\n",
    "    print(f'pimax       = \\'{pi_max}\\'')\n",
    "    print(f'ecf         = \\'{efcs[inst]}\\'\\n')"
   ]
  },
  {
   "cell_type": "markdown",
   "id": "569c1089-3e6a-465e-b465-8c54f7e8643e",
   "metadata": {},
   "source": [
    "<div class=\"alert alert-block alert-warning\">\n",
    "<b>Warning:</b> The next cell will run <tt>edetect_chain</tt> three times. In total it will take ~2 hours to run.\n",
    "</div>"
   ]
  },
  {
   "cell_type": "code",
   "execution_count": null,
   "id": "f309a6ea-6927-4753-8cdb-0ebcf87c1164",
   "metadata": {
    "scrolled": true
   },
   "outputs": [],
   "source": [
    "eml_list = {}\n",
    "\n",
    "for inst in band_images.keys():\n",
    "    eml_list[inst] = inst+'_emllist.fits'\n",
    "    eboxl_list     = inst+'_eboxlist_l.fits'\n",
    "    eboxm_list     = inst+'_eboxlist_m.fits'\n",
    "    run_edetect_chain(imagesets[inst],\n",
    "                      clean_event_lists[inst],\n",
    "                      attitude_file,\n",
    "                      eml_list[inst],\n",
    "                      eboxl_list,\n",
    "                      eboxm_list,\n",
    "                      pi_min,\n",
    "                      pi_max,\n",
    "                      efcs[inst])"
   ]
  },
  {
   "cell_type": "markdown",
   "id": "936fce57-10c2-412d-ab71-85dd5f144ed4",
   "metadata": {},
   "source": [
    "Running the following cell will plot the full band images again and overlay the sources found by `edetect_chain`."
   ]
  },
  {
   "cell_type": "code",
   "execution_count": null,
   "id": "47221812-33ed-48d6-baf8-28e83f23bebb",
   "metadata": {},
   "outputs": [],
   "source": [
    "for inst in clean_event_lists.keys():\n",
    "    my_regions = make_regions(eml_list[inst])\n",
    "    plot_regions(band_images[inst][0],my_regions)"
   ]
  },
  {
   "cell_type": "markdown",
   "id": "05da4ae4-a816-4c84-9641-3a2a4fe60fca",
   "metadata": {},
   "source": [
    "## 5. Run Combined `edetect_chain` With All Instruments\n",
    "\n",
    "Alternatively you can run `edetect_chain` once for all three instruments combined by inputing all the image files and necessary information together. Effectively this is like running the following command:\n",
    "```\n",
    "edetect_chain imagesets=' \\\n",
    "\"m1_image_b1.fits\" \"m1_image_b2.fits\" \"m1_image_b3.fits\" \"m1_image_b4.fits\" \"m1_image_b5.fits\" \\\n",
    "\"m2_image_b1.fits\" \"m2_image_b2.fits\" \"m2_image_b3.fits\" \"m2_image_b4.fits\" \"m2_image_b5.fits\" \\\n",
    "\"pn_image_b1.fits\" \"pn_image_b2.fits\" \"pn_image_b3.fits\" \"pn_image_b4.fits\" \"pn_image_b5.fits\"' \\\n",
    "  eventsets='MOS1clean.fits MOS2clean.fits PNclean.fits' attitudeset=AttHk.ds \\\n",
    "  pimin='200 500 1000 2000 4500 200 500 1000 2000 4500 200 500 1000 2000 4500' \\\n",
    "  pimax='500 1000 2000 4500 12000 500 1000 2000 4500 12000 500 1000 2000 4500 12000' \\\n",
    "  ecf='1.734 1.746 2.041 0.737 0.145 0.991 1.387 1.789 0.703 0.150 9.525 8.121 5.867 1.953 0.578' \\\n",
    "  eboxl_list='all_eboxlist_l.fits' eboxm_list='all_eboxlist_m.fits' \\\n",
    "  esp_nsplinenodes=16 eml_list='all_emllist.fits' esen_mlmin=15\n",
    "```\n",
    "First we need to arrange the inputs like before, but now combining them all together."
   ]
  },
  {
   "cell_type": "code",
   "execution_count": null,
   "id": "96b112c4-013f-4b56-9981-87710d3dbfc4",
   "metadata": {},
   "outputs": [],
   "source": [
    "all_eml_list   = 'all_emllist.fits'\n",
    "all_eboxl_list = 'all_eboxlist_l.fits'\n",
    "all_eboxm_list = 'all_eboxlist_m.fits'\n",
    "\n",
    "all_imagesets = []\n",
    "all_clean_event_lists = []\n",
    "all_pi_min = []\n",
    "all_pi_max = []\n",
    "all_efcs   = []\n",
    "\n",
    "for inst in band_images.keys():\n",
    "    all_imagesets.append(imagesets[inst])\n",
    "    all_clean_event_lists.append(clean_event_lists[inst])\n",
    "    all_pi_min.append(pi_min)\n",
    "    all_pi_max.append(pi_max)\n",
    "    all_efcs.append(efcs[inst])\n",
    "\n",
    "all_imagesets = \" \".join(all_imagesets)\n",
    "all_clean_event_lists = \" \".join(all_clean_event_lists)\n",
    "all_pi_min = \" \".join(all_pi_min)\n",
    "all_pi_max = \" \".join(all_pi_max)\n",
    "all_efcs   = \" \".join(all_efcs)"
   ]
  },
  {
   "cell_type": "code",
   "execution_count": null,
   "id": "a6607d8c-4df3-423f-9990-54a4c1ee55f7",
   "metadata": {},
   "outputs": [],
   "source": [
    "print(f'Input arguments for combined edetect_chain:\\n')\n",
    "print(f'imageset    = \\'{all_imagesets}\\'')\n",
    "print(f'eventsets   = \\'{all_clean_event_lists}\\'')\n",
    "print(f'attitudeset = \\'{attitude_file}\\'')\n",
    "print(f'eml_list    = \\'{all_eml_list}\\'')\n",
    "print(f'eboxl_list  = \\'{all_eboxl_list}\\'')\n",
    "print(f'eboxm_list  = \\'{all_eboxm_list}\\'')\n",
    "print(f'pimin       = \\'{all_pi_min}\\'')\n",
    "print(f'pimax       = \\'{all_pi_max}\\'')\n",
    "print(f'ecf         = \\'{all_efcs}\\'\\n')"
   ]
  },
  {
   "cell_type": "markdown",
   "id": "4bc49957-7eae-4fb6-9794-159f242fdbab",
   "metadata": {},
   "source": [
    "<div class=\"alert alert-block alert-warning\">\n",
    "<b>Warning:</b> The next cell will take ~4.5 hours to run.\n",
    "</div>"
   ]
  },
  {
   "cell_type": "code",
   "execution_count": null,
   "id": "b1a2659c-767c-4441-91aa-4045a30ee570",
   "metadata": {
    "scrolled": true
   },
   "outputs": [],
   "source": [
    "run_edetect_chain(all_imagesets,\n",
    "                  all_clean_event_lists,\n",
    "                  attitude_file,\n",
    "                  all_eml_list,\n",
    "                  all_eboxl_list,\n",
    "                  all_eboxm_list,\n",
    "                  all_pi_min,\n",
    "                  all_pi_max,\n",
    "                  all_efcs)"
   ]
  },
  {
   "cell_type": "markdown",
   "id": "43bd37eb-7925-4b22-b6cb-050dfa9279fd",
   "metadata": {},
   "source": [
    "The images from the three EPIC cameras can be merged using the command `emosaic`, which has the inputs:\n",
    "\n",
    "- imagesets : The full band image files to be merged.\n",
    "- mosaicedset : The output filename for the mosiac image."
   ]
  },
  {
   "cell_type": "code",
   "execution_count": null,
   "id": "69cd2dd1-bd2a-40cf-b35e-a3267fc9763b",
   "metadata": {},
   "outputs": [],
   "source": [
    "merge_imagesets = []\n",
    "\n",
    "for inst in clean_event_lists.keys():\n",
    "    merge_imagesets.append(band_images[inst][0])\n",
    "\n",
    "merge_imagesets = \" \".join(merge_imagesets)\n",
    "print(f'imagesets = \\'{merge_imagesets}\\'')"
   ]
  },
  {
   "cell_type": "code",
   "execution_count": null,
   "id": "859964cd-26bf-4950-95ff-4078adeb65cf",
   "metadata": {},
   "outputs": [],
   "source": [
    "mosaicedset = 'mosaic.fits'\n",
    "\n",
    "inargs = {'imagesets'   : merge_imagesets, \n",
    "          'mosaicedset' : mosaicedset}\n",
    "\n",
    "MyTask('emosaic', inargs).run()"
   ]
  },
  {
   "cell_type": "code",
   "execution_count": null,
   "id": "fb5aa8ee-4f83-4309-977c-17901574d0fd",
   "metadata": {},
   "outputs": [],
   "source": [
    "my_regions = make_regions(all_eml_list)\n",
    "plot_regions(mosaicedset,my_regions)"
   ]
  }
 ],
 "metadata": {
  "kernelspec": {
   "display_name": "Python 3 (ipykernel)",
   "language": "python",
   "name": "python3"
  },
  "language_info": {
   "codemirror_mode": {
    "name": "ipython",
    "version": 3
   },
   "file_extension": ".py",
   "mimetype": "text/x-python",
   "name": "python",
   "nbconvert_exporter": "python",
   "pygments_lexer": "ipython3",
   "version": "3.10.12"
  }
 },
 "nbformat": 4,
 "nbformat_minor": 5
}
