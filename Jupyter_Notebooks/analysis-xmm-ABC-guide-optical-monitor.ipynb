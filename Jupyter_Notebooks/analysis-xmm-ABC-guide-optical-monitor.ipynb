{
 "cells": [
  {
   "cell_type": "markdown",
   "id": "9c078d54",
   "metadata": {
    "editable": true,
    "slideshow": {
     "slide_type": ""
    },
    "tags": []
   },
   "source": [
    "# ABC Guide for XMM-Newton -- Optical Monitor (OM)\n",
    "<hr style=\"border: 2px solid #fadbac\" />\n",
    "\n",
    "- **Description:** XMM-Newton ABC Guide, Chapter 12.\n",
    "- **Level:** Beginner\n",
    "- **Data:** XMM observation of the Lockman Hole (obsid=0123700101), Mkn 421 (obsid=0411081601), BPM 16274 (obsid=0125320801)\n",
    "- **Requirements:** Must be run using pySAS version 2.2.2 or higher.\n",
    "- **Credit:** Jenna Cann (Feb 2025)\n",
    "- **Support:** <a href=\"https://heasarc.gsfc.nasa.gov/docs/xmm/xmm_helpdesk.html\">XMM Newton GOF Helpdesk</a>\n",
    "- **Last verified to run:** 17 October 2025, for SAS v22.1 and pySAS v2.2.2\n",
    "\n",
    "<hr style=\"border: 2px solid #fadbac\" />"
   ]
  },
  {
   "cell_type": "markdown",
   "id": "a539cc14",
   "metadata": {},
   "source": [
    "## 1. Introduction\n",
    "This tutorial is based on Chapter 12 from the The [The XMM-Newton ABC Guide](https://heasarc.gsfc.nasa.gov/docs/xmm/abc/ \"ABC Guide\") prepared by the NASA/GSFC XMM-Newton Guest Observer Facility. This notebook assumes you are at least minimally familiar with pySAS. \n",
    "\n",
    "#### SAS Tasks to be Used\n",
    "\n",
    "- [`omichain` Documentation](https://xmm-tools.cosmos.esa.int/external/sas/current/doc/omichain/index.html \"omichain Documentation\") (\"Optical Monitor Imaging Mode Chain\") \n",
    "- [`omfchain` Documentation](https://xmm-tools.cosmos.esa.int/external/sas/current/doc/omfchain/index.html \"omfchain Documentation\") (\"Optical Monitor Fast Mode Chain\")\n",
    "- [`omgchain` Documentation](https://xmm-tools.cosmos.esa.int/external/sas/current/doc/omgchain/index.html \"omgchain Documentation\") (\"Optical Monitor Grism Chain\")\n",
    "\n",
    "#### Useful Links\n",
    "\n",
    "- [`pysas` Documentation](https://xmm-tools.cosmos.esa.int/external/sas/current/doc/pysas/index.html \"pysas Documentation\")\n",
    "- [`pysas` on GitHub](https://github.com/XMMGOF/pysas)\n",
    "- [Common SAS Threads](https://www.cosmos.esa.int/web/xmm-newton/sas-threads/ \"SAS Threads\")\n",
    "- [Users' Guide to the XMM-Newton Science Analysis System (SAS)](https://xmm-tools.cosmos.esa.int/external/xmm_user_support/documentation/sas_usg/USG/SASUSG.html \"Users' Guide\")\n",
    "- [The XMM-Newton ABC Guide](https://heasarc.gsfc.nasa.gov/docs/xmm/abc/ \"ABC Guide\")\n",
    "- [XMM Newton GOF Helpdesk](https://heasarc.gsfc.nasa.gov/docs/xmm/xmm_helpdesk.html \"Helpdesk\") - Link to form to contact the GOF Helpdesk.\n",
    "\n",
    "<div class=\"alert alert-block alert-warning\">\n",
    "    <b>Warning:</b> By default this notebook will place observation data files in your default <tt>data_dir</tt> directory. Make sure pySAS has been configured properly.\n",
    "</div>"
   ]
  },
  {
   "cell_type": "markdown",
   "id": "29697fc0",
   "metadata": {},
   "source": [
    "## 2. An OM Data Processing and Analysis Primer"
   ]
  },
  {
   "cell_type": "markdown",
   "id": "3db23e0e-43d5-440f-8c47-d464730cc2ff",
   "metadata": {},
   "source": [
    "The OM can operate in Imaging, Fast, and Grism mode. Each of these modes has dedicated commands to reprocess the data: omichain, omfchain, and omgchain. These are metatasks that each call several procedures that are used to prepare the data for processing, make and apply flatfield images, and detect sources. The tasks omichain and omfchain also calculate the instrumental magnitudes of sources, find the position of the sources (in equatorial coordinates), and produce a sky image; omgchain produces a spectrum. If you run these chains, it is helpful to inspect the sas_log file to get a detailed list of the performed tasks. These chains rely on filters specified by the user; if no arguments are given, they run on all the files present in the ODF directory. Due to the long file names and the large number of input parameters, users are urged to simply use the chains and not run the chains' individual tasks one at a time.\n",
    "\n",
    "Most OM data are obtained in Imaging mode. If they were obtained in the Fast mode, there will be an additional event list file corresponding to the Fast window (*FAE.FIT). Reprocessing of data taken in Fast mode using the command line and SAS GUI is discussed in §12.3. Reprocessing OM Grism data is discussed in §12.4."
   ]
  },
  {
   "cell_type": "markdown",
   "id": "c991d55f-b049-4447-b34b-8dcc101f07da",
   "metadata": {},
   "source": [
    "## 3. OM Artifacts and General Information"
   ]
  },
  {
   "cell_type": "markdown",
   "id": "9b7d0900-2a7a-403a-aefe-3ebda4b73790",
   "metadata": {},
   "source": [
    "Before proceeding with this notebook, it is appropriate to discuss the artifacts that often affect OM images. These artifacts can affect the accuracy of a measurement by e.g., increasing the background level.\n",
    "\n",
    "Stray light - background celestial light is reflected by the OM detector housing onto the center on the OM field of view, producing a circular area of high background. This can also produce looping structures and long streaks.\n",
    "\n",
    "Modulo 8 noise - In the raw images, a modulo 8 pattern arises from imperfections in the event centroiding algorithm in the OM electronics. This is removed during image processing.\n",
    "\n",
    "Smoke rings - light from bright sources is reflected from the entrance window back on the detector, producing faint rings located radially away from the center of the field of view.\n",
    "\n",
    "Out-of-time events - sources with count rates of several tens of counts/sec show a strip of events along the readout direction, corresponding to photons that arrived while the detector was being read out.\n",
    "\n",
    "Further, artifacts also can contaminate grism data. Due to this mode's complexity, users are urged to be very careful when working with grism data, and should refer to the [SOC's website on this topic](https://xmm-tools.cosmos.esa.int/external/xmm_user_support/documentation/sas_usg/USG/omgnotes.html \"SOC's website on this topic\").\n",
    "\n",
    "\n"
   ]
  },
  {
   "cell_type": "markdown",
   "id": "a13586b6-d7e7-40a7-a791-9da96d432aa9",
   "metadata": {},
   "source": [
    "## 4. Imaging mode"
   ]
  },
  {
   "cell_type": "markdown",
   "id": "d6f601e9-dad5-4f00-8d7f-e2b321395b03",
   "metadata": {},
   "source": [
    "### 4.1 Rerunning the Pipeline"
   ]
  },
  {
   "cell_type": "code",
   "execution_count": null,
   "id": "6f61b5de",
   "metadata": {},
   "outputs": [],
   "source": [
    "# pySAS imports\n",
    "import pysas\n",
    "from pysas import MyTask\n",
    "\n",
    "# Useful imports\n",
    "import os, sys\n",
    "import numpy as np\n",
    "from scipy.optimize import curve_fit\n",
    "\n",
    "# Imports for plotting\n",
    "import matplotlib.pyplot as plt\n",
    "from astropy.visualization import astropy_mpl_style\n",
    "from astropy.io import fits\n",
    "from astropy.wcs import WCS\n",
    "from astropy.table import Table\n",
    "plt.style.use(astropy_mpl_style)\n",
    "\n",
    "# To handle certain warnings\n",
    "import warnings\n",
    "warnings.filterwarnings(\"ignore\")"
   ]
  },
  {
   "cell_type": "code",
   "execution_count": null,
   "id": "6f68b9fa",
   "metadata": {
    "scrolled": true
   },
   "outputs": [],
   "source": [
    "obsid = '0123700101'\n",
    "\n",
    "my_obs = pysas.ObsID(obsid)\n",
    "my_obs.basic_setup(overwrite=False,run_epproc=False,run_emproc=False,run_rgsproc=False)"
   ]
  },
  {
   "cell_type": "markdown",
   "id": "2eee1b60-525b-436e-98bc-dcff650e9265",
   "metadata": {},
   "source": [
    "We will be running a task named `omichain`. This task will creat a large number of files. To keep things organized we will create a subdirectory named `OM_files` within the `work_dir` and run `omichanin` inside that directory. This will keep the optical monitor files separate from the rest of the files for this Obs ID.\n",
    "\n",
    "<div class=\"alert alert-block alert-info\">\n",
    "<b>Note:</b> The following cell will take ~25 minutes to run.</div>"
   ]
  },
  {
   "cell_type": "code",
   "execution_count": null,
   "id": "87049f2a-a077-4e13-ad13-8d65b7e28073",
   "metadata": {
    "scrolled": true
   },
   "outputs": [],
   "source": [
    "# Change in to the work_dir.\n",
    "os.chdir(my_obs.work_dir)\n",
    "\n",
    "# Create om_dir in work_dir\n",
    "om_dir_name = 'OM_files'\n",
    "my_obs.om_dir = os.path.join(my_obs.work_dir,om_dir_name)\n",
    "if not os.path.isdir(my_obs.om_dir):\n",
    "    os.mkdir(my_obs.om_dir)\n",
    "    \n",
    "# Change into the newly created om_dir\n",
    "os.chdir(my_obs.om_dir)\n",
    "\n",
    "inargs = [\"processmosaicedimages=yes\"]\n",
    "\n",
    "MyTask('omichain', inargs).run()"
   ]
  },
  {
   "cell_type": "markdown",
   "id": "67299aae-5c6f-4f80-975e-6c6b2b01fca1",
   "metadata": {},
   "source": [
    "You can also run omichain with various parameters  as shown [here](https://xmm-tools.cosmos.esa.int/external/sas/current/doc/omichain/node13.html \"here\"). As an example, let's try the above with several specific flags related to source detection. Since this will create a whole new set of OM files, we will create a new subdirectory within the `work_dir` and run `omichain` in it with the new parameters.\n",
    "\n",
    "<div class=\"alert alert-block alert-info\">\n",
    "<b>Note:</b> The following cell will take ~25 minutes to run.</div>"
   ]
  },
  {
   "cell_type": "code",
   "execution_count": null,
   "id": "560120dc-5d64-4d10-ac50-109055236fc0",
   "metadata": {
    "scrolled": true
   },
   "outputs": [],
   "source": [
    "# Change in to the work_dir.\n",
    "os.chdir(my_obs.work_dir)\n",
    "\n",
    "# Create om_dir in work_dir\n",
    "om_dir_name = 'OM_files2'\n",
    "my_obs.om_dir = os.path.join(my_obs.work_dir,om_dir_name)\n",
    "if not os.path.isdir(my_obs.om_dir):\n",
    "    os.mkdir(my_obs.om_dir)\n",
    "    \n",
    "# Change into the newly created om_dir\n",
    "os.chdir(my_obs.om_dir)\n",
    "\n",
    "inargs = [\"processmosaicedimages=yes\", \"omdetectnsigma=2.0\", \"omdetectminsignificance=3.0\"]\n",
    "\n",
    "MyTask('omichain', inargs).run()"
   ]
  },
  {
   "cell_type": "markdown",
   "id": "674ef1e0-3b10-49e6-a70f-56cd797f4293",
   "metadata": {},
   "source": [
    "The flags above include:\n",
    "\n",
    "    -processmosaicedimages - process the mosaicked sky images?\n",
    "    -omdetectnsigma - number of sigma above background required for a pixel to be considered part of the source\n",
    "    -omdetectminsignificance - minimum significance of a source to be included in the source list file\n",
    "\n",
    "There are numerous output files from the above command, including images and region files for each exposure and filter. If you are interested in a particular filter or set of filters, you can use the flag \"filters=\" with your desired filters.\n",
    "\n",
    "Several final output files will have been created during the processing steps. The main ones that you will likely need to worry about are named in the following format:\n",
    "\n",
    "P[obsid]OMS000RSIMAG[filter].FIT\n",
    "P[obsid]OMS000RSIMAG[filter].reg\n",
    "\n",
    "where [obsid] is the nine-digit observation id (in this example 0123700101) and [filter] is the one-letter designation for a given filter. The *IMAG[filter].FIT refers to the mosaic image and the *IMAG[filter].reg is a region file that shows the sources identified in the processing pipeline. The filters are designated by the following letters:\n",
    "\n",
    "    -M: UVM2\n",
    "    -L: UVW1\n",
    "    -S: UVW2\n",
    "    -U: U\n",
    "    -B: B\n",
    "    -V: V\n",
    "    -W: White\n",
    "\n",
    "In this obsid, we have observations in UVW1, UVW2, U, V, and White. \n",
    "\n",
    "The very last output to the \"terminal\" from `omichain` is a table of all the files created. It should look like this (some lines have been removed):\n",
    "\n",
    "```\n",
    "omichain:- ********************************************************\n",
    "omichain:- Product Files produced by omichain\n",
    "omichain:- ********************************************************\n",
    "omichain:-      Type:       Observation source-list file: \n",
    "omichain:-  1)  EXPOSURES   P0123700101OMCOMBOBSMLI0000.FIT Asp.corr.: NO\n",
    "omichain:-  2)     MERGED   P0123700101OMCOMBOBSMER0000.FIT Asp.corr.: NO\n",
    "omichain:-  3)   MOSAICED   P0123700101OMCOMBOBSMOS0000.FIT Asp.corr.: YES\n",
    "omichain:- Filter U\n",
    "omichain:- Mosaiced sky-image=P0123700101OMS000RSIMAGU.FIT, source-list=P0123700101OMS000RSISWSU.FIT\n",
    "omichain:-             Image file:                  Sky-image file:                Source-list file:\n",
    "omichain:-  1)   I0123700101OMS005IMAGE30000.FIT  P0123700101OMS005SIMAGE0000.FIT  P0123700101OMS005SWSRLI0000.FIT  Asp.corr.: NO\n",
    "omichain:-  2)   I0123700101OMS005IMAGE31000.FIT  P0123700101OMS005SIMAGE1000.FIT  P0123700101OMS005SWSRLI1000.FIT Asp.corr.: YES\n",
    "...\n",
    "omichain:- 10)   I0123700101OMS422IMAGE31000.FIT  P0123700101OMS422SIMAGE1000.FIT  P0123700101OMS422SWSRLI1000.FIT Asp.corr.: YES\n",
    "omichain:- Filter UVW2\n",
    "omichain:- Mosaiced sky-image=P0123700101OMS000RSIMAGS.FIT, source-list=P0123700101OMS000RSISWSS.FIT\n",
    "omichain:-             Image file:                  Sky-image file:                Source-list file:\n",
    "omichain:-  1)   I0123700101OMS008IMAGE30000.FIT  P0123700101OMS008SIMAGE0000.FIT  P0123700101OMS008SWSRLI0000.FIT  Asp.corr.: NO\n",
    "...\n",
    "omichain:- 10)   I0123700101OMS426IMAGE31000.FIT  P0123700101OMS426SIMAGE1000.FIT  P0123700101OMS426SWSRLI1000.FIT Asp.corr.: YES\n",
    "omichain:- Filter V\n",
    "omichain:- Mosaiced sky-image=P0123700101OMS000RSIMAGV.FIT, source-list=P0123700101OMS000RSISWSV.FIT\n",
    "omichain:-             Image file:                  Sky-image file:                Source-list file:\n",
    "omichain:-  1)   I0123700101OMS004IMAGE30000.FIT  P0123700101OMS004SIMAGE0000.FIT  P0123700101OMS004SWSRLI0000.FIT  Asp.corr.: NO\n",
    "...\n",
    "omichain:-  Tracking-history time-series file:       Tracking-history ps file:      Tracking-history pdf file:\n",
    "omichain:-  1)      P0123700101OMS004TSTRTS000.FIT      P0123700101OMS004TSHPLT000.ps     P0123700101OMS004TSHPLT000.PDF\n",
    "...\n",
    "```"
   ]
  },
  {
   "cell_type": "markdown",
   "id": "9b950b8d",
   "metadata": {},
   "source": [
    "### 4.2 Verifying the output"
   ]
  },
  {
   "cell_type": "markdown",
   "id": "72e3ecdd",
   "metadata": {},
   "source": [
    "Now we will check for those artifacts as described in Section 3. While these artifacts largely have only aesthetic effects, they can also affect source brightness measurements, since they increase the background. Hence, we strongly recommend users to verify the consistency of the data before continuing analysis. There are a few different ways to do this, described in [the ABC Guide](https://heasarc.gsfc.nasa.gov/docs/xmm/abc/node14.html#SECTION001422000000000000000 \"the ABC Guide\"). \n",
    "\n",
    "Below we will take a quick look at the resulting image. To check the image and the sources you will need to download the image and region files to your local computer and open both in ds9.\n",
    "\n",
    "This is the image file name and location:"
   ]
  },
  {
   "cell_type": "code",
   "execution_count": null,
   "id": "3a519d53-3e2e-4c48-930c-ce962670c58f",
   "metadata": {},
   "outputs": [],
   "source": [
    "image_file  = os.path.join(my_obs.om_dir,'P0123700101OMS000RSIMAGW.FIT')\n",
    "print(image_file)"
   ]
  },
  {
   "cell_type": "code",
   "execution_count": null,
   "id": "08f70174-b0ca-461a-b5bb-dbb719a2768d",
   "metadata": {},
   "outputs": [],
   "source": [
    "my_obs.quick_implot(image_file,vmin=0.025,vmax=0.5)"
   ]
  },
  {
   "cell_type": "markdown",
   "id": "0eb9306d-5a78-4fe6-b819-cdc42e3326ba",
   "metadata": {},
   "source": [
    "This is the region file name and location:"
   ]
  },
  {
   "cell_type": "code",
   "execution_count": null,
   "id": "7ba590e0-6353-4147-9eb1-43163233e067",
   "metadata": {},
   "outputs": [],
   "source": [
    "region_file = os.path.join(my_obs.om_dir,'P0123700101OMS000RSIMAGW.reg')\n",
    "print(region_file)"
   ]
  },
  {
   "cell_type": "markdown",
   "id": "6aed7bac-f037-4326-bab8-ba8018681ade",
   "metadata": {},
   "source": [
    "If the region files match up well with the sources seen in the image, the data has been processed correctly. An example of a correctly processed image can be seen below:"
   ]
  },
  {
   "cell_type": "markdown",
   "id": "494d2214-c522-4cd7-8744-38adcbafcd6a",
   "metadata": {},
   "source": [
    "![Optical Monitor Image](./_files/om_validate.png)"
   ]
  },
  {
   "cell_type": "markdown",
   "id": "06ec0af5",
   "metadata": {},
   "source": [
    "Now we will move onto the other modes of OM data."
   ]
  },
  {
   "cell_type": "markdown",
   "id": "d0c0463e",
   "metadata": {},
   "source": [
    "## 5. Fast Mode"
   ]
  },
  {
   "cell_type": "markdown",
   "id": "09f72854-0588-41e4-91e6-4d455fab5083",
   "metadata": {},
   "source": [
    "### 5.1 Rerunning the Pipeline"
   ]
  },
  {
   "cell_type": "markdown",
   "id": "b891293e",
   "metadata": {
    "lines_to_next_cell": 0
   },
   "source": [
    "The repipelining task for OM data taken in fast mode is [`omfchain`](https://xmm-tools.cosmos.esa.int/external/sas/current/doc/omfchain/index.html \"omfchain\"). It produces images of the detected sources, extracts events related to the sources and the background, and extracts the corresponding light curves. At present, unlike `omichain`, `omfchain` does not allow for keywords to specify filters or exposures; calling this task will process all fast mode data."
   ]
  },
  {
   "cell_type": "code",
   "execution_count": null,
   "id": "e86f2e25",
   "metadata": {
    "scrolled": true
   },
   "outputs": [],
   "source": [
    "obsid = '0411081601'\n",
    "\n",
    "my_obs = pysas.ObsID(obsid)\n",
    "my_obs.basic_setup(overwrite=False,run_epproc=False,run_emproc=False,run_rgsproc=False)"
   ]
  },
  {
   "cell_type": "code",
   "execution_count": null,
   "id": "b6cb2ed6-f5f4-4b87-b9f7-4d6e67a4c591",
   "metadata": {
    "scrolled": true
   },
   "outputs": [],
   "source": [
    "# Change into the work_dir.\n",
    "os.chdir(my_obs.work_dir)\n",
    "\n",
    "# Create om_dir in work_dir\n",
    "om_dir_name = 'OM_files'\n",
    "my_obs.om_dir = os.path.join(my_obs.work_dir,om_dir_name)\n",
    "if not os.path.isdir(my_obs.om_dir):\n",
    "    os.mkdir(my_obs.om_dir)\n",
    "    \n",
    "# Change into the newly created om_dir\n",
    "os.chdir(my_obs.om_dir)\n",
    "\n",
    "inargs = []\n",
    "\n",
    "MyTask('omfchain', inargs).run()"
   ]
  },
  {
   "cell_type": "markdown",
   "id": "552c91e4-1104-4503-8a5c-a01120c0dff3",
   "metadata": {},
   "source": [
    "Note that we did not call any particular parameters for this example. For a complete list of parameter options, see the [documentation](https://xmm-tools.cosmos.esa.int/external/sas/current/doc/omfchain/node9.html \"documentation\")."
   ]
  },
  {
   "cell_type": "markdown",
   "id": "04d0a04b",
   "metadata": {
    "editable": true,
    "slideshow": {
     "slide_type": ""
    },
    "tags": []
   },
   "source": [
    "### 5.2 Verifying the Output"
   ]
  },
  {
   "cell_type": "markdown",
   "id": "dc246912",
   "metadata": {},
   "source": [
    "A good first step in checking the output is to examine the light curve plot for both the source and background, making sure they are reasonable: no isolated, unusually high (or low) values, and no frequent drop-outs. Users should also check the image in the Fast mode window to see if the source is near an edge. If it is, it's a good idea to examine the light curves from diffent exposures to verify that they are consistent from exposure to exposure (while keeping in mind any intrinsic source variability). If the image is blurred or unusual in any way, users should check the tracking history file to verify the tracking was reliable.\n",
    "\n",
    "We plot the image for the source by running the cell below."
   ]
  },
  {
   "cell_type": "code",
   "execution_count": null,
   "id": "9cbe5684-d599-4506-90af-1ed535bcc757",
   "metadata": {},
   "outputs": [],
   "source": [
    "image_file = os.path.join(my_obs.om_dir,'P0411081601OMS006SIMAGE1000.FIT')\n",
    "my_obs.quick_implot(image_file)"
   ]
  },
  {
   "cell_type": "markdown",
   "id": "ea9437dc-5a10-43a3-9974-e8ff3ff81b78",
   "metadata": {},
   "source": [
    "The lightcurve and image can be seen in the pdf outputs, however we also plot the light curve below for reference."
   ]
  },
  {
   "cell_type": "code",
   "execution_count": null,
   "id": "fa61a92c",
   "metadata": {},
   "outputs": [],
   "source": [
    "lc = Table.read(os.path.join(my_obs.om_dir,'P0411081601OMS006TIMESR1000.FIT'))\n",
    "time = lc['TIME']\n",
    "cts = lc['RATE']\n",
    "\n",
    "plt.plot(time, cts)\n",
    "plt.xlabel('Time after T_Start (s)')\n",
    "plt.ylabel('counts/s')"
   ]
  },
  {
   "cell_type": "markdown",
   "id": "04c12ad9-8a18-489a-acb7-0c5b79efd15a",
   "metadata": {},
   "source": [
    "The background light curve plotted above is constant because omfchain runs with the parameter `bkgfromimage=yes` by default, so that the background light curve is found by using the imaging-mode data, instead of the fast-mode window. This is preferable for even only moderately bright sources (count rate > 0.6 ct/s), as the fast-mode window is small and any background measurement that uses it will likely be contaminated with source photons. This is less of a concern if your source is faint, in which case the background can by found from data in the fast-mode window by typing: `omfchain bkgfromimage=no`"
   ]
  },
  {
   "cell_type": "markdown",
   "id": "3afc6fca",
   "metadata": {},
   "source": [
    "## 6. Grism Analysis"
   ]
  },
  {
   "cell_type": "markdown",
   "id": "2d34ade9-d93c-46cd-8f6e-e9db119c3e06",
   "metadata": {},
   "source": [
    "### 6.1 Rerunning the Pipeline"
   ]
  },
  {
   "cell_type": "markdown",
   "id": "92f18413",
   "metadata": {},
   "source": [
    "The repipelining task for OM data taken in grism mode is `omgchain`. It produces images of the detected sources and background, extracts source spectra and region files, and makes source lists and postscript and PDF plots. At present, unlike `omichain`, `omgchain` does not allow for keywords to specify filters or exposures; calling this task will process all grism mode data.\n",
    "\n",
    "<div class=\"alert alert-block alert-info\">\n",
    "<b>Note:</b> There is an incompatibility between one of the non-critical <tt>omgchain</tt> tasks with the current version of <tt>matplotlib</tt>. Running <tt>omgchain</tt> will throw an error (\"omgrismplot failed\"). This is not a critical error and affects just the creation of the pdf and postscript image files. We will still be able to use the generated spectrum file for our example analysis below.</div>"
   ]
  },
  {
   "cell_type": "code",
   "execution_count": null,
   "id": "05b51e45",
   "metadata": {
    "scrolled": true
   },
   "outputs": [],
   "source": [
    "obsid = '0103862001'\n",
    "\n",
    "my_obs = pysas.ObsID(obsid)\n",
    "my_obs.basic_setup(overwrite=False,run_epproc=False,run_emproc=False,run_rgsproc=False)"
   ]
  },
  {
   "cell_type": "code",
   "execution_count": null,
   "id": "8398cf30-a167-4f7d-a51c-8502b34fbb33",
   "metadata": {
    "scrolled": true
   },
   "outputs": [],
   "source": [
    "# Change in to the work_dir.\n",
    "os.chdir(my_obs.work_dir)\n",
    "\n",
    "# Create om_dir in work_dir\n",
    "om_dir_name = 'OM_files'\n",
    "my_obs.om_dir = os.path.join(my_obs.work_dir,om_dir_name)\n",
    "if not os.path.isdir(my_obs.om_dir):\n",
    "    os.mkdir(my_obs.om_dir)\n",
    "    \n",
    "# Change into the newly created om_dir\n",
    "os.chdir(my_obs.om_dir)\n",
    "\n",
    "inargs = ['plotflux=0']\n",
    "\n",
    "MyTask('omgchain', inargs).run()"
   ]
  },
  {
   "cell_type": "markdown",
   "id": "51780ebc",
   "metadata": {},
   "source": [
    "### 6.2 Analysis"
   ]
  },
  {
   "cell_type": "markdown",
   "id": "6307747a-cb18-4b1c-8bdc-2c71567cb733",
   "metadata": {},
   "source": [
    "Below we will walk through a simple grism data analysis example. The code below will find the best fit for emission lines, which can be used to derive fluxes. For a more robust error analysis, we recommend using one of several Python packages using a Markov Chain Monte Carlo (MCMC) sampler (e.g., [emcee](https://emcee.readthedocs.io/en/stable/ 'emcee')). First, we will take a look at one of the spectrum files created through the `omgchain` step."
   ]
  },
  {
   "cell_type": "code",
   "execution_count": null,
   "id": "7c341e89-fa5d-44fe-8f90-904c0a310ff9",
   "metadata": {
    "scrolled": true
   },
   "outputs": [],
   "source": [
    "spec2 = Table.read(os.path.join(my_obs.om_dir,'p0103862001OMS401SPECTR1000.FIT'))\n",
    "spec2"
   ]
  },
  {
   "cell_type": "markdown",
   "id": "93fb843b-9b30-4500-b98d-c40eff01cd44",
   "metadata": {},
   "source": [
    "As can be seen, this file holds information on wavelength, background-subtracted and error count rates, and derived fluxes and errors. For this analysis, we will use the 'WAVELENGTH' and 'RATE' columns. For more information on the data products, check the [`omgrism` documentation](https://heasarc.gsfc.nasa.gov/docs/xmm/sas/help/omgrism/omgrism.html 'omgrism')"
   ]
  },
  {
   "cell_type": "code",
   "execution_count": null,
   "id": "c8bd648c-8620-42d8-b2e7-3986cf3fa8e4",
   "metadata": {},
   "outputs": [],
   "source": [
    "wave = spec2['WAVELENGTH']\n",
    "spec = spec2['RATE']\n",
    "err = spec2['ERROR']\n",
    "\n",
    "plt.plot(wave, spec)\n",
    "plt.xlabel('Wavelength (Angstrom)')\n",
    "plt.ylabel('Counts/s')"
   ]
  },
  {
   "cell_type": "markdown",
   "id": "ad84c280-2805-4e06-9d5d-a7d6216727c4",
   "metadata": {},
   "source": [
    "To ensure that our script will be able to effectively fit the emission lines, let's clip the spectrum to the region just around the two lines, removing the noise on the blueward end of the spectrum."
   ]
  },
  {
   "cell_type": "code",
   "execution_count": null,
   "id": "68f7337b-047f-49f7-ace9-c55c56e8800b",
   "metadata": {},
   "outputs": [],
   "source": [
    "wave = wave[400:700]\n",
    "spec = spec[400:700]\n",
    "sig = err[400:700]\n",
    "\n",
    "wave = wave.data\n",
    "spec = spec.data\n",
    "sig = sig.data"
   ]
  },
  {
   "cell_type": "code",
   "execution_count": null,
   "id": "582eff9c-959b-4a95-a0f7-bfd3d2a2b148",
   "metadata": {},
   "outputs": [],
   "source": [
    "plt.plot(wave, spec)\n",
    "plt.xlabel('Wavelength (Angstrom)')\n",
    "plt.ylabel('Counts/s')"
   ]
  },
  {
   "cell_type": "markdown",
   "id": "0a496e2f-3052-4ee5-8b89-97fd662b7cf7",
   "metadata": {},
   "source": [
    "Now we will define our initial parameters. Here we make reasonable guesses for the amplitudes, widths, and shifts of the two emission lines in this spectrum, estimated at approximately 3230 and 2186A, as well as estimate the continuum shape. For this example, we use a quadratic to estimate the continuum."
   ]
  },
  {
   "cell_type": "code",
   "execution_count": null,
   "id": "b2c1c015-0291-4da3-9d4f-ac3e9e711eaa",
   "metadata": {},
   "outputs": [],
   "source": [
    "# initial parameters\n",
    "init_a_amp = 0.09\n",
    "init_a_sig = 50\n",
    "init_a_shift = 0\n",
    "init_b_amp = 0.01\n",
    "init_b_sig = 50\n",
    "init_b_shift = 0\n",
    "init_c_amp = 0.01\n",
    "init_c_sig = 50\n",
    "init_c_shift = 0\n",
    "init_a_cont = 0.001\n",
    "init_b_cont = 0#-0.001\n",
    "init_c_cont = 0.1\n",
    "\n",
    "print('''\n",
    "\\n Initial Parameters:\n",
    "-------------------------------\n",
    " Line 1 Amplitude = %0.2f\n",
    " Line 1 Width = %0.2f\n",
    " Line 1 Shift = %0.2f\n",
    " Line 2 Ampliture = %0.2f\n",
    " Line 2 Width = %0.2f\n",
    " Line 2 Shift = %0.2f\n",
    " Line 3 Ampliture = %0.2f\n",
    " Line 3 Width = %0.2f\n",
    " Line 3 Shift = %0.2f\n",
    " Continuum 'a' = %0.2f\n",
    " Continuum 'b' = %0.2f\n",
    " Continuum 'c' = %0.2f\n",
    " ''' % (init_a_amp, init_a_sig, init_a_shift, init_b_amp, init_b_sig, init_b_shift, init_c_amp, init_c_sig, init_c_shift, init_a_cont, init_b_cont, init_c_cont))\n",
    "\n",
    "   "
   ]
  },
  {
   "cell_type": "markdown",
   "id": "d5df9c9f-4458-4ef7-b535-a5270ee29b28",
   "metadata": {},
   "source": [
    "Next we define our \"model\", which combines our continuum and two Gaussians for the two emission lines. We then use the scipy `curve_fit` function to find the best fit model parameters for our data."
   ]
  },
  {
   "cell_type": "code",
   "execution_count": null,
   "id": "692c982d-91e5-487f-96d0-eab93e70e438",
   "metadata": {},
   "outputs": [],
   "source": [
    "def model(w, a_amp, a_sig, a_shift, b_amp, b_sig, b_shift, c_amp, c_sig, c_shift, cont_a, cont_b, cont_c):  \n",
    "    cont = (cont_a*(w**2)) + (cont_b*w) + cont_c #continuum    \n",
    "    Gaus1 = a_amp*np.exp(-0.5*((w-(3280+a_shift))**2)/(a_sig**2)) #Line 1 #3280\n",
    "    Gaus2 = b_amp*np.exp(-0.5*((w-(4540+b_shift))**2)/(b_sig**2)) #Line 2\n",
    "    Gaus3 = c_amp*np.exp(-0.5*((w-(4670+c_shift))**2)/(c_sig**2)) #Line 3\n",
    "    \n",
    "    F = cont + Gaus1 + Gaus2 + Gaus3\n",
    "    return F"
   ]
  },
  {
   "cell_type": "code",
   "execution_count": null,
   "id": "4b117c86-546b-4e38-b0db-37792fb82c8e",
   "metadata": {},
   "outputs": [],
   "source": [
    "popt,pcov = curve_fit(model, wave, spec, p0=(init_a_amp, init_a_sig, init_a_shift, init_b_amp, init_b_sig, init_b_shift, init_c_amp, init_c_sig, init_c_shift, init_a_cont, init_b_cont, init_c_cont))\n",
    "print(popt)\n",
    "err = np.sqrt(np.diag(pcov))\n",
    "print(err)"
   ]
  },
  {
   "cell_type": "markdown",
   "id": "d179a975-f3a9-4720-ad87-4a4c5b3794e8",
   "metadata": {},
   "source": [
    "Finally, we plot our spectrum again, with the best-fit model as calculated through scipy. Note again that this is a simplified spectral fitting method for the purposes of this tutorial. For more robust fits and error calculations, we recommend using MCMC samplers (e.g., [emcee](https://emcee.readthedocs.io/en/stable/ 'emcee')) and/or software packages specifically geared towards fitting spectra of your desired target (e.g., for [stellar systems](https://github.com/FireflySpectra/firefly_release 'stellar systems') or [galaxies](https://github.com/remingtonsexton/BADASS3 'galaxies'))."
   ]
  },
  {
   "cell_type": "code",
   "execution_count": null,
   "id": "8657d6cc-401e-4089-ba8f-65c93803e2a2",
   "metadata": {},
   "outputs": [],
   "source": [
    "fig,ax = plt.subplots(1)\n",
    "ax.step(wave, spec, color='k')\n",
    "ax.plot(wave, model(wave, *popt), 'b-')\n",
    "ax.set_xlabel('Wavelength (Angstroms)')\n",
    "ax.set_ylabel('Counts/s')"
   ]
  }
 ],
 "metadata": {
  "kernelspec": {
   "display_name": "sas",
   "language": "python",
   "name": "sas"
  },
  "language_info": {
   "codemirror_mode": {
    "name": "ipython",
    "version": 3
   },
   "file_extension": ".py",
   "mimetype": "text/x-python",
   "name": "python",
   "nbconvert_exporter": "python",
   "pygments_lexer": "ipython3",
   "version": "3.12.11"
  }
 },
 "nbformat": 4,
 "nbformat_minor": 5
}
