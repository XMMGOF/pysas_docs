{
 "cells": [
  {
   "cell_type": "markdown",
   "id": "41197847-3613-48d6-84d6-6a228b484e8c",
   "metadata": {
    "editable": true,
    "slideshow": {
     "slide_type": ""
    },
    "tags": []
   },
   "source": [
    "# Source Detection with `edetect_chain` -- Part 1\n",
    "<hr style=\"border: 2px solid #fadbac\" />\n",
    "\n",
    "- **Description:** Using `edetect_chain` to automatically detect sources.\n",
    "- **Level:** Intermediate\n",
    "- **Data:** XMM observation of the Lockman Hole (obsid=0123700101)\n",
    "- **Requirements:** Must be run using pySAS version 2.2.2 or higher.\n",
    "- **Credit:** Ryan Tanner (March 2025)\n",
    "- **Support:** <a href=\"https://heasarc.gsfc.nasa.gov/docs/xmm/xmm_helpdesk.html\">XMM Newton GOF Helpdesk</a>\n",
    "- **Last verified to run:** 17 October 2025, for SAS v22.1 and pySAS v2.2.2\n",
    "\n",
    "<hr style=\"border: 2px solid #fadbac\" />"
   ]
  },
  {
   "cell_type": "markdown",
   "id": "af3cc6ad-35ba-4a22-b228-f5a965cfbd5f",
   "metadata": {
    "editable": true,
    "slideshow": {
     "slide_type": ""
    },
    "tags": []
   },
   "source": [
    "## 1. Introduction\n",
    "This tutorial is a variation on the introductory notebooks on preparing an observation for analysis, image creation, filtering, and source extraction ([Part 1](./analysis-xmm-ABC-guide-EPIC-image-filtering.ipynb \"EPIC Image Filtering\") and [Part 2](./analysis-xmm-ABC-guide-EPIC-source-spectrum.ipynb \"EPIC Source Extraction\")). This notebook assumes you are at least minimally familiar with pySAS (see the [Long pySAS Introduction](./analysis-xmm-long-intro.ipynb \"Long pySAS Intro\")) and that you have previously worked through the two introductory notebooks.\n",
    "\n",
    "In the two introductory notebooks a single source and a background region were selected by hand with the coordinates determined before hand. Now we will use the SAS task `edetect_chain` to automatically detect sources in an image. We will also demonstrate a few of the potential problems you might run into using `edetect_chain`.\n",
    "\n",
    "In this notebook we will use the raw data files (ODFs) which will have to be calibrated and processed. This may take several (>20) minutes to run. Be prepared to wait.\n",
    "\n",
    "#### SAS Tasks to be Used\n",
    "\n",
    "- `edetect_chain`[(Documentation for edetect_chain)](https://xmm-tools.cosmos.esa.int/external/sas/current/doc/edetect_chain/index.html)\n",
    "\n",
    "#### Useful Links\n",
    "\n",
    "- [`pysas` Documentation](https://xmm-tools.cosmos.esa.int/external/sas/current/doc/pysas/index.html \"pysas Documentation\")\n",
    "- [`pysas` on GitHub](https://github.com/XMMGOF/pysas)\n",
    "- [Common SAS Threads](https://www.cosmos.esa.int/web/xmm-newton/sas-threads/ \"SAS Threads\")\n",
    "- [Users' Guide to the XMM-Newton Science Analysis System (SAS)](https://xmm-tools.cosmos.esa.int/external/xmm_user_support/documentation/sas_usg/USG/SASUSG.html \"Users' Guide\")\n",
    "- [The XMM-Newton ABC Guide](https://heasarc.gsfc.nasa.gov/docs/xmm/abc/ \"ABC Guide\")\n",
    "- [XMM Newton GOF Helpdesk](https://heasarc.gsfc.nasa.gov/docs/xmm/xmm_helpdesk.html \"Helpdesk\") - Link to form to contact the GOF Helpdesk.\n",
    "\n",
    "<div class=\"alert alert-block alert-warning\">\n",
    "    <b>Warning:</b> By default this notebook will place observation data files in your default <tt>data_dir</tt> directory. Make sure pySAS has been configured properly.\n",
    "</div>"
   ]
  },
  {
   "cell_type": "code",
   "execution_count": null,
   "id": "a0a5065c-aae3-4d9b-b2cb-5434c5c4ff88",
   "metadata": {
    "editable": true,
    "slideshow": {
     "slide_type": ""
    },
    "tags": []
   },
   "outputs": [],
   "source": [
    "# pySAS imports\n",
    "import pysas\n",
    "from pysas import MyTask\n",
    "\n",
    "# Useful imports\n",
    "import os\n",
    "\n",
    "# Matplotlib\n",
    "import matplotlib.pyplot as plt\n",
    "\n",
    "# Astropy import\n",
    "from astropy.visualization import astropy_mpl_style\n",
    "from astropy.io import fits\n",
    "from astropy.wcs import WCS\n",
    "import astropy.units as u\n",
    "from astropy.coordinates import SkyCoord\n",
    "from regions import CircleSkyRegion\n",
    "\n",
    "# To handle certain warnings\n",
    "import warnings\n",
    "warnings.filterwarnings(\"ignore\")\n",
    "\n",
    "# Environment variables that need to be set to avoid a problem with edetect_chain on Fornax\n",
    "os.environ['HEADASNOQUERY'] = ''\n",
    "os.environ['HEADASPROMPT']  = '/dev/null'"
   ]
  },
  {
   "cell_type": "code",
   "execution_count": null,
   "id": "75c96c48-5759-4bc9-acc2-570bd498bc2c",
   "metadata": {
    "editable": true,
    "scrolled": true,
    "slideshow": {
     "slide_type": ""
    },
    "tags": []
   },
   "outputs": [],
   "source": [
    "obsid = '0123700101'\n",
    "\n",
    "my_obs = pysas.ObsID(obsid)\n",
    "\n",
    "my_obs.basic_setup(overwrite=False,rerun=False,\n",
    "                   run_epproc=False,run_rgsproc=False,\n",
    "                   emproc_args={'options':'-V 2'})\n",
    "# my_obs.download_PPS_data(repo='heasarc',overwrite=False)\n",
    "os.chdir(my_obs.work_dir)"
   ]
  },
  {
   "cell_type": "code",
   "execution_count": null,
   "id": "a5befce6-5d3c-4494-a5ba-f94a99c8a07d",
   "metadata": {},
   "outputs": [],
   "source": [
    "# File names for this notebook. The User can change these file names.\n",
    "unfiltered_event_list = my_obs.files['M1evt_list'][0]\n",
    "first_filter_event_list = 'first_filter_event_list.fits'\n",
    "light_curve_file ='mos1_ltcrv.fits'\n",
    "gti_rate_file = 'gti_rate.fits'\n",
    "\n",
    "filtered_event_list = 'filtered_event_list.fits'\n",
    "filtered_image_file = 'filtered_image.fits'\n",
    "\n",
    "attitude_file = 'attitude.fits'\n",
    "\n",
    "large_filtered_image = 'large_filtered_image.fits'\n",
    "\n",
    "eml_list_file = 'emllist.fits'"
   ]
  },
  {
   "cell_type": "markdown",
   "id": "56af9db2-4395-4a5c-ba2f-53d85beeb1ee",
   "metadata": {},
   "source": [
    "## 2. Filter the Observation\n",
    "\n",
    "The following filtering follows exactly the filtering done in the ABC Guide Chapter 7, [Part 1](./analysis-xmm-ABC-guide-EPIC-image-filtering.ipynb \"EPIC Image Filtering\") and [Part 2](./analysis-xmm-ABC-guide-EPIC-source-spectrum.ipynb \"EPIC Source Extraction\")."
   ]
  },
  {
   "cell_type": "code",
   "execution_count": null,
   "id": "96d421e5-54bf-4708-a66b-765101acaf36",
   "metadata": {
    "scrolled": true
   },
   "outputs": [],
   "source": [
    "# \"Standard\" Filter\n",
    "inargs = ['table={0}'.format(unfiltered_event_list), \n",
    "          'withfilteredset=yes', \n",
    "          \"expression='(PATTERN <= 12)&&(PI in [200:10000])&&#XMMEA_EM'\", \n",
    "          'filteredset={0}'.format(first_filter_event_list), \n",
    "          'filtertype=expression', \n",
    "          'keepfilteroutput=yes', \n",
    "          'updateexposure=yes', \n",
    "          'filterexposure=yes']\n",
    "\n",
    "MyTask('evselect', inargs).run()\n",
    "\n",
    "# Make Light Curve File\n",
    "inargs = ['table={0}'.format(first_filter_event_list), \n",
    "          'withrateset=yes', \n",
    "          'rateset={0}'.format(light_curve_file), \n",
    "          'maketimecolumn=yes', \n",
    "          'timecolumn=TIME', \n",
    "          'timebinsize=100', \n",
    "          'makeratecolumn=yes']\n",
    "\n",
    "MyTask('evselect', inargs).run()\n",
    "\n",
    "# Make Secondary GTI File\n",
    "inargs = ['table={0}'.format(light_curve_file), \n",
    "          'gtiset={0}'.format(gti_rate_file),\n",
    "          'timecolumn=TIME', \n",
    "          \"expression='(RATE <= 6)'\"]\n",
    "\n",
    "MyTask('tabgtigen', inargs).run()\n",
    "\n",
    "# Filter Using Secondary GTI File\n",
    "inargs = ['table={0}'.format(first_filter_event_list),\n",
    "          'withfilteredset=yes', \n",
    "          \"expression='GTI({0},TIME)'\".format(gti_rate_file), \n",
    "          'filteredset={0}'.format(filtered_event_list),\n",
    "          'filtertype=expression', \n",
    "          'keepfilteroutput=yes',\n",
    "          'updateexposure=yes', \n",
    "          'filterexposure=yes']\n",
    "\n",
    "MyTask('evselect', inargs).run()\n",
    "\n",
    "# Make attitude file\n",
    "inargs = ['atthkset={0}'.format(attitude_file),\n",
    "          'timestep=1']\n",
    "\n",
    "MyTask('atthkgen', inargs).run()"
   ]
  },
  {
   "cell_type": "code",
   "execution_count": null,
   "id": "5ea90fb7-9af6-4cb3-a0e1-fee189514d75",
   "metadata": {},
   "outputs": [],
   "source": [
    "my_obs.quick_eplot(filtered_event_list,image_file=filtered_image_file,ximagesize=1200,yimagesize=1200,vmin=0.1,vmax=1.0)"
   ]
  },
  {
   "cell_type": "markdown",
   "id": "e9474157-1898-4b83-b97c-f2dab9ec6775",
   "metadata": {
    "editable": true,
    "slideshow": {
     "slide_type": ""
    },
    "tags": []
   },
   "source": [
    "## 3. Make a Large Image for Analysis\n",
    "\n",
    "We use the function `quick_eplot` to generate a FITS image for display purposes. In that function the size of the FITS image was set (`imagebinning=imageSize`, 600x600 pixels) and events in the event list were binned accordingly. While that size of image is fine for quick looks at the data, the resolution is too low for good analysis. Below we define another function, `make_large_image` to make a FITS image, but here we set the bin size (`imagebinning=binSize`, 20x20 arcseconds). Events will be binned accordingly. This creates a much higher resolution image suitable for data analysis.\n",
    "\n",
    "For now we will make a high resolution image using the default settings, but later on we will see what happens when we change these defaults. We will also make a short function to run `edetect_chain` for convenience.\n",
    "\n",
    "`edetect_chain` will create a list of sources and write the list to file in FITS format. We will define a function (`make_regions`) that will take the source list and generate regions for each of the sources and return the regions in a list. Then we will use a function `plot_regions` that will overlay the regions on the image we made previously with `quick_eplot`."
   ]
  },
  {
   "cell_type": "code",
   "execution_count": null,
   "id": "7c401581-b4e0-4ed8-bb86-d175c2bc9102",
   "metadata": {},
   "outputs": [],
   "source": [
    "# High resolution image function\n",
    "def make_large_image(event_list_file,image_file,xbinsize=20,ybinsize=20,pimin=300,pimax=2000):\n",
    "\n",
    "    expression = '(FLAG == 0)&&(PI in [{pimin}:{pimax}])'.format(pimin=pimin,pimax=pimax)\n",
    "    \n",
    "    inargs = {'table'         : event_list_file, \n",
    "              'withimageset'  : 'yes',\n",
    "              'imageset'      : image_file, \n",
    "              'xcolumn'       : 'X', \n",
    "              'ycolumn'       : 'Y', \n",
    "              'imagebinning'  : 'binSize', \n",
    "              'ximagebinsize' : xbinsize, \n",
    "              'yimagebinsize' : ybinsize,\n",
    "              'filtertype'    : 'expression',\n",
    "              'expression'    : expression}\n",
    "\n",
    "    MyTask('evselect', inargs).run()\n",
    "\n",
    "# Function to run edetect_chain\n",
    "def run_edetect_chain(large_filtered_image,filtered_event_list,attitude_file,eml_list,\n",
    "                      pimin=300,pimax=2000,\n",
    "                      likemin=10,eml_ecut=15):\n",
    "    inargs = {'imagesets'   : large_filtered_image, \n",
    "              'eventsets'   : filtered_event_list,\n",
    "              'attitudeset' : attitude_file, \n",
    "              'pimin'       : pimin, \n",
    "              'pimax'       : pimax,\n",
    "              'witheexpmap' : 'yes',\n",
    "              'eml_ecut'    : eml_ecut,\n",
    "              'likemin'     : likemin,\n",
    "              'eml_list'    : eml_list}\n",
    "    \n",
    "    MyTask('edetect_chain', inargs).run()\n",
    "\n",
    "# Function to make regions\n",
    "def make_regions(source_list):\n",
    "    obs_regions = []\n",
    "    with fits.open(source_list) as hdu:\n",
    "        data = hdu[1].data[hdu[1].data['ID_BAND'] == 1]\n",
    "    for i in range(len(data)):\n",
    "        RA     = data['RA'][i] * u.deg\n",
    "        Dec    = data['DEC'][i] * u.deg\n",
    "        radius = 30.0 * u.arcsec\n",
    "        obs_regions.append({'ra':RA, 'dec':Dec, 'radius':radius})\n",
    "    return obs_regions\n",
    "\n",
    "def plot_regions(image_file, source_list):\n",
    "\n",
    "    # Open file\n",
    "    hdu = fits.open(image_file)[0]\n",
    "    wcs = WCS(hdu.header)\n",
    "\n",
    "    # Plot\n",
    "    ax = plt.subplot(projection=wcs)\n",
    "    plt.imshow(hdu.data, origin='lower', norm='log', vmin=0.1, vmax=1.0)\n",
    "    ax.set_facecolor(\"black\")\n",
    "\n",
    "    # Add regions\n",
    "    for source in source_list:\n",
    "        # Define region\n",
    "        region = CircleSkyRegion(SkyCoord(source['ra'], source['dec']), source['radius'])\n",
    "        pixel_region = region.to_pixel(wcs)\n",
    "        # Convert region to artist object\n",
    "        artist = pixel_region.as_artist(color='lime')\n",
    "        ax.add_artist(artist)\n",
    "\n",
    "    plt.grid(color='blue', ls='solid')\n",
    "    plt.xlabel('RA')\n",
    "    plt.ylabel('Dec')\n",
    "    plt.colorbar()\n",
    "    plt.show()"
   ]
  },
  {
   "cell_type": "markdown",
   "id": "569c1089-3e6a-465e-b465-8c54f7e8643e",
   "metadata": {},
   "source": [
    "<div class=\"alert alert-block alert-warning\">\n",
    "<b>Warning:</b> Running <tt>edetect_chain</tt> with a high resolution image will take several minutes to run.\n",
    "</div>"
   ]
  },
  {
   "cell_type": "markdown",
   "id": "44cfe840-97ec-47d7-a771-6a42b1e80437",
   "metadata": {},
   "source": [
    "When we run the cell below it will generate a source list and mark regions around each source. We notice that the algorithm in `edetect_chain` will occationally find two separate sources, with a slight offset, for a single source. This can be seen where for a few of the sources there are two region circles with a slight offset around a single source. There are also a few spots where our eye can detect what might be a source, but the algorithm in `edetect_chain` rejected them as sources due to default source detection cutoff values. `edetect_chain` has a large number of possible inputs that you can use to modify the detection assumptions made by the algorithm."
   ]
  },
  {
   "cell_type": "code",
   "execution_count": null,
   "id": "4f11a49c-2995-4255-a40f-23788ed4e6ac",
   "metadata": {
    "scrolled": true
   },
   "outputs": [],
   "source": [
    "make_large_image(filtered_event_list, large_filtered_image)\n",
    "run_edetect_chain(large_filtered_image,filtered_event_list,attitude_file,eml_list_file)"
   ]
  },
  {
   "cell_type": "code",
   "execution_count": null,
   "id": "9d3381fc-6ab8-47ee-97f1-ae200b3af4fa",
   "metadata": {},
   "outputs": [],
   "source": [
    "my_regions = make_regions(eml_list_file)\n",
    "plot_regions(filtered_image_file,my_regions)"
   ]
  },
  {
   "cell_type": "code",
   "execution_count": null,
   "id": "6a3ba57a-0d13-4a18-b00d-707f30609cea",
   "metadata": {},
   "outputs": [],
   "source": [
    "print('Number of regions: {}'.format(len(my_regions)))"
   ]
  },
  {
   "cell_type": "markdown",
   "id": "09540fef-183d-40b1-9785-40da434edd50",
   "metadata": {},
   "source": [
    "<div class=\"alert alert-block alert-info\">\n",
    "<b>Note:</b> Below we will demonstrate changing a few input parameters from their defaults. This is not a comprehensive demonstration of the possible inputs for <tt>edetect_chain</tt>, just a few selected examples.</div>\n",
    "\n",
    "Now let us change some basic values and see how that changes the results of `edetect_chain`. First we will change the resolution of the image used for source detection. We will change the bin size from 20x20 arcseconds to 80x80."
   ]
  },
  {
   "cell_type": "code",
   "execution_count": null,
   "id": "324ff00f-fee9-4e6a-aaf0-1bcfbae1a119",
   "metadata": {
    "scrolled": true
   },
   "outputs": [],
   "source": [
    "xbinsize=80\n",
    "ybinsize=80\n",
    "\n",
    "eml_list_lores = 'emllist_lores.fits'\n",
    "large_filtered_image_lores = 'large_filtered_image_lores.fits'\n",
    "\n",
    "make_large_image(filtered_event_list, large_filtered_image_lores,xbinsize=xbinsize,ybinsize=ybinsize)\n",
    "run_edetect_chain(large_filtered_image_lores,filtered_event_list,attitude_file,eml_list_lores)"
   ]
  },
  {
   "cell_type": "code",
   "execution_count": null,
   "id": "438ef128-b4f6-49e8-b22c-5162a8ec06c7",
   "metadata": {},
   "outputs": [],
   "source": [
    "my_regions = make_regions(eml_list_lores)\n",
    "plot_regions(filtered_image_file,my_regions)"
   ]
  },
  {
   "cell_type": "code",
   "execution_count": null,
   "id": "19d6cc61-9349-43f8-8218-ea8666e5eba7",
   "metadata": {},
   "outputs": [],
   "source": [
    "print('Number of regions: {}'.format(len(my_regions)))"
   ]
  },
  {
   "cell_type": "markdown",
   "id": "6eb26464-8e7c-44bb-8024-575e01135d9a",
   "metadata": {},
   "source": [
    "Because the image is lower resolution `edetect_chain` will run faster, but we can also see that the number of sources detected has gone down from 63 to 56 (though the number of duplicates has also gone down).\n",
    "\n",
    "As a default we restricted source detection over the energy range 0.3-2.0 keV. Now let's see what happens if we expand the energy range to 0.3-8.0 keV, but return to the original resolution of 20x20 arcseconds."
   ]
  },
  {
   "cell_type": "code",
   "execution_count": null,
   "id": "bf622e34-f527-4df5-a343-bbe17898d878",
   "metadata": {
    "scrolled": true
   },
   "outputs": [],
   "source": [
    "pimin=300\n",
    "pimax=8000\n",
    "\n",
    "eml_list_hipimax = 'emllist_hipimax.fits'\n",
    "large_filtered_image_hipimax = 'large_filtered_image_hipimax.fits'\n",
    "\n",
    "make_large_image(filtered_event_list, large_filtered_image_hipimax,pimin=pimin,pimax=pimax)\n",
    "run_edetect_chain(large_filtered_image_hipimax,filtered_event_list,attitude_file,eml_list_hipimax,pimin=pimin,pimax=pimax)"
   ]
  },
  {
   "cell_type": "code",
   "execution_count": null,
   "id": "f59b00e4-e5cd-4554-90a3-f6b9b02f2fda",
   "metadata": {},
   "outputs": [],
   "source": [
    "my_regions = make_regions(eml_list_hipimax)\n",
    "plot_regions(filtered_image_file,my_regions)"
   ]
  },
  {
   "cell_type": "code",
   "execution_count": null,
   "id": "63482313-793c-410a-b07c-633a1be850e4",
   "metadata": {},
   "outputs": [],
   "source": [
    "print('Number of regions: {}'.format(len(my_regions)))"
   ]
  },
  {
   "cell_type": "markdown",
   "id": "0f717ad1-a169-4cb5-acaa-76b58c537eb2",
   "metadata": {},
   "source": [
    "We see that the number of detected sources has increased to 69. This shows that the algorithm for `edetect_chain` is sensitive to the energy range given for detecting sources. Generally a narrower energy range will be better for source detection.\n",
    "\n",
    "Next let us try two other parameters. The first is `likemin` which is the detection likelihood threshold. The default is 10. Let's set it to something higher and see what we get."
   ]
  },
  {
   "cell_type": "code",
   "execution_count": null,
   "id": "3fec87f8-c887-4962-b056-38cfc142bbb9",
   "metadata": {
    "scrolled": true
   },
   "outputs": [],
   "source": [
    "likemin=20\n",
    "\n",
    "eml_list_hilikemin = 'emllist_hilikemin.fits'\n",
    "large_filtered_image_hilikemin = 'large_filtered_image_hilikemin.fits'\n",
    "\n",
    "make_large_image(filtered_event_list, large_filtered_image_hilikemin)\n",
    "run_edetect_chain(large_filtered_image_hilikemin,filtered_event_list,attitude_file,eml_list_hilikemin,likemin=likemin)"
   ]
  },
  {
   "cell_type": "code",
   "execution_count": null,
   "id": "c893b6e0-8935-44e5-b28d-c1d43d4d65c0",
   "metadata": {},
   "outputs": [],
   "source": [
    "my_regions = make_regions(eml_list_hilikemin)\n",
    "plot_regions(filtered_image_file,my_regions)"
   ]
  },
  {
   "cell_type": "code",
   "execution_count": null,
   "id": "38dbf71e-c742-48c8-a135-c54247e84bfd",
   "metadata": {},
   "outputs": [],
   "source": [
    "print('Number of regions: {}'.format(len(my_regions)))"
   ]
  },
  {
   "cell_type": "markdown",
   "id": "b21d6a63-4f4a-4301-a60a-74f4a8780a97",
   "metadata": {},
   "source": [
    "With a higher detection likelihood threshold we only get 33 sources, instead of 63 using the default value.\n",
    "\n",
    "Now let's try another parameter. There is the parameter `eml_ecut` which is the event cut-out radius as measured in pixels."
   ]
  },
  {
   "cell_type": "code",
   "execution_count": null,
   "id": "08fca6e2-21ef-4941-ab99-9375c6d751d0",
   "metadata": {
    "scrolled": true
   },
   "outputs": [],
   "source": [
    "eml_ecut=30\n",
    "\n",
    "eml_list_hieml_ecut = 'emllist_hieml_ecut.fits'\n",
    "large_filtered_image_hieml_ecut = 'large_filtered_image_hieml_ecut.fits'\n",
    "\n",
    "make_large_image(filtered_event_list, large_filtered_image_hieml_ecut)\n",
    "run_edetect_chain(large_filtered_image_hieml_ecut,filtered_event_list,attitude_file,eml_list_hieml_ecut,eml_ecut=eml_ecut)"
   ]
  },
  {
   "cell_type": "code",
   "execution_count": null,
   "id": "d3a28645-6b63-4733-a8de-ff1df05050a2",
   "metadata": {},
   "outputs": [],
   "source": [
    "my_regions = make_regions(eml_list_hieml_ecut)\n",
    "plot_regions(filtered_image_file,my_regions)"
   ]
  },
  {
   "cell_type": "code",
   "execution_count": null,
   "id": "aab29fa0-37a7-4b81-966f-c2c326088f7c",
   "metadata": {},
   "outputs": [],
   "source": [
    "print('Number of regions: {}'.format(len(my_regions)))"
   ]
  },
  {
   "cell_type": "markdown",
   "id": "0542a6b6-3976-4f5c-b5a9-5781bc1e14c8",
   "metadata": {},
   "source": [
    "With this parameter change we get 64 source detections."
   ]
  },
  {
   "cell_type": "markdown",
   "id": "eb80b3b1-6863-4c91-baba-3dddc5082560",
   "metadata": {},
   "source": [
    "## 4. Automatic Spectra Extraction\n",
    "\n",
    "Below we provide an example function that can be used to automatically extract spectra from all sources, along with background regions. As inputs it takes a filtered event list and the source list generated by `edetect_chain`. The outputs will be a corresponding source event list, background event list, source spectrum, background spectrum, RMF, ARF, and binned spectrum file for each source. The files for each source will start with 'MMMsXXX' where MMM is the instrument and XXX is the source number.\n",
    "\n",
    "<div class=\"alert alert-block alert-info\">\n",
    "<b>Note:</b> This will generate spectra from duplicate sources. The size of the region used for source extraction uses a default value, along with the size of the background region. There are a few other default assumptions that may or may not be appropriate depending on the individual sources.\n",
    "</div>"
   ]
  },
  {
   "cell_type": "markdown",
   "id": "919c9945-89e3-4458-90f5-37604372a30a",
   "metadata": {},
   "source": [
    "```python\n",
    "def extract_spectra_from_source(filtered_event_list,eml_list_file,instrument):\n",
    "    with fits.open(eml_list_file) as hdu:\n",
    "        data = hdu[1].data[hdu[1].data['ID_BAND'] == 1]\n",
    "    for i in range(len(data)):\n",
    "        # File names\n",
    "        source_event_list = instrument+'s{:03}_event_list.fits'.format(i)\n",
    "        bkg_event_list    = instrument+'s{:03}_bkg_event_list.fits'.format(i)\n",
    "        source_spectra    = instrument+'s{:03}_spectra.fits'.format(i)\n",
    "        bkg_spectra       = instrument+'s{:03}_bkg_spectra.fits'.format(i)\n",
    "        rmf_file          = instrument+'s{:03}_rmf.fits'.format(i)\n",
    "        arf_file          = instrument+'s{:03}_arf.fits'.format(i)\n",
    "        grouped_spectra   = instrument+'s{:03}_spectra_grouped.fits'.format(i)\n",
    "\n",
    "        # Add source region and background annulus\n",
    "        RA      = data['RA'][i] * u.deg\n",
    "        Dec     = data['DEC'][i] * u.deg\n",
    "        radiusi = 10.0 * u.arcsec\n",
    "        radiuso = 20.0 * u.arcsec\n",
    "        circle  = \"CIRCLE({0},{1},{2})\".format(RA.value,Dec.value,radiusi.to(u.deg).value)\n",
    "        annulus = \"ANNULUS({0},{1},{2},{3})\".format(RA.value,Dec.value,radiusi.to(u.deg).value,radiuso.to(u.deg).value)\n",
    "\n",
    "        # Extract spectrum from source\n",
    "        inargs = {'table'           : filtered_event_list,\n",
    "                  'energycolumn'    : 'PI',\n",
    "                  'withfilteredset' : 'yes',\n",
    "                  'filteredset'     : source_event_list,\n",
    "                  'keepfilteroutput': 'yes',\n",
    "                  'filtertype'      : 'expression',\n",
    "                  'expression'      : \"'((RA,DEC) in {0})\".format(circle),\n",
    "                  'withspectrumset' : 'yes',\n",
    "                  'spectrumset'     : source_spectra,\n",
    "                  'spectralbinsize' : '5',\n",
    "                  'withspecranges'  : 'yes',\n",
    "                  'specchannelmin'  : '0',\n",
    "                  'specchannelmax'  : '11999'}\n",
    "        \n",
    "        MyTask('evselect', inargs).run()\n",
    "\n",
    "        # Extract spectrum from background\n",
    "        inargs = {'table'           : filtered_event_list,\n",
    "                  'energycolumn'    : 'PI',\n",
    "                  'withfilteredset' : 'yes',\n",
    "                  'filteredset'     : bkg_event_list,\n",
    "                  'keepfilteroutput': 'yes',\n",
    "                  'filtertype'      : 'expression',\n",
    "                  'expression'      : \"'((RA,DEC) in {0})'\".format(annulus),\n",
    "                  'withspectrumset' : 'yes',\n",
    "                  'spectrumset'     : bkg_spectra,\n",
    "                  'spectralbinsize' : '5',\n",
    "                  'withspecranges'  : 'yes',\n",
    "                  'specchannelmin'  : '0',\n",
    "                  'specchannelmax'  : '11999'}\n",
    "        \n",
    "        MyTask('evselect', inargs).run()\n",
    "\n",
    "        # Generate rmf for source\n",
    "        inargs = {}\n",
    "        inargs = {'rmfset'      : rmf_file,\n",
    "                  'spectrumset' : source_spectra}\n",
    "        \n",
    "        MyTask('rmfgen', inargs).run()\n",
    "\n",
    "        # Generate arf for source\n",
    "        inargs = {}\n",
    "        inargs = {'arfset'         : arf_file,\n",
    "                  'spectrumset'    : source_spectra,\n",
    "                  'withrmfset'     : 'yes',\n",
    "                  'rmfset'         : rmf_file,\n",
    "                  'withbadpixcorr' : 'yes',\n",
    "                  'badpixlocation' : filtered_event_list,\n",
    "                  'setbackscale'   : 'yes'}\n",
    "        \n",
    "        MyTask('arfgen', inargs).run()\n",
    "\n",
    "        # Bin events in spectrum and link arf and rmf\n",
    "        inargs = {}\n",
    "        inargs = {'spectrumset' : source_spectra,\n",
    "                  'groupedset'  : grouped_spectra,\n",
    "                  'arfset'      : arf_file,\n",
    "                  'rmfset'      : rmf_file,\n",
    "                  'backgndset'  : bkg_spectra,\n",
    "                  'mincounts'   : '30'}\n",
    "        \n",
    "        MyTask('specgroup', inargs).run()\n",
    "```"
   ]
  }
 ],
 "metadata": {
  "kernelspec": {
   "display_name": "sas",
   "language": "python",
   "name": "sas"
  },
  "language_info": {
   "codemirror_mode": {
    "name": "ipython",
    "version": 3
   },
   "file_extension": ".py",
   "mimetype": "text/x-python",
   "name": "python",
   "nbconvert_exporter": "python",
   "pygments_lexer": "ipython3",
   "version": "3.12.11"
  }
 },
 "nbformat": 4,
 "nbformat_minor": 5
}
