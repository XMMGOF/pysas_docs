{
 "cells": [
  {
   "cell_type": "markdown",
   "id": "017c451e",
   "metadata": {
    "editable": true,
    "slideshow": {
     "slide_type": ""
    },
    "tags": []
   },
   "source": [
    "# ABC Guide for XMM-Newton -- RGS+EPIC Joint Spectral Fitting Part 2: Fitting the Spectra\n",
    "<hr style=\"border: 2px solid #fadbac\" />\n",
    "\n",
    "- **Description:** A short introduction to joint fitting RGS and EPIC spectra.\n",
    "- **Level:** Advanced\n",
    "- **Data:** XMM observation of Mkn 509 (obsid=0601390201)\n",
    "- **Requirements:** Must be run using pySAS version 2.2.2 or higher.\n",
    "- **Credit:** Jenna Cann (March 2025)\n",
    "- **Support:** <a href=\"https://heasarc.gsfc.nasa.gov/docs/xmm/xmm_helpdesk.html\">XMM Newton GOF Helpdesk</a>\n",
    "- **Last verified to run:** 17 October 2025, for SAS v22.1 and pySAS v2.2.2\n",
    "\n",
    "<hr style=\"border: 2px solid #fadbac\" />"
   ]
  },
  {
   "cell_type": "markdown",
   "id": "8e10a1b0",
   "metadata": {},
   "source": [
    "## 1. Introduction\n",
    "This tutorial provides a short, basic introduction to joint fitting RGS and EPIC data on SciServer. This is Part 2, and assumes that you have already run Part 1, where we reprocess the relevant data using pyXSpec.\n",
    "\n",
    "<div class=\"alert alert-block alert-warning\">\n",
    "    <b>Warning:</b> By default this notebook will place observation data files in your default <tt>data_dir</tt> directory. Make sure pySAS has been configured properly.\n",
    "</div>"
   ]
  },
  {
   "cell_type": "code",
   "execution_count": null,
   "id": "f8b4d98f-ea5a-4d3f-b5b6-52169d780fd6",
   "metadata": {
    "editable": true,
    "slideshow": {
     "slide_type": ""
    },
    "tags": []
   },
   "outputs": [],
   "source": [
    "import xspec\n",
    "import os\n",
    "\n",
    "import pysas\n",
    "from pysas import MyTask\n",
    "\n",
    "# Useful imports\n",
    "import os, shutil\n",
    "\n",
    "# Imports for plotting\n",
    "import matplotlib.pyplot as plt\n",
    "from astropy.visualization import astropy_mpl_style\n",
    "from astropy.io import fits\n",
    "from astropy.wcs import WCS\n",
    "from astropy.table import Table\n",
    "plt.style.use(astropy_mpl_style)\n",
    "\n",
    "cur_dir = os.getcwd()"
   ]
  },
  {
   "cell_type": "markdown",
   "id": "3c66e25b-225a-4257-91fb-ab9a2520f52e",
   "metadata": {},
   "source": [
    "First we define the paths to all of our data. We will be fitting MOS1, MOS2, and both orders of RGS1 and RGS2."
   ]
  },
  {
   "cell_type": "code",
   "execution_count": null,
   "id": "a4f06ae1-3483-4371-afe4-bb17bb8ac396",
   "metadata": {
    "scrolled": true
   },
   "outputs": [],
   "source": [
    "obsid = '0601390201'\n",
    "\n",
    "my_obs = pysas.ObsID(obsid)\n",
    "os.chdir(my_obs.work_dir)"
   ]
  },
  {
   "cell_type": "markdown",
   "id": "6c2e8ec9-04da-4c94-acb9-ab17a79d3feb",
   "metadata": {},
   "source": [
    "For this tuturial we will be using a specialized absoption model. `XSPEC` comes with a number of prebuilt models for spectral fitting. But it is possible to load your own models into XSPEC. In this case the model is in a FITS table. Due to the size (~150 MB) you will have to download the model from the HEASARC website. The following cells will download the FITS file and place it in the work directory for the ObsID."
   ]
  },
  {
   "cell_type": "code",
   "execution_count": null,
   "id": "1a1e3934-25c5-4776-a664-62dd7ab56d25",
   "metadata": {
    "scrolled": true
   },
   "outputs": [],
   "source": [
    "# This will install the wget module if it is not already present\n",
    "try:\n",
    "    import wget\n",
    "except ModuleNotFoundError:\n",
    "    %pip install wget\n",
    "    import wget"
   ]
  },
  {
   "cell_type": "code",
   "execution_count": null,
   "id": "3b4d31bc-9d78-4e68-93ea-78ecd518ac07",
   "metadata": {},
   "outputs": [],
   "source": [
    "# This will download the FITS table\n",
    "url = 'https://heasarc.gsfc.nasa.gov/FTP/xmm/software/sciserver/twarmabs.fits'\n",
    "filename = wget.download(url)"
   ]
  },
  {
   "cell_type": "code",
   "execution_count": null,
   "id": "474744aa-8552-4974-98be-dd7f24446e35",
   "metadata": {},
   "outputs": [],
   "source": [
    "# Linking filenames\n",
    "bkg_R1spectra  = [os.path.join(my_obs.work_dir,'P0601390201R1S004BGSPEC1001.FIT'),\n",
    "                               os.path.join(my_obs.work_dir,'P0601390201R1S004BGSPEC2001.FIT')]\n",
    "bkg_R2spectra  = [os.path.join(my_obs.work_dir,'P0601390201R2S005BGSPEC1001.FIT'),\n",
    "                               os.path.join(my_obs.work_dir,'P0601390201R2S005BGSPEC2001.FIT')]\n",
    "\n",
    "rmf_R1spectra  = [os.path.join(my_obs.work_dir,'P0601390201R1S004RSPMAT1001.FIT'),\n",
    "                               os.path.join(my_obs.work_dir,'P0601390201R1S004RSPMAT2001.FIT')]\n",
    "rmf_R2spectra  = [os.path.join(my_obs.work_dir,'P0601390201R2S005RSPMAT1001.FIT'),\n",
    "                               os.path.join(my_obs.work_dir,'P0601390201R2S005RSPMAT2001.FIT')]\n",
    "\n",
    "\n",
    "mos1_spectrum  = os.path.join(my_obs.work_dir,'mos1_grp25.fits')\n",
    "mos2_spectrum = os.path.join(my_obs.work_dir,'mos2_grp25.fits')"
   ]
  },
  {
   "cell_type": "markdown",
   "id": "75911030-344d-45eb-935d-24bb5dbfe61e",
   "metadata": {},
   "source": [
    "Now we will initialize the EPIC and RGS spectra into PyXSpec for analysis, as well as their respective rmfs, arfs, and background files."
   ]
  },
  {
   "cell_type": "code",
   "execution_count": null,
   "id": "8ce1bc97-1a51-48fc-90f3-049f5b872613",
   "metadata": {},
   "outputs": [],
   "source": [
    "RGS1o1 = my_obs.files['R1spectra'][0]\n",
    "RGS1o2 = my_obs.files['R1spectra'][1]\n",
    "RGS2o1 = my_obs.files['R2spectra'][0]\n",
    "RGS2o2 = my_obs.files['R2spectra'][1]\n",
    "\n",
    "bkg_RGS1o1 = bkg_R1spectra[0]\n",
    "bkg_RGS1o2 = bkg_R1spectra[1]\n",
    "bkg_RGS2o1 = bkg_R2spectra[0]\n",
    "bkg_RGS2o2 = bkg_R2spectra[1]\n",
    "\n",
    "rmf_RGS1o1 = rmf_R1spectra[0]\n",
    "rmf_RGS1o2 = rmf_R1spectra[1]\n",
    "rmf_RGS2o1 = rmf_R2spectra[0]\n",
    "rmf_RGS2o2 = rmf_R2spectra[1]"
   ]
  },
  {
   "cell_type": "code",
   "execution_count": null,
   "id": "027900f4-ce6c-44f6-92e6-5464d60309f7",
   "metadata": {},
   "outputs": [],
   "source": [
    "xspec.AllData(\"1:1 {:s}\".format(mos1_spectrum))\n",
    "\n",
    "s1 = xspec.AllData(1)\n",
    "s1.response = os.path.join(my_obs.work_dir,'mos1.rmf')\n",
    "s1.response.arf = os.path.join(my_obs.work_dir,'mos1.arf')\n",
    "s1.ignore('**-0.3, 6.0-**')"
   ]
  },
  {
   "cell_type": "code",
   "execution_count": null,
   "id": "29e7e5c6-c044-4c59-a37f-1b4601b4013d",
   "metadata": {
    "editable": true,
    "scrolled": true,
    "slideshow": {
     "slide_type": ""
    },
    "tags": []
   },
   "outputs": [],
   "source": [
    "xspec.AllData -= \"*\"\n",
    "\n",
    "xspec.AllData(\"1:1 {:s} 2:2 {:s} 3:3 {:s} 4:4 {:s} 5:5 {:s} 6:6 {:s}\".format(mos1_spectrum, mos2_spectrum, RGS1o1, RGS1o2, RGS2o1, RGS2o2))\n",
    "\n",
    "s1 = xspec.AllData(1)\n",
    "s1.response = os.path.join(my_obs.work_dir,'mos1.rmf')\n",
    "s1.response.arf = os.path.join(my_obs.work_dir,'mos1.arf')\n",
    "s1.ignore('**-0.3, 6.0-**')\n",
    "\n",
    "s2 = xspec.AllData(2)\n",
    "s2.response = os.path.join(my_obs.work_dir,'mos2.rmf')\n",
    "s2.response.arf = os.path.join(my_obs.work_dir,'mos2.arf')\n",
    "s2.ignore('**-0.3, 6.0-**')\n",
    "\n",
    "s3 = xspec.AllData(3)\n",
    "s3.background = bkg_RGS1o1\n",
    "s3.response = rmf_RGS1o1\n",
    "s3.ignore('**-0.5, 2.0-**')\n",
    "\n",
    "s4 = xspec.AllData(4)\n",
    "s4.background = bkg_RGS1o2\n",
    "s4.response = rmf_RGS1o2\n",
    "s4.ignore('**-0.5, 2.0-**')\n",
    "\n",
    "s5 = xspec.AllData(5)\n",
    "s5.background = bkg_RGS2o1\n",
    "s5.response = rmf_RGS2o1\n",
    "s5.ignore('**-0.5, 2.0-**')\n",
    "\n",
    "s6 = xspec.AllData(6)\n",
    "s6.background = bkg_RGS2o2\n",
    "s6.response = rmf_RGS2o2\n",
    "s6.ignore('**-0.5, 2.0-**')"
   ]
  },
  {
   "cell_type": "markdown",
   "id": "38bd6189-43ee-42e3-bf4b-3588a579cc81",
   "metadata": {},
   "source": [
    "And let's use the `show` command to make sure that all of our data was loaded properly. Each spectrum should have an response matrix file (rmf) and a background file, and each EPIC spectrum should also have an ancillary response file (arf)."
   ]
  },
  {
   "cell_type": "code",
   "execution_count": null,
   "id": "d7f2f8a4-8317-40c4-b777-6f487aef2310",
   "metadata": {
    "scrolled": true
   },
   "outputs": [],
   "source": [
    "xspec.AllData.show()"
   ]
  },
  {
   "cell_type": "markdown",
   "id": "88ca20f5-5e8c-410d-9013-31949f3d3783",
   "metadata": {},
   "source": [
    "Joint fitting spectra follows a very similar process to fitting single spectra, with one main addition of a constant \"scale factor\" at the beginning of each spectrum's model. For example, let's start with a very simple redshifted power law fit with Galactic absorption."
   ]
  },
  {
   "cell_type": "code",
   "execution_count": null,
   "id": "635edd82-df39-49e7-a73e-d09d666816ba",
   "metadata": {},
   "outputs": [],
   "source": [
    "xspec.AllModels.clear()\n",
    "\n",
    "m = xspec.Model(\"constant*phabs*zpowerlw\")\n",
    "\n",
    "m1 = xspec.AllModels(1)\n",
    "m2 = xspec.AllModels(2)\n",
    "m3 = xspec.AllModels(3)\n",
    "m4 = xspec.AllModels(4)\n",
    "m5 = xspec.AllModels(5)\n",
    "m6 = xspec.AllModels(6)"
   ]
  },
  {
   "cell_type": "markdown",
   "id": "6d5d7aee-ccfd-446f-bf31-71d1733ed8a1",
   "metadata": {},
   "source": [
    "Next, we will want to define some known parameters, such as the redshift, and the Galactic absorption, which can be found by inputting the source's RA and DEC in the [Swift Galactic NH tool](https://www.swift.ac.uk/analysis/nhtot/). The RA and DEC of Mrk 509 are 20h44m09.7526s, -10d43m24.739s, or 311.040636, -10.723539 in decimal degree format. To ensure that these values do not change during the fitting, we will also freeze them (either by setting its uncertainty to -1 or by toggling the 'frozen' attribute. We will also unlink just the constant parameter between each of the models, to ensure that the models will be able to scale as necessary to fit the data. \n",
    "\n",
    "To list the components, and their respective parameters, for the current model, you can use the commands `componentNames` and `parameterNames` as shown below. For more information about the component models and their parameters, including units, check the relevant model pages on the [XSpec model documentation](https://heasarc.gsfc.nasa.gov/docs/xanadu/xspec/manual/node128.html)."
   ]
  },
  {
   "cell_type": "code",
   "execution_count": null,
   "id": "ccd75f1f-e87c-4cf3-9c19-bbee5f9ff4a7",
   "metadata": {},
   "outputs": [],
   "source": [
    "m.componentNames"
   ]
  },
  {
   "cell_type": "code",
   "execution_count": null,
   "id": "582e3347-c471-425d-bd2c-48456e41e1c0",
   "metadata": {},
   "outputs": [],
   "source": [
    "m.zpowerlw.parameterNames"
   ]
  },
  {
   "cell_type": "code",
   "execution_count": null,
   "id": "00278cc3-9586-4858-a5d1-da7e7fa273f5",
   "metadata": {
    "scrolled": true
   },
   "outputs": [],
   "source": [
    "m.zpowerlw.Redshift = [0.034397, -1]\n",
    "m.phabs.nH = [0.0504, -1]\n",
    "m.constant.factor=[1, -1]\n",
    "m.zpowerlw.PhoIndex=1.8\n",
    "\n",
    "m2(1).link = \"\"\n",
    "m2(1).frozen = False\n",
    "\n",
    "m3(1).link = \"\"\n",
    "m3(1).frozen = False\n",
    "\n",
    "m4(1).link = \"\"\n",
    "m4(1).frozen = False\n",
    "\n",
    "m5(1).link = \"\"\n",
    "m5(1).frozen = False\n",
    "\n",
    "m6(1).link = \"\"\n",
    "m6(1).frozen = False"
   ]
  },
  {
   "cell_type": "markdown",
   "id": "7fb5d19f-6996-46aa-86ed-a39df977c91b",
   "metadata": {},
   "source": [
    "And let's double-check to make sure all of those changes were taken into consideration for our model."
   ]
  },
  {
   "cell_type": "code",
   "execution_count": null,
   "id": "c2ff6beb-f75c-4f39-a8ad-9ed097363a43",
   "metadata": {},
   "outputs": [],
   "source": [
    "xspec.AllModels.show()"
   ]
  },
  {
   "cell_type": "markdown",
   "id": "ef90fd0e-b9fb-47c2-9e29-0bb565ea0137",
   "metadata": {},
   "source": [
    "Now, we renormalize the model and begin our fit."
   ]
  },
  {
   "cell_type": "code",
   "execution_count": null,
   "id": "f4cf97e1-929f-4efd-9e75-5151a78d55bb",
   "metadata": {
    "scrolled": true
   },
   "outputs": [],
   "source": [
    "xspec.Fit.renorm()\n",
    "xspec.Fit.perform()"
   ]
  },
  {
   "cell_type": "markdown",
   "id": "7dba2479-0b32-4fc6-8033-7a03a5e5f434",
   "metadata": {},
   "source": [
    "And let's see what the best fit model provided! "
   ]
  },
  {
   "cell_type": "code",
   "execution_count": null,
   "id": "0d99ac4f-7033-4a60-a117-0ea7d62ead6f",
   "metadata": {},
   "outputs": [],
   "source": [
    "xspec.AllModels.show()"
   ]
  },
  {
   "cell_type": "markdown",
   "id": "0ec4b3fd-08cc-46bb-8952-080bf9ca0907",
   "metadata": {},
   "source": [
    "As you can see, the photon index (PhoIndex) required by this model for the best fit to the data is ~2.25.\n",
    "\n",
    "In order to assess the fit, we will want to examine how a plot of the model spectrum matches up with data. \n",
    "\n",
    "To create a plot of the spectrum and the model we include a convenient function. It takes as an input the spectrum object created by PyXSPEC. A lot of what goes into this function is for formatting the plot.\n",
    "\n",
    "(For more advanced users: The function is written so that it returns the `figure` and two `axis` objects created by `Matplotlib`. You can use these to make additional changes to the formatting of the plot.)"
   ]
  },
  {
   "cell_type": "code",
   "execution_count": null,
   "id": "6952ecb3-81b1-432b-af14-dfdc26412ad8",
   "metadata": {},
   "outputs": [],
   "source": [
    "xspec.Plot.device=\"/null\"\n",
    "xspec.Plot.xAxis=\"keV\"\n",
    "xspec.Plot(\"data\")\n",
    "\n",
    "energies_mos1 = xspec.Plot.x(1)\n",
    "edeltas_mos1 = xspec.Plot.xErr(1)\n",
    "energies_mos2 = xspec.Plot.x(2)\n",
    "edeltas_mos2 = xspec.Plot.xErr(2)\n",
    "energies_r1o1 = xspec.Plot.x(3)\n",
    "edeltas_r1o1 = xspec.Plot.xErr(3)\n",
    "energies_r1o2 = xspec.Plot.x(4)\n",
    "edeltas_r1o2 = xspec.Plot.xErr(4)\n",
    "energies_r2o1 = xspec.Plot.x(5)\n",
    "edeltas_r2o1 = xspec.Plot.xErr(5)\n",
    "energies_r2o2 = xspec.Plot.x(6)\n",
    "edeltas_r2o2 = xspec.Plot.xErr(6)\n",
    "\n",
    "rates_mos1 = xspec.Plot.y(1,1)\n",
    "errors_mos1 = xspec.Plot.yErr(1,1)\n",
    "\n",
    "rates_mos2 = xspec.Plot.y(2,1)\n",
    "errors_mos2 = xspec.Plot.yErr(2,1)\n",
    "\n",
    "rates_r1o1 = xspec.Plot.y(3,1)\n",
    "errors_r1o1 = xspec.Plot.yErr(3,1)\n",
    "\n",
    "rates_r1o2 = xspec.Plot.y(4,1)\n",
    "errors_r1o2 = xspec.Plot.yErr(4,1)\n",
    "\n",
    "rates_r2o1 = xspec.Plot.y(5,1)\n",
    "errors_r2o1 = xspec.Plot.yErr(5,1)\n",
    "\n",
    "rates_r2o2 = xspec.Plot.y(6,1)\n",
    "errors_r2o2 = xspec.Plot.yErr(6,1)\n",
    "\n",
    "\n",
    "foldedmodel_mos1 = xspec.Plot.model()\n",
    "foldedmodel_mos2 = xspec.Plot.model(2)\n",
    "foldedmodel_r1o1 = xspec.Plot.model(3)\n",
    "foldedmodel_r1o2 = xspec.Plot.model(4)\n",
    "foldedmodel_r2o1 = xspec.Plot.model(5)\n",
    "foldedmodel_r2o2 = xspec.Plot.model(6)\n",
    "\n",
    "dataLabels = xspec.Plot.labels(1)\n",
    "\n",
    "nE_mos1 = len(energies_mos1)\n",
    "stepenergies_mos1 = list()\n",
    "\n",
    "for i in range(nE_mos1):\n",
    "    stepenergies_mos1.append(energies_mos1[i] - edeltas_mos1[i])\n",
    "stepenergies_mos1.append(energies_mos1[-1]+edeltas_mos1[-1])\n",
    "\n",
    "nE_mos2 = len(energies_mos2)\n",
    "stepenergies_mos2 = list()\n",
    "\n",
    "for i in range(nE_mos2):\n",
    "    stepenergies_mos2.append(energies_mos2[i] - edeltas_mos2[i])\n",
    "stepenergies_mos2.append(energies_mos2[-1]+edeltas_mos2[-1])\n",
    "\n",
    "nE_r1o1 = len(energies_r1o1)\n",
    "stepenergies_r1o1 = list()\n",
    "\n",
    "for i in range(nE_r1o1):\n",
    "    stepenergies_r1o1.append(energies_r1o1[i] - edeltas_r1o1[i])\n",
    "stepenergies_r1o1.append(energies_r1o1[-1]+edeltas_r1o1[-1])\n",
    "\n",
    "nE_r1o2 = len(energies_r1o2)\n",
    "stepenergies_r1o2 = list()\n",
    "\n",
    "for i in range(nE_r1o2):\n",
    "    stepenergies_r1o2.append(energies_r1o2[i] - edeltas_r1o2[i])\n",
    "stepenergies_r1o2.append(energies_r1o2[-1]+edeltas_r1o2[-1])\n",
    "\n",
    "nE_r2o1 = len(energies_r2o1)\n",
    "stepenergies_r2o1 = list()\n",
    "\n",
    "for i in range(nE_r2o1):\n",
    "    stepenergies_r2o1.append(energies_r2o1[i] - edeltas_r2o1[i])\n",
    "stepenergies_r2o1.append(energies_r2o1[-1]+edeltas_r2o1[-1])\n",
    "\n",
    "nE_r2o2 = len(energies_r2o2)\n",
    "stepenergies_r2o2 = list()\n",
    "\n",
    "for i in range(nE_r2o2):\n",
    "    stepenergies_r2o2.append(energies_r1o2[i] - edeltas_r2o2[i])\n",
    "stepenergies_r2o2.append(energies_r2o2[-1]+edeltas_r2o2[-1])\n",
    "\n",
    "foldedmodel_mos1.append(foldedmodel_mos1[-1])\n",
    "foldedmodel_mos2.append(foldedmodel_mos2[-1])\n",
    "foldedmodel_r1o1.append(foldedmodel_r1o1[-1])\n",
    "foldedmodel_r1o2.append(foldedmodel_r1o2[-1])\n",
    "foldedmodel_r2o1.append(foldedmodel_r2o1[-1])\n",
    "foldedmodel_r2o2.append(foldedmodel_r2o2[-1])"
   ]
  },
  {
   "cell_type": "code",
   "execution_count": null,
   "id": "c055f3f1-868a-4b26-bbcc-ee0d7c7154c3",
   "metadata": {},
   "outputs": [],
   "source": [
    "plt.ylabel(dataLabels[1])\n",
    "plt.title(dataLabels[2])\n",
    "plt.yscale('log')\n",
    "plt.xscale('log')\n",
    "plt.errorbar(energies_mos1,rates_mos1,xerr=edeltas_mos1,yerr=errors_mos1,fmt='.',color='b')\n",
    "plt.errorbar(energies_mos2,rates_mos2,xerr=edeltas_mos2,yerr=errors_mos2,fmt='.',color='r')\n",
    "plt.errorbar(energies_r1o1,rates_r1o1,xerr=edeltas_r1o1,yerr=errors_r1o1,fmt='.',color='#0cf52c')\n",
    "plt.errorbar(energies_r1o2,rates_r1o2,xerr=edeltas_r1o2,yerr=errors_r1o2,fmt='.',color='#0cf5f1')\n",
    "plt.errorbar(energies_r2o1,rates_r2o1,xerr=edeltas_r2o1,yerr=errors_r2o1,fmt='.',color='#ce0cf5')\n",
    "plt.errorbar(energies_r2o2,rates_r2o2,xerr=edeltas_r2o2,yerr=errors_r2o2,fmt='.',color='k')\n",
    "\n",
    "plt.step(stepenergies_mos1,foldedmodel_mos1,where='post',color='b')\n",
    "plt.step(stepenergies_mos2,foldedmodel_mos2,where='post',color='r')\n",
    "plt.step(stepenergies_r1o1,foldedmodel_r1o1,where='post',color='#0cf52c')\n",
    "plt.step(stepenergies_r1o2,foldedmodel_r1o2,where='post',color='#0cf5f1')\n",
    "plt.step(stepenergies_r2o1,foldedmodel_r2o1,where='post',color='#ce0cf5')\n",
    "plt.step(stepenergies_r2o2,foldedmodel_r2o2,where='post',color='k')"
   ]
  },
  {
   "cell_type": "markdown",
   "id": "734b1ccb-9415-431d-a06e-3cf0a3c223fe",
   "metadata": {},
   "source": [
    "This looks like a pretty decent rough fit, but let's zoom into certain energy ranges to test that."
   ]
  },
  {
   "cell_type": "code",
   "execution_count": null,
   "id": "f48a94e0-5fb7-4142-b582-b1b40a392f27",
   "metadata": {},
   "outputs": [],
   "source": [
    "plt.ylabel(dataLabels[1])\n",
    "plt.title(dataLabels[2])\n",
    "plt.yscale('log')\n",
    "plt.xscale('log')\n",
    "plt.errorbar(energies_mos1,rates_mos1,xerr=edeltas_mos1,yerr=errors_mos1,fmt='.',color='b')\n",
    "plt.errorbar(energies_mos2,rates_mos2,xerr=edeltas_mos2,yerr=errors_mos2,fmt='.',color='r')\n",
    "plt.errorbar(energies_r1o1,rates_r1o1,xerr=edeltas_r1o1,yerr=errors_r1o1,fmt='.',color='#0cf52c')\n",
    "plt.errorbar(energies_r1o2,rates_r1o2,xerr=edeltas_r1o2,yerr=errors_r1o2,fmt='.',color='#0cf5f1')\n",
    "plt.errorbar(energies_r2o1,rates_r2o1,xerr=edeltas_r2o1,yerr=errors_r2o1,fmt='.',color='#ce0cf5')\n",
    "plt.errorbar(energies_r2o2,rates_r2o2,xerr=edeltas_r2o2,yerr=errors_r2o2,fmt='.',color='k')\n",
    "\n",
    "plt.step(stepenergies_mos1,foldedmodel_mos1,where='post',color='b')\n",
    "plt.step(stepenergies_mos2,foldedmodel_mos2,where='post',color='r')\n",
    "plt.step(stepenergies_r1o1,foldedmodel_r1o1,where='post',color='#0cf52c')\n",
    "plt.step(stepenergies_r1o2,foldedmodel_r1o2,where='post',color='#0cf5f1')\n",
    "plt.step(stepenergies_r2o1,foldedmodel_r2o1,where='post',color='#ce0cf5')\n",
    "plt.step(stepenergies_r2o2,foldedmodel_r2o2,where='post',color='k')\n",
    "\n",
    "plt.xlim(0.5, 2)"
   ]
  },
  {
   "cell_type": "code",
   "execution_count": null,
   "id": "117fe62f-55fe-44f5-a928-019f68db2757",
   "metadata": {},
   "outputs": [],
   "source": [
    "plt.ylabel(dataLabels[1])\n",
    "plt.title(dataLabels[2])\n",
    "plt.yscale('log')\n",
    "plt.xscale('log')\n",
    "plt.errorbar(energies_mos1,rates_mos1,xerr=edeltas_mos1,yerr=errors_mos1,fmt='.',color='b')\n",
    "plt.errorbar(energies_mos2,rates_mos2,xerr=edeltas_mos2,yerr=errors_mos2,fmt='.',color='r')\n",
    "plt.errorbar(energies_r1o1,rates_r1o1,xerr=edeltas_r1o1,yerr=errors_r1o1,fmt='.',color='#0cf52c')\n",
    "plt.errorbar(energies_r1o2,rates_r1o2,xerr=edeltas_r1o2,yerr=errors_r1o2,fmt='.',color='#0cf5f1')\n",
    "plt.errorbar(energies_r2o1,rates_r2o1,xerr=edeltas_r2o1,yerr=errors_r2o1,fmt='.',color='#ce0cf5')\n",
    "plt.errorbar(energies_r2o2,rates_r2o2,xerr=edeltas_r2o2,yerr=errors_r2o2,fmt='.',color='k')\n",
    "\n",
    "plt.step(stepenergies_mos1,foldedmodel_mos1,where='post',color='b')\n",
    "plt.step(stepenergies_mos2,foldedmodel_mos2,where='post',color='r')\n",
    "plt.step(stepenergies_r1o1,foldedmodel_r1o1,where='post',color='#0cf52c')\n",
    "plt.step(stepenergies_r1o2,foldedmodel_r1o2,where='post',color='#0cf5f1')\n",
    "plt.step(stepenergies_r2o1,foldedmodel_r2o1,where='post',color='#ce0cf5')\n",
    "plt.step(stepenergies_r2o2,foldedmodel_r2o2,where='post',color='k')\n",
    "\n",
    "plt.xlim(0.5, 0.6)"
   ]
  },
  {
   "cell_type": "markdown",
   "id": "2f15d73d-ee7d-488e-95da-8c46c89ee758",
   "metadata": {},
   "source": [
    "In the most recent plot, you can see that we're matching the continuum pretty well, but there are some potential absorption features that are not being taken into account. To account for this, let's explore fitting a more complex model.\n",
    "\n",
    "In this next fit, we are adding additional absorption components, including a rough table model that allows us to vary ionization parameter and column density. While this model is sufficient for our instructional purposes here, it makes numerous assumptions that may not hold true for all cases. We recommend using a more robust model (such as [`warmabs`](https://heasarc.gsfc.nasa.gov/docs/software/xstar/docs/sphinx/xstardoc/docs/build/html/warmabs.html 'warmabs')) for any rigorous scientific analysis."
   ]
  },
  {
   "cell_type": "markdown",
   "id": "bb94ee03-a99f-4834-a3a6-c01cb2d9d5e5",
   "metadata": {},
   "source": [
    "We will now load a `warmabs` model. The model data is found in the file `twarmabs.fits`, which should have automatically been copied into your work directory at the beginning of this notebook. If you encounter an error, make sure the file is in your `work_dir` for the `ObsID` you are working with."
   ]
  },
  {
   "cell_type": "code",
   "execution_count": null,
   "id": "1695a4e7-1e76-47b8-ad0d-7d17c35aa364",
   "metadata": {
    "scrolled": true
   },
   "outputs": [],
   "source": [
    "xspec.AllModels.clear()\n",
    "\n",
    "m = xspec.Model(\"constant*phabs*tbabs*mtable{twarmabs.fits}*zpowerlw\")\n",
    "\n",
    "m1 = xspec.AllModels(1)\n",
    "m2 = xspec.AllModels(2)\n",
    "m3 = xspec.AllModels(3)\n",
    "m4 = xspec.AllModels(4)\n",
    "m5 = xspec.AllModels(5)\n",
    "m6 = xspec.AllModels(6)"
   ]
  },
  {
   "cell_type": "markdown",
   "id": "e7530141-fd4f-42d3-8ed7-5dd80b104fb6",
   "metadata": {},
   "source": [
    "And we will similarly define our known parameters as before."
   ]
  },
  {
   "cell_type": "code",
   "execution_count": null,
   "id": "1b8e7973-5873-4428-81a6-189e5c6bf32a",
   "metadata": {
    "editable": true,
    "scrolled": true,
    "slideshow": {
     "slide_type": ""
    },
    "tags": []
   },
   "outputs": [],
   "source": [
    "m.zpowerlw.Redshift = [0.034397, -1]\n",
    "m.phabs.nH = [0.0504, -1]\n",
    "m.constant.factor=[1, -1]\n",
    "m.zpowerlw.PhoIndex=1.8\n",
    "\n",
    "m2(1).link = \"\"\n",
    "m2(1).frozen = False\n",
    "\n",
    "m3(1).link = \"\"\n",
    "m3(1).frozen = False\n",
    "\n",
    "m4(1).link = \"\"\n",
    "m4(1).frozen = False\n",
    "\n",
    "m5(1).link = \"\"\n",
    "m5(1).frozen = False\n",
    "\n",
    "m6(1).link = \"\"\n",
    "m6(1).frozen = False"
   ]
  },
  {
   "cell_type": "code",
   "execution_count": null,
   "id": "ea56f395-9b13-442e-9c39-e7b2f7cb7596",
   "metadata": {},
   "outputs": [],
   "source": [
    "xspec.AllModels.show()"
   ]
  },
  {
   "cell_type": "markdown",
   "id": "bde8c126-850d-4c5a-a91c-d1001d993bde",
   "metadata": {},
   "source": [
    "Now, let's renormalize and fit this slightly more complex model. This will likely take a little longer than fitting a simple power law."
   ]
  },
  {
   "cell_type": "code",
   "execution_count": null,
   "id": "0ef9e173-53a0-45d2-8408-ea2778705567",
   "metadata": {
    "editable": true,
    "scrolled": true,
    "slideshow": {
     "slide_type": ""
    },
    "tags": []
   },
   "outputs": [],
   "source": [
    "xspec.Fit.renorm()\n",
    "xspec.Fit.perform()"
   ]
  },
  {
   "cell_type": "markdown",
   "id": "ee06bb6e-e0d5-47ed-a829-81d6901212a0",
   "metadata": {},
   "source": [
    "And again, let's see what our best fit parameters to our model are:"
   ]
  },
  {
   "cell_type": "code",
   "execution_count": null,
   "id": "b93732c2-c8f7-4a30-a891-75da406e36c8",
   "metadata": {
    "scrolled": true
   },
   "outputs": [],
   "source": [
    "xspec.AllModels.show()"
   ]
  },
  {
   "cell_type": "markdown",
   "id": "cc4e36bb-3f20-4a07-8966-1be8843deb70",
   "metadata": {},
   "source": [
    "As you can see, this model provides a similar value for PhoIndex as before. Since this is the primary continuum component, that is a good sign that this fit should also follow the continuum well, and that the added model components will provide more insight into the finer absorption features that were not fit by the previous model."
   ]
  },
  {
   "cell_type": "code",
   "execution_count": null,
   "id": "e2c7ee77-1093-40b6-b248-c7e379c79732",
   "metadata": {
    "editable": true,
    "slideshow": {
     "slide_type": ""
    },
    "tags": []
   },
   "outputs": [],
   "source": [
    "xspec.Plot.device=\"/null\"\n",
    "xspec.Plot.xAxis=\"keV\"\n",
    "xspec.Plot(\"data\")\n",
    "\n",
    "energies_mos1 = xspec.Plot.x(1)\n",
    "edeltas_mos1 = xspec.Plot.xErr(1)\n",
    "energies_mos2 = xspec.Plot.x(2)\n",
    "edeltas_mos2 = xspec.Plot.xErr(2)\n",
    "energies_r1o1 = xspec.Plot.x(3)\n",
    "edeltas_r1o1 = xspec.Plot.xErr(3)\n",
    "energies_r1o2 = xspec.Plot.x(4)\n",
    "edeltas_r1o2 = xspec.Plot.xErr(4)\n",
    "energies_r2o1 = xspec.Plot.x(5)\n",
    "edeltas_r2o1 = xspec.Plot.xErr(5)\n",
    "energies_r2o2 = xspec.Plot.x(6)\n",
    "edeltas_r2o2 = xspec.Plot.xErr(6)\n",
    "\n",
    "rates_mos1 = xspec.Plot.y(1,1)\n",
    "errors_mos1 = xspec.Plot.yErr(1,1)\n",
    "\n",
    "rates_mos2 = xspec.Plot.y(2,1)\n",
    "errors_mos2 = xspec.Plot.yErr(2,1)\n",
    "\n",
    "rates_r1o1 = xspec.Plot.y(3,1)\n",
    "errors_r1o1 = xspec.Plot.yErr(3,1)\n",
    "\n",
    "rates_r1o2 = xspec.Plot.y(4,1)\n",
    "errors_r1o2 = xspec.Plot.yErr(4,1)\n",
    "\n",
    "rates_r2o1 = xspec.Plot.y(5,1)\n",
    "errors_r2o1 = xspec.Plot.yErr(5,1)\n",
    "\n",
    "rates_r2o2 = xspec.Plot.y(6,1)\n",
    "errors_r2o2 = xspec.Plot.yErr(6,1)\n",
    "\n",
    "\n",
    "foldedmodel_mos1 = xspec.Plot.model()\n",
    "foldedmodel_mos2 = xspec.Plot.model(2)\n",
    "foldedmodel_r1o1 = xspec.Plot.model(3)\n",
    "foldedmodel_r1o2 = xspec.Plot.model(4)\n",
    "foldedmodel_r2o1 = xspec.Plot.model(5)\n",
    "foldedmodel_r2o2 = xspec.Plot.model(6)\n",
    "\n",
    "dataLabels = xspec.Plot.labels(1)\n",
    "\n",
    "nE_mos1 = len(energies_mos1)\n",
    "stepenergies_mos1 = list()\n",
    "\n",
    "for i in range(nE_mos1):\n",
    "    stepenergies_mos1.append(energies_mos1[i] - edeltas_mos1[i])\n",
    "stepenergies_mos1.append(energies_mos1[-1]+edeltas_mos1[-1])\n",
    "\n",
    "nE_mos2 = len(energies_mos2)\n",
    "stepenergies_mos2 = list()\n",
    "\n",
    "for i in range(nE_mos2):\n",
    "    stepenergies_mos2.append(energies_mos2[i] - edeltas_mos2[i])\n",
    "stepenergies_mos2.append(energies_mos2[-1]+edeltas_mos2[-1])\n",
    "\n",
    "nE_r1o1 = len(energies_r1o1)\n",
    "stepenergies_r1o1 = list()\n",
    "\n",
    "for i in range(nE_r1o1):\n",
    "    stepenergies_r1o1.append(energies_r1o1[i] - edeltas_r1o1[i])\n",
    "stepenergies_r1o1.append(energies_r1o1[-1]+edeltas_r1o1[-1])\n",
    "\n",
    "nE_r1o2 = len(energies_r1o2)\n",
    "stepenergies_r1o2 = list()\n",
    "\n",
    "for i in range(nE_r1o2):\n",
    "    stepenergies_r1o2.append(energies_r1o2[i] - edeltas_r1o2[i])\n",
    "stepenergies_r1o2.append(energies_r1o2[-1]+edeltas_r1o2[-1])\n",
    "\n",
    "\n",
    "nE_r2o1 = len(energies_r2o1)\n",
    "stepenergies_r2o1 = list()\n",
    "\n",
    "for i in range(nE_r2o1):\n",
    "    stepenergies_r2o1.append(energies_r2o1[i] - edeltas_r2o1[i])\n",
    "stepenergies_r2o1.append(energies_r2o1[-1]+edeltas_r2o1[-1])\n",
    "\n",
    "nE_r2o2 = len(energies_r2o2)\n",
    "stepenergies_r2o2 = list()\n",
    "\n",
    "for i in range(nE_r2o2):\n",
    "    stepenergies_r2o2.append(energies_r1o2[i] - edeltas_r2o2[i])\n",
    "stepenergies_r2o2.append(energies_r2o2[-1]+edeltas_r2o2[-1])\n",
    "\n",
    "\n",
    "foldedmodel_mos1.append(foldedmodel_mos1[-1])\n",
    "foldedmodel_mos2.append(foldedmodel_mos2[-1])\n",
    "foldedmodel_r1o1.append(foldedmodel_r1o1[-1])\n",
    "foldedmodel_r1o2.append(foldedmodel_r1o2[-1])\n",
    "foldedmodel_r2o1.append(foldedmodel_r2o1[-1])\n",
    "foldedmodel_r2o2.append(foldedmodel_r2o2[-1])"
   ]
  },
  {
   "cell_type": "code",
   "execution_count": null,
   "id": "82cafd38-ffd4-4bb3-abc6-5036b3e7b3b3",
   "metadata": {
    "editable": true,
    "slideshow": {
     "slide_type": ""
    },
    "tags": []
   },
   "outputs": [],
   "source": [
    "plt.ylabel(dataLabels[1])\n",
    "plt.yscale('log')\n",
    "plt.xscale('log')\n",
    "plt.errorbar(energies_mos1,rates_mos1,xerr=edeltas_mos1,yerr=errors_mos1,fmt='.',color='b')\n",
    "plt.errorbar(energies_mos2,rates_mos2,xerr=edeltas_mos2,yerr=errors_mos2,fmt='.',color='r')\n",
    "plt.errorbar(energies_r1o1,rates_r1o1,xerr=edeltas_r1o1,yerr=errors_r1o1,fmt='.',color='#0cf52c')\n",
    "plt.errorbar(energies_r1o2,rates_r1o2,xerr=edeltas_r1o2,yerr=errors_r1o2,fmt='.',color='#0cf5f1')\n",
    "plt.errorbar(energies_r2o1,rates_r2o1,xerr=edeltas_r2o1,yerr=errors_r2o1,fmt='.',color='#ce0cf5')\n",
    "plt.errorbar(energies_r2o2,rates_r2o2,xerr=edeltas_r2o2,yerr=errors_r2o2,fmt='.',color='k')\n",
    "\n",
    "plt.step(stepenergies_mos1,foldedmodel_mos1,where='post',color='b')\n",
    "plt.step(stepenergies_mos2,foldedmodel_mos2,where='post',color='r')\n",
    "plt.step(stepenergies_r1o1,foldedmodel_r1o1,where='post',color='#0cf52c')\n",
    "plt.step(stepenergies_r1o2,foldedmodel_r1o2,where='post',color='#0cf5f1')\n",
    "plt.step(stepenergies_r2o1,foldedmodel_r2o1,where='post',color='#ce0cf5')\n",
    "plt.step(stepenergies_r2o2,foldedmodel_r2o2,where='post',color='k')"
   ]
  },
  {
   "cell_type": "markdown",
   "id": "52c1e054-7a9b-4767-a6ad-fd0fe1d1feda",
   "metadata": {
    "editable": true,
    "slideshow": {
     "slide_type": ""
    },
    "tags": []
   },
   "source": [
    "This looks like a pretty decent fit! Let's zoom into the RGS data to see if we can see the absorption features being fit."
   ]
  },
  {
   "cell_type": "code",
   "execution_count": null,
   "id": "1ba67598-1271-4af2-95fe-3f5f47ed0a93",
   "metadata": {},
   "outputs": [],
   "source": [
    "plt.ylabel(dataLabels[1])\n",
    "plt.yscale('log')\n",
    "plt.xscale('log')\n",
    "plt.errorbar(energies_mos1,rates_mos1,xerr=edeltas_mos1,yerr=errors_mos1,fmt='.',color='b')\n",
    "plt.errorbar(energies_mos2,rates_mos2,xerr=edeltas_mos2,yerr=errors_mos2,fmt='.',color='r')\n",
    "plt.errorbar(energies_r1o1,rates_r1o1,xerr=edeltas_r1o1,yerr=errors_r1o1,fmt='.',color='#0cf52c')\n",
    "plt.errorbar(energies_r1o2,rates_r1o2,xerr=edeltas_r1o2,yerr=errors_r1o2,fmt='.',color='#0cf5f1')\n",
    "plt.errorbar(energies_r2o1,rates_r2o1,xerr=edeltas_r2o1,yerr=errors_r2o1,fmt='.',color='#ce0cf5')\n",
    "plt.errorbar(energies_r2o2,rates_r2o2,xerr=edeltas_r2o2,yerr=errors_r2o2,fmt='.',color='k')\n",
    "\n",
    "plt.step(stepenergies_mos1,foldedmodel_mos1,where='post',color='b')\n",
    "plt.step(stepenergies_mos2,foldedmodel_mos2,where='post',color='r')\n",
    "plt.step(stepenergies_r1o1,foldedmodel_r1o1,where='post',color='#0cf52c')\n",
    "plt.step(stepenergies_r1o2,foldedmodel_r1o2,where='post',color='#0cf5f1')\n",
    "plt.step(stepenergies_r2o1,foldedmodel_r2o1,where='post',color='#ce0cf5')\n",
    "plt.step(stepenergies_r2o2,foldedmodel_r2o2,where='post',color='k')\n",
    "\n",
    "plt.xlim(0.5, 2.0)"
   ]
  },
  {
   "cell_type": "code",
   "execution_count": null,
   "id": "bd0dfcfd-6551-4918-8bd4-2c468e3c63e3",
   "metadata": {},
   "outputs": [],
   "source": [
    "plt.ylabel(dataLabels[1])\n",
    "plt.yscale('log')\n",
    "plt.xscale('log')\n",
    "plt.errorbar(energies_mos1,rates_mos1,xerr=edeltas_mos1,yerr=errors_mos1,fmt='.',color='b')\n",
    "plt.errorbar(energies_mos2,rates_mos2,xerr=edeltas_mos2,yerr=errors_mos2,fmt='.',color='r')\n",
    "plt.errorbar(energies_r1o1,rates_r1o1,xerr=edeltas_r1o1,yerr=errors_r1o1,fmt='.',color='#0cf52c')\n",
    "plt.errorbar(energies_r1o2,rates_r1o2,xerr=edeltas_r1o2,yerr=errors_r1o2,fmt='.',color='#0cf5f1')\n",
    "plt.errorbar(energies_r2o1,rates_r2o1,xerr=edeltas_r2o1,yerr=errors_r2o1,fmt='.',color='#ce0cf5')\n",
    "plt.errorbar(energies_r2o2,rates_r2o2,xerr=edeltas_r2o2,yerr=errors_r2o2,fmt='.',color='k')\n",
    "\n",
    "plt.step(stepenergies_mos1,foldedmodel_mos1,where='post',color='b')\n",
    "plt.step(stepenergies_mos2,foldedmodel_mos2,where='post',color='r')\n",
    "plt.step(stepenergies_r1o1,foldedmodel_r1o1,where='post',color='#0cf52c')\n",
    "plt.step(stepenergies_r1o2,foldedmodel_r1o2,where='post',color='#0cf5f1')\n",
    "plt.step(stepenergies_r2o1,foldedmodel_r2o1,where='post',color='#ce0cf5')\n",
    "plt.step(stepenergies_r2o2,foldedmodel_r2o2,where='post',color='k')\n",
    "\n",
    "plt.xlim(0.5, 0.6)"
   ]
  },
  {
   "cell_type": "markdown",
   "id": "fc724fc3-f601-4303-b659-ec5f767136a9",
   "metadata": {},
   "source": [
    "As you can see, we still have a good fit to the continuum, but now this slightly more complex model is providing a better fit to the finer absorption features. You can now further explore improving the fit with additional models, or more physically robust models."
   ]
  }
 ],
 "metadata": {
  "kernelspec": {
   "display_name": "sas",
   "language": "python",
   "name": "sas"
  },
  "language_info": {
   "codemirror_mode": {
    "name": "ipython",
    "version": 3
   },
   "file_extension": ".py",
   "mimetype": "text/x-python",
   "name": "python",
   "nbconvert_exporter": "python",
   "pygments_lexer": "ipython3",
   "version": "3.12.11"
  }
 },
 "nbformat": 4,
 "nbformat_minor": 5
}
