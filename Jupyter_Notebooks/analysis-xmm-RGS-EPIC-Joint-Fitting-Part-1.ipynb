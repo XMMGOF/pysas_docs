{
 "cells": [
  {
   "cell_type": "markdown",
   "id": "3b9a2937-8a87-47ab-aee5-0e40522cee2c",
   "metadata": {
    "editable": true,
    "slideshow": {
     "slide_type": ""
    },
    "tags": []
   },
   "source": [
    "# ABC Guide for XMM-Newton -- RGS+EPIC Joint Spectral Fitting Part 1: Data Processing\n",
    "<hr style=\"border: 2px solid #fadbac\" />\n",
    "\n",
    "- **Description:** XMM-Newton - Spectral Fitting Introduction\n",
    "- **Level:** Advanced\n",
    "- **Data:** XMM observation of Mkn 509 (obsid=0601390201)\n",
    "- **Requirements:** Must be run using pySAS version 2.2.2 or higher.\n",
    "- **Credit:** Jenna Cann (March 2025)\n",
    "- **Support:** <a href=\"https://heasarc.gsfc.nasa.gov/docs/xmm/xmm_helpdesk.html\">XMM Newton GOF Helpdesk</a>\n",
    "- **Last verified to run:** 17 October 2025, for SAS v22.1 and pySAS v2.2.2\n",
    "\n",
    "<hr style=\"border: 2px solid #fadbac\" />"
   ]
  },
  {
   "cell_type": "markdown",
   "id": "95220aeb-e7d6-43ba-9f8f-a83b7f62ccb2",
   "metadata": {
    "editable": true,
    "slideshow": {
     "slide_type": ""
    },
    "tags": []
   },
   "source": [
    "## 1. Introduction\n",
    "This tutorial was created to guide XMM users through \n",
    "an example analysis of RGS and EPIC spectra. This is Part 1, where we will reduce and prepare the data for analysis in Part 2. \n",
    "#### Expected Outcome\n",
    "The ability to fit RGS and EPIC spectra\n",
    "#### SAS Tasks to be Used\n",
    "\n",
    "- `rgsproc`[(Documentation for epproc)](https://xmm-tools.cosmos.esa.int/external/sas/current/doc/rgsproc/index.html \"rgsproc Documentation\")\n",
    "- `evselect`[(Documentation for evselect)](https://xmm-tools.cosmos.esa.int/external/sas/current/doc/evselect/index.html)\n",
    "- `tabgtigen`[(Documentation for tabgtigen)](https://xmm-tools.cosmos.esa.int/external/sas/current/doc/tabgtigen/index.html)\n",
    "- `gtibuild`[(Documentation for gtibuild)](https://xmm-tools.cosmos.esa.int/external/sas/current/doc/gtibuild/index.html)\n",
    "\n",
    "#### Useful Links\n",
    "\n",
    "- [`pysas` Documentation](https://xmm-tools.cosmos.esa.int/external/sas/current/doc/pysas/index.html \"pysas Documentation\")\n",
    "- [`pysas` on GitHub](https://github.com/XMMGOF/pysas)\n",
    "- [Common SAS Threads](https://www.cosmos.esa.int/web/xmm-newton/sas-threads \"SAS Threads\")\n",
    "- [Users' Guide to the XMM-Newton Science Analysis System (SAS)](https://xmm-tools.cosmos.esa.int/external/xmm_user_support/documentation/sas_usg/USG/SASUSG.html \"Users' Guide\")\n",
    "- [The XMM-Newton ABC Guide](https://heasarc.gsfc.nasa.gov/docs/xmm/abc/ \"ABC Guide\")\n",
    "- [XMM Newton GOF Helpdesk](https://heasarc.gsfc.nasa.gov/docs/xmm/xmm_helpdesk.html \"Helpdesk\") - Link to form to contact the GOF Helpdesk.\n",
    "\n",
    "#### Caveats\n",
    "This tutorial uses an observation of Mkn 509 (obsid = '0601390201').\n",
    "\n",
    "<div class=\"alert alert-block alert-warning\">\n",
    "    <b>Warning:</b> By default this notebook will place observation data files in your default <tt>data_dir</tt> directory. Make sure pySAS has been configured properly.\n",
    "</div>"
   ]
  },
  {
   "cell_type": "code",
   "execution_count": null,
   "id": "c36c8366-38cb-4a4f-ad8c-75937fe0484a",
   "metadata": {
    "editable": true,
    "slideshow": {
     "slide_type": ""
    },
    "tags": []
   },
   "outputs": [],
   "source": [
    "# pySAS imports\n",
    "import pysas\n",
    "from pysas import MyTask\n",
    "\n",
    "import xspec\n",
    "\n",
    "# Useful imports\n",
    "import os\n",
    "import subprocess\n",
    "\n",
    "# Imports for plotting\n",
    "import matplotlib.pyplot as plt\n",
    "from astropy.visualization import astropy_mpl_style\n",
    "from astropy.io import fits\n",
    "from astropy.wcs import WCS\n",
    "from astropy.table import Table\n",
    "plt.style.use(astropy_mpl_style)\n",
    "\n",
    "# To handle certain warnings\n",
    "import warnings\n",
    "warnings.filterwarnings(\"ignore\")"
   ]
  },
  {
   "cell_type": "markdown",
   "id": "4a8b6683-eb97-4ed6-8530-41712367eebb",
   "metadata": {
    "editable": true,
    "slideshow": {
     "slide_type": ""
    },
    "tags": []
   },
   "source": [
    "## 2. Rerun basic processing"
   ]
  },
  {
   "cell_type": "code",
   "execution_count": null,
   "id": "3b52b56f-e3a3-4109-ab96-426130531578",
   "metadata": {
    "editable": true,
    "scrolled": true,
    "slideshow": {
     "slide_type": ""
    },
    "tags": []
   },
   "outputs": [],
   "source": [
    "obsid = '0601390201'\n",
    "\n",
    "my_obs = pysas.ObsID(obsid)"
   ]
  },
  {
   "cell_type": "markdown",
   "id": "c8e45876-d6cb-4f7a-9975-6f1dbeb42e15",
   "metadata": {},
   "source": [
    "We start by reprocessing the data. As we will be jointly fitting the MOS and RGS data, we will set run_emproc and run_rgsproc to 'True' and run_epproc to 'False'."
   ]
  },
  {
   "cell_type": "markdown",
   "id": "66fd5c57-eb12-4fe7-8387-e25d73988b70",
   "metadata": {},
   "source": [
    "<div class=\"alert alert-block alert-info\">\n",
    "    <b>Note:</b> Running rgsproc on this particular obsid will take A LONG TIME, depending on your machine. Be prepared to wait.\n",
    "</div>"
   ]
  },
  {
   "cell_type": "code",
   "execution_count": null,
   "id": "811d3e8c-7b88-4aee-b20b-9fb2ba784f96",
   "metadata": {
    "editable": true,
    "scrolled": true,
    "slideshow": {
     "slide_type": ""
    },
    "tags": []
   },
   "outputs": [],
   "source": [
    "rgsproc_args = [\"orders='1 2'\",\n",
    "                'bkgcorrect=no',\n",
    "                'withmlambdacolumn=yes',\n",
    "                'spectrumbinning=lambda']\n",
    "\n",
    "my_obs.basic_setup(overwrite=False,rerun=False,\n",
    "                   run_epproc=True,run_emproc=True,\n",
    "                   run_rgsproc=True,rgsproc_args=rgsproc_args)"
   ]
  },
  {
   "cell_type": "markdown",
   "id": "5982411c-5d03-48d4-adb5-9e88800a9330",
   "metadata": {
    "editable": true,
    "slideshow": {
     "slide_type": ""
    },
    "tags": []
   },
   "source": [
    "As we are processing both RGS and EPIC data, the above task will take several minutes. We will also follow the standard process for filtering EPIC data and extracting spectra from chapter 6 of the ABC guide."
   ]
  },
  {
   "cell_type": "code",
   "execution_count": null,
   "id": "c8af413c-cbe5-4e2c-908e-f56328d9927d",
   "metadata": {
    "editable": true,
    "slideshow": {
     "slide_type": ""
    },
    "tags": []
   },
   "outputs": [],
   "source": [
    "mos1 = my_obs.files['M1evt_list'][0]\n",
    "mos2 = my_obs.files['M2evt_list'][0]\n",
    "pn = my_obs.files['PNevt_list'][0]\n",
    "\n",
    "print(mos1)\n",
    "print(mos2)\n",
    "print(pn)"
   ]
  },
  {
   "cell_type": "code",
   "execution_count": null,
   "id": "3416596c-289c-4365-9f00-a5d1872c6ec0",
   "metadata": {
    "scrolled": true
   },
   "outputs": [],
   "source": [
    "filtered_event_list_mos1 = 'mos1_filt1.fits'\n",
    "filtered_event_list_mos2 = 'mos2_filt1.fits'\n",
    "filtered_event_list_pn = 'pn_filt1.fits'\n",
    "\n",
    "inargs = ['table={0}'.format(mos1), \n",
    "          'withfilteredset=yes', \n",
    "          \"expression='(PATTERN <= 12)&&(PI in [200:12000])&&#XMMEA_EM'\", \n",
    "          'filteredset={0}'.format(filtered_event_list_mos1), \n",
    "          'filtertype=expression', \n",
    "          'keepfilteroutput=yes', \n",
    "          'updateexposure=yes', \n",
    "          'filterexposure=yes']\n",
    "\n",
    "MyTask('evselect', inargs).run()\n",
    "\n",
    "inargs = ['table={0}'.format(mos2), \n",
    "          'withfilteredset=yes', \n",
    "          \"expression='(PATTERN <= 12)&&(PI in [200:12000])&&#XMMEA_EM'\", \n",
    "          'filteredset={0}'.format(filtered_event_list_mos2), \n",
    "          'filtertype=expression', \n",
    "          'keepfilteroutput=yes', \n",
    "          'updateexposure=yes', \n",
    "          'filterexposure=yes']\n",
    "\n",
    "MyTask('evselect', inargs).run()\n",
    "\n",
    "inargs = ['table={0}'.format(pn), \n",
    "          'withfilteredset=yes', \n",
    "          \"expression='(PATTERN <= 4)&&(PI in [200:15000])&&#XMMEA_EP'\", \n",
    "          'filteredset={0}'.format(filtered_event_list_pn), \n",
    "          'filtertype=expression', \n",
    "          'keepfilteroutput=yes', \n",
    "          'updateexposure=yes', \n",
    "          'filterexposure=yes']\n",
    "\n",
    "MyTask('evselect', inargs).run()"
   ]
  },
  {
   "cell_type": "markdown",
   "id": "6faa467f-2c12-4be6-8301-ee045ac54bc8",
   "metadata": {},
   "source": [
    "Function for generating light curves."
   ]
  },
  {
   "cell_type": "code",
   "execution_count": null,
   "id": "2034e8a2-84e4-4ef5-8e0e-5f49a6876023",
   "metadata": {
    "editable": true,
    "slideshow": {
     "slide_type": ""
    },
    "tags": []
   },
   "outputs": [],
   "source": [
    "def plot_light_curve(event_list_file, filtered_event_list, light_curve_file, ccd):\n",
    "    \n",
    "    inargs = ['table={0}'.format(event_list_file), \n",
    "              'withfilteredset=yes', \n",
    "              \"expression='(PATTERN == 0)&&(PI in [10000:12000])&&#XMMEA_{:s}'\".format(ccd), \n",
    "              'filteredset={0}'.format(filtered_event_list), \n",
    "              'filtertype=expression', \n",
    "              'keepfilteroutput=yes', \n",
    "              'updateexposure=yes', \n",
    "              'filterexposure=yes']\n",
    "\n",
    "    MyTask('evselect', inargs).run()\n",
    "\n",
    "    inargs = ['table={0}'.format(filtered_event_list), \n",
    "              'withrateset=yes', \n",
    "              'rateset={0}'.format(light_curve_file), \n",
    "              'maketimecolumn=yes', \n",
    "              'timecolumn=TIME', \n",
    "              'timebinsize=100', \n",
    "              'makeratecolumn=yes']\n",
    "\n",
    "    MyTask('evselect', inargs).run()\n",
    "\n",
    "    ts = Table.read(light_curve_file,hdu=1)\n",
    "    plt.plot(ts['TIME'],ts['RATE'])\n",
    "    plt.xlabel('Time (s)')\n",
    "    plt.ylabel('Count Rate (ct/s)')\n",
    "    plt.show()"
   ]
  },
  {
   "cell_type": "markdown",
   "id": "f4b30cd8-09f0-40fc-9757-d7d860664bd7",
   "metadata": {},
   "source": [
    "This particular observation is not contaminated with flaring, but as best practice we check the light curves to confirm that everything looks good. The light curves for a constant source like the one we are analyzing should remain fairly constant (with some noise of course). For your own sources you should of course check the light curves to check for contamination from flaring."
   ]
  },
  {
   "cell_type": "code",
   "execution_count": null,
   "id": "dac3499b-957d-4be4-b27d-925ea7512638",
   "metadata": {
    "scrolled": true
   },
   "outputs": [],
   "source": [
    "light_curve_file_mos1='mos1_ltcrv.fits'\n",
    "filtered_gtr10_mos1 = 'mos1_gtr10.fits'\n",
    "plot_light_curve(filtered_event_list_mos1, filtered_gtr10_mos1, light_curve_file_mos1, 'EM')\n",
    "\n",
    "light_curve_file_mos2='mos2_ltcrv.fits'\n",
    "filtered_gtr10_mos2 = 'mos2_gtr10.fits'\n",
    "plot_light_curve(filtered_event_list_mos2, filtered_gtr10_mos2, light_curve_file_mos2, 'EM')\n",
    "\n",
    "light_curve_file_pn='pn_ltcrv.fits'\n",
    "filtered_gtr10_pn = 'pn_gtr10.fits'\n",
    "plot_light_curve(filtered_event_list_pn, filtered_gtr10_pn, light_curve_file_pn, 'EP')"
   ]
  },
  {
   "cell_type": "code",
   "execution_count": null,
   "id": "4f21bc28-b714-4156-9b96-93a984cbcd2e",
   "metadata": {},
   "outputs": [],
   "source": [
    "def make_spectrum(filtered_event_list, filtered_source, filtered_bkg, source_spectrum_file, bkg_spectrum_file, source_coords, bkg_coords, specchannelmax):\n",
    "\n",
    "    inargs = {}\n",
    "    inargs = {'table'           : filtered_event_list,\n",
    "              'energycolumn'    : 'PI',\n",
    "              'withfilteredset' : 'yes',\n",
    "              'filteredset'     : filtered_source,\n",
    "              'keepfilteroutput': 'yes',\n",
    "              'filtertype'      : 'expression',\n",
    "              'expression'      : \"'((X,Y) in {:s})'\".format(source_coords),\n",
    "              'withspectrumset' : 'yes',\n",
    "              'spectrumset'     : source_spectrum_file,\n",
    "              'spectralbinsize' : '5',\n",
    "              'withspecranges'  : 'yes',\n",
    "              'specchannelmin'  : '0',\n",
    "              'specchannelmax'  : '{:s}'.format(specchannelmax)}\n",
    "\n",
    "    MyTask('evselect', inargs).run()\n",
    "\n",
    "    inargs = {}\n",
    "    inargs = {'table'           : filtered_event_list,\n",
    "              'energycolumn'    : 'PI',\n",
    "              'withfilteredset' : 'yes',\n",
    "              'filteredset'     : filtered_bkg,\n",
    "              'keepfilteroutput': 'yes',\n",
    "              'filtertype'      : 'expression',\n",
    "              'expression'      : \"'((X,Y) in {:s})'\".format(bkg_coords),\n",
    "              'withspectrumset' : 'yes',\n",
    "              'spectrumset'     : bkg_spectrum_file,\n",
    "              'spectralbinsize' : '5',\n",
    "              'withspecranges'  : 'yes',\n",
    "              'specchannelmin'  : '0',\n",
    "              'specchannelmax'  : '{:s}'.format(specchannelmax)}\n",
    "\n",
    "    MyTask('evselect', inargs).run()\n",
    "    \n",
    "    return source_spectrum_file, bkg_spectrum_file"
   ]
  },
  {
   "cell_type": "markdown",
   "id": "d58234a0-d608-4fcd-82a1-84fb77a18e86",
   "metadata": {},
   "source": [
    "Let's use the `quick_eplot` command to identify our ideal source and background regions."
   ]
  },
  {
   "cell_type": "code",
   "execution_count": null,
   "id": "778b35d9-c2f0-4d35-b80e-723bf5eeb5c0",
   "metadata": {},
   "outputs": [],
   "source": [
    "my_obs.quick_eplot(mos1)"
   ]
  },
  {
   "cell_type": "markdown",
   "id": "79f85f0b-453c-4d3c-9c4b-8f2000cb1480",
   "metadata": {},
   "source": [
    "As there is limited area to extract a background spectrum in the pn image, we will focus on the spectra from the MOS1 and MOS2 images."
   ]
  },
  {
   "cell_type": "code",
   "execution_count": null,
   "id": "e74715b2-38db-4a74-bc13-0a2025372073",
   "metadata": {
    "scrolled": true
   },
   "outputs": [],
   "source": [
    "filtered_source_mos1 = 'mos1_filt.fits'\n",
    "filtered_bkg_mos1 = 'bkg_mos1_filt.fits'\n",
    "source_spectrum_file_mos1 = 'mos1_pi.fits'\n",
    "bkg_spectrum_file_mos1 = 'mos1_bkg_pi.fits'\n",
    "source_coords_mos1 = 'CIRCLE(27623.01,26927.01,1033.12)'\n",
    "bkg_coords_mos1 = 'CIRCLE(18052.94,35540.01,2697.07)'\n",
    "specchannelmax_mos1 = '11999'\n",
    "\n",
    "make_spectrum(filtered_event_list_mos1, filtered_source_mos1, \n",
    "              filtered_bkg_mos1, source_spectrum_file_mos1, \n",
    "              bkg_spectrum_file_mos1, source_coords_mos1, \n",
    "              bkg_coords_mos1, specchannelmax_mos1)\n",
    "\n",
    "filtered_source_mos2 = 'mos2_filt.fits'\n",
    "filtered_bkg_mos2 = 'bkg_mos2_filt.fits'\n",
    "source_spectrum_file_mos2 = 'mos2_pi.fits'\n",
    "bkg_spectrum_file_mos2 = 'mos2_bkg_pi.fits'\n",
    "source_coords_mos2 = 'CIRCLE(27492.51,27144.51,1033.12)'\n",
    "bkg_coords_mos2 = 'CIRCLE(14355.38,28101.50,2697.07)'\n",
    "specchannelmax_mos2 = '11999'\n",
    "\n",
    "make_spectrum(filtered_event_list_mos2, filtered_source_mos2, \n",
    "              filtered_bkg_mos2, source_spectrum_file_mos2, \n",
    "              bkg_spectrum_file_mos2, source_coords_mos2, \n",
    "              bkg_coords_mos2, specchannelmax_mos2)"
   ]
  },
  {
   "cell_type": "code",
   "execution_count": null,
   "id": "16eafa35-c2d2-42b4-a745-98d05dbcb322",
   "metadata": {},
   "outputs": [],
   "source": [
    "def make_rmf_arf(rmf,arf,source_spectrum_file,event_file):\n",
    "    \n",
    "    inargs = {'rmfset'      : rmf,\n",
    "              'spectrumset' : source_spectrum_file}\n",
    "\n",
    "    MyTask('rmfgen', inargs).run()\n",
    "\n",
    "    inargs = {}\n",
    "    inargs = {'arfset'         : arf,\n",
    "              'spectrumset'    : source_spectrum_file,\n",
    "              'withrmfset'     : 'yes',\n",
    "              'rmfset'         : rmf,\n",
    "              'withbadpixcorr' : 'yes',\n",
    "              'badpixlocation' : event_file,\n",
    "              'setbackscale'   : 'yes'}\n",
    "\n",
    "    MyTask('arfgen', inargs).run()\n",
    "    \n",
    "    return rmf, arf"
   ]
  },
  {
   "cell_type": "markdown",
   "id": "6282dfbb-0fb8-46e2-bed5-7d714b6e85a6",
   "metadata": {},
   "source": [
    "<div class=\"alert alert-block alert-info\">\n",
    "    <b>Note:</b> The next cell may take several minutes to run.\n",
    "</div>"
   ]
  },
  {
   "cell_type": "code",
   "execution_count": null,
   "id": "e48335c5-fcf9-40e3-874e-d5ef69307c8b",
   "metadata": {
    "scrolled": true
   },
   "outputs": [],
   "source": [
    "mos1_rmf = 'mos1.rmf'\n",
    "mos1_arf = 'mos1.arf'\n",
    "mos2_rmf = 'mos2.rmf'\n",
    "mos2_arf = 'mos2.arf'\n",
    "\n",
    "make_rmf_arf(mos1_rmf, mos1_arf,source_spectrum_file_mos1,filtered_event_list_mos1)\n",
    "make_rmf_arf(mos2_rmf, mos2_arf,source_spectrum_file_mos2,filtered_event_list_mos2)"
   ]
  },
  {
   "cell_type": "code",
   "execution_count": null,
   "id": "c0d133f9-eb83-4145-8dd1-d1f722edc9dd",
   "metadata": {
    "scrolled": true
   },
   "outputs": [],
   "source": [
    "sou_mos1_grp = 'mos1_grp25.fits'\n",
    "sou_mos2_grp = 'mos2_grp25.fits'\n",
    "\n",
    "inargs = {}\n",
    "inargs = {'spectrumset' : source_spectrum_file_mos1,\n",
    "          'groupedset'  : sou_mos1_grp,\n",
    "          'arfset'      : mos1_arf,\n",
    "          'rmfset'      : mos1_rmf,\n",
    "          'backgndset'  : bkg_spectrum_file_mos1,\n",
    "          'mincounts'   : '25',\n",
    "          'oversample'  : '3'}\n",
    "\n",
    "MyTask('specgroup', inargs).run()\n",
    "\n",
    "inargs = {}\n",
    "inargs = {'spectrumset' : source_spectrum_file_mos2,\n",
    "          'groupedset'  : sou_mos2_grp,\n",
    "          'arfset'      : mos2_arf,\n",
    "          'rmfset'      : mos2_rmf,\n",
    "          'backgndset'  : bkg_spectrum_file_mos2,\n",
    "          'mincounts'   : '25',\n",
    "          'oversample'  : '3'}\n",
    "\n",
    "MyTask('specgroup', inargs).run()"
   ]
  },
  {
   "cell_type": "markdown",
   "id": "5dc559a7-b679-4ada-ac09-a6982b679e57",
   "metadata": {},
   "source": [
    "Now we have processed the relevant data and are ready to move forward with Part 2."
   ]
  }
 ],
 "metadata": {
  "kernelspec": {
   "display_name": "sas",
   "language": "python",
   "name": "sas"
  },
  "language_info": {
   "codemirror_mode": {
    "name": "ipython",
    "version": 3
   },
   "file_extension": ".py",
   "mimetype": "text/x-python",
   "name": "python",
   "nbconvert_exporter": "python",
   "pygments_lexer": "ipython3",
   "version": "3.12.11"
  }
 },
 "nbformat": 4,
 "nbformat_minor": 5
}
