{
 "cells": [
  {
   "cell_type": "markdown",
   "id": "9a6a1d02",
   "metadata": {},
   "source": [
    "# How to reprocess ODFs to generate calibrated and concatenated EPIC event lists\n",
    "<hr style=\"border: 2px solid #fadbac\" />\n",
    "\n",
    "- **Description:** A guide for processing data from all EPIC cameras on XMM.\n",
    "- **Level:** Beginner\n",
    "- **Data:** XMM observation of RX J122135.6+280613 (obsid=0104860501)\n",
    "- **Requirements:** Must be run using pySAS version 2.0.\n",
    "- **Credit:** Ryan Tanner (April 2024)\n",
    "- **Support:** <a href=\"https://heasarc.gsfc.nasa.gov/docs/xmm/xmm_helpdesk.html\">XMM Newton GOF Helpdesk</a>\n",
    "- **Last verified to run:** 22 July 2025, for SAS v22.1 and pySAS v2.0\n",
    "\n",
    "<hr style=\"border: 2px solid #fadbac\" />"
   ]
  },
  {
   "cell_type": "markdown",
   "id": "ed7483ac",
   "metadata": {},
   "source": [
    "## 1. Introduction\n",
    "This thread illustrates how to reprocess Observation Data Files (ODFs) to obtain calibrated and concatenated event lists.\n",
    "#### Expected Outcome\n",
    "The user will obtain calibrated and concatenated event lists which can be directly used to generate scientific products (images, spectra, light curves) through the SAS tasks [<tt>evselect</tt>](https://xmm-tools.cosmos.esa.int/external/sas/current/doc/evselect/index.html) or [<tt>xmmselect</tt>](https://xmm-tools.cosmos.esa.int/external/sas/current/doc/xmmselect/index.html).\n",
    "#### SAS Tasks to be Used\n",
    "\n",
    "- `emproc`[(Documentation for emproc)](https://xmm-tools.cosmos.esa.int/external/sas/current/doc/emproc/index.html \"emproc Documentation\")\n",
    "- `epproc`[(Documentation for epproc)](https://xmm-tools.cosmos.esa.int/external/sas/current/doc/epproc/index.html \"epproc Documentation\")\n",
    "\n",
    "#### Useful Links\n",
    "\n",
    "- [`pysas` Documentation](https://xmm-tools.cosmos.esa.int/external/sas/current/doc/pysas/index.html \"pysas Documentation\")\n",
    "- [`pysas` on GitHub](https://github.com/XMMGOF/pysas)\n",
    "- [Common SAS Threads](https://www.cosmos.esa.int/web/xmm-newton/sas-threads/ \"SAS Threads\")\n",
    "- [Users' Guide to the XMM-Newton Science Analysis System (SAS)](https://xmm-tools.cosmos.esa.int/external/xmm_user_support/documentation/sas_usg/USG/SASUSG.html \"Users' Guide\")\n",
    "- [The XMM-Newton ABC Guide](https://heasarc.gsfc.nasa.gov/docs/xmm/abc/ \"ABC Guide\")\n",
    "- [XMM Newton GOF Helpdesk](https://heasarc.gsfc.nasa.gov/docs/xmm/xmm_helpdesk.html \"Helpdesk\") - Link to form to contact the GOF Helpdesk.\n",
    "\n",
    "<div class=\"alert alert-block alert-warning\">\n",
    "    <b>Warning:</b> By default this notebook will place observation data files in your default <tt>data_dir</tt> directory. Make sure pySAS has been configured properly.\n",
    "</div>"
   ]
  },
  {
   "cell_type": "markdown",
   "id": "6c4865af",
   "metadata": {},
   "source": [
    "## 2. Procedure\n",
    "Run the EPIC reduction meta-tasks.\n",
    "\n",
    "    For EPIC-MOS:\n",
    "        emproc\n",
    "\n",
    "    and for EPIC-pn:\n",
    "        epproc\n",
    "\n",
    "That's it! The default values of these meta-tasks are appropriate for most practical cases. You may have a look at the next section in this thread to learn how to perform specific reduction sub-tasks using [emproc](https://xmm-tools.cosmos.esa.int/external/sas/current/doc/emproc/index.html) or [epproc](https://xmm-tools.cosmos.esa.int/external/sas/current/doc/epproc/index.html).\n",
    "\n",
    "The files produced by [epproc](https://xmm-tools.cosmos.esa.int/external/sas/current/doc/epproc/index.html) are the following:\n",
    "\n",
    " - `????_??????????_AttHk.ds`, the reconstructed attitude file\n",
    " - `????_??????????_EPN_????_01_Badpixels.ds`, one table per reduced CCD containing the bad pixels\n",
    " - `????_??????????_EPN_????_ImagingEvts.ds`, the calibrated and concatenated event list, which shall be used as an input to extract scientific products via [evselect](https://xmm-tools.cosmos.esa.int/external/sas/current/doc/evselect/index.html) or [xmmselect](https://xmm-tools.cosmos.esa.int/external/sas/current/doc/xmmselect/index.html).\n",
    "    \n",
    "The files produced by [emproc](https://xmm-tools.cosmos.esa.int/external/sas/current/doc/emproc/index.html) are conceptually the same. The main difference in the naming convention is that the string `EPN` is replaced by `EMOS1` and `EMOS2` for each EPIC-MOS camera, respectively.\n",
    "___"
   ]
  },
  {
   "cell_type": "code",
   "execution_count": null,
   "id": "bef6a75e",
   "metadata": {},
   "outputs": [],
   "source": [
    "# pySAS imports\n",
    "import pysas\n",
    "from pysas.sastask import MyTask\n",
    "\n",
    "# Useful imports\n",
    "import os\n",
    "\n",
    "# Imports for plotting\n",
    "import matplotlib.pyplot as plt\n",
    "from astropy.visualization import astropy_mpl_style\n",
    "from astropy.io import fits\n",
    "from astropy.wcs import WCS\n",
    "from astropy.table import Table\n",
    "plt.style.use(astropy_mpl_style)\n",
    "\n",
    "# To handle certain warnings\n",
    "import warnings\n",
    "warnings.filterwarnings(\"ignore\")"
   ]
  },
  {
   "cell_type": "code",
   "execution_count": null,
   "id": "990af3ad",
   "metadata": {
    "scrolled": true
   },
   "outputs": [],
   "source": [
    "obsid = '0104860501'\n",
    "\n",
    "my_obs = pysas.obsid.ObsID(obsid)\n",
    "my_obs.basic_setup(overwrite=False,repo='heasarc',\n",
    "                   rerun=False,run_rgsproc=False,\n",
    "                   epproc_args={'options':'-V 1'},emproc_args={'options':'-V 1'})"
   ]
  },
  {
   "cell_type": "markdown",
   "id": "fcfc6b2d",
   "metadata": {},
   "source": [
    "The `my_obs` object contains a dictionary with the path and filename for important output files created by `basic_setup`."
   ]
  },
  {
   "cell_type": "code",
   "execution_count": null,
   "id": "fc070c1f",
   "metadata": {
    "scrolled": true
   },
   "outputs": [],
   "source": [
    "file_keys = list(my_obs.files.keys())\n",
    "print(file_keys,'\\n')\n",
    "for key in file_keys:\n",
    "    if key == 'ODF':\n",
    "        # Skip the list of ODF files, because it is LONG\n",
    "        continue\n",
    "    print(f'File Type: {key}')\n",
    "    print('>>> {0}'.format(my_obs.files[key]),'\\n')"
   ]
  },
  {
   "cell_type": "markdown",
   "id": "b8254b07",
   "metadata": {},
   "source": [
    "## 3. Visualize the contents of the event files just created"
   ]
  },
  {
   "cell_type": "markdown",
   "id": "695713f1",
   "metadata": {},
   "source": [
    "To visualize the output we will apply a simple filter to remove some background noise and then create a FITS image file from the event list from each detector (EPIC-pn, EPIC-MOS1, EPIC-MOS2). To filter the data we will define a function and the inputs are:\n",
    "\n",
    "- unfiltered_event_list: File name of the event list to be filtered.\n",
    "- mos: If using MOS1 or MOS2 set mos=True, if using the pn set mos=False\n",
    "- pattern: The number and pattern of the CCD pixels triggered for a given event, for MOS can be any number from 0 to 12, for pn can be any number from 0 to 4. Higher numbers look for more complex multiple pixel events to include them. \n",
    "- pi_min: Minimum energy in eV\n",
    "- pi_max: Maximum energy in eV\n",
    "- flag: The FLAG value provides a bit encoding of various event conditions, e.g., near hot pixels or outside of the field of view. Setting FLAG == 0 in the selection expression provides the most conservative screening criteria and should always be used when serious spectral analysis is to be done on the PN. It typically is not necessary for the MOS.\n",
    "- filtered_event_list: File name of the output file, or filtered event list."
   ]
  },
  {
   "cell_type": "code",
   "execution_count": null,
   "id": "a280d9ef",
   "metadata": {},
   "outputs": [],
   "source": [
    "def apply_simple_filter(unfiltered_event_list,mos=True,pattern=12,\n",
    "                          pi_min=200,pi_max=12000,flag=None,\n",
    "                          filtered_event_list='filtered_event_list.fits'):\n",
    "    \n",
    "    if flag is None:\n",
    "        if mos:\n",
    "            flag = '#XMMEA_EM'\n",
    "        else:\n",
    "            flag = '#XMMEA_EP'\n",
    "    else:\n",
    "        flag = '(FLAG == {0})'.format(flag)\n",
    "    \n",
    "    # \"Standard\" Filter\n",
    "    expression = \"expression='(PATTERN <= {pattern})&&(PI in [{pi_min}:{pi_max}])&&{flag}'\".format(pattern=pattern,pi_min=pi_min,pi_max=pi_max,flag=flag)\n",
    "    \n",
    "    inargs = ['table={0}'.format(unfiltered_event_list), \n",
    "              'withfilteredset=yes', \n",
    "              expression, \n",
    "              'filteredset={0}'.format(filtered_event_list), \n",
    "              'filtertype=expression', \n",
    "              'keepfilteroutput=yes', \n",
    "              'updateexposure=yes', \n",
    "              'filterexposure=yes']\n",
    "    \n",
    "    MyTask('evselect', inargs, output_to_terminal = False).run()"
   ]
  },
  {
   "cell_type": "markdown",
   "id": "8a570b5f",
   "metadata": {},
   "source": [
    "For plotting we will use a built in function called `quick_eplot` that is part of the `ObsID` object. The equivelent function code is shown below:\n",
    "```python\n",
    "def make_fits_image(event_list_file, image_file='image.fits'):\n",
    "    \n",
    "    inargs = ['table={0}'.format(event_list_file), \n",
    "              'withimageset=yes',\n",
    "              'imageset={0}'.format(image_file), \n",
    "              'xcolumn=X', \n",
    "              'ycolumn=Y', \n",
    "              'imagebinning=imageSize', \n",
    "              'ximagesize=600', \n",
    "              'yimagesize=600']\n",
    "\n",
    "    MyTask('evselect', inargs).run()\n",
    "\n",
    "    hdu = fits.open(image_file)[0]\n",
    "    wcs = WCS(hdu.header)\n",
    "\n",
    "    ax = plt.subplot(projection=wcs)\n",
    "    plt.imshow(hdu.data, origin='lower', norm='log', vmin=1.0, vmax=1e2)\n",
    "    ax.set_facecolor(\"black\")\n",
    "    plt.grid(color='blue', ls='solid')\n",
    "    plt.xlabel('RA')\n",
    "    plt.ylabel('Dec')\n",
    "    plt.colorbar()\n",
    "    plt.show()\n",
    "```"
   ]
  },
  {
   "cell_type": "markdown",
   "id": "6c171ebb",
   "metadata": {},
   "source": [
    "In the cell below we will range over all event lists from the three EPIC instruments (EPIC-pn, EPIC-MOS1, EPIC-MOS2). An image file will be created from each event list and a plot will be made."
   ]
  },
  {
   "cell_type": "code",
   "execution_count": null,
   "id": "31dea87e",
   "metadata": {},
   "outputs": [],
   "source": [
    "# For display purposes only, define a minimum filtering criteria for EPIC-pn\n",
    "\n",
    "pn_pattern   = 4        # pattern selection\n",
    "pn_pi_min    = 300.     # Low energy range eV\n",
    "pn_pi_max    = 12000.   # High energy range eV\n",
    "pn_flag      = 0        # FLAG\n",
    "\n",
    "# For display purposes only, define a minimum filtering criteria for EPIC-MOS\n",
    "\n",
    "mos_pattern   = 12      # pattern selection\n",
    "mos_pi_min    = 300.    # Low energy range eV\n",
    "mos_pi_max    = 20000.  # High energy range eV\n",
    "mos_flag      = None    # FLAG\n",
    "\n",
    "os.chdir(my_obs.work_dir)\n",
    "\n",
    "pnevt_list = my_obs.files['PNevt_list']\n",
    "m1evt_list = my_obs.files['M1evt_list']\n",
    "m2evt_list = my_obs.files['M2evt_list']\n",
    "\n",
    "# Filter pn and make FITS image file\n",
    "if len(pnevt_list) > 0:\n",
    "    for i,event_list in enumerate(pnevt_list):\n",
    "        filtered_event_list='pn_event_list{0}.fits'.format(i)\n",
    "        image_file='pn_image{0}.fits'.format(i)\n",
    "        apply_simple_filter(event_list,\n",
    "                            flag=pn_flag,\n",
    "                            pattern=pn_pattern,\n",
    "                            pi_min=pn_pi_min,\n",
    "                            pi_max=pn_pi_max,\n",
    "                            filtered_event_list=filtered_event_list)\n",
    "        \n",
    "        my_obs.quick_eplot(filtered_event_list, image_file=image_file)\n",
    "\n",
    "# Filter mos1 and make FITS image file\n",
    "if len(m1evt_list) > 0:\n",
    "    for event_list in m1evt_list:\n",
    "        filtered_event_list='mos1_event_list{0}.fits'.format(i)\n",
    "        image_file='mos1_image{0}.fits'.format(i)\n",
    "        apply_simple_filter(event_list,\n",
    "                            mos=True,\n",
    "                            pattern=mos_pattern,\n",
    "                            pi_min=mos_pi_min,\n",
    "                            pi_max=mos_pi_max,\n",
    "                            filtered_event_list=filtered_event_list)\n",
    "\n",
    "        my_obs.quick_eplot(filtered_event_list, image_file=image_file)\n",
    "\n",
    "# Filter mos2 and make FITS image file\n",
    "if len(m2evt_list) > 0:\n",
    "    for event_list in m2evt_list:\n",
    "        filtered_event_list='mos2_event_list{0}.fits'.format(i)\n",
    "        image_file='mos2_image{0}.fits'.format(i)\n",
    "        apply_simple_filter(event_list,\n",
    "                            mos=True,\n",
    "                            pattern=mos_pattern,\n",
    "                            pi_min=mos_pi_min,\n",
    "                            pi_max=mos_pi_max,\n",
    "                            filtered_event_list=filtered_event_list)\n",
    "\n",
    "        my_obs.quick_eplot(filtered_event_list, image_file=image_file)"
   ]
  }
 ],
 "metadata": {
  "kernelspec": {
   "display_name": "Python 3 (ipykernel)",
   "language": "python",
   "name": "python3"
  },
  "language_info": {
   "codemirror_mode": {
    "name": "ipython",
    "version": 3
   },
   "file_extension": ".py",
   "mimetype": "text/x-python",
   "name": "python",
   "nbconvert_exporter": "python",
   "pygments_lexer": "ipython3",
   "version": "3.10.12"
  }
 },
 "nbformat": 4,
 "nbformat_minor": 5
}
