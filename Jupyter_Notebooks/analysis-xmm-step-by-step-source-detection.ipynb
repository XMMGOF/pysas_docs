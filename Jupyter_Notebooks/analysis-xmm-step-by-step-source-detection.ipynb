{
 "cells": [
  {
   "cell_type": "markdown",
   "id": "41197847-3613-48d6-84d6-6a228b484e8c",
   "metadata": {},
   "source": [
    "# EPIC Source Finding Thread: Step by Step\n",
    "<hr style=\"border: 2px solid #fadbac\" />\n",
    "\n",
    "- **Description:** A step-by-step recipe to run the source detection chain (`edetect_chain`) in SAS.\n",
    "- **Level:** Intermediate\n",
    "- **Data:** XMM observation of the Lockman Hole (obsid=0123700101)\n",
    "- **Requirements:** Must be run using pySAS version 2.2.2 or higher.\n",
    "- **Credit:** Ryan Tanner (August 2025)\n",
    "- **Support:** <a href=\"https://heasarc.gsfc.nasa.gov/docs/xmm/xmm_helpdesk.html\">XMM Newton GOF Helpdesk</a>\n",
    "- **Last verified to run:** 17 October 2025, for SAS v22.1 and pySAS v2.2.2\n",
    "\n",
    "<hr style=\"border: 2px solid #fadbac\" />"
   ]
  },
  {
   "cell_type": "markdown",
   "id": "af3cc6ad-35ba-4a22-b228-f5a965cfbd5f",
   "metadata": {},
   "source": [
    "## 1. Introduction\n",
    "This thread is a step-by-step recipe to run the source detection chain in SAS. It shows how to run all the individual SAS tasks constituting the source detection meta-task `edetect_chain`. This is based on [an analysis thread](https://www.cosmos.esa.int/web/xmm-newton/sas-thread-src-find-stepbystep) provided by the SOC at ESA.\n",
    "\n",
    "#### SAS Tasks to be Used\n",
    "\n",
    "- `eboxdetect`[(Documentation for eboxdetect)](https://xmm-tools.cosmos.esa.int/external/sas/current/doc/eboxdetect/index.html)\n",
    "- `eexpmap`[(Documentation for eexpmap)](https://xmm-tools.cosmos.esa.int/external/sas/current/doc/eexpmap/index.html)\n",
    "- `emask`[(Documentation for emask)](https://xmm-tools.cosmos.esa.int/external/sas/current/doc/emask/index.html)\n",
    "- `emldetect`[(Documentation for edetect_chain)](https://xmm-tools.cosmos.esa.int/external/sas/current/doc/emldetect/index.html)\n",
    "- `esensmap`[(Documentation for edetect_chain)](https://xmm-tools.cosmos.esa.int/external/sas/current/doc/esensmap/index.html)\n",
    "- `esplinemap`[(Documentation for esplinemap)](https://xmm-tools.cosmos.esa.int/external/sas/current/doc/esplinemap/index.html)\n",
    "- `evselect`[(Documentation for evselect)](https://xmm-tools.cosmos.esa.int/external/sas/current/doc/evselect/index.html)\n",
    "\n",
    "#### Useful Links\n",
    "\n",
    "- [`pysas` Documentation](https://xmm-tools.cosmos.esa.int/external/sas/current/doc/pysas/index.html \"pysas Documentation\")\n",
    "- [`pysas` on GitHub](https://github.com/XMMGOF/pysas)\n",
    "- [Common SAS Threads](https://www.cosmos.esa.int/web/xmm-newton/sas-threads/ \"SAS Threads\")\n",
    "- [Users' Guide to the XMM-Newton Science Analysis System (SAS)](https://xmm-tools.cosmos.esa.int/external/xmm_user_support/documentation/sas_usg/USG/SASUSG.html \"Users' Guide\")\n",
    "- [The XMM-Newton ABC Guide](https://heasarc.gsfc.nasa.gov/docs/xmm/abc/ \"ABC Guide\")\n",
    "- [XMM Newton GOF Helpdesk](https://heasarc.gsfc.nasa.gov/docs/xmm/xmm_helpdesk.html \"Helpdesk\") - Link to form to contact the GOF Helpdesk.\n",
    "\n",
    "<div class=\"alert alert-block alert-warning\">\n",
    "    <b>Warning:</b> By default this notebook will place observation data files in your default <tt>data_dir</tt> directory. Make sure pySAS has been configured properly.\n",
    "</div>"
   ]
  },
  {
   "cell_type": "code",
   "execution_count": null,
   "id": "a0a5065c-aae3-4d9b-b2cb-5434c5c4ff88",
   "metadata": {},
   "outputs": [],
   "source": [
    "# pySAS imports\n",
    "import pysas\n",
    "from pysas import MyTask\n",
    "\n",
    "# Useful imports\n",
    "import os, glob\n",
    "\n",
    "# Matplotlib\n",
    "import matplotlib.pyplot as plt\n",
    "\n",
    "# Astropy import\n",
    "from astropy.visualization import astropy_mpl_style\n",
    "from astropy.io import fits\n",
    "from astropy.wcs import WCS\n",
    "import astropy.units as u\n",
    "from astropy.coordinates import SkyCoord\n",
    "from regions import CircleSkyRegion\n",
    "\n",
    "# To handle certain warnings\n",
    "import warnings\n",
    "warnings.filterwarnings(\"ignore\")\n",
    "\n",
    "# Environment variables that need to be set to avoid a problem with edetect_chain on Fornax\n",
    "os.environ['HEADASNOQUERY'] = ''\n",
    "os.environ['HEADASPROMPT']  = '/dev/null'"
   ]
  },
  {
   "cell_type": "code",
   "execution_count": null,
   "id": "75c96c48-5759-4bc9-acc2-570bd498bc2c",
   "metadata": {
    "scrolled": true
   },
   "outputs": [],
   "source": [
    "obsid = '0123700101'\n",
    "my_obs = pysas.ObsID(obsid)\n",
    "my_obs.basic_setup(overwrite=False,rerun=False,run_rgsproc=False)\n",
    "os.chdir(my_obs.work_dir)"
   ]
  },
  {
   "cell_type": "code",
   "execution_count": null,
   "id": "bf9d4112-2d12-4dcf-a54a-f3411fad4b47",
   "metadata": {},
   "outputs": [],
   "source": [
    "event_lists = []\n",
    "event_lists.append(my_obs.files['M1evt_list'][0])\n",
    "event_lists.append(my_obs.files['M2evt_list'][0])\n",
    "event_lists.append(my_obs.files['PNevt_list'][0])"
   ]
  },
  {
   "cell_type": "markdown",
   "id": "7f24ca7c-adfd-4312-9d2d-7cc8c7845bef",
   "metadata": {},
   "source": [
    "***\n",
    "These next cell contains functions that will be used throughout this notebook."
   ]
  },
  {
   "cell_type": "code",
   "execution_count": null,
   "id": "577d92c3-3be1-4998-8695-cf4ea548bd44",
   "metadata": {},
   "outputs": [],
   "source": [
    "# Function to make regions\n",
    "def make_regions(source_list):\n",
    "    obs_regions = []\n",
    "    with fits.open(source_list) as hdu:\n",
    "        data = hdu[1].data[hdu[1].data['ID_BAND'] == 1]\n",
    "    for i in range(len(data)):\n",
    "        RA     = data['RA'][i] * u.deg\n",
    "        Dec    = data['DEC'][i] * u.deg\n",
    "        radius = 30.0 * u.arcsec\n",
    "        obs_regions.append({'ra':RA, 'dec':Dec, 'radius':radius})\n",
    "    return obs_regions\n",
    "\n",
    "def plot_regions(image_file, source_list):\n",
    "\n",
    "    # Open file\n",
    "    hdu = fits.open(image_file)[0]\n",
    "    wcs = WCS(hdu.header)\n",
    "\n",
    "    # Plot\n",
    "    ax = plt.subplot(projection=wcs)\n",
    "    plt.imshow(hdu.data, origin='lower', norm='log', vmin=0.01, vmax=1.0)\n",
    "    ax.set_facecolor(\"black\")\n",
    "\n",
    "    # Add regions\n",
    "    for source in source_list:\n",
    "        # Define region\n",
    "        region = CircleSkyRegion(SkyCoord(source['ra'], source['dec']), source['radius'])\n",
    "        pixel_region = region.to_pixel(wcs)\n",
    "        # Convert region to artist object\n",
    "        artist = pixel_region.as_artist(color='lime')\n",
    "        ax.add_artist(artist)\n",
    "\n",
    "    plt.grid(color='blue', ls='solid')\n",
    "    plt.xlabel('RA')\n",
    "    plt.ylabel('Dec')\n",
    "    plt.colorbar()\n",
    "    plt.show()\n",
    "    \n",
    "def filter_event_list(in_event_list,\n",
    "                      pi_min,\n",
    "                      pi_max,\n",
    "                      filtered_event_list):\n",
    "\n",
    "    with fits.open(in_event_list) as hdu:\n",
    "        instrument = hdu[0].header['INSTRUME']\n",
    "\n",
    "    if instrument == 'EPN':\n",
    "        filter = 'XMMEA_EP'\n",
    "        pattern = 0\n",
    "    elif 'EMOS' in instrument:\n",
    "        filter = 'XMMEA_EM'\n",
    "        pattern = 12\n",
    "\n",
    "    # Filter expression\n",
    "    expression = '(PATTERN in [0:{pattern}])&&(PI in [{pi_min}:{pi_max}])&&(FLAG == 0)&&#{filter}'.format(filter=filter,pattern=pattern,pi_min=pi_min,pi_max=pi_max)\n",
    "\n",
    "    inargs = {'table'           : in_event_list, \n",
    "              'withfilteredset' : 'yes', \n",
    "              \"expression\"      : expression, \n",
    "              'filteredset'     : filtered_event_list, \n",
    "              'filtertype'      : 'expression', \n",
    "              'keepfilteroutput': 'yes', \n",
    "              'updateexposure'  : 'yes', \n",
    "              'filterexposure'  : 'yes'}\n",
    "    \n",
    "    MyTask('evselect', inargs).run()\n",
    "\n",
    "def make_hires_image(in_event_list,\n",
    "                     pi_min,\n",
    "                     pi_max,\n",
    "                     out_image='image.fits'):\n",
    "\n",
    "    # Filter expression\n",
    "    expression = '(PI in [{pi_min}:{pi_max}])'.format(pi_min=pi_min,pi_max=pi_max)\n",
    "\n",
    "    inargs = {'table'         : in_event_list+':EVENTS', \n",
    "              'withimageset'  : 'yes',\n",
    "              \"expression\"    : expression, \n",
    "              'imageset'      : out_image,\n",
    "              'imagebinning'  : 'binSize',\n",
    "              'xcolumn'       : 'X',\n",
    "              'ycolumn'       : 'Y',\n",
    "              'ximagebinsize' : 40,\n",
    "              'yimagebinsize' : 40}\n",
    "    \n",
    "    MyTask('evselect', inargs).run()\n",
    "\n",
    "    return out_image"
   ]
  },
  {
   "cell_type": "markdown",
   "id": "56af9db2-4395-4a5c-ba2f-53d85beeb1ee",
   "metadata": {},
   "source": [
    "## 2. Filter the Observation\n",
    "\n",
    "To filter this observation we will use the command [`espfilt`](https://xmm-tools.cosmos.esa.int/external/sas/current/doc/espfilt/espfilt.html) which can do a lot of automatic filtering of solar flare activity. This task outputs a number of files that include (with the corresponding filename format):\n",
    "\n",
    "    - Filtered event list (*-allevc.fits)\n",
    "    - Filtered image file (*-allimc.fits)\n",
    "    - Lightcurve file (*-fovlc.fits)\n",
    "    - UNfiltered event list for the corners (*-corev.fits)\n",
    "    - Filtered event list for the corners (*-corevc.fits)\n",
    "    - Filtered image file for the corners (*-corimc.fits)\n",
    "    - Lightcurve file for the corners (*-corlc.fits)\n",
    "    - Post-filtering Good Time Interval (GTI) file (*-gti.fits)\n",
    "\n",
    "The filenames will start with {instrument}{exposure ID}. For example, mos1S001, mos2S002, pnS003 etc."
   ]
  },
  {
   "cell_type": "code",
   "execution_count": null,
   "id": "0d9d57e3-109c-4d5b-bd35-cc1b0aea483d",
   "metadata": {
    "scrolled": true
   },
   "outputs": [],
   "source": [
    "for file in event_lists:\n",
    "    inargs = {'eventfile' : file}\n",
    "    MyTask('espfilt', inargs).run()"
   ]
  },
  {
   "cell_type": "markdown",
   "id": "6b70cb23-f528-4051-b7bd-55e4a893a362",
   "metadata": {},
   "source": [
    "After this we will apply some standard filters to clean up the event lists."
   ]
  },
  {
   "cell_type": "code",
   "execution_count": null,
   "id": "1d2ada7e-7826-4a7e-aca7-c964536acf76",
   "metadata": {
    "scrolled": true
   },
   "outputs": [],
   "source": [
    "cevent_lists = glob.glob('*allevc.fits')\n",
    "attitude_file = glob.glob('*AttHk.ds')[0]\n",
    "\n",
    "pimin = 200\n",
    "pimax = 10000\n",
    "\n",
    "# Putting filenames into a dictionary to make things easier later on\n",
    "clean_event_lists = {}\n",
    "\n",
    "for event_list in cevent_lists:\n",
    "    with fits.open(event_list) as hdu:\n",
    "        instrument = hdu[0].header['INSTRUME']\n",
    "    clean_event_lists[instrument] = f'clean_event_list_{instrument}.fits'\n",
    "    filter_event_list(event_list,pimin,pimax,clean_event_lists[instrument])"
   ]
  },
  {
   "cell_type": "markdown",
   "id": "259d4b8c-186d-4c5d-899c-305b8959b1ad",
   "metadata": {},
   "source": [
    "## 3. Make High Res Images for Analysis\n",
    "\n",
    "For completeness we will create 3 high resolution images, one for each EPIC camera. In the example below we will only be using the image for the MOS1 camera, but at the end we will have a loop to run over all three images."
   ]
  },
  {
   "cell_type": "code",
   "execution_count": null,
   "id": "a256134b-9302-4734-9360-cda24bd07222",
   "metadata": {
    "scrolled": true
   },
   "outputs": [],
   "source": [
    "image_file = {}\n",
    "\n",
    "# Loop over the three unfiltered event lists for the pn, MOS1, and MOS2\n",
    "for inst in clean_event_lists.keys():\n",
    "    image_file[inst] = inst+'_image.fits'\n",
    "    make_hires_image(clean_event_lists[inst],pimin,pimax,out_image=image_file[inst])"
   ]
  },
  {
   "cell_type": "markdown",
   "id": "b0d8ce10-bf70-4437-a2d4-c69f36e737d3",
   "metadata": {},
   "source": [
    "Here we display the images to check for quality."
   ]
  },
  {
   "cell_type": "code",
   "execution_count": null,
   "id": "58022b57-697a-4e10-aa1d-c4b9c782617a",
   "metadata": {},
   "outputs": [],
   "source": [
    "for inst in image_file.keys():\n",
    "    my_obs.quick_implot(image_file[inst],vmin=0.1,vmax=1.0)"
   ]
  },
  {
   "cell_type": "markdown",
   "id": "b807c746-49b1-4f8f-8b2e-fbf493e74f28",
   "metadata": {},
   "source": [
    "## 4. Recreating the Chain in `edetect_chain`\n",
    "\n",
    "### 4.1 Create an Exposure Map\n",
    "\n",
    "First we create an exposure map. This is equivelent to running the following SAS command.\n",
    "\n",
    "```\n",
    "eexpmap attitudeset=0070_0123700101_AttHk.ds eventset=clean_event_list_EMOS1.fits imageset=EMOS1_image.fits expimageset=EMOS1_expmap.ds pimin=\"200\" pimax=\"10000\"\n",
    "```"
   ]
  },
  {
   "cell_type": "code",
   "execution_count": null,
   "id": "3c37a571-dcdc-4dc1-9601-f0eee94ecd7c",
   "metadata": {
    "scrolled": true
   },
   "outputs": [],
   "source": [
    "expimagesets = 'EMOS1_expmap.ds'\n",
    "\n",
    "inargs = {'imageset'    : image_file['EMOS1'], \n",
    "          'eventset'    : clean_event_lists['EMOS1'],\n",
    "          'attitudeset' : attitude_file, \n",
    "          'expimageset' : expimagesets,\n",
    "          'pimin'       : pimin, \n",
    "          'pimax'       : pimax}\n",
    "\n",
    "MyTask('eexpmap', inargs).run()\n",
    "\n",
    "my_obs.quick_implot(expimagesets)"
   ]
  },
  {
   "cell_type": "markdown",
   "id": "92ac7be6-594b-4db6-883d-f886715e89a1",
   "metadata": {},
   "source": [
    "### 4.2 Create a Detection Map\n",
    "\n",
    "Here we will create a detection map (masking the areas of the field of view where source detection shall not not be performed). The equivelent SAS command is:\n",
    "```\n",
    "emask expimageset=EMOS1_expmap.ds threshold1=0.25 detmaskset=EMOS1_mask.ds\n",
    "```\n",
    "where `threshold1` indicates the maximum exposure fraction for a masked pixel (see the [emask parameters description](https://xmm-tools.cosmos.esa.int/external/sas/current/doc/emask/node4.html)). In this specific example all pixels whose exposure time is lower than 0.25 times the maximum exposure are given value \"0\" in the mask, and excluded from the area where the source detection is performed. Users may relax this choice after a careful look at the exposure map, if they want to seek sources on a larger area."
   ]
  },
  {
   "cell_type": "code",
   "execution_count": null,
   "id": "69210444-79dc-43b7-85cd-5772c9dc16a5",
   "metadata": {},
   "outputs": [],
   "source": [
    "detmaskset = 'EMOS1_mask.ds'\n",
    "\n",
    "inargs = {'expimageset' : expimagesets,\n",
    "          'detmaskset'  : detmaskset, \n",
    "          'threshold1'  : 0.25}\n",
    "\n",
    "MyTask('emask', inargs).run()\n",
    "\n",
    "my_obs.quick_eplot(detmaskset)"
   ]
  },
  {
   "cell_type": "markdown",
   "id": "32cc1414-a00d-41de-8df8-d78ecfbafb04",
   "metadata": {},
   "source": [
    "### 4.3 Perform a Sliding Box Detection\n",
    "\n",
    "Now we perform a sliding box detection, using the locally estimated background. The equivelent SAS command is,\n",
    "```\n",
    "eboxdetect usemap=no likemin=8 withdetmask=yes detmasksets=EMOS1_mask.ds imagesets=EMOS1_image.fits expimagesets=EMOS1_expmap.ds pimin=200 pimax=10000 boxlistset=eboxlist_local.fits\n",
    "```\n",
    "where likemin is the [minimum detection likelihood](https://xmm-tools.cosmos.esa.int/external/sas/current/doc/eboxdetect/node3.html) (see the [eboxdetect parameters description](https://xmm-tools.cosmos.esa.int/external/sas/current/doc/eboxdetect/node4.html) as well).\n",
    "\n",
    "This will create a temporary source list `'eboxlist_local.fits'` which will be used to determine the background."
   ]
  },
  {
   "cell_type": "code",
   "execution_count": null,
   "id": "62b7d343-9fe9-4353-8a34-cfb76b1ac661",
   "metadata": {},
   "outputs": [],
   "source": [
    "boxlistset = 'eboxlist_local.fits'\n",
    "\n",
    "inargs = {'imagesets'    : image_file['EMOS1'],\n",
    "          'detmasksets'  : detmaskset,\n",
    "          'expimagesets' : expimagesets,\n",
    "          'boxlistset'   : boxlistset,\n",
    "          'usemap'       : False,\n",
    "          'likemin'      : 8,\n",
    "          'withdetmask'  : True,\n",
    "          'pimin'        : 200,\n",
    "          'pimax'        : 10000} \n",
    "\n",
    "MyTask('eboxdetect', inargs).run()"
   ]
  },
  {
   "cell_type": "markdown",
   "id": "8606cda4-799c-4009-b8f8-8a9d6e70ac44",
   "metadata": {},
   "source": [
    "### 4.4 Create Background Map\n",
    "\n",
    "Now we create a background map, after masking the sources detected during the previous step which are stored in the file `'eboxlist_local.fits'`,\n",
    "```\n",
    "esplinemap bkgimageset=MOS1_bkg.ds scut=0.005 imageset=MOS1_image_full.fits nsplinenodes=16 withdetmask=yes detmaskset=MOS1_mask.ds withexpimage=yes expimageset=MOS1_expmap.ds boxlistset=eboxlist_local.fits\n",
    "```\n",
    "where `nsplinenodes` is the number of nodes employed in the background map interpolation and scut the source surface brightness level (in counts per arcseconds squared), above which a source is masked (see the [`esplinemap` parameters description](https://xmm-tools.cosmos.esa.int/external/sas/current/doc/esplinemap/node4.html)). \n",
    "\n",
    "Particular care needs to be used in the choice of `nsplinenodes`. A small number of nodes may fail to accurately reproduce the background spatial distribution; an excessive number of nodes may create faked structures. The optimal compromise depends on the spatial pattern of the X-ray emission (background+sources) in a given field of view. Users are encouraged to try different choices for this parameter, and compare the resulting maps with the observed background spatial distribution pattern. \n",
    "\n",
    "The parameter `scut` mainly drives the amount of source contamination to the interpolated background map, due to the broad wings of the Point Spread Function. The best value of `scut` is determined by the optimal balance between background integration area and acceptable source contamination level. This is obviously dependent on the amount of background and the on how crowded the field is. Users are encouraged to check the background maps produced by `esplinemap` for short-scale fluctuations, and tune the `scut` value accordingly."
   ]
  },
  {
   "cell_type": "code",
   "execution_count": null,
   "id": "6f0b9195-109a-432c-bd20-ffdfc80d35c3",
   "metadata": {},
   "outputs": [],
   "source": [
    "bkgimageset = 'EMOS1_bkg.ds'\n",
    "\n",
    "inargs = {'imageset'     : image_file['EMOS1'],\n",
    "          'detmaskset'   : detmaskset,\n",
    "          'expimageset'  : expimagesets,\n",
    "          'boxlistset'   : boxlistset,\n",
    "          'bkgimageset'  : bkgimageset,\n",
    "          'scut'         : 0.005,\n",
    "          'nsplinenodes' : 16,\n",
    "          'withdetmask'  : True,\n",
    "          'withexpimage' : True} \n",
    "\n",
    "MyTask('esplinemap', inargs).run()"
   ]
  },
  {
   "cell_type": "markdown",
   "id": "b4706ae5-b064-4950-bcd2-0582154f0f6c",
   "metadata": {},
   "source": [
    "### 4.5 Perform a Second Run of Source Detection\n",
    "\n",
    "Now we perform a second run of source detection, using the background map calculated during the previous step,\n",
    "```\n",
    "eboxdetect usemap=yes bkgimagesets=MOS1_bkg.ds likemin=8 withdetmask=yes detmasksets=MOS1_mask.ds imagesets=MOS1_image_full.fits expimagesets=MOS1_expmap.ds pimin=200 pimax=10000 boxlistset=eboxlist_map.fits\n",
    "```"
   ]
  },
  {
   "cell_type": "code",
   "execution_count": null,
   "id": "1680a389-a23b-4d6d-8fed-d981a0aed608",
   "metadata": {},
   "outputs": [],
   "source": [
    "boxlistset = 'eboxlist_map.fits'\n",
    "\n",
    "inargs = {'imagesets'    : image_file['EMOS1'],\n",
    "          'detmasksets'  : detmaskset,\n",
    "          'expimagesets' : expimagesets,\n",
    "          'boxlistset'   : boxlistset,\n",
    "          'bkgimagesets' : bkgimageset,\n",
    "          'usemap'       : True,\n",
    "          'likemin'      : 8,\n",
    "          'withdetmask'  : True,\n",
    "          'pimin'        : 200,\n",
    "          'pimax'        : 10000} \n",
    "\n",
    "MyTask('eboxdetect', inargs).run()"
   ]
  },
  {
   "cell_type": "markdown",
   "id": "a5a85748-7cd9-495e-901f-4d8b6bc9c0ec",
   "metadata": {},
   "source": [
    "<div class=\"alert alert-block alert-info\">\n",
    "    <b>Note:</b> The SAS tasks <tt>esplinemap</tt> and <tt>eboxdetect</tt> have very similar input parameters, but they are <i>slightly</i> different. For example, <tt>esplinemap</tt> has the input parameter <tt>imageset</tt> while <tt>eboxdetect</tt> has <tt>imageset<b>s</b></tt>, (note the '<tt>s</tt>'). Many (but not all, e.g. <tt>boxlistset</tt>) of the input parameters for <tt>eboxdetect</tt> have an extra '<tt>s</tt>'.\n",
    "</div>"
   ]
  },
  {
   "cell_type": "markdown",
   "id": "44b978f4-2b95-4902-babf-c04325bf2626",
   "metadata": {},
   "source": [
    "### 4.6 Maximum Likelihood Fitting\n",
    "\n",
    "Next we do a maximum likelihood fitting on the sources detected in the previous step. We do this to, \n",
    "\n",
    "- Optimise source centring (constrained to be the same for all the cameras and/or energy bands, if source detection is performed on multiple images)\n",
    "- Determine source extend by fitting the local Point Spread Function\n",
    "```\n",
    "emldetect imagesets=MOS1_image_full.fits expimagesets=MOS1_expmap.ds bkgimagesets=MOS1_bkg.ds boxlistset=eboxlist_map.fits ecf=2.0 mllistset=emllist.fits mlmin=10 determineerrors=yes\n",
    "```\n",
    "The `ecf` is the Energy Conversion Factor to convert count rates (counts/s) to fluxes (10-11 erg/s/cm2) in a given energy band (a standard definition is reported in Section 6.2.1 of the [3XMM EPIC Source Catalogue User Guide](http://xmmssc.irap.omp.eu/Catalogue/3XMM-DR6/3XMM_DR6.html))."
   ]
  },
  {
   "cell_type": "code",
   "execution_count": null,
   "id": "8a64eaf6-4d35-41e7-a01d-fff9b4f3c63a",
   "metadata": {},
   "outputs": [],
   "source": [
    "mllistset = 'emllist.fits'\n",
    "\n",
    "inargs = {'imagesets'       : image_file['EMOS1'],\n",
    "          'expimagesets'    : expimagesets,\n",
    "          'boxlistset'      : boxlistset,\n",
    "          'bkgimagesets'    : bkgimageset,\n",
    "          'mllistset'       : mllistset,\n",
    "          'determineerrors' : True,\n",
    "          'mlmin'           : 10,\n",
    "          'ecf'             : 2.0} \n",
    "\n",
    "MyTask('emldetect', inargs).run()"
   ]
  },
  {
   "cell_type": "markdown",
   "id": "c829ef3b-dcb7-4010-a7ee-03fcaadca071",
   "metadata": {},
   "source": [
    "### 4.7 Create Sensitivity Maps\n",
    "\n",
    "The next step is to create sensitivity maps, i.e. a pixel-by-pixel detection upper limit map,\n",
    "```\n",
    "esensmap expimagesets=MOS1_expmap.ds bkgimagesets=MOS1_bkg.ds detmasksets=MOS1_mask.ds mlmin=10 sensimageset=MOS1_sens_map.fits\n",
    "```"
   ]
  },
  {
   "cell_type": "code",
   "execution_count": null,
   "id": "d8cb42c3-2147-412b-856c-c57c59583a17",
   "metadata": {},
   "outputs": [],
   "source": [
    "sensimageset = 'EMOS1_sens_map.fits'\n",
    "\n",
    "inargs = {'detmasksets'  : detmaskset,\n",
    "          'expimagesets' : expimagesets,\n",
    "          'bkgimagesets' : bkgimageset,\n",
    "          'sensimageset' : sensimageset,\n",
    "          'mlmin'        : 10} \n",
    "\n",
    "MyTask('esensmap', inargs).run()\n",
    "\n",
    "my_obs.quick_implot(sensimageset)"
   ]
  },
  {
   "cell_type": "markdown",
   "id": "dab66360-772f-4d34-9055-926920d26ab2",
   "metadata": {},
   "source": [
    "### 4.8 Display the Sources\n",
    "\n",
    "Display the location of the detected sources on the MOS image,"
   ]
  },
  {
   "cell_type": "code",
   "execution_count": null,
   "id": "cd53c145-82a6-4df4-b00a-14d84fcff85d",
   "metadata": {},
   "outputs": [],
   "source": [
    "my_regions = make_regions(mllistset)\n",
    "plot_regions(image_file['EMOS1'],my_regions)"
   ]
  },
  {
   "cell_type": "markdown",
   "id": "4aebdbe3-6849-4518-a80a-529ca77cfa14",
   "metadata": {},
   "source": [
    "## 5. Loop Over All Three EPIC Cameras"
   ]
  },
  {
   "cell_type": "code",
   "execution_count": null,
   "id": "16a09387-946c-4717-86e0-f25b6cfbf245",
   "metadata": {
    "scrolled": true
   },
   "outputs": [],
   "source": [
    "expimagesets = {}\n",
    "detmaskset   = {}\n",
    "boxlistset   = {}\n",
    "bkgimageset  = {}\n",
    "mllistset    = {}\n",
    "sensimageset = {}\n",
    "\n",
    "# Temporary file\n",
    "boxlistset_local = 'eboxlist_local.fits'\n",
    "\n",
    "for inst in image_file.keys():\n",
    "    expimagesets[inst] = f'{inst}_expmap.ds'\n",
    "    detmaskset[inst]   = f'{inst}_mask.ds'\n",
    "    boxlistset[inst]   = f'{inst}_eboxlist_map.fits'\n",
    "    bkgimageset[inst]  = f'{inst}_bkg.ds'\n",
    "    mllistset[inst]    = f'{inst}_emllist.fits'\n",
    "    sensimageset[inst] = f'{inst}_sens_map.fits'\n",
    "\n",
    "    # Create exposure map\n",
    "    inargs = {'imageset'    : image_file[inst], \n",
    "              'eventset'    : clean_event_lists[inst],\n",
    "              'attitudeset' : attitude_file, \n",
    "              'expimageset' : expimagesets[inst],\n",
    "              'pimin'       : pimin, \n",
    "              'pimax'       : pimax}\n",
    "    \n",
    "    MyTask('eexpmap', inargs).run()\n",
    "\n",
    "    # Create detection map\n",
    "    inargs = {'expimageset' : expimagesets[inst],\n",
    "              'detmaskset'  : detmaskset[inst], \n",
    "              'threshold1'  : 0.25}\n",
    "    \n",
    "    MyTask('emask', inargs).run()\n",
    "    \n",
    "    # Perform sliding box detection\n",
    "    # Use the temporary boxlist file 'boxlistset_local'\n",
    "    inargs = {'imagesets'    : image_file[inst],\n",
    "              'detmasksets'  : detmaskset[inst],\n",
    "              'expimagesets' : expimagesets[inst],\n",
    "              'boxlistset'   : boxlistset_local,\n",
    "              'usemap'       : False,\n",
    "              'likemin'      : 8,\n",
    "              'withdetmask'  : True,\n",
    "              'pimin'        : 200,\n",
    "              'pimax'        : 10000} \n",
    "    \n",
    "    MyTask('eboxdetect', inargs).run()\n",
    "\n",
    "    # Create background map\n",
    "    inargs = {'imageset'     : image_file[inst],\n",
    "              'detmaskset'   : detmaskset[inst],\n",
    "              'expimageset'  : expimagesets[inst],\n",
    "              'boxlistset'   : boxlistset_local,\n",
    "              'bkgimageset'  : bkgimageset[inst],\n",
    "              'scut'         : 0.005,\n",
    "              'nsplinenodes' : 16,\n",
    "              'withdetmask'  : True,\n",
    "              'withexpimage' : True} \n",
    "    \n",
    "    MyTask('esplinemap', inargs).run()\n",
    "\n",
    "    # Run source detection a second time\n",
    "    # Use final boxlist files 'boxlistset[inst]'\n",
    "    inargs = {'imagesets'    : image_file[inst],\n",
    "              'detmasksets'  : detmaskset[inst],\n",
    "              'expimagesets' : expimagesets[inst],\n",
    "              'boxlistset'   : boxlistset[inst],\n",
    "              'bkgimagesets' : bkgimageset[inst],\n",
    "              'usemap'       : True,\n",
    "              'likemin'      : 8,\n",
    "              'withdetmask'  : True,\n",
    "              'pimin'        : 200,\n",
    "              'pimax'        : 10000} \n",
    "    \n",
    "    MyTask('eboxdetect', inargs).run()\n",
    "\n",
    "    # Maximum likelihood fitting\n",
    "    inargs = {'imagesets'       : image_file[inst],\n",
    "              'expimagesets'    : expimagesets[inst],\n",
    "              'boxlistset'      : boxlistset[inst],\n",
    "              'bkgimagesets'    : bkgimageset[inst],\n",
    "              'mllistset'       : mllistset[inst],\n",
    "              'determineerrors' : True,\n",
    "              'mlmin'           : 10,\n",
    "              'ecf'             : 2.0} \n",
    "    \n",
    "    MyTask('emldetect', inargs).run()\n",
    "\n",
    "    # Create sensitivity maps\n",
    "    inargs = {'detmasksets'  : detmaskset[inst],\n",
    "              'expimagesets' : expimagesets[inst],\n",
    "              'bkgimagesets' : bkgimageset[inst],\n",
    "              'sensimageset' : sensimageset[inst],\n",
    "              'mlmin'           : 10} \n",
    "    \n",
    "    MyTask('esensmap', inargs).run()"
   ]
  },
  {
   "cell_type": "code",
   "execution_count": null,
   "id": "93d21d6c-2329-4cc7-8053-4a349984c799",
   "metadata": {},
   "outputs": [],
   "source": [
    "for inst in image_file.keys():\n",
    "    my_regions = make_regions(mllistset[inst])\n",
    "    plot_regions(image_file[inst],my_regions)"
   ]
  }
 ],
 "metadata": {
  "kernelspec": {
   "display_name": "sas",
   "language": "python",
   "name": "sas"
  },
  "language_info": {
   "codemirror_mode": {
    "name": "ipython",
    "version": 3
   },
   "file_extension": ".py",
   "mimetype": "text/x-python",
   "name": "python",
   "nbconvert_exporter": "python",
   "pygments_lexer": "ipython3",
   "version": "3.12.11"
  }
 },
 "nbformat": 4,
 "nbformat_minor": 5
}
