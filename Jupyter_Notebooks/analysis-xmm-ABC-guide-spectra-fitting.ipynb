{
 "cells": [
  {
   "cell_type": "markdown",
   "id": "ed03dcab-9468-44a1-acf6-c62dea488555",
   "metadata": {
    "editable": true,
    "slideshow": {
     "slide_type": ""
    },
    "tags": []
   },
   "source": [
    "# ABC Guide for XMM-Newton -- Fitting an EPIC Spectrum in XSPEC\n",
    "<hr style=\"border: 2px solid #fadbac\" />\n",
    "\n",
    "- **Description:** XMM-Newton ABC Guide, Fitting an EPIC Spectrum in XSPEC.\n",
    "- **Level:** Beginner\n",
    "- **Data:** XMM observation of the Lockman Hole (obsid=0123700101)\n",
    "- **Requirements:** Must be run using pySAS version 2.2.2 or higher.\n",
    "- **Credit:** Ryan Tanner (February 2025)\n",
    "- **Support:** <a href=\"https://heasarc.gsfc.nasa.gov/docs/xmm/xmm_helpdesk.html\">XMM Newton GOF Helpdesk</a>\n",
    "- **Last verified to run:** 17 October 2025, for SAS v22.1 and pySAS v2.2.2\n",
    "\n",
    "<hr style=\"border: 2px solid #fadbac\" />"
   ]
  },
  {
   "cell_type": "markdown",
   "id": "db4d4b1e-9db9-44c1-ab27-234b06f52de8",
   "metadata": {},
   "source": [
    "## 1. Introduction\n",
    "This tutorial is based on Chapter 12 from the The XMM-Newton ABC Guide prepared by the NASA/GSFC XMM-Newton Guest Observer Facility. This notebook assumes you are at least minimally familiar with pySAS (see the [Long pySAS Introduction](./analysis-xmm-long-intro.ipynb \"Long pySAS Intro\")) and that you have already worked through the Jupyter Notebooks on filtering EPIC data and extracting a spectra from a region ([Part 1](./analysis-xmm-ABC-guide-EPIC-image-filtering.ipynb \"EPIC Image Filtering\") and [Part 2](./analysis-xmm-ABC-guide-EPIC-source-spectrum.ipynb \"EPIC Source Extraction\")). In this tutorial we will demonstrate how to use PyXSPEC to load a spectra a set up a simple power law model.\n",
    "\n",
    "#### SAS Tasks to be Used\n",
    "\n",
    "**None**\n",
    "\n",
    "#### Useful Links\n",
    "\n",
    "- [`pysas` Documentation](https://xmm-tools.cosmos.esa.int/external/sas/current/doc/pysas/index.html \"pysas Documentation\")\n",
    "- [`pysas` on GitHub](https://github.com/XMMGOF/pysas)\n",
    "- [Common SAS Threads](https://www.cosmos.esa.int/web/xmm-newton/sas-threads/ \"SAS Threads\")\n",
    "- [Users' Guide to the XMM-Newton Science Analysis System (SAS)](https://xmm-tools.cosmos.esa.int/external/xmm_user_support/documentation/sas_usg/USG/SASUSG.html \"Users' Guide\")\n",
    "- [The XMM-Newton ABC Guide](https://heasarc.gsfc.nasa.gov/docs/xmm/abc/ \"ABC Guide\")\n",
    "- [PyXSPEC Documentation](https://heasarc.gsfc.nasa.gov/xanadu/xspec/python/html/index.html)\n",
    "- [XMM Newton GOF Helpdesk](https://heasarc.gsfc.nasa.gov/docs/xmm/xmm_helpdesk.html \"Helpdesk\") - Link to form to contact the GOF Helpdesk.\n",
    "\n",
    "<div class=\"alert alert-block alert-warning\">\n",
    "    <b>Warning:</b> By default this notebook will place observation data files in your default <tt>data_dir</tt> directory. Make sure pySAS has been configured properly.\n",
    "</div>"
   ]
  },
  {
   "cell_type": "markdown",
   "id": "04b7fb3e-2b6a-45c7-b794-5fcb4fc32555",
   "metadata": {},
   "source": [
    "## 2. Setup"
   ]
  },
  {
   "cell_type": "code",
   "execution_count": null,
   "id": "ffdf1ff7-15bd-40e6-a0c1-508271be014a",
   "metadata": {},
   "outputs": [],
   "source": [
    "# pySAS imports\n",
    "import pysas\n",
    "\n",
    "# Importing PyXSPEC\n",
    "import xspec\n",
    "\n",
    "# Useful imports\n",
    "import os\n",
    "\n",
    "# Imports for plotting\n",
    "from matplotlib.ticker import StrMethodFormatter\n",
    "import matplotlib.pyplot as plt\n",
    "from IPython.display import Image"
   ]
  },
  {
   "cell_type": "code",
   "execution_count": null,
   "id": "6be64d03-e444-45cd-816e-f95d2f1099a7",
   "metadata": {
    "scrolled": true
   },
   "outputs": [],
   "source": [
    "obsid = '0123700101'\n",
    "my_obs = pysas.ObsID(obsid)"
   ]
  },
  {
   "cell_type": "markdown",
   "id": "669bf4c7-3423-4fe4-a2f0-0c7d79a9bfd8",
   "metadata": {},
   "source": [
    "<div class=\"alert alert-block alert-warning\">\n",
    "<b>Important:</b> This notebook assumes that you worked through the notebooks for Chapter 6 of the ABC Guide (see <a href=\"./analysis-xmm-ABC-guide-EPIC-image-filtering.ipynb\">Part 1</a> and <a href=\"./analysis-xmm-ABC-guide-EPIC-source-spectrum.ipynb\">Part 2</a>) and that at the end you produced a grouped spectra file named <tt>'mos1_grp.fits'</tt> with links in the header of the FITS file to the ARF, RMF, and background spectra.\n",
    "</div>"
   ]
  },
  {
   "cell_type": "code",
   "execution_count": null,
   "id": "1e6fdabd-4a07-479b-8dee-f6b7438d6680",
   "metadata": {},
   "outputs": [],
   "source": [
    "os.chdir(my_obs.work_dir)"
   ]
  },
  {
   "cell_type": "markdown",
   "id": "f4cccb7c-777d-4b4c-8e03-2bac235d8c60",
   "metadata": {},
   "source": [
    "## 3. Using PyXSPEC"
   ]
  },
  {
   "cell_type": "markdown",
   "id": "c097a710-cb0b-4ecc-ae05-fad96345c4af",
   "metadata": {},
   "source": [
    "This will load the spectrum into XSPEC. We set an energy range appropriate for the data by ignoring bins (or channels) below 0.2 keV and above 6.6 keV. We are left with 18 of the original 20 bins (channels)."
   ]
  },
  {
   "cell_type": "code",
   "execution_count": null,
   "id": "1e4b4e0f-6d05-4f21-9058-d1a53d23a97a",
   "metadata": {},
   "outputs": [],
   "source": [
    "grouped_spectra = 'mos1_grp.fits'\n",
    "s = xspec.Spectrum(grouped_spectra)\n",
    "s.ignore('0.0-0.2,6.6-**')"
   ]
  },
  {
   "cell_type": "markdown",
   "id": "918bb480-4857-4b64-ab84-1f9e9df8c586",
   "metadata": {},
   "source": [
    "We now create a power law model and set the photon index to 2.0. We then renormalize the model and refit it."
   ]
  },
  {
   "cell_type": "code",
   "execution_count": null,
   "id": "f6a1e9ba-3557-45ba-85a1-d01bd568bce2",
   "metadata": {
    "scrolled": true
   },
   "outputs": [],
   "source": [
    "m = xspec.Model('pow')\n",
    "m.powerlaw.PhoIndex = 2.0\n",
    "xspec.Fit.renorm()\n",
    "xspec.Fit.perform()"
   ]
  },
  {
   "cell_type": "markdown",
   "id": "46c6a111-bca0-4747-8a01-c2b309645e55",
   "metadata": {},
   "source": [
    "To create a plot of the spectrum and the model we include a convenient function. It takes as an input the spectrum object created by PyXSPEC. A lot of what goes into this function is for formatting the plot.\n",
    "\n",
    "(For more advanced users: The function is written so that it returns the `figure` and two `axis` objects created by `Matplotlib`. You can use these to make additional changes to the formatting of the plot.)"
   ]
  },
  {
   "cell_type": "code",
   "execution_count": null,
   "id": "2c1d3d7a-da14-4097-aaf9-db88e8a75071",
   "metadata": {},
   "outputs": [],
   "source": [
    "def plot_data_model(spectrum,plot_file_name='data_model_plot.png'):\n",
    "    xspec.Plot.device='/null'\n",
    "    xspec.Plot.xAxis = 'keV'\n",
    "\n",
    "    # Pull off data for main plot\n",
    "    xspec.Plot('data')\n",
    "    energy = xspec.Plot.x()\n",
    "    counts = xspec.Plot.y()\n",
    "    folded = xspec.Plot.model()\n",
    "    xErrs = xspec.Plot.xErr()\n",
    "    yErrs = xspec.Plot.yErr()\n",
    "\n",
    "    # Pull off data for ratio plot\n",
    "    xspec.Plot('ratio')\n",
    "    ratio = xspec.Plot.y()\n",
    "    r_xerror = xspec.Plot.xErr()\n",
    "    r_yerror = xspec.Plot.yErr()\n",
    "\n",
    "    # Get bin edges for \"stairs\" plot\n",
    "    bin_edges = []\n",
    "    for i in spectrum.energies: bin_edges.append(i[0])\n",
    "    bin_edges.append(spectrum.energies[-1][1])\n",
    "\n",
    "    # Make the figure and two subplots\n",
    "    fig, (ax0, ax1) = plt.subplots(nrows=2, sharex=True, height_ratios=[2.5, 1],figsize=(9, 7))\n",
    "\n",
    "    # Main plot\n",
    "    ax0.errorbar(energy, counts, yerr=yErrs, xerr=xErrs, linestyle='', marker='')\n",
    "    ax0.stairs(folded,bin_edges, color='r')\n",
    "    ax0.set_xscale('log')\n",
    "    ax0.set_yscale('log')\n",
    "    ax0.set_xlim([bin_edges[0], bin_edges[-1]])\n",
    "    ax0.tick_params(top=True,axis=\"x\",direction=\"in\",which='both')\n",
    "    ax0.tick_params(axis=\"y\",direction=\"in\",which='both',right=True)\n",
    "    ax0.set_ylabel('counts sec$^{-1}$ keV$^{-1}$')\n",
    "    ax0.set_title('Data and Folded Model')\n",
    "\n",
    "    # Ratio plot\n",
    "    ax1.errorbar(energy, ratio, yerr=r_yerror, xerr=r_xerror, linestyle='', marker='')\n",
    "    ax1.axhline(y=1, color='g')\n",
    "    ax1.set_xscale('log')\n",
    "    ax1.tick_params(top=True,axis=\"x\",direction=\"in\",which='both')\n",
    "    ax1.tick_params(axis=\"y\",direction=\"in\",which='both')\n",
    "    ax1.xaxis.set_major_formatter(StrMethodFormatter('{x:.1f}'))\n",
    "    ax1.xaxis.set_minor_formatter(StrMethodFormatter('{x:.1f}'))\n",
    "    ax1.set_xlabel('Energy (keV)')\n",
    "    ax1.set_ylabel('Ratio')\n",
    "\n",
    "    # This puts the plots together with no space in between\n",
    "    plt.subplots_adjust(hspace=.0)\n",
    "\n",
    "    # Save plot to file\n",
    "    fig.savefig(plot_file_name)\n",
    "\n",
    "    return fig, ax0, ax1"
   ]
  },
  {
   "cell_type": "markdown",
   "id": "71fe29b1-21db-4a85-858b-e6951f8aac56",
   "metadata": {},
   "source": [
    "Now we display our plot. The points with error bars are our data, the red \"stairs\" line is the model created in XSPEC. The bottom plot shows the ratio between the data points and the model."
   ]
  },
  {
   "cell_type": "code",
   "execution_count": null,
   "id": "a1c2acae-d898-4042-b575-6b88c46ef11d",
   "metadata": {},
   "outputs": [],
   "source": [
    "fig, ax0, ax1 = plot_data_model(s)"
   ]
  },
  {
   "cell_type": "markdown",
   "id": "0e1b24b7-a37d-4f22-8e9f-e1e44b720106",
   "metadata": {},
   "source": [
    "For comparison we will use XSPEC to generate a GIF file with the same plot. This is the type of plot you would get if you used XSPEC from the command line."
   ]
  },
  {
   "cell_type": "code",
   "execution_count": null,
   "id": "6f9daf03-cb89-4f88-b0cf-03b44f7eba9b",
   "metadata": {},
   "outputs": [],
   "source": [
    "xspec.Plot.splashPage = None\n",
    "xspec.Plot.device = 'spectrum.gif/GIF'\n",
    "xspec.Plot.xAxis = 'keV'\n",
    "xspec.Plot('ldata','ratio')\n",
    "xspec.Plot.device='/null'"
   ]
  },
  {
   "cell_type": "code",
   "execution_count": null,
   "id": "5a11435b-dca9-427c-9a24-09b656a2d50d",
   "metadata": {},
   "outputs": [],
   "source": [
    "with open('spectrum.gif','rb') as f:\n",
    "    display(Image(data=f.read(), format='gif',width=500))"
   ]
  },
  {
   "cell_type": "markdown",
   "id": "1b3c6a48-4615-40a2-b614-7ee60fcad0fb",
   "metadata": {},
   "source": [
    "Both plots are saved in the `work_dir` with the rest of the data files."
   ]
  },
  {
   "cell_type": "code",
   "execution_count": null,
   "id": "df1d02dc-18e0-4a54-8f57-f5dfed860b52",
   "metadata": {},
   "outputs": [],
   "source": [
    "print(my_obs.work_dir)"
   ]
  }
 ],
 "metadata": {
  "kernelspec": {
   "display_name": "sas",
   "language": "python",
   "name": "sas"
  },
  "language_info": {
   "codemirror_mode": {
    "name": "ipython",
    "version": 3
   },
   "file_extension": ".py",
   "mimetype": "text/x-python",
   "name": "python",
   "nbconvert_exporter": "python",
   "pygments_lexer": "ipython3",
   "version": "3.12.11"
  }
 },
 "nbformat": 4,
 "nbformat_minor": 5
}
