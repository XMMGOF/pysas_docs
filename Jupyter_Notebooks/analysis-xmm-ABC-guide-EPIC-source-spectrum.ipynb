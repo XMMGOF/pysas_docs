{
 "cells": [
  {
   "cell_type": "markdown",
   "id": "5045ee57",
   "metadata": {
    "editable": true,
    "slideshow": {
     "slide_type": ""
    },
    "tags": []
   },
   "source": [
    "# ABC Guide for XMM-Newton -- EPIC Source Extraction and Spectrum Creation\n",
    "<hr style=\"border: 2px solid #fadbac\" />\n",
    "\n",
    "- **Description:** XMM-Newton ABC Guide, EPIC Source Extraction and Spectrum Creation.\n",
    "- **Level:** Beginner\n",
    "- **Data:** XMM observation of the Lockman Hole (obsid=0123700101)\n",
    "- **Requirements:** Must be run using pySAS version 2.2.2 or higher.\n",
    "- **Credit:** Ryan Tanner (April 2024)\n",
    "- **Support:** <a href=\"https://heasarc.gsfc.nasa.gov/docs/xmm/xmm_helpdesk.html\">XMM Newton GOF Helpdesk</a>\n",
    "- **Last verified to run:** 17 October 2025, for SAS v22.1 and pySAS v2.2.2\n",
    "\n",
    "<hr style=\"border: 2px solid #fadbac\" />"
   ]
  },
  {
   "cell_type": "markdown",
   "id": "e77e521f",
   "metadata": {},
   "source": [
    "## 1. Introduction\n",
    "This tutorial is based on Chapter 7 from the The XMM-Newton ABC Guide prepared by the NASA/GSFC XMM-Newton Guest Observer Facility. This notebook assumes you are at least minimally familiar with pySAS (see the [Long pySAS Introduction](./analysis-xmm-long-intro.ipynb \"Long pySAS Intro\")). \n",
    "\n",
    "#### SAS Tasks to be Used\n",
    "\n",
    "- `evselect`[(Documentation for evselect)](https://xmm-tools.cosmos.esa.int/external/sas/current/doc/evselect/index.html)\n",
    "- `atthkgen `[(Documentation for atthkgen)](https://xmm-tools.cosmos.esa.int/external/sas/current/doc/atthkgen/index.html)\n",
    "- `epatplot`[(Documentation for epatplot)](https://xmm-tools.cosmos.esa.int/external/sas/current/doc/epatplot/index.html)\n",
    "- `backscale`[(Documentation for backscale)](https://xmm-tools.cosmos.esa.int/external/sas/current/doc/backscale/index.html)\n",
    "- `rmfgen`[(Documentation for rmfgen)](https://xmm-tools.cosmos.esa.int/external/sas/current/doc/rmfgen/index.html)\n",
    "- `arfgen`[(Documentation for arfgen)](https://xmm-tools.cosmos.esa.int/external/sas/current/doc/arfgen/index.html)\n",
    "\n",
    "#### Useful Links\n",
    "\n",
    "- [`pysas` Documentation](https://xmm-tools.cosmos.esa.int/external/sas/current/doc/pysas/index.html \"pysas Documentation\")\n",
    "- [`pysas` on GitHub](https://github.com/XMMGOF/pysas)\n",
    "- [Common SAS Threads](https://www.cosmos.esa.int/web/xmm-newton/sas-threads/ \"SAS Threads\")\n",
    "- [Users' Guide to the XMM-Newton Science Analysis System (SAS)](https://xmm-tools.cosmos.esa.int/external/xmm_user_support/documentation/sas_usg/USG/SASUSG.html \"Users' Guide\")\n",
    "- [The XMM-Newton ABC Guide](https://heasarc.gsfc.nasa.gov/docs/xmm/abc/ \"ABC Guide\")\n",
    "- [XMM Newton GOF Helpdesk](https://heasarc.gsfc.nasa.gov/docs/xmm/xmm_helpdesk.html \"Helpdesk\") - Link to form to contact the GOF Helpdesk.\n",
    "\n",
    "<div class=\"alert alert-block alert-warning\">\n",
    "    <b>Warning:</b> By default this notebook will place observation data files in your default <tt>data_dir</tt> directory. Make sure pySAS has been configured properly.\n",
    "</div>"
   ]
  },
  {
   "cell_type": "code",
   "execution_count": null,
   "id": "bf2f219a",
   "metadata": {
    "editable": true,
    "slideshow": {
     "slide_type": ""
    }
   },
   "outputs": [],
   "source": [
    "# pySAS imports\n",
    "import pysas\n",
    "from pysas import MyTask\n",
    "\n",
    "# Useful imports\n",
    "import os, subprocess\n",
    "\n",
    "# Imports for plotting\n",
    "import matplotlib.pyplot as plt\n",
    "from astropy.visualization import astropy_mpl_style\n",
    "from astropy.io import fits\n",
    "from astropy.wcs import WCS\n",
    "from astropy.table import Table\n",
    "from regions import CircleSkyRegion\n",
    "from astropy.coordinates import SkyCoord\n",
    "import astropy.units as u\n",
    "plt.style.use(astropy_mpl_style)\n",
    "\n",
    "# To handle certain warnings\n",
    "import warnings\n",
    "warnings.filterwarnings(\"ignore\")"
   ]
  },
  {
   "cell_type": "markdown",
   "id": "75b5aa3e",
   "metadata": {},
   "source": [
    "Now we need to let pySAS know which Obs ID we are working with. When we run the command `basic_setup` it will auto-detect the observation files and event lists created in the notebook on [EPIC image creation and basic filtering](./analysis-xmm-ABC-guide-EPIC-image-filtering.ipynb)."
   ]
  },
  {
   "cell_type": "code",
   "execution_count": null,
   "id": "aeb73a08",
   "metadata": {
    "scrolled": true
   },
   "outputs": [],
   "source": [
    "obsid = '0123700101'\n",
    "\n",
    "my_obs = pysas.ObsID(obsid)\n",
    "\n",
    "my_obs.basic_setup(overwrite=False,rerun=False,run_epproc=False,run_rgsproc=False)\n",
    "\n",
    "os.chdir(my_obs.work_dir)\n",
    "\n",
    "# File names for this notebook. The User can change these file names.\n",
    "unfiltered_event_list = my_obs.files['M1evt_list'][0]\n",
    "temporary_event_list = 'temporary_event_list.fits'\n",
    "light_curve_file ='mos1_ltcrv.fits'\n",
    "gti_rate_file = 'gti_rate.fits'\n",
    "filtered_event_list = 'filtered_event_list.fits'"
   ]
  },
  {
   "cell_type": "markdown",
   "id": "81083d29",
   "metadata": {
    "editable": true,
    "slideshow": {
     "slide_type": ""
    }
   },
   "source": [
    "***\n",
    "If you have already worked through the notebook tutorial on [EPIC image creation and basic filtering](./analysis-xmm-ABC-guide-EPIC-image-filtering.ipynb) you can skip the next cell. But if not, or if you want to run it again, the necessary code from that notebook is in the cell below."
   ]
  },
  {
   "cell_type": "code",
   "execution_count": null,
   "id": "f7fd9e07-2173-47ae-b948-a6c9f37ab5fa",
   "metadata": {
    "scrolled": true
   },
   "outputs": [],
   "source": [
    "# \"Standard\" Filter\n",
    "inargs = {'table'           : unfiltered_event_list, \n",
    "          'withfilteredset' : 'yes', \n",
    "          \"expression\"      : \"'(PATTERN <= 12)&&(PI in [200:4000])&&#XMMEA_EM'\", \n",
    "          'filteredset'     : temporary_event_list, \n",
    "          'filtertype'      : 'expression', \n",
    "          'keepfilteroutput': 'yes', \n",
    "          'updateexposure'  : 'yes', \n",
    "          'filterexposure'  : 'yes'}\n",
    "\n",
    "MyTask('evselect', inargs).run()\n",
    "\n",
    "# Make Light Curve File\n",
    "inargs = {'table'          : temporary_event_list, \n",
    "          'withrateset'    : 'yes', \n",
    "          'rateset'        : light_curve_file, \n",
    "          'maketimecolumn' : 'yes', \n",
    "          'timecolumn'     : 'TIME', \n",
    "          'timebinsize'    : '100', \n",
    "          'makeratecolumn' : 'yes'}\n",
    "\n",
    "MyTask('evselect', inargs).run()\n",
    "\n",
    "# Make Secondary GTI File\n",
    "# Chose the rate based on the plot from the light curve file\n",
    "filter_rate = 6\n",
    "inargs = {'table'      : light_curve_file, \n",
    "          'gtiset'     : gti_rate_file,\n",
    "          'timecolumn' : 'TIME', \n",
    "          \"expression\" : \"'(RATE <= {0})'\".format(filter_rate)}\n",
    "\n",
    "MyTask('tabgtigen', inargs).run()\n",
    "\n",
    "# Filter Using Secondary GTI File\n",
    "inargs = {'table'           : temporary_event_list,\n",
    "          'withfilteredset' : 'yes', \n",
    "          \"expression\"      : \"'GTI({0},TIME)'\".format(gti_rate_file), \n",
    "          'filteredset'     : filtered_event_list,\n",
    "          'filtertype'      : 'expression', \n",
    "          'keepfilteroutput': 'yes',\n",
    "          'updateexposure'  : 'yes', \n",
    "          'filterexposure'  : 'yes'}\n",
    "\n",
    "MyTask('evselect', inargs).run()"
   ]
  },
  {
   "cell_type": "markdown",
   "id": "9acdad4d",
   "metadata": {
    "editable": true,
    "slideshow": {
     "slide_type": ""
    }
   },
   "source": [
    "## 2. Selecting a Source"
   ]
  },
  {
   "cell_type": "markdown",
   "id": "8fd4c790",
   "metadata": {},
   "source": [
    "As in the notebook on [EPIC image creation and basic filtering](./analysis-xmm-ABC-guide-EPIC-image-filtering.ipynb), we will use the function named 'quick_eplot' that is part of `ObsID` to create a FITS image file from the filtered event list."
   ]
  },
  {
   "cell_type": "code",
   "execution_count": null,
   "id": "451b81ab",
   "metadata": {},
   "outputs": [],
   "source": [
    "image_file = 'image.fits'\n",
    "_ = my_obs.quick_eplot(filtered_event_list, image_file = image_file)"
   ]
  },
  {
   "cell_type": "markdown",
   "id": "b4cdee92-e06a-4534-bdc8-9ce61c6aa3f0",
   "metadata": {},
   "source": [
    "We will now define a function that will allow us to plot a region on the image. The resulting image will be zoomed in on the region."
   ]
  },
  {
   "cell_type": "code",
   "execution_count": null,
   "id": "0ec3c099-5654-4388-892e-fe668d367a07",
   "metadata": {},
   "outputs": [],
   "source": [
    "def plot_region(image_file, ra, dec, radius):\n",
    "    \n",
    "    # Define region\n",
    "    ra_ll  = ra-20*radius\n",
    "    ra_ul  = ra+20*radius\n",
    "    dec_ll = dec-10*radius\n",
    "    dec_ul = dec+10*radius\n",
    "    center = SkyCoord(ra, dec)\n",
    "    region = CircleSkyRegion(center, radius)\n",
    "    \n",
    "    # Open file\n",
    "    hdu = fits.open(image_file)[0]\n",
    "    wcs = WCS(hdu.header)\n",
    "\n",
    "    # Convert region to artist object\n",
    "    pixel_region = region.to_pixel(wcs)\n",
    "    artist = pixel_region.as_artist(color='lime')\n",
    "\n",
    "    # Set image limits\n",
    "    ra_lim  = [ra_ll.value, ra_ul.value]\n",
    "    dec_lim = [dec_ll.value, dec_ul.value]\n",
    "    (xmin, xmax), (ymin, ymax) = wcs.all_world2pix(ra_lim, dec_lim, 0)\n",
    "\n",
    "    # Plot\n",
    "    ax = plt.subplot(projection=wcs)\n",
    "    plt.imshow(hdu.data, origin='lower', norm='log', vmin=1.0, vmax=10.0)\n",
    "    ax.set_facecolor(\"black\")\n",
    "    ax.add_artist(artist)\n",
    "    ax.set(xlim=(xmin, xmax), ylim=(ymin, ymax))\n",
    "    plt.grid(color='blue', ls='solid')\n",
    "    plt.xlabel('RA')\n",
    "    plt.ylabel('Dec')\n",
    "    plt.colorbar()\n",
    "    plt.show()"
   ]
  },
  {
   "cell_type": "markdown",
   "id": "cf6e6363",
   "metadata": {},
   "source": [
    "In this example we have preselected the coordinates for the source we are interested in. To find the coordinates for a source you can either,\n",
    "\n",
    "1. Find the coordinates manually using ds9\n",
    "2. Use an automated method such as `edetect_chain` to detect sources\n",
    "\n",
    "We will now add a single region around an interesting source. The source coordinates are given in degrees (with decimals) and the source radius is given in arcseconds."
   ]
  },
  {
   "cell_type": "code",
   "execution_count": null,
   "id": "9a38c0b4",
   "metadata": {},
   "outputs": [],
   "source": [
    "source_RA  = 163.164 * u.deg # degrees\n",
    "source_Dec = 57.408 * u.deg  # degrees\n",
    "source_rad = 15.0 * u.arcsec # arcseconds\n",
    "\n",
    "plot_region(image_file, source_RA, source_Dec, source_rad)"
   ]
  },
  {
   "cell_type": "markdown",
   "id": "ffa7603b",
   "metadata": {},
   "source": [
    "## 3. Extract the Source and Background Spectra for a Single Region"
   ]
  },
  {
   "cell_type": "markdown",
   "id": "7583e879",
   "metadata": {},
   "source": [
    "Throughout the following, please keep in mind that some parameters are instrument-dependent. The parameter `specchannelmax` should be set to 11999 for the MOS, or 20479 for the PN. Also, for the PN, the most stringent filters, `(FLAG==0)&&(PATTERN<=4)`, must be included in the expression to get a high-quality spectrum.\n",
    "\n",
    "For the MOS, the standard filters should be appropriate for many cases, though there are some instances where tightening the selection requirements might be needed. For example, if obtaining the best-possible spectral resolution is critical to your work, and the corresponding loss of counts is not important, only the single pixel events should be selected `(PATTERN==0)`. If your observation is of a bright source, you again might want to select only the single pixel events to mitigate pile up (see §6.8 and §6.9 for a more detailed discussion). In any case, you'll need to know spatial information about the area over which you want to extract the spectrum.\n",
    "\n",
    "Now using `evselect` we can select just the events inside of the region. These events should mostly be from the source we are interested in. We will use the following filtering expression. (Note: The radius, 15.0 arcsec, has been converted to degrees.)\n",
    "\n",
    "`expression='((RA,DEC) in CIRCLE(163.164,57.408,0.00416667))'`\n",
    "\n",
    "The inputs for `evselect` to extract the source spectra are as follows.\n",
    "\n",
    "\ttable - the event file\n",
    "\tenergycolumn - energy column\n",
    "\twithfilteredset - make a filtered event file\n",
    "\tkeepfilteroutput - keep the filtered file\n",
    "\tfilteredset - name of output file\n",
    "\tfiltertype - type of filter\n",
    "\texpression - expression to filter by\n",
    "\twithspectrumset - make a spectrum\n",
    "\tspectrumset - name of output spectrum\n",
    "\tspectralbinsize - size of bin, in eV\n",
    "\twithspecranges - covering a certain spectral range\n",
    "\tspecchannelmin - minimum of spectral range\n",
    "\tspecchannelmax - maximum of spectral range\n",
    "\n",
    "When extracting the background spectrum, follow the same procedures, but change the extraction area. For example, make an annulus around the source; this can be done using the keyword 'ANNULUS' and then providing the inner and outer edges of the annulus, then change the filtering expression (and output file name) as necessary. For the outer radius we have chosen 2x the inner radius.\n",
    "\n",
    "`expression='((RA,DEC) in ANNULUS(163.164,57.408,0.00416667,0.00833333))'`\n",
    "\n",
    "Below we extract both the source and the background spectra. The keywords are as described above."
   ]
  },
  {
   "cell_type": "code",
   "execution_count": null,
   "id": "159c749a",
   "metadata": {
    "scrolled": true
   },
   "outputs": [],
   "source": [
    "filtered_source = 'mos1_filtered.fits'\n",
    "filtered_bkg = 'bkg_filtered.fits'\n",
    "source_spectra_file = 'mos1_pi.fits'\n",
    "bkg_spectra_file = 'bkg_pi.fits'\n",
    "\n",
    "circle = \"CIRCLE({0},{1},{2})\".format(source_RA.value,source_Dec.value,source_rad.to(u.deg).value)\n",
    "\n",
    "inargs = {'table'           : filtered_event_list,\n",
    "          'energycolumn'    : 'PI',\n",
    "          'withfilteredset' : 'yes',\n",
    "          'filteredset'     : filtered_source,\n",
    "          'keepfilteroutput': 'yes',\n",
    "          'filtertype'      : 'expression',\n",
    "          'expression'      : \"'((RA,DEC) in {0})\".format(circle),\n",
    "          'withspectrumset' : 'yes',\n",
    "          'spectrumset'     : source_spectra_file,\n",
    "          'spectralbinsize' : '5',\n",
    "          'withspecranges'  : 'yes',\n",
    "          'specchannelmin'  : '0',\n",
    "          'specchannelmax'  : '11999'}\n",
    "\n",
    "MyTask('evselect', inargs).run()\n",
    "\n",
    "annulus = \"ANNULUS({0},{1},{2},{3})\".format(source_RA.value,source_Dec.value,source_rad.to(u.deg).value,2*source_rad.to(u.deg).value)\n",
    "\n",
    "inargs = {'table'           : filtered_event_list,\n",
    "          'energycolumn'    : 'PI',\n",
    "          'withfilteredset' : 'yes',\n",
    "          'filteredset'     : filtered_bkg,\n",
    "          'keepfilteroutput': 'yes',\n",
    "          'filtertype'      : 'expression',\n",
    "          'expression'      : \"'((RA,DEC) in {0})'\".format(annulus),\n",
    "          'withspectrumset' : 'yes',\n",
    "          'spectrumset'     : bkg_spectra_file,\n",
    "          'spectralbinsize' : '5',\n",
    "          'withspecranges'  : 'yes',\n",
    "          'specchannelmin'  : '0',\n",
    "          'specchannelmax'  : '11999'}\n",
    "\n",
    "MyTask('evselect', inargs).run()"
   ]
  },
  {
   "cell_type": "markdown",
   "id": "f5f2b7b8",
   "metadata": {},
   "source": [
    "## 4. Check for Pile Up"
   ]
  },
  {
   "cell_type": "markdown",
   "id": "db086a7c",
   "metadata": {},
   "source": [
    "Depending on how bright the source is and what modes the EPIC detectors are in, event pile up may be a problem. Pile up occurs when a source is so bright that incoming X-rays strike two neighboring pixels or the same pixel in the CCD more than once in a read-out cycle. In such cases the energies of the two events are in effect added together to form one event. If this happens sufficiently often, \n",
    "1) the spectrum will appear to be harder than it actually is, and\n",
    "2) the count rate will be underestimated, since multiple events will be undercounted.\n",
    "\n",
    "To check whether pile up may be a problem, use the SAS task epatplot. Heavily piled sources will be immediately obvious, as they will have a \"hole\" in the center, but pile up is not always so conspicuous. Therefore, we recommend to always check for it.\n",
    "\n",
    "<div class=\"alert alert-block alert-info\">\n",
    "    <b>Note:</b> This procedure requires as input the event file for the source created when the spectrum was made (i.e. 'filtered_source'), not the usual time-filtered event file (i.e. 'filtered_event_list').\n",
    "</div>\n",
    "\n",
    "To check for pile up in our Lockman Hole example, run the following cell:"
   ]
  },
  {
   "cell_type": "code",
   "execution_count": null,
   "id": "83702b93",
   "metadata": {
    "scrolled": true
   },
   "outputs": [],
   "source": [
    "inargs = {'set'               : filtered_source,\n",
    "          'plotfile'          : 'mos1_epat.pdf',\n",
    "          'useplotfile'       : 'yes',\n",
    "          'withbackgroundset' : 'yes',\n",
    "          'backgroundset'     : filtered_bkg}\n",
    "\n",
    "MyTask('epatplot', inargs).run()"
   ]
  },
  {
   "cell_type": "markdown",
   "id": "e788b55b",
   "metadata": {},
   "source": [
    "where\n",
    "\n",
    "    set - input events file \n",
    "    plotfile - output postscript file \n",
    "    useplotfile - flag to use file name from \"plotfile\" \n",
    "    withbackgroundset - use background event set for background subtraction? \n",
    "    backgroundset - name of background event file\n",
    "\n",
    "The output of `epatplot` is a pdf file, `mos1_epat.pdf` and is found in the `work_dir` for the Obs ID we are using. In the pdf there are two graphs describing the distribution of counts as a function of PI channel. You should get a plot like that shown below."
   ]
  },
  {
   "cell_type": "code",
   "execution_count": null,
   "id": "069692d3-3ed1-4180-adcf-029841abf794",
   "metadata": {},
   "outputs": [],
   "source": [
    "print(my_obs.work_dir)"
   ]
  },
  {
   "cell_type": "markdown",
   "id": "19857bab",
   "metadata": {},
   "source": [
    "![Pileup Plot](./_files/pile_up_plot1.png)"
   ]
  },
  {
   "cell_type": "markdown",
   "id": "b75e6f2c",
   "metadata": {},
   "source": [
    "A few words about interpretting the plots are in order. The top is the distribution of counts versus PI channel for each pattern class (single, double, triple, quadruple), and the bottom is the expected pattern distribution (smooth lines) plotted over the observed distribution (histogram). The lower plot shows the model distributions for single and double events and the observed distributions. It also gives the ratio of observed-to-modeled events with 1-$\\sigma$ uncertainties for single and double pattern events over a given energy range. (The default is 0.5-2.0 keV; this can be changed with the pileupnumberenergyrange parameter.) If the data is not piled up, there will be good agreement between the modeled and observed single and double event pattern distributions. Also, the observed-to-modeled fractions for both singles and doubles in the 0.5-2.0 keV range will be unity, within errors. In contrast, if the data is piled up, there will be clear divergence between the modeled and observed pattern distributions, and the observed-to-modeled fraction for singles will be less than 1.0, and for doubles, it will be greater than 1.0.\n",
    "\n",
    "Finally, when examining the plots, it should noted that the observed-to-modeled fractions can be inaccurate. Therefore, the agreement between the modeled and observed single and double event pattern distributions should be the main factor in determining if an observation is affected by pile up or not.\n",
    "\n",
    "The source used in our Lockman Hole example is too faint to provide reasonable statistics for epatplot and is far from being affected by pile up. For comparison, an example of a bright source (Mkn 421, Obs ID: 0136541101) which is strongly affected by pileup is shown below. Note that the observed-to-model fraction for doubles is over 1.0, and there is severe divergence between the model and the observed pattern distribution."
   ]
  },
  {
   "cell_type": "markdown",
   "id": "274d7237-4831-4b20-8276-2b39ed3f2f7e",
   "metadata": {},
   "source": [
    "![Mkn 421 Pileup Plot](./_files/pile_up_Mkn_421.png)"
   ]
  },
  {
   "cell_type": "markdown",
   "id": "e61cc5db",
   "metadata": {},
   "source": [
    "## 5. My Observation is Piled Up! Now What?"
   ]
  },
  {
   "cell_type": "markdown",
   "id": "09aa61e8",
   "metadata": {},
   "source": [
    "If you're working with a different (much brighter) dataset that does show signs of pile up, there are a few ways to deal with it. First, using the region selection and event file filtering procedures demonstrated in earlier sections, you can excise the inner-most regions of a source (as they are the most heavily piled up), re-extract the spectrum, and continue your analysis on the excised event file. For this procedure, it is recommended that you take an iterative approach: remove an inner region, extract a spectrum, check with epatplot, and repeat, each time removing a slightly larger region, until the model and observed distribution functions agree. If you do this, be aware that removing too small a region with respect to the instrumental pixel size (1.1'' for the MOS, 4.1'' for the PN) can introduce systematic inaccuracies when calculating the source flux; these are less than 4%, and decrease to less than 1% when the excised region is more than 5 times the instrumental pixel half-size. In any case, be certain that the excised region is larger than the instrumental pixel size!\n",
    "\n",
    "You can also use the event file filtering procedures to include only single pixel events (PATTERN==0), as these events are less sensitive to pile up than other patterns."
   ]
  },
  {
   "cell_type": "markdown",
   "id": "d886d029",
   "metadata": {},
   "source": [
    "## 6. Determine the Spectrum Extraction Areas"
   ]
  },
  {
   "cell_type": "markdown",
   "id": "c7ed08e0",
   "metadata": {},
   "source": [
    "Now that we are confident that our spectrum is not piled up, we can continue by finding the source and background region areas. This is done with the task `backscale`, which takes into account any bad pixels or chip gaps, and writes the result into the BACKSCAL keyword of the spectrum table. Alternatively, we can skip running backscale, and use a keyword in arfgen below. We will show both options for the curious.\n",
    "\n",
    "The inputs for `backscale` are:\n",
    "\n",
    "    spectrumset - spectrum file\n",
    "    badpixlocation - event file containing the bad pixels\n",
    "\n",
    "To find the source and background extraction areas explicitly,"
   ]
  },
  {
   "cell_type": "code",
   "execution_count": null,
   "id": "3282f1e0",
   "metadata": {
    "scrolled": true
   },
   "outputs": [],
   "source": [
    "inargs = {'spectrumset'    : source_spectra_file,\n",
    "          'badpixlocation' : filtered_event_list}\n",
    "\n",
    "MyTask('backscale', inargs).run()\n",
    "\n",
    "inargs = {'spectrumset'    : bkg_spectra_file,\n",
    "          'badpixlocation' : filtered_event_list}\n",
    "\n",
    "MyTask('backscale', inargs).run()"
   ]
  },
  {
   "cell_type": "markdown",
   "id": "4cbf0bb3",
   "metadata": {},
   "source": [
    "## 7. Create the Photon Redistribution Matrix (RMF) and Ancillary File (ARF)"
   ]
  },
  {
   "cell_type": "markdown",
   "id": "45c761e3",
   "metadata": {},
   "source": [
    "Now that a source spectrum has been extracted, we need to reformat the detector response by making a redistribution matrix file (RMF) and ancillary response file (ARF). To make the RMF we use `rmfgen`. The input arguments are:\n",
    "\n",
    "    rmfset - output file\n",
    "    spectrumset - input spectrum file\n",
    "\n",
    "Now we can use `arfgen` with the RMF, spectrum, and event file to make the ancillary file (ARF). The input arguments are:\n",
    "\n",
    "    arfset - output ARF file name\n",
    "    spectrumset - input spectrum file name\n",
    "    withrmfset - flag to use the RMF\n",
    "    rmfset - RMF file created by rmfgen\n",
    "    withbadpixcorr - flag to include the bad pixel correction\n",
    "    badpixlocation - file containing the bad pixel information; should be set to the event file from which the spectrum was extracted\n",
    "    setbackscale - flag to calculate the area of the source region and write it to the BACKSCAL keyword in the spectrum header"
   ]
  },
  {
   "cell_type": "code",
   "execution_count": null,
   "id": "d275beaf",
   "metadata": {
    "scrolled": true
   },
   "outputs": [],
   "source": [
    "rmf_file = 'mos1_rmf.fits'\n",
    "arf_file = 'mos1_arf.fits'\n",
    "\n",
    "inargs = {}\n",
    "inargs = {'rmfset'      : rmf_file,\n",
    "          'spectrumset' : source_spectra_file}\n",
    "\n",
    "MyTask('rmfgen', inargs).run()\n",
    "\n",
    "inargs = {}\n",
    "inargs = {'arfset'         : arf_file,\n",
    "          'spectrumset'    : source_spectra_file,\n",
    "          'withrmfset'     : 'yes',\n",
    "          'rmfset'         : rmf_file,\n",
    "          'withbadpixcorr' : 'yes',\n",
    "          'badpixlocation' : filtered_event_list,\n",
    "          'setbackscale'   : 'yes'}\n",
    "\n",
    "MyTask('arfgen', inargs).run()"
   ]
  },
  {
   "cell_type": "markdown",
   "id": "76551fac-587d-4c48-94ad-78c088525727",
   "metadata": {},
   "source": [
    "To analize the spectra the individual photon counts need to be grouped into energy bins. We also need to include the filenames of the ARF, RMF, and background spectra in the header of the grouped spectra file. We do this by using the `specgroup` command. The input arguments are:\n",
    "\n",
    "    spectrumset - name of the input (ungrouped) sprectra file\n",
    "    groupedset - name of the output (grouped) spectra file\n",
    "    arfset - ARF file name\n",
    "    rmfset - RMF file name\n",
    "    backgndset - background spectra file name\n",
    "    mincounts - the minimum number of counts per bin; the bins will be sized to reach the mincounts value"
   ]
  },
  {
   "cell_type": "code",
   "execution_count": null,
   "id": "93847cf7-baa7-4927-ae72-e9781980b1bc",
   "metadata": {},
   "outputs": [],
   "source": [
    "grouped_spectra = 'mos1_grp.fits'\n",
    "\n",
    "inargs = {}\n",
    "inargs = {'spectrumset' : source_spectra_file,\n",
    "          'groupedset'  : grouped_spectra,\n",
    "          'arfset'      : arf_file,\n",
    "          'rmfset'      : rmf_file,\n",
    "          'backgndset'  : bkg_spectra_file,\n",
    "          'mincounts'   : 30}\n",
    "\n",
    "MyTask('specgroup', inargs).run()"
   ]
  },
  {
   "cell_type": "markdown",
   "id": "05a058ff-9bc0-405a-9ba4-f984c741b404",
   "metadata": {},
   "source": [
    "At this point, the spectrum stored in the file `mos1_grp.fits` is ready to be analyzed using an analysis package such as XSPEC. For a simple example of that see the notebook [Fitting an EPIC Spectrum in XSPEC](./analysis-xmm-ABC-guide-spectra-fitting.ipynb) based on Chapter 13 of the ABC Guide."
   ]
  }
 ],
 "metadata": {
  "kernelspec": {
   "display_name": "sas",
   "language": "python",
   "name": "sas"
  },
  "language_info": {
   "codemirror_mode": {
    "name": "ipython",
    "version": 3
   },
   "file_extension": ".py",
   "mimetype": "text/x-python",
   "name": "python",
   "nbconvert_exporter": "python",
   "pygments_lexer": "ipython3",
   "version": "3.12.11"
  }
 },
 "nbformat": 4,
 "nbformat_minor": 5
}
