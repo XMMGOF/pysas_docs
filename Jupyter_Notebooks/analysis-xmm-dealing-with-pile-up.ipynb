{
 "cells": [
  {
   "cell_type": "markdown",
   "id": "fb480af7-6196-4bb5-bdbe-e82592ad3d8e",
   "metadata": {},
   "source": [
    "# Dealing with Pile-up in an EPIC Source\n",
    "<hr style=\"border: 2px solid #fadbac\" />\n",
    "\n",
    "- **Description:** Introduction on how to deal with pile-up from a bright source.\n",
    "- **Level:** Intermediate\n",
    "- **Data:** XMM observation of Algol (obsid=0112880701)\n",
    "- **Requirements:** Must be run using pySAS version 2.0.\n",
    "- **Credit:** Ryan Tanner (March 2025)\n",
    "- **Support:** <a href=\"https://heasarc.gsfc.nasa.gov/docs/xmm/xmm_helpdesk.html\">XMM Newton GOF Helpdesk</a>\n",
    "- **Last verified to run:** 21 July 2025, for SAS v22.1 and pySAS v2.0\n",
    "\n",
    "<hr style=\"border: 2px solid #fadbac\" />"
   ]
  },
  {
   "cell_type": "markdown",
   "id": "43f537f3-977c-43ea-8f28-f23f291c864e",
   "metadata": {},
   "source": [
    "## 1. Introduction\n",
    "This tutorial is a supplement to the introductory notebooks on extracting a source in from EPIC data (XMM-Newton ABC Guide, Chapter 7, [Part 1](./analysis-xmm-ABC-guide-EPIC-image-filtering.ipynb \"EPIC Image Filtering\") and [Part 2](./analysis-xmm-ABC-guide-EPIC-source-spectrum.ipynb \"EPIC Source Extraction\")). This notebook assumes you are at least minimally familiar with pySAS on SciServer (see the [Long pySAS Introduction](./analysis-xmm-long-intro.ipynb \"Long pySAS Intro\")) and that you have previously worked through the two introductory notebooks. This tutorial is partially based on the SAS thread [How to evaluate and test pile-up in an EPIC source](https://www.cosmos.esa.int/web/xmm-newton/sas-thread-epatplot).\n",
    "\n",
    "We will be using a bright x-ray source (the star Algol) to demonstrate the pile-up effect. We will not be filtering the data, as demonstrated in previous notebooks, but will be using the unfiltered event list. Normally you should filter your data first and produce a Good Time Interval (GTI) file.\n",
    "\n",
    "In Part 1 we breifly mentioned how to check for pile-up, which occurs whenever an X-ray source is too bright for the selected read-out mode, thus in practice is like an overexposure effect. There are two ways pile-up occurs.\n",
    "\n",
    "    -Pattern pile-up: During a single read-out cycle more than one photon is detected in two or more adjacent pixels. During the read-out, the electronics cannot distinguish whether signals in adjacent pixels originate from one or more photons, thus two or more photons are erroneously combined to an individual event of higher pattern type, e.g. two adjacent individual photons are erroneously combined to a double event whose energy is equal to the sum of the individual energies of the incoming photons.\n",
    "    \n",
    "    -Energy pile-up: During a single read-out cycle more than one photon hits the same pixel. During the read-out, the electronics cannot distinguish whether the signal in a pixel originates from one or more photons, thus a single event of erroneous energy is read whose energy is equal to the sum of the individual energies of the incoming photons.\n",
    "\n",
    "The effect of pile-up on the spectra is therefore three-fold:\n",
    "\n",
    "    -Photon loss, either due to the fact that one photon is \"read\" instead of several, or to the fact that the summed energy may assume values beyond the upper energy on-board threshold. Also, an invalid pattern could be produced and hence the photons lost.\n",
    "    \n",
    "    -Energy distortion, whereby photons are moved to higher X-ray regions of the spectrum.\n",
    "    \n",
    "    -Pattern migration, where the expected pattern distribution is distorted.\n",
    "\n",
    "#### SAS Tasks to be Used\n",
    "\n",
    "- `evselect`[(Documentation for evselect)](https://xmm-tools.cosmos.esa.int/external/sas/current/doc/evselect/index.html)\n",
    "- `epatplot`[(Documentation for epatplot)](https://xmm-tools.cosmos.esa.int/external/sas/current/doc/epatplot/index.html)\n",
    "\n",
    "#### Useful Links\n",
    "\n",
    "- [`pysas` Documentation](https://xmm-tools.cosmos.esa.int/external/sas/current/doc/pysas/index.html \"pysas Documentation\")\n",
    "- [`pysas` on GitHub](https://github.com/XMMGOF/pysas)\n",
    "- [Common SAS Threads](https://www.cosmos.esa.int/web/xmm-newton/sas-threads/ \"SAS Threads\")\n",
    "- [Users' Guide to the XMM-Newton Science Analysis System (SAS)](https://xmm-tools.cosmos.esa.int/external/xmm_user_support/documentation/sas_usg/USG/SASUSG.html \"Users' Guide\")\n",
    "- [The XMM-Newton ABC Guide](https://heasarc.gsfc.nasa.gov/docs/xmm/abc/ \"ABC Guide\")\n",
    "- [XMM Newton GOF Helpdesk](https://heasarc.gsfc.nasa.gov/docs/xmm/xmm_helpdesk.html \"Helpdesk\") - Link to form to contact the GOF Helpdesk.\n",
    "\n",
    "<div class=\"alert alert-block alert-warning\">\n",
    "    <b>Warning:</b> By default this notebook will place observation data files in your default <tt>data_dir</tt> directory. Make sure pySAS has been configured properly.\n",
    "</div>"
   ]
  },
  {
   "cell_type": "markdown",
   "id": "d8153c32-1767-4bea-a683-1db9d11cd31a",
   "metadata": {},
   "source": [
    "## 2. Basic Setup"
   ]
  },
  {
   "cell_type": "code",
   "execution_count": null,
   "id": "fb9da4a9-a280-46e5-9a0b-82388f15fe7f",
   "metadata": {
    "editable": true,
    "slideshow": {
     "slide_type": ""
    },
    "tags": []
   },
   "outputs": [],
   "source": [
    "# pySAS imports\n",
    "import pysas\n",
    "from pysas.sastask import MyTask\n",
    "\n",
    "# Useful imports\n",
    "import os, subprocess\n",
    "\n",
    "# Imports for plotting\n",
    "import matplotlib.pyplot as plt\n",
    "from astropy.visualization import astropy_mpl_style\n",
    "from astropy.io import fits\n",
    "from astropy.wcs import WCS\n",
    "from astropy.table import Table\n",
    "plt.style.use(astropy_mpl_style)\n",
    "import astropy.units as u\n",
    "\n",
    "# To handle certain warnings\n",
    "import warnings\n",
    "warnings.filterwarnings(\"ignore\")"
   ]
  },
  {
   "cell_type": "code",
   "execution_count": null,
   "id": "d388fa09-267e-4c5e-b570-d32eabad2d72",
   "metadata": {
    "scrolled": true
   },
   "outputs": [],
   "source": [
    "obsid = '0112880701'\n",
    "\n",
    "my_obs = pysas.obsid.ObsID(obsid)\n",
    "\n",
    "my_obs.basic_setup(overwrite=False,repo='heasarc',rerun=False,\n",
    "                   run_epproc=False,run_rgsproc=False)\n",
    "\n",
    "os.chdir(my_obs.work_dir)"
   ]
  },
  {
   "cell_type": "code",
   "execution_count": null,
   "id": "8a83b8b5-aa7e-4bf8-85dc-afb2a23cf12c",
   "metadata": {},
   "outputs": [],
   "source": [
    "# File names for this notebook. The User can change these file names.\n",
    "unfiltered_event_list = my_obs.files['M1evt_list'][0]\n",
    "light_curve_file = 'ltcrv.fits'\n",
    "circle_selection = 'circle_selection_event_list.fits'\n",
    "ring_selction1 = 'ring_selection1_event_list.fits'\n",
    "ring_selction2 = 'ring_selection2_event_list.fits'\n",
    "circle_epat = 'circle_epat.pdf'\n",
    "ring1_epat = 'ring1_epat.pdf'\n",
    "ring2_epat = 'ring2_epat.pdf'"
   ]
  },
  {
   "cell_type": "code",
   "execution_count": null,
   "id": "a13df3bb-0a27-4f5f-ae5f-88c24c31926a",
   "metadata": {},
   "outputs": [],
   "source": [
    "def filter_region(input_event_list,output_event_list,RA,Dec,radius,type='circle'):\n",
    "    if type == 'circle':\n",
    "        expression = \"'((RA,DEC) in CIRCLE({0},{1},{2}))'\".format(RA.value,Dec.value,radius.to(u.deg).value)\n",
    "    if type == 'annulus':\n",
    "        expression = \"'((RA,DEC) in ANNULUS({0},{1},{2},{3}))'\".format(RA.value,Dec.value,radius[0].to(u.deg).value,radius[1].to(u.deg).value)\n",
    "\n",
    "    inargs = {'table'            : input_event_list,\n",
    "              'withfilteredset'  : 'yes',\n",
    "              'filteredset'      : output_event_list,\n",
    "              'keepfilteroutput' : 'yes',\n",
    "              'filtertype'       : 'expression',\n",
    "              'expression'       : expression}\n",
    "    \n",
    "    MyTask('evselect', inargs).run()"
   ]
  },
  {
   "cell_type": "code",
   "execution_count": null,
   "id": "00dbe018-480c-479f-a5b0-9a9654e442f4",
   "metadata": {},
   "outputs": [],
   "source": [
    "my_obs.quick_eplot(unfiltered_event_list)"
   ]
  },
  {
   "cell_type": "markdown",
   "id": "8ce39f85-a71a-4508-9e90-f72a190bdd7a",
   "metadata": {},
   "source": [
    "This following cell is not necessary for what we are doing here, but is good to check that the data for this observation is generally free from flares and other contamination."
   ]
  },
  {
   "cell_type": "code",
   "execution_count": null,
   "id": "8b4b0d04-674a-4b9b-a203-a3b87a08ab58",
   "metadata": {},
   "outputs": [],
   "source": [
    "my_obs.quick_lcplot(unfiltered_event_list, light_curve_file=light_curve_file)"
   ]
  },
  {
   "cell_type": "markdown",
   "id": "8d3452c2-2bd2-4841-a5df-11cb37ecacd7",
   "metadata": {},
   "source": [
    "## 3. Using `epatplot` to check for pile-up\n",
    "\n",
    "The output of `epatplot` is a pdf. As a reminder, all files created here can be found in the work directory for this Obs ID."
   ]
  },
  {
   "cell_type": "code",
   "execution_count": null,
   "id": "15fec502-8eff-4878-8dd5-c5f86c3bcc78",
   "metadata": {},
   "outputs": [],
   "source": [
    "print(my_obs.work_dir)"
   ]
  },
  {
   "cell_type": "markdown",
   "id": "2e46ba50-24a7-4852-8ee2-f1208e07b71e",
   "metadata": {},
   "source": [
    "First we will use a circle region to select the source. The (x,y) coordinates of the source have been determined before hand.\n",
    "\n",
    "The following cell will extract the events inside the region using `evselect`, and write those events to a file `circle_selection_event_list.fits`. Then it will use `epatplot` to create the diagnostic plot `circle_epat.pdf`."
   ]
  },
  {
   "cell_type": "code",
   "execution_count": null,
   "id": "f3d1378c-7af2-4466-8a31-b587fdc27dc4",
   "metadata": {
    "scrolled": true
   },
   "outputs": [],
   "source": [
    "source_RA  = 47.041508 * u.deg # degrees\n",
    "source_Dec = 40.955204 * u.deg  # degrees\n",
    "source_rad = 43.5 * u.arcsec # arcseconds\n",
    "\n",
    "filter_region(unfiltered_event_list,circle_selection,source_RA,source_Dec,source_rad,type='circle')\n",
    "\n",
    "inargs = {'set'         : circle_selection,\n",
    "          'plotfile'    : circle_epat,\n",
    "          'useplotfile' : 'yes',\n",
    "          'pileupnumberenergyrange' : \"'1000 5000'\"}\n",
    "\n",
    "MyTask('epatplot', inargs).run()"
   ]
  },
  {
   "cell_type": "markdown",
   "id": "81b3ba40-32f1-41bc-bbb0-12fa2fe6bc99",
   "metadata": {},
   "source": [
    "The resulting plot should look like this:\n",
    "<center><img src=\"_files/circle_pile_up.png\"/></center>"
   ]
  },
  {
   "cell_type": "markdown",
   "id": "465c70d1-f38d-4bd3-9869-77014919c74b",
   "metadata": {},
   "source": [
    "The important thing to note here is the difference between the the data (histogram) and the model (solid lines). This indicates the presence of pile-up.\n",
    "<center><img src=\"_files/circle_pile_up_zoom.png\"/></center>"
   ]
  },
  {
   "cell_type": "markdown",
   "id": "054e33ff-7dec-40cf-b187-8cdfeafa7f3c",
   "metadata": {},
   "source": [
    "To address the pile-up, instead of using a circular region we will use and annulus to cut out the very center of the bright source. We will use `evselect` again to create an event list with just the events from the annulus region, and then run that through `epatplot`. The new plot will be named `ring1_epat.pdf`."
   ]
  },
  {
   "cell_type": "code",
   "execution_count": null,
   "id": "c1e753b9-5b9d-4806-929d-4338bf386564",
   "metadata": {
    "scrolled": true
   },
   "outputs": [],
   "source": [
    "source_RA  = 47.041508 * u.deg # degrees\n",
    "source_Dec = 40.955204 * u.deg  # degrees\n",
    "source_rad = [8.7,43.5] * u.arcsec # arcseconds\n",
    "\n",
    "filter_region(unfiltered_event_list,ring_selction1,source_RA,source_Dec,source_rad,type='annulus')\n",
    "\n",
    "inargs = {'set'         : ring_selction1,\n",
    "          'plotfile'    : ring1_epat,\n",
    "          'useplotfile' : 'yes',\n",
    "          'pileupnumberenergyrange' : \"'1000 5000'\"}\n",
    "\n",
    "MyTask('epatplot', inargs).run()"
   ]
  },
  {
   "cell_type": "markdown",
   "id": "185e315f-4861-4335-bfbf-280ef3f69ce5",
   "metadata": {},
   "source": [
    "The resulting plot should look like this:\n",
    "\n",
    "<center><img src=\"_files/ring1_pile_up.png\"/></center>"
   ]
  },
  {
   "cell_type": "markdown",
   "id": "434d8247-222f-415c-9500-19e2b5b7120e",
   "metadata": {},
   "source": [
    "While the data is closer to the model, there is still a difference. We can improve on this by making the inner radius of the annulus larger to cut out a larger area."
   ]
  },
  {
   "cell_type": "code",
   "execution_count": null,
   "id": "8095f44c-72a4-454b-aab1-4a24874ae324",
   "metadata": {
    "scrolled": true
   },
   "outputs": [],
   "source": [
    "source_RA  = 47.041508 * u.deg # degrees\n",
    "source_Dec = 40.955204 * u.deg  # degrees\n",
    "source_rad = [17.4,43.5] * u.arcsec # arcseconds\n",
    "\n",
    "filter_region(unfiltered_event_list,ring_selction2,source_RA,source_Dec,source_rad,type='annulus')\n",
    "\n",
    "inargs = {'set' : ring_selction2,\n",
    "          'plotfile' : ring2_epat,\n",
    "          'useplotfile' : 'yes',\n",
    "          'pileupnumberenergyrange' : \"'1000 5000'\"}\n",
    "\n",
    "MyTask('epatplot', inargs).run()"
   ]
  },
  {
   "cell_type": "markdown",
   "id": "0273b00b-ea31-42bc-9109-61411f87455f",
   "metadata": {},
   "source": [
    "The resulting plot should look like this:\n",
    "\n",
    "<center><img src=\"_files/ring2_pile_up.png\"/></center>"
   ]
  },
  {
   "cell_type": "markdown",
   "id": "b2181090-95a7-4532-b44e-3c9b2e4694ed",
   "metadata": {},
   "source": [
    "The data now closely matches the model and pile-up has been sucsessfully minimized. The final filtered event list, `ring_selection2_event_list.fits`, can now be used to extract a spectrum as shown in [ABC Guide Chapter 6, Part 2 tutorial](./analysis-xmm-ABC-guide-ch6-p2.ipynb) on filtering and extracting a spectrum."
   ]
  }
 ],
 "metadata": {
  "kernelspec": {
   "display_name": "Python 3 (ipykernel)",
   "language": "python",
   "name": "python3"
  },
  "language_info": {
   "codemirror_mode": {
    "name": "ipython",
    "version": 3
   },
   "file_extension": ".py",
   "mimetype": "text/x-python",
   "name": "python",
   "nbconvert_exporter": "python",
   "pygments_lexer": "ipython3",
   "version": "3.10.12"
  }
 },
 "nbformat": 4,
 "nbformat_minor": 5
}
