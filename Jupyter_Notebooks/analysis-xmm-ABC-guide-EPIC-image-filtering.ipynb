{
 "cells": [
  {
   "cell_type": "markdown",
   "id": "9c078d54",
   "metadata": {
    "editable": true,
    "slideshow": {
     "slide_type": ""
    },
    "tags": []
   },
   "source": [
    "# ABC Guide for XMM-Newton -- EPIC Image Creation and Basic Filtering\n",
    "<hr style=\"border: 2px solid #fadbac\" />\n",
    "\n",
    "- **Description:** XMM-Newton ABC Guide, EPIC Image Creation and Basic Filtering.\n",
    "- **Level:** Beginner\n",
    "- **Data:** XMM observation of the Lockman Hole (obsid=0123700101)\n",
    "- **Requirements:** Must be run using pySAS version 2.2.2 or higher.\n",
    "- **Credit:** Ryan Tanner (April 2024)\n",
    "- **Support:** <a href=\"https://heasarc.gsfc.nasa.gov/docs/xmm/xmm_helpdesk.html\">XMM Newton GOF Helpdesk</a>\n",
    "- **Last verified to run:** 16 October 2025, for SAS v22.1 and pySAS v2.2.2\n",
    "\n",
    "<hr style=\"border: 2px solid #fadbac\" />"
   ]
  },
  {
   "cell_type": "markdown",
   "id": "a539cc14",
   "metadata": {},
   "source": [
    "## 1. Introduction\n",
    "This tutorial is based on Chapter 7 from the The [The XMM-Newton ABC Guide](https://heasarc.gsfc.nasa.gov/docs/xmm/abc/ \"ABC Guide\") prepared by the NASA/GSFC XMM-Newton Guest Observer Facility. This notebook assumes you are at least minimally familiar with pySAS (see the [Long pySAS Introduction](./analysis-xmm-long-intro.ipynb \"Long pySAS Intro\")). \n",
    "\n",
    "#### SAS Tasks to be Used\n",
    "\n",
    "- `emproc`[(Documentation for emproc)](https://xmm-tools.cosmos.esa.int/external/sas/current/doc/emproc/index.html \"emproc Documentation\")\n",
    "- `epproc`[(Documentation for epproc)](https://xmm-tools.cosmos.esa.int/external/sas/current/doc/epproc/index.html \"epproc Documentation\")\n",
    "- `evselect`[(Documentation for evselect)](https://xmm-tools.cosmos.esa.int/external/sas/current/doc/evselect/index.html)\n",
    "- `tabgtigen`[(Documentation for tabgtigen)](https://xmm-tools.cosmos.esa.int/external/sas/current/doc/tabgtigen/index.html)\n",
    "- `gtibuild`[(Documentation for gtibuild)](https://xmm-tools.cosmos.esa.int/external/sas/current/doc/gtibuild/index.html)\n",
    "\n",
    "#### Useful Links\n",
    "\n",
    "- [`pysas` Documentation](https://xmm-tools.cosmos.esa.int/external/sas/current/doc/pysas/index.html \"pysas Documentation\")\n",
    "- [`pysas` on GitHub](https://github.com/XMMGOF/pysas)\n",
    "- [Common SAS Threads](https://www.cosmos.esa.int/web/xmm-newton/sas-threads/ \"SAS Threads\")\n",
    "- [Users' Guide to the XMM-Newton Science Analysis System (SAS)](https://xmm-tools.cosmos.esa.int/external/xmm_user_support/documentation/sas_usg/USG/SASUSG.html \"Users' Guide\")\n",
    "- [The XMM-Newton ABC Guide](https://heasarc.gsfc.nasa.gov/docs/xmm/abc/ \"ABC Guide\")\n",
    "- [XMM Newton GOF Helpdesk](https://heasarc.gsfc.nasa.gov/docs/xmm/xmm_helpdesk.html \"Helpdesk\") - Link to form to contact the GOF Helpdesk.\n",
    "\n",
    "<div class=\"alert alert-block alert-warning\">\n",
    "    <b>Warning:</b> By default this notebook will place observation data files in your default <tt>data_dir</tt> directory. Make sure pySAS has been configured properly.\n",
    "</div>"
   ]
  },
  {
   "cell_type": "markdown",
   "id": "29697fc0",
   "metadata": {},
   "source": [
    "## 2. Rerun basic processing"
   ]
  },
  {
   "cell_type": "code",
   "execution_count": null,
   "id": "6f61b5de",
   "metadata": {},
   "outputs": [],
   "source": [
    "# pySAS imports\n",
    "import pysas\n",
    "from pysas import MyTask\n",
    "\n",
    "# Useful imports\n",
    "import os\n",
    "\n",
    "# Imports for plotting\n",
    "import matplotlib.pyplot as plt\n",
    "from astropy.visualization import astropy_mpl_style\n",
    "from astropy.io import fits\n",
    "from astropy.wcs import WCS\n",
    "from astropy.table import Table\n",
    "plt.style.use(astropy_mpl_style)\n",
    "\n",
    "# To handle certain warnings\n",
    "import warnings\n",
    "warnings.filterwarnings(\"ignore\")"
   ]
  },
  {
   "cell_type": "code",
   "execution_count": null,
   "id": "6f68b9fa",
   "metadata": {
    "editable": true,
    "scrolled": true,
    "slideshow": {
     "slide_type": ""
    },
    "tags": []
   },
   "outputs": [],
   "source": [
    "obsid = '0123700101'\n",
    "my_obs = pysas.ObsID(obsid)\n",
    "my_obs.basic_setup(overwrite=False,run_epproc=False,run_rgsproc=False)"
   ]
  },
  {
   "cell_type": "markdown",
   "id": "ae67c527",
   "metadata": {},
   "source": [
    "<div class=\"alert alert-block alert-info\">\n",
    "    <b>Note:</b> Running <tt>emproc</tt> on this particular obsid may take several (>10) minutes. Be prepared to wait.\n",
    "</div>\n",
    "\n",
    "If the dataset has more than one exposure, a specific exposure can be accessed using the <tt>withinstexpids</tt> and <tt>instexpids</tt> parameters, e.g.:\n",
    "\n",
    "```python\n",
    "inargs = {'withinstexpids' : 'yes', \n",
    "          'instexpids'     : \"'M1S001 M2S001'\"}\n",
    "MyTask('emproc', inargs).run()\n",
    "```\n",
    "\n",
    "To create an out-of-time event file for your PN data, add the parameter <tt>withoutoftime</tt> to your <tt>epproc</tt> invocation:\n",
    "\n",
    "```python\n",
    "inargs = {'withoutoftime' : 'yes'}\n",
    "MyTask('epproc', inargs).run()\n",
    "```\n",
    "\n",
    "<div class=\"alert alert-block alert-info\">\n",
    "    <b>Note:</b> For PN observations with very bright sources, out-of-time events can provide a serious contamination of the image. Out-of-time events occur because the read-out period for the CCDs can be up to $\\sim6.3$% of the frame time. Since events that occur during the read-out period can't be distinguished from others events, they are included in the event files but have invalid locations. For observations with bright sources, this can cause bright stripes in the image along the CCD read-out direction.\n",
    "</div>\n",
    "\n",
    "By default, these tasks do not keep any intermediate files they generate. <tt>Emproc</tt> and <tt>epproc</tt> designate their output event files with \"*ImagingEvts.ds\"."
   ]
  },
  {
   "cell_type": "markdown",
   "id": "9b950b8d",
   "metadata": {},
   "source": [
    "## 3. Plot image"
   ]
  },
  {
   "cell_type": "markdown",
   "id": "72e3ecdd",
   "metadata": {},
   "source": [
    "Below we define a useful function to make image plotting easier. It uses `evselect` to create a FITS image file from a FITS event list file.\n",
    "\n",
    "<div class=\"alert alert-block alert-info\">\n",
    "    <b>Note:</b>For this notebook we will be using a function named 'quick_eplot' that is part of the 'ObsID' object for quick image plotting. The equivelent code is shown below:\n",
    "</div>\n",
    "\n",
    "```python\n",
    "def make_fits_image(event_list_file, image_file='image.fits'):\n",
    "    \n",
    "    inargs = ['table={0}'.format(event_list_file), \n",
    "              'withimageset=yes',\n",
    "              'imageset={0}'.format(image_file), \n",
    "              'xcolumn=X', \n",
    "              'ycolumn=Y', \n",
    "              'imagebinning=imageSize', \n",
    "              'ximagesize=600', \n",
    "              'yimagesize=600']\n",
    "\n",
    "    MyTask('evselect', inargs).run()\n",
    "\n",
    "    hdu = fits.open(image_file)[0]\n",
    "    wcs = WCS(hdu.header)\n",
    "\n",
    "    ax = plt.subplot(projection=wcs)\n",
    "    plt.imshow(hdu.data, origin='lower', norm='log', vmin=1.0, vmax=1e2)\n",
    "    ax.set_facecolor(\"black\")\n",
    "    plt.grid(color='blue', ls='solid')\n",
    "    plt.xlabel('RA')\n",
    "    plt.ylabel('Dec')\n",
    "    plt.colorbar()\n",
    "    plt.show()\n",
    "```\n",
    "\n",
    "As a default `quick_eplot` creates a file named \"image.fits\" and this file will be overwritten each time the function is called. If you want your image file to have a unique name then use the function input \"image_file\". For example:\n",
    "\n",
    "```python\n",
    "my_obs.quick_eplot('event_list_file.fits', image_file='my_special_image.fits')\n",
    "```\n",
    "\n",
    "---\n",
    "The input arguments to `evselect` to create a FITS image file are:\n",
    "\n",
    "    table - input event list file name\n",
    "    withimageset - make an image\n",
    "    imageset - name of output image file\n",
    "    xcolumn - event column for X axis\n",
    "    ycolumn - event column for Y axis\n",
    "    imagebinning - form of binning, force entire image into a given size or bin by a specified number of pixels\n",
    "    ximagesize - output image pixels in X\n",
    "    yimagesize - output image pixels in Y"
   ]
  },
  {
   "cell_type": "markdown",
   "id": "c8cec062-5600-43bf-9df7-ffaac8e438ce",
   "metadata": {
    "lines_to_next_cell": 0
   },
   "source": [
    "We also define a function to make plotting light curves simpler. As with the function `make_fits_image` it uses `evselect` to create the light curve. It also creates a default light curve FITS file.\n",
    "\n",
    "The input arguments to `evselect` to create a light curve file are:\n",
    "\n",
    "    table - input event table\n",
    "    withrateset - make a light curve\n",
    "    rateset - name of output light curve file\n",
    "    maketimecolumn - control to create a time column\n",
    "    timecolumn - time column label\n",
    "    timebinsize - time binning (seconds)\n",
    "    makeratecolumn - control to create a count rate column, otherwise a count column will be created"
   ]
  },
  {
   "cell_type": "markdown",
   "id": "e12e51a6-5bca-4e8b-b2db-6a52f3a98dbe",
   "metadata": {},
   "source": [
    "<div class=\"alert alert-block alert-info\">\n",
    "    <b>Note:</b>For this notebook we will be using a function named 'quick_lcplot' that is part of the 'ObsID' object for quick light curve plotting. The equivelent code is shown below:\n",
    "</div>\n",
    "\n",
    "```python\n",
    "def plot_light_curve(event_list_file, light_curve_file='ltcrv.fits'):\n",
    "                     \n",
    "    inargs = {'table'          : event_list_file, \n",
    "              'withrateset'    : 'yes', \n",
    "              'rateset'        : light_curve_file, \n",
    "              'maketimecolumn' : 'yes', \n",
    "              'timecolumn'     : 'TIME', \n",
    "              'timebinsize'    : '100', \n",
    "              'makeratecolumn' : 'yes'}\n",
    "\n",
    "    MyTask('evselect', inargs).run()\n",
    "\n",
    "    ts = Table.read(light_curve_file,hdu=1)\n",
    "    plt.plot(ts['TIME'],ts['RATE'])\n",
    "    plt.xlabel('Time (s)')\n",
    "    plt.ylabel('Count Rate (ct/s)')\n",
    "    plt.show()\n",
    "```"
   ]
  },
  {
   "cell_type": "markdown",
   "id": "06ec0af5",
   "metadata": {},
   "source": [
    "We need to change into the work directory to run the next SAS tasks. We also get the name and path to the event list file created in §6.1."
   ]
  },
  {
   "cell_type": "code",
   "execution_count": null,
   "id": "712b1530",
   "metadata": {},
   "outputs": [],
   "source": [
    "os.chdir(my_obs.work_dir)\n",
    "mos1 = my_obs.files['M1evt_list'][0]"
   ]
  },
  {
   "cell_type": "markdown",
   "id": "709c7207",
   "metadata": {},
   "source": [
    "Here we plot an image of the raw data with no filters applied. The image should be very noisy."
   ]
  },
  {
   "cell_type": "code",
   "execution_count": null,
   "id": "a9cacccb",
   "metadata": {},
   "outputs": [],
   "source": [
    "my_obs.quick_eplot(mos1)"
   ]
  },
  {
   "cell_type": "markdown",
   "id": "d0c0463e",
   "metadata": {},
   "source": [
    "## 4. Apply Standard Filter"
   ]
  },
  {
   "cell_type": "markdown",
   "id": "b891293e",
   "metadata": {
    "lines_to_next_cell": 0
   },
   "source": [
    "To begin we apply a standard filter. The filtering expressions for the MOS and PN are, respectively:\n",
    "```\n",
    "(PATTERN $<=$ 12)&&(PI in [200:12000])&&#XMMEA_EM\n",
    "```\n",
    "and\n",
    "```\n",
    "(PATTERN $<=$ 4)&&(PI in [200:15000])&&#XMMEA_EP\n",
    "```\n",
    "The first two expressions will select good events with `PATTERN` in the 0 to 12 (or 0 to 4) range. The `PATTERN` value is similar the `GRADE` selection for ASCA data, and is related to the number and pattern of the CCD pixels triggered for a given event. The `PATTERN` assignments are: single pixel events: `PATTERN == 0`, double pixel events: `PATTERN in [1:4]`, triple and quadruple events: `PATTERN in [5:12]`.\n",
    "\n",
    "The second keyword in the expressions, `PI`, selects the preferred pulse height of the event; for the MOS, this should be between 200 and 12000 eV. For the PN, this should be between 200 and 15000 eV. This should clean up the image significantly with most of the rest of the obvious contamination due to low pulse height events. Setting the lower `PI` channel limit somewhat higher (e.g., to 300 eV) will eliminate much of the rest.\n",
    "\n",
    "Finally, the `#XMMEA_EM` (`#XMMEA_EP` for the PN) filter provides a canned screening set of `FLAG` values for the event. The `FLAG` value provides a bit encoding of various event conditions, e.g., near hot pixels or outside of the field of view. Setting `FLAG == 0` in the selection expression provides the most conservative screening criteria and should always be used when serious spectral analysis is to be done on the PN. It typically is not necessary for the MOS.\n",
    "\n",
    "It is a good idea to keep the output filtered event files and use them in your analyses, as opposed to re-filtering the original file with every task. This will save much time and computer memory. As an example, the Lockman Hole data's original event file is 48.4 MB; the fully filtered list (that is, filtered spatially, temporally, and spectrally) is only 4.0MB!\n",
    "\n",
    "The input arguments to `evselect` to apply the filter are:\n",
    "\n",
    "    table - input event table\n",
    "    filtertype - method of filtering\n",
    "    expression - filtering expression\n",
    "    withfilteredset - create a filtered set\n",
    "    filteredset - output file name\n",
    "    keepfilteroutput - save the filtered output\n",
    "    updateexposure - update exposure information in event list and in spectrum files\n",
    "    filterexposure - filter exposure extensions of event list with same time\n"
   ]
  },
  {
   "cell_type": "code",
   "execution_count": null,
   "id": "e86f2e25",
   "metadata": {
    "scrolled": true
   },
   "outputs": [],
   "source": [
    "filtered_event_list = 'mos1_filt.fits'\n",
    "\n",
    "inargs = {'table'           : mos1, \n",
    "          'withfilteredset' : 'yes', \n",
    "          \"expression\"      : \"'(PATTERN <= 12)&&(PI in [200:4000])&&#XMMEA_EM'\", \n",
    "          'filteredset'     : filtered_event_list, \n",
    "          'filtertype'      : 'expression', \n",
    "          'keepfilteroutput': 'yes', \n",
    "          'updateexposure'  : 'yes', \n",
    "          'filterexposure'  : 'yes'}\n",
    "\n",
    "MyTask('evselect', inargs).run()"
   ]
  },
  {
   "cell_type": "markdown",
   "id": "43808379",
   "metadata": {},
   "source": [
    "<div class=\"alert alert-block alert-info\">\n",
    "    <b>Note:</b> The expression for the input <tt>expression</tt> contains single quotes ('text'). The entire string needs to be surrounded by double quotes (\"text\") to preserve the single quotes inside the string. i.e. \"This text has 'single quotes' inside of the double quotes.\"\n",
    "</div>"
   ]
  },
  {
   "cell_type": "markdown",
   "id": "0e81d462",
   "metadata": {},
   "source": [
    "Now we plot the filtered image. It should have less noise now."
   ]
  },
  {
   "cell_type": "code",
   "execution_count": null,
   "id": "4faf3424",
   "metadata": {},
   "outputs": [],
   "source": [
    "my_obs.quick_eplot(filtered_event_list)"
   ]
  },
  {
   "cell_type": "markdown",
   "id": "04d0a04b",
   "metadata": {
    "editable": true,
    "slideshow": {
     "slide_type": ""
    },
    "tags": []
   },
   "source": [
    "## 5. Create Light Curve"
   ]
  },
  {
   "cell_type": "markdown",
   "id": "dc246912",
   "metadata": {},
   "source": [
    "Sometimes, it is necessary to use filters on time in addition to those mentioned above. This is because of soft proton background flaring, which can have count rates of 100 counts/sec or higher across the entire bandpass. It should be noted that the amount of flaring that needs to be removed depends in part on the object observed; a faint, extended object will be more affected than a very bright X-ray source.\n",
    "\n",
    "To see if background flaring should be removed we plot and examine the light curve."
   ]
  },
  {
   "cell_type": "code",
   "execution_count": null,
   "id": "fa61a92c",
   "metadata": {},
   "outputs": [],
   "source": [
    "light_curve_file='mos1_ltcrv.fits'\n",
    "my_obs.quick_lcplot(filtered_event_list,light_curve_file=light_curve_file)"
   ]
  },
  {
   "cell_type": "markdown",
   "id": "cf706e47",
   "metadata": {},
   "source": [
    "Taking a look at the light curve, we can see that there is a very large flare toward the end of the observation and two much smaller ones in the middle of the exposure. Examining the light curve shows us that during non-flare times, the count rate is quite low, about 1.3 ct/s, with a small increase at 7.3223e7 seconds to about 6 ct/s. We can use that to further filter the data."
   ]
  },
  {
   "cell_type": "markdown",
   "id": "3afc6fca",
   "metadata": {},
   "source": [
    "## 6. Applying Time or Rate Filters to the Data"
   ]
  },
  {
   "cell_type": "markdown",
   "id": "92f18413",
   "metadata": {},
   "source": [
    "There are many ways to filter the data. We will demonstrate four different methods. The first three methods will create a Good Time Interval (GTI) file which can then be used as an input to the command `evselect`. This will create a new, filtered, event list.\n",
    "\n",
    "1. Create a secondary GTI file using the command `tabgtigen` and filter on `RATE`.\n",
    "2. Create a secondary GTI file using the command `tabgtigen` and filter on `TIME`.\n",
    "3. Create a *new* GTI file using the command `gtibuild` and filter on `TIME`.\n",
    "4. Filter on `TIME` using an explicit reference in the inputs to the command `evselect`.\n",
    "\n",
    "For the last method the user explicitly inputs the time intervals to be used as an expression for the command `evselect` rather than using a separate GTI file. All of these will get the job done, so which to use is a matter of the user's preference."
   ]
  },
  {
   "cell_type": "markdown",
   "id": "ce7efbc9",
   "metadata": {},
   "source": [
    "#### Using `tabgtigen` to filter on `RATE`"
   ]
  },
  {
   "cell_type": "markdown",
   "id": "3a663b84",
   "metadata": {},
   "source": [
    "The inputs for `tabgtigen` are:\n",
    "\n",
    "    table - input file name with count rate table\n",
    "    gtiset - output file name for selected GTI intervals\n",
    "    timecolumn - time column\n",
    "    expression - filtering expression\n",
    "    \n",
    "We choose a rate $<= 6$ counts/s and filter based on that. As the input we use the lightcurve file created in §6.4."
   ]
  },
  {
   "cell_type": "code",
   "execution_count": null,
   "id": "05b51e45",
   "metadata": {
    "scrolled": true
   },
   "outputs": [],
   "source": [
    "gti_rate_file = 'gti_rate.fits'\n",
    "mos1_filt_rate = 'mos1_filt_rate.fits'\n",
    "\n",
    "inargs = {'table'      : light_curve_file, \n",
    "          'gtiset'     : gti_rate_file,\n",
    "          'timecolumn' : 'TIME', \n",
    "          \"expression\" : \"'(RATE <= 6)'\"}\n",
    "\n",
    "MyTask('tabgtigen', inargs).run()\n",
    "\n",
    "inargs = {'table'           : filtered_event_list,\n",
    "          'withfilteredset' : 'yes', \n",
    "          \"expression\"      : \"'GTI({0},TIME)'\".format(gti_rate_file), \n",
    "          'filteredset'     : mos1_filt_rate,\n",
    "          'filtertype'      : 'expression', \n",
    "          'keepfilteroutput': 'yes',\n",
    "          'updateexposure'  : 'yes', \n",
    "          'filterexposure'  : 'yes'}\n",
    "\n",
    "MyTask('evselect', inargs).run()"
   ]
  },
  {
   "cell_type": "markdown",
   "id": "7109ef8d",
   "metadata": {},
   "source": [
    "Now we create an image from the new event list that has been filtered based on `RATE`. There should be significantly less noise and only point sources should remain. Compare this final image to the first raw, unfilted image."
   ]
  },
  {
   "cell_type": "code",
   "execution_count": null,
   "id": "c73e2200",
   "metadata": {},
   "outputs": [],
   "source": [
    "my_obs.quick_eplot(mos1_filt_rate, image_file='final_image1.fits')"
   ]
  },
  {
   "cell_type": "markdown",
   "id": "819f4b24",
   "metadata": {},
   "source": [
    "We can also create a new light curve from the filtered event list and compare it to the light curve from §6.4 to see what we have done."
   ]
  },
  {
   "cell_type": "code",
   "execution_count": null,
   "id": "e4a4b8aa",
   "metadata": {},
   "outputs": [],
   "source": [
    "my_obs.quick_lcplot(mos1_filt_rate)"
   ]
  },
  {
   "cell_type": "markdown",
   "id": "51780ebc",
   "metadata": {},
   "source": [
    "#### Using `tabgtigen` to filter on `TIME`"
   ]
  },
  {
   "cell_type": "markdown",
   "id": "f349e653",
   "metadata": {},
   "source": [
    "Alternatively, we could have chosen to make a new GTI file by noting the times of the flaring in the light curve and using that as a filtering parameter. The big flare starts around 7.32276e7 s, and the smaller ones are at 7.32119e7 s and 7.32205e7 s. The expression to remove these would be `(TIME <= 73227600)&&!(TIME IN [7.32118e7:7.3212e7])&&!(TIME IN [7.32204e7:7.32206e7])`. The syntax `(TIME <= 73227600)` includes only events with times less than or equal to `73227600`, and the \"!\" symbol stands for the logical \"not\", so use `&&!(TIME in [7.32118e7:7.3212e7])` to exclude events in that time interval. Once the new GTI file is made, we apply it with `evselect`. Everything else remains the same as in §6.5.1."
   ]
  },
  {
   "cell_type": "code",
   "execution_count": null,
   "id": "f30eed59",
   "metadata": {
    "scrolled": true
   },
   "outputs": [],
   "source": [
    "gti_time_file = 'gti_rate.fits'\n",
    "mos1_filt_time = 'mos1_filt_time.fits'\n",
    "\n",
    "inargs = {'table'      : light_curve_file, \n",
    "          'gtiset'     : gti_time_file,\n",
    "          'timecolumn' : 'TIME', \n",
    "          \"expression\" : \"'(TIME <= 73227600)&&!(TIME IN [7.32118e7:7.3212e7])&&!(TIME IN [7.32204e7:7.32206e7])'\"}\n",
    "\n",
    "MyTask('tabgtigen', inargs).run()\n",
    "\n",
    "inargs = {'table'           : filtered_event_list,\n",
    "          'withfilteredset' : 'yes', \n",
    "          \"expression\"      : \"'GTI({0},TIME)'\".format(gti_rate_file), \n",
    "          'filteredset'     : mos1_filt_time,\n",
    "          'filtertype'      : 'expression', \n",
    "          'keepfilteroutput': 'yes',\n",
    "          'updateexposure'  : 'yes', \n",
    "          'filterexposure'  : 'yes'}\n",
    "\n",
    "MyTask('evselect', inargs).run()"
   ]
  },
  {
   "cell_type": "markdown",
   "id": "45b9be8a",
   "metadata": {},
   "source": [
    "We can now plot the image that has been filtered on `TIME` and compare it to the image that was been filtered on `RATE` from §6.5.1."
   ]
  },
  {
   "cell_type": "code",
   "execution_count": null,
   "id": "6edd0dc4",
   "metadata": {},
   "outputs": [],
   "source": [
    "my_obs.quick_eplot(mos1_filt_time, image_file='final_image2.fits')\n",
    "my_obs.quick_lcplot(mos1_filt_time)"
   ]
  },
  {
   "cell_type": "markdown",
   "id": "40963514",
   "metadata": {},
   "source": [
    "#### Using `gtibuild` to make a new GTI file and filter on `TIME`"
   ]
  },
  {
   "cell_type": "markdown",
   "id": "33fddd58",
   "metadata": {},
   "source": [
    "This method requires a text file as input. The file should be in ASCII format with eash row on a new line and values for each column separated by spaces. In the first two columns, enter the start and end times (in seconds) that you are interested in, and in the third column, indicate with either a + or - sign whether that region should be kept or removed. Each good (or bad) time interval should get its own line, with any optional comments preceeded by a \"#\". In the example case, we would write in our ASCII file (named gti.txt):"
   ]
  },
  {
   "cell_type": "code",
   "execution_count": null,
   "id": "766d47dc",
   "metadata": {},
   "outputs": [],
   "source": [
    "gti_txt_file = 'gti.txt'\n",
    "\n",
    "gti_lines = ['0        73227600 + # Good time from the start of the observation',\n",
    "             '73211800 73212000 - # But without a small flare here.',\n",
    "             '73220400 73220600 - # And here.']\n",
    "\n",
    "with open(gti_txt_file, 'w') as f:\n",
    "    f.writelines(gti_lines)"
   ]
  },
  {
   "cell_type": "markdown",
   "id": "2529d105",
   "metadata": {
    "lines_to_next_cell": 0
   },
   "source": [
    "We can now run `gtibuild` to create a new GTI file.\n",
    "\n",
    "---\n",
    "The inputs for `gtibuild` are:\n",
    "\n",
    "    file - input text file name\n",
    "    table - output GTI file name\n"
   ]
  },
  {
   "cell_type": "code",
   "execution_count": null,
   "id": "faaa7275",
   "metadata": {},
   "outputs": [],
   "source": [
    "new_gti_file = 'new_gti.fits'\n",
    "\n",
    "inargs = {'file'  : gti_txt_file,\n",
    "          'table' : new_gti_file}\n",
    "\n",
    "MyTask('gtibuild', inargs).run()"
   ]
  },
  {
   "cell_type": "markdown",
   "id": "a4cc56d0",
   "metadata": {},
   "source": [
    "We can now run `evselect` as before with the new GTI file."
   ]
  },
  {
   "cell_type": "code",
   "execution_count": null,
   "id": "e7c6c9e7",
   "metadata": {
    "scrolled": true
   },
   "outputs": [],
   "source": [
    "mos1_new_gti = 'mos1_new_gti.fits'\n",
    "\n",
    "inargs = {'table'           : filtered_event_list,\n",
    "          'withfilteredset' : 'yes', \n",
    "          \"expression\"      : \"'GTI({0},TIME)'\".format(new_gti_file), \n",
    "          'filteredset'     : mos1_new_gti,\n",
    "          'filtertype'      : 'expression', \n",
    "          'keepfilteroutput': 'yes',\n",
    "          'updateexposure'  : 'yes', \n",
    "          'filterexposure'  : 'yes'}\n",
    "\n",
    "MyTask('evselect', inargs).run()"
   ]
  },
  {
   "cell_type": "markdown",
   "id": "6c94d244",
   "metadata": {},
   "source": [
    "If you want, you can compare the new image and light curve to what was made previously."
   ]
  },
  {
   "cell_type": "code",
   "execution_count": null,
   "id": "07af1821",
   "metadata": {},
   "outputs": [],
   "source": [
    "my_obs.quick_eplot(mos1_new_gti, image_file='final_image3.fits')\n",
    "my_obs.quick_lcplot(mos1_new_gti)"
   ]
  },
  {
   "cell_type": "markdown",
   "id": "421d8f29",
   "metadata": {
    "editable": true,
    "slideshow": {
     "slide_type": ""
    },
    "tags": []
   },
   "source": [
    "#### Filter on `TIME` by Explicit Reference"
   ]
  },
  {
   "cell_type": "markdown",
   "id": "a3a27a3e",
   "metadata": {},
   "source": [
    "Finally, we could have chosen to forgo making a secondary GTI file altogether, and simply filtered on `TIME` with the standard filtering expression (see §6.3). The filtering expression from §6.3 can be combined with the filtering expression from §6.5.2 and filter the raw data all in one step. In this case, the full filtering expression would be:"
   ]
  },
  {
   "cell_type": "code",
   "execution_count": null,
   "id": "ac058795",
   "metadata": {},
   "outputs": [],
   "source": [
    "expression = \"'(PATTERN <= 12)&&(PI in [200:12000])&&#XMMEA_EM&&(TIME <= 73227600) &&!(TIME IN [7.32118e7:7.3212e7])&&!(TIME IN [7.32204e7:7.32206e7])'\""
   ]
  },
  {
   "cell_type": "markdown",
   "id": "464f8971",
   "metadata": {},
   "source": [
    "and we would run `evselect` as the same way we did in §6.3."
   ]
  },
  {
   "cell_type": "code",
   "execution_count": null,
   "id": "e1ca02d4",
   "metadata": {
    "scrolled": true
   },
   "outputs": [],
   "source": [
    "full_filt_event_list = 'mos1_filt.fits'\n",
    "\n",
    "inargs = {'table'           : mos1,\n",
    "          'withfilteredset' : 'yes', \n",
    "          \"expression\"      : expression, \n",
    "          'filteredset'     : full_filt_event_list,\n",
    "          'filtertype'      : 'expression', \n",
    "          'keepfilteroutput': 'yes',\n",
    "          'updateexposure'  : 'yes', \n",
    "          'filterexposure'  : 'yes'}\n",
    "\n",
    "MyTask('evselect', inargs).run()"
   ]
  },
  {
   "cell_type": "markdown",
   "id": "1dad0b35",
   "metadata": {},
   "source": [
    "Finally we can compare the result with what we made before."
   ]
  },
  {
   "cell_type": "code",
   "execution_count": null,
   "id": "da2115cb",
   "metadata": {},
   "outputs": [],
   "source": [
    "my_obs.quick_eplot(full_filt_event_list, image_file='final_image4.fits')\n",
    "my_obs.quick_lcplot(full_filt_event_list)"
   ]
  },
  {
   "cell_type": "markdown",
   "id": "9f94e677",
   "metadata": {},
   "source": [
    "## 7. Conclusion\n",
    "\n",
    "We have demonstrated various filtering techniques to remove noise from the raw observation data. Note: How you filter on `RATE` or `TIME` will depend on the light curve of each individual observation. For exceptionally bright sources you may only have to apply the standard filter.\n",
    "\n",
    "To continue on from here, the next Jupyter Notebook in the series covers [source detection, spectra extraction, pile up, and preparing the spectra for analysis](./analysis-xmm-ABC-guide-EPIC-source-spectrum.ipynb) by creating a redistribution matrix file (RMF) and an ancillary response file (ARF)."
   ]
  },
  {
   "cell_type": "markdown",
   "id": "c99bb322",
   "metadata": {},
   "source": [
    "Below we have included a short script that incorporates all of the filtering steps for a single observation for MOS1, but without making any plots or image files. "
   ]
  },
  {
   "cell_type": "markdown",
   "id": "7d76281e-08c0-4d4d-9fca-35bccd04c07c",
   "metadata": {
    "editable": true,
    "slideshow": {
     "slide_type": ""
    },
    "tags": []
   },
   "source": [
    "```python\n",
    "obsid = '0123700101'\n",
    "my_obs = pysas.obsid.ObsID(obsid)\n",
    "my_obs.basic_setup(overwrite=False,repo='sciserver',rerun=False)\n",
    "\n",
    "os.chdir(my_obs.work_dir)\n",
    "unfiltered_event_list = my_obs.files['m1evt_list'][0]\n",
    "\n",
    "# The User can change these file names\n",
    "temporary_event_list = 'temporary_event_list.fits' # Created by the \"standard\" filter\n",
    "light_curve_file = 'mos1_ltcrv.fits'               # Light curve file name\n",
    "gti_rate_file = 'gti_rate.fits'                    # GTI file name\n",
    "filtered_event_list = 'filtered_event_list.fits'   # Final filtered \n",
    "\n",
    "# \"Standard\" Filter\n",
    "inargs = {'table'           : unfiltered_event_list, \n",
    "          'withfilteredset' : 'yes', \n",
    "          \"expression\"      : \"'(PATTERN <= 12)&&(PI in [200:4000])&&#XMMEA_EM'\", \n",
    "          'filteredset'     : temporary_event_list, \n",
    "          'filtertype'      : 'expression', \n",
    "          'keepfilteroutput': 'yes', \n",
    "          'updateexposure'  : 'yes', \n",
    "          'filterexposure'  : 'yes'}\n",
    "\n",
    "MyTask('evselect', inargs).run()\n",
    "\n",
    "# Make Light Curve File\n",
    "inargs = {'table'          : temporary_event_list, \n",
    "          'withrateset'    : 'yes', \n",
    "          'rateset'        : light_curve_file, \n",
    "          'maketimecolumn' : 'yes', \n",
    "          'timecolumn'     : 'TIME', \n",
    "          'timebinsize'    : '100', \n",
    "          'makeratecolumn' : 'yes'}\n",
    "\n",
    "MyTask('evselect', inargs).run()\n",
    "\n",
    "# Make Secondary GTI File\n",
    "# Chose the rate based on the plot from the light curve file\n",
    "filter_rate = 6\n",
    "inargs = {'table'      : light_curve_file, \n",
    "          'gtiset'     : gti_rate_file,\n",
    "          'timecolumn' : 'TIME', \n",
    "          \"expression\" : \"'(RATE <= {0})'\".format(filter_rate)}\n",
    "\n",
    "MyTask('tabgtigen', inargs).run()\n",
    "\n",
    "# Filter Using Secondary GTI File\n",
    "inargs = {'table'           : temporary_event_list,\n",
    "          'withfilteredset' : 'yes', \n",
    "          \"expression\"      : \"'GTI({0},TIME)'\".format(gti_rate_file), \n",
    "          'filteredset'     : filtered_event_list,\n",
    "          'filtertype'      : 'expression', \n",
    "          'keepfilteroutput': 'yes',\n",
    "          'updateexposure'  : 'yes', \n",
    "          'filterexposure'  : 'yes'}\n",
    "\n",
    "MyTask('evselect', inargs).run()\n",
    "```"
   ]
  }
 ],
 "metadata": {
  "kernelspec": {
   "display_name": "sas",
   "language": "python",
   "name": "sas"
  },
  "language_info": {
   "codemirror_mode": {
    "name": "ipython",
    "version": 3
   },
   "file_extension": ".py",
   "mimetype": "text/x-python",
   "name": "python",
   "nbconvert_exporter": "python",
   "pygments_lexer": "ipython3",
   "version": "3.12.11"
  }
 },
 "nbformat": 4,
 "nbformat_minor": 5
}
