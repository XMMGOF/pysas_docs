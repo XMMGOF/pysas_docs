{
 "cells": [
  {
   "cell_type": "markdown",
   "id": "bdb19873-ebb3-470d-835c-ebc1ade5166c",
   "metadata": {},
   "source": [
    "# XMM-Newton Event List Structure\n",
    "<hr style=\"border: 2px solid #fadbac\" />\n",
    "\n",
    "- **Description:** A basic guide to the internal structure of an XMM-Newton event list.\n",
    "- **Level:** Intermediate\n",
    "- **Data:** A random XMM observation (obsid=0079570201).\n",
    "- **Requirements:** Must be run using pySAS version 2.2.2 or higher.\n",
    "- **Credit:** Ryan Tanner (October 2025)\n",
    "- **Support:** <a href=\"https://heasarc.gsfc.nasa.gov/docs/xmm/xmm_helpdesk.html\">XMM Newton GOF Helpdesk</a>\n",
    "- **Last verified to run:** 17 October 2025, for SAS v22.1 and pySAS v2.2.2\n",
    "\n",
    "<hr style=\"border: 2px solid #fadbac\" />"
   ]
  },
  {
   "cell_type": "markdown",
   "id": "cc8367e6-a0e1-407f-b75c-8c2d29845925",
   "metadata": {},
   "source": [
    "## 1. Introduction\n",
    "\n",
    "The event list is the main data product for X-ray astronomy. But, unless you get very deep into the weeds of X-ray analisys you will never actually interact directly with the contents of an event list.\n",
    "\n",
    "This is a **very** basic field guide to the weeds for when you eventually go there. The XMM event list is a FITS file and can be accessed using `astropy`'s FITS file handling module, `astropy.io.fits`. You can find more information about that [at this link](https://docs.astropy.org/en/stable/io/fits/index.html).\n",
    "\n",
    "#### Useful Links\n",
    "\n",
    "- [`pysas` Documentation](https://xmm-tools.cosmos.esa.int/external/sas/current/doc/pysas/index.html \"pysas Documentation\")\n",
    "- [`pysas` on GitHub](https://github.com/XMMGOF/pysas)\n",
    "- [Common SAS Threads](https://www.cosmos.esa.int/web/xmm-newton/sas-threads/ \"SAS Threads\")\n",
    "- [Users' Guide to the XMM-Newton Science Analysis System (SAS)](https://xmm-tools.cosmos.esa.int/external/xmm_user_support/documentation/sas_usg/USG/SASUSG.html \"Users' Guide\")\n",
    "- [The XMM-Newton ABC Guide](https://heasarc.gsfc.nasa.gov/docs/xmm/abc/ \"ABC Guide\")\n",
    "- [XMM Newton GOF Helpdesk](https://heasarc.gsfc.nasa.gov/docs/xmm/xmm_helpdesk.html \"Helpdesk\") - Link to form to contact the GOF Helpdesk.\n",
    "\n",
    "<div class=\"alert alert-block alert-warning\">\n",
    "    <b>Warning:</b> By default this notebook will place observation data files in your default <tt>data_dir</tt> directory. Make sure pySAS has been configured properly.\n",
    "</div>"
   ]
  },
  {
   "cell_type": "code",
   "execution_count": null,
   "id": "b75c8e8f-98e4-4238-a3ad-8185584d94f1",
   "metadata": {},
   "outputs": [],
   "source": [
    "# pySAS imports\n",
    "import pysas\n",
    "from pysas import MyTask\n",
    "\n",
    "# Useful imports\n",
    "import os\n",
    "\n",
    "# Astropy imports\n",
    "from astropy.io import fits\n",
    "\n",
    "# To handle certain warnings\n",
    "import warnings\n",
    "warnings.filterwarnings(\"ignore\")"
   ]
  },
  {
   "cell_type": "markdown",
   "id": "81e9bab5-2dd8-4e29-8ff9-2d295635bfc5",
   "metadata": {},
   "source": [
    "We will start by downloading the ODFs for a single observation, calibrating it, and then running `epproc` to create a basic event list."
   ]
  },
  {
   "cell_type": "code",
   "execution_count": null,
   "id": "44429075-3fee-4cdc-9313-76f1abd28729",
   "metadata": {
    "scrolled": true
   },
   "outputs": [],
   "source": [
    "obsid = '0079570201'\n",
    "my_obs = pysas.ObsID(obsid)\n",
    "my_obs.basic_setup(overwrite=False,\n",
    "                   rerun=False,\n",
    "                   run_emproc=False,\n",
    "                   run_rgsproc=False)"
   ]
  },
  {
   "cell_type": "markdown",
   "id": "e882e464-d05b-4fd7-9162-0166992bea18",
   "metadata": {},
   "source": [
    "## 2. Loading the Event List\n",
    "\n",
    "After this is finished you should have a single event list for the pn."
   ]
  },
  {
   "cell_type": "code",
   "execution_count": null,
   "id": "df9ff1c8-cfe3-4443-9e7d-c669ecd05f9c",
   "metadata": {},
   "outputs": [],
   "source": [
    "event_list = my_obs.files['PNevt_list'][0]\n",
    "print(event_list)"
   ]
  },
  {
   "cell_type": "markdown",
   "id": "df7a173a-10f7-490b-b460-34577a211cdf",
   "metadata": {},
   "source": [
    "Even though the file extension is `.ds`, it is in the FITS format. Let's load the event list and take a look at what is in there."
   ]
  },
  {
   "cell_type": "code",
   "execution_count": null,
   "id": "c2c9c1db-7d03-4013-82ae-f3767c74b05e",
   "metadata": {},
   "outputs": [],
   "source": [
    "hdu = fits.open(event_list)"
   ]
  },
  {
   "cell_type": "markdown",
   "id": "31613733-b0df-4564-beb5-591cb9c98505",
   "metadata": {},
   "source": [
    "## 3. Header Info\n",
    "\n",
    "We can list the basic info for the FITS file using the `info` method. Here we see that the file contains 64 Header/Data Units (HDUs). "
   ]
  },
  {
   "cell_type": "code",
   "execution_count": null,
   "id": "b0e5c6a1-c729-407c-a47f-81863cc17b0a",
   "metadata": {},
   "outputs": [],
   "source": [
    "hdu.info()"
   ]
  },
  {
   "cell_type": "markdown",
   "id": "a3910c2b-85bc-4ab7-8ef2-f3d147c66727",
   "metadata": {},
   "source": [
    "The primary HDU contains all the basic information about the FITS file, what it contains, how it was created, and information on the observation."
   ]
  },
  {
   "cell_type": "code",
   "execution_count": null,
   "id": "5b2e5d87-ebb8-473a-be9f-cd724809b33a",
   "metadata": {
    "scrolled": true
   },
   "outputs": [],
   "source": [
    "primary_header = hdu[0].header\n",
    "primary_header"
   ]
  },
  {
   "cell_type": "markdown",
   "id": "a9e5832c-58d1-4b1f-a69f-3f3031ac0fc2",
   "metadata": {},
   "source": [
    "You can access the values like you would access values in a standard Python dictionary."
   ]
  },
  {
   "cell_type": "code",
   "execution_count": null,
   "id": "64928de1-0f0e-4d8b-a25f-107fc2f1dc5e",
   "metadata": {},
   "outputs": [],
   "source": [
    "primary_header['OBS_ID']"
   ]
  },
  {
   "cell_type": "code",
   "execution_count": null,
   "id": "bd99d8cd-e418-417f-a05f-f33d618e6af9",
   "metadata": {},
   "outputs": [],
   "source": [
    "primary_header['INSTRUME']"
   ]
  },
  {
   "cell_type": "markdown",
   "id": "d397f1ea-3480-4844-a38a-93b92eb26ec9",
   "metadata": {},
   "source": [
    "One of the keywords, `XPROC0`, contains the actual SAS command run by `epproc` to create the FITS file."
   ]
  },
  {
   "cell_type": "code",
   "execution_count": null,
   "id": "df023bd4-e4d8-4e85-b883-104722e10883",
   "metadata": {},
   "outputs": [],
   "source": [
    "primary_header['XPROC0']"
   ]
  },
  {
   "cell_type": "markdown",
   "id": "e2b173b9-1a5c-4c5d-90ff-c0fec1d6b4b9",
   "metadata": {},
   "source": [
    "## 4. The Primary HDU\n",
    "\n",
    "Now let's take a look at the header for the first HDU after the primary HDU. This HDU contains the event data in the event list. "
   ]
  },
  {
   "cell_type": "code",
   "execution_count": null,
   "id": "cc814af6-f28a-4ae7-bd44-c82696310f97",
   "metadata": {},
   "outputs": [],
   "source": [
    "hdu[1].header"
   ]
  },
  {
   "cell_type": "markdown",
   "id": "b787f004-9ee2-4ea1-89cf-e19adcca816e",
   "metadata": {},
   "source": [
    "***\n",
    "The number of rows in the table is the number of events in the event list."
   ]
  },
  {
   "cell_type": "code",
   "execution_count": null,
   "id": "8cf2adfb-69a0-4d69-bb8f-43525ab12713",
   "metadata": {},
   "outputs": [],
   "source": [
    "nrows = hdu[1].header['NAXIS2']\n",
    "print(f'In this case there are {nrows} events in the event list.')"
   ]
  },
  {
   "cell_type": "markdown",
   "id": "90174da4-8c23-4434-b43a-f840ebd8038b",
   "metadata": {},
   "source": [
    "***\n",
    "You can access the actual data in the following way:"
   ]
  },
  {
   "cell_type": "code",
   "execution_count": null,
   "id": "de0e2b84-835b-4741-9d1c-a6ccc28b0277",
   "metadata": {},
   "outputs": [],
   "source": [
    "event_list_data = hdu[1].data\n",
    "print(f'The data is stored in a list with {len(event_list_data)} elements in the list.') "
   ]
  },
  {
   "cell_type": "markdown",
   "id": "44fdccd7-6a32-4731-af2b-7701b63b9c24",
   "metadata": {},
   "source": [
    "***\n",
    "The header for the HDU contains the information for the columns, that is, all the information associated with each event. We can display the names of the columns like this:"
   ]
  },
  {
   "cell_type": "code",
   "execution_count": null,
   "id": "ea568e08-d5e5-4355-85cd-303fc6c51ed4",
   "metadata": {},
   "outputs": [],
   "source": [
    "event_list_data.dtype"
   ]
  },
  {
   "cell_type": "markdown",
   "id": "99fa0846-f42b-40c5-b978-2024fef31697",
   "metadata": {},
   "source": [
    "## 5. The Raw Event Data\n",
    "\n",
    "We can look at the information for individual events by picking off a single element. For example the first element is,"
   ]
  },
  {
   "cell_type": "code",
   "execution_count": null,
   "id": "f2eb1347-b830-4fa6-865f-990354cdacc0",
   "metadata": {},
   "outputs": [],
   "source": [
    "event_list_data[0]"
   ]
  },
  {
   "cell_type": "markdown",
   "id": "c0c98483-deee-495f-9dba-482428c57c39",
   "metadata": {},
   "source": [
    "#### This is the raw data for a single event in the event list."
   ]
  },
  {
   "cell_type": "markdown",
   "id": "a8d60611-31f4-4021-a476-9e32d8491e28",
   "metadata": {},
   "source": [
    "## 6. Data Flags"
   ]
  },
  {
   "cell_type": "code",
   "execution_count": null,
   "id": "9e84b875-1768-4fc9-b318-641ac7e81234",
   "metadata": {},
   "outputs": [],
   "source": [
    "def filter_event_list(in_event_list,\n",
    "                      filter,\n",
    "                      filtered_event_list = 'filtered_event_list.fits'):\n",
    "\n",
    "    # Filter expression\n",
    "    expression = f'#{filter}'\n",
    "\n",
    "    inargs = {'table'           : in_event_list, \n",
    "              'withfilteredset' : 'yes', \n",
    "              \"expression\"      : expression, \n",
    "              'filteredset'     : filtered_event_list, \n",
    "              'filtertype'      : 'expression', \n",
    "              'keepfilteroutput': 'yes', \n",
    "              'updateexposure'  : 'yes', \n",
    "              'filterexposure'  : 'yes'}\n",
    "    \n",
    "    MyTask('evselect', inargs, output_to_terminal = False).run()\n",
    "\n",
    "    with fits.open(filtered_event_list) as hdu:\n",
    "        nrows = hdu[1].header['NAXIS2']\n",
    "        comment = hdu[1].header.comments[filter]\n",
    "    print(f'There are {nrows} events in the event list with the {filter} ({comment}) flag.')"
   ]
  },
  {
   "cell_type": "markdown",
   "id": "b1ff065d-9ec6-4bfe-8301-dd1d7e6f98db",
   "metadata": {},
   "source": [
    "Not all of the events in the event list are valid events for what we need. In the header for the event HDU is a list of different flags that each event may have.\n",
    "```\n",
    "XMMEA_0 = '(FLAG & 0x1) != 0'  / INVALID_PATTERN                                \n",
    "XMMEA_2 = '(FLAG & 0x4) != 0'  / CLOSE_TO_CCD_WINDOW                            \n",
    "XMMEA_3 = '(FLAG & 0x8) != 0'  / ON_OFFSET_COLUMN                               \n",
    "XMMEA_4 = '(FLAG & 0x10) != 0' / NEXT_TO_OFFSET_COLUMN                          \n",
    "XMMEA_5 = '(FLAG & 0x20) != 0' / CLOSE_TO_ONBOARD_BADPIX                        \n",
    "XMMEA_6 = '(FLAG & 0x40) != 0' / CLOSE_TO_BRIGHTPIX                             \n",
    "XMMEA_8 = '(FLAG & 0x100) != 0' / CLOSE_TO_DEADPIX                              \n",
    "XMMEA_11= '(FLAG & 0x800) != 0' / IN_SPOILED_FRAME                              \n",
    "XMMEA_16= '(FLAG & 0x10000) != 0' / OUT_OF_FOV                                  \n",
    "XMMEA_17= '(FLAG & 0x20000) != 0' / IN_BAD_FRAME                                \n",
    "XMMEA_19= '(FLAG & 0x80000) != 0' / COSMIC_RAY                                  \n",
    "XMMEA_20= '(FLAG & 0x100000) != 0' / MIP_ASSOCIATED                             \n",
    "XMMEA_21= '(FLAG & 0x200000) != 0' / ON_BADPIX                                  \n",
    "XMMEA_22= '(FLAG & 0x400000) != 0' / SECONDARY                                  \n",
    "XMMEA_23= '(FLAG & 0x800000) != 0' / TRAILING                                   \n",
    "XMMEA_25= '(FLAG & 0x2000000) != 0' / OUT_OF_CCD_WINDOW                         \n",
    "XMMEA_EP= '(FLAG & 0xcfa0000) == 0' / Select good PN events\n",
    "```\n",
    "\n",
    "<div class=\"alert alert-block alert-info\">\n",
    "<b>Note:</b> There are a total of 31 possible flags of the form <tt>'XMMEA_N'</tt> with <tt>'N'</tt> being an integer from 0 to 30 (<tt>N = 31</tt> is no flag). The flag `XMMEA_EP` is actually a combination of a number of different flags. Only the flags listed in the header of the HDU are found in that file.\n",
    "</div>"
   ]
  },
  {
   "cell_type": "code",
   "execution_count": null,
   "id": "309ec004-7bd9-417c-8f46-a64370288903",
   "metadata": {},
   "outputs": [],
   "source": [
    "with fits.open(event_list) as hduel:\n",
    "    nrows = hduel[1].header['NAXIS2']\n",
    "print(f'In total there are {nrows} events in the event list.\\n')\n",
    "filter_list = ['XMMEA_0','XMMEA_2','XMMEA_3','XMMEA_4','XMMEA_5',\n",
    "               'XMMEA_6','XMMEA_8','XMMEA_11','XMMEA_16','XMMEA_17',\n",
    "               'XMMEA_19','XMMEA_20','XMMEA_21','XMMEA_22','XMMEA_23',\n",
    "               'XMMEA_25','XMMEA_EP']\n",
    "for filter in filter_list:\n",
    "    filter_event_list(event_list,filter)"
   ]
  },
  {
   "cell_type": "markdown",
   "id": "e9c34506-a403-46d4-96c1-788c7b8f219a",
   "metadata": {},
   "source": [
    "***\n",
    "For example, the events flagged with an 'INVALID_PATTERN' would make an image that looks like this:"
   ]
  },
  {
   "cell_type": "code",
   "execution_count": null,
   "id": "6e0a3d45-21d1-4d94-b359-8d36efc294d3",
   "metadata": {},
   "outputs": [],
   "source": [
    "filter = 'XMMEA_0'\n",
    "filtered_event_list = 'filtered_event_list.fits'\n",
    "filter_event_list(event_list,filter,filtered_event_list=filtered_event_list)\n",
    "my_obs.quick_eplot(filtered_event_list,vmax=1)"
   ]
  },
  {
   "cell_type": "markdown",
   "id": "7f0f039a-c9f8-4298-a357-479976bc7547",
   "metadata": {},
   "source": [
    "***\n",
    "\n",
    "Below are several more plots of different flags."
   ]
  },
  {
   "cell_type": "code",
   "execution_count": null,
   "id": "cc4ab6c0-c6fc-44cb-b539-c930b39ceda0",
   "metadata": {},
   "outputs": [],
   "source": [
    "filter = 'XMMEA_2'\n",
    "filtered_event_list = 'filtered_event_list.fits'\n",
    "filter_event_list(event_list,filter,filtered_event_list=filtered_event_list)\n",
    "my_obs.quick_eplot(filtered_event_list,vmax=1)"
   ]
  },
  {
   "cell_type": "code",
   "execution_count": null,
   "id": "1cafba01-0d4c-4932-8c3e-c61ebd8ac4fe",
   "metadata": {},
   "outputs": [],
   "source": [
    "filter = 'XMMEA_3'\n",
    "filtered_event_list = 'filtered_event_list.fits'\n",
    "filter_event_list(event_list,filter,filtered_event_list=filtered_event_list)\n",
    "my_obs.quick_eplot(filtered_event_list,vmax=1)"
   ]
  },
  {
   "cell_type": "code",
   "execution_count": null,
   "id": "09d53f48-f208-4a4d-a6ed-26bee827fd1b",
   "metadata": {},
   "outputs": [],
   "source": [
    "filter = 'XMMEA_4'\n",
    "filtered_event_list = 'filtered_event_list.fits'\n",
    "filter_event_list(event_list,filter,filtered_event_list=filtered_event_list)\n",
    "my_obs.quick_eplot(filtered_event_list,vmax=1)"
   ]
  },
  {
   "cell_type": "code",
   "execution_count": null,
   "id": "0c8714be-db9b-47d9-9f2d-56f9a3c656b1",
   "metadata": {},
   "outputs": [],
   "source": [
    "filter = 'XMMEA_5'\n",
    "filtered_event_list = 'filtered_event_list.fits'\n",
    "filter_event_list(event_list,filter,filtered_event_list=filtered_event_list)\n",
    "my_obs.quick_eplot(filtered_event_list,vmax=1)"
   ]
  },
  {
   "cell_type": "code",
   "execution_count": null,
   "id": "5ed4cfd1-4687-4f6e-9495-0ab7556192d9",
   "metadata": {},
   "outputs": [],
   "source": [
    "filter = 'XMMEA_6'\n",
    "filtered_event_list = 'filtered_event_list.fits'\n",
    "filter_event_list(event_list,filter,filtered_event_list=filtered_event_list)\n",
    "my_obs.quick_eplot(filtered_event_list,vmax=1)"
   ]
  },
  {
   "cell_type": "code",
   "execution_count": null,
   "id": "7ddf1029-44e2-4b9a-aabc-ddb65a164645",
   "metadata": {},
   "outputs": [],
   "source": [
    "filter = 'XMMEA_16'\n",
    "filtered_event_list = 'filtered_event_list.fits'\n",
    "filter_event_list(event_list,filter,filtered_event_list=filtered_event_list)\n",
    "my_obs.quick_eplot(filtered_event_list,vmax=1)"
   ]
  },
  {
   "cell_type": "code",
   "execution_count": null,
   "id": "7fb8f8f8-44d2-4bfe-ad5f-ce6a49380343",
   "metadata": {},
   "outputs": [],
   "source": [
    "filter = 'XMMEA_21'\n",
    "filtered_event_list = 'filtered_event_list.fits'\n",
    "filter_event_list(event_list,filter,filtered_event_list=filtered_event_list)\n",
    "my_obs.quick_eplot(filtered_event_list,vmax=1)"
   ]
  },
  {
   "cell_type": "markdown",
   "id": "ac19c65b-aeaf-4a24-832f-1d52bf6c82ea",
   "metadata": {},
   "source": [
    "#### The \"Good\" Data\n",
    "\n",
    "The `XMMEA_EP` flag marks the \"good\" data. This is what is used for typical data analysis."
   ]
  },
  {
   "cell_type": "code",
   "execution_count": null,
   "id": "0290f99d-218a-416b-8a3b-a22bc65095e4",
   "metadata": {},
   "outputs": [],
   "source": [
    "filter = 'XMMEA_EP'\n",
    "filtered_event_list = 'filtered_event_list.fits'\n",
    "filter_event_list(event_list,filter,filtered_event_list=filtered_event_list)\n",
    "my_obs.quick_eplot(filtered_event_list,vmax=1000)"
   ]
  },
  {
   "cell_type": "markdown",
   "id": "6c54b14f-a09c-4b42-a3fe-708191307f17",
   "metadata": {},
   "source": [
    "## 7. Conclusion\n",
    "\n",
    "This is not a comprehensive guide to the XMM event list, but only a basic introduction of the structure of the event list. A full explanation of XMM data files can be [found at this link](https://xmm-tools.cosmos.esa.int/external/xmm_user_support/documentation/dfhb/). Using `astropy`'s FITS module you can explore the event list in more detail."
   ]
  }
 ],
 "metadata": {
  "kernelspec": {
   "display_name": "sas",
   "language": "python",
   "name": "sas"
  },
  "language_info": {
   "codemirror_mode": {
    "name": "ipython",
    "version": 3
   },
   "file_extension": ".py",
   "mimetype": "text/x-python",
   "name": "python",
   "nbconvert_exporter": "python",
   "pygments_lexer": "ipython3",
   "version": "3.12.11"
  }
 },
 "nbformat": 4,
 "nbformat_minor": 5
}
