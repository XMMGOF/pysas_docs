{
 "cells": [
  {
   "cell_type": "markdown",
   "id": "55f35aad",
   "metadata": {
    "editable": true,
    "slideshow": {
     "slide_type": ""
    },
    "tags": []
   },
   "source": [
    "# pySAS Introduction -- Long Version\n",
    "<hr style=\"border: 2px solid #fadbac\" />\n",
    "\n",
    "- **Description:** A longer introduction to pySAS.\n",
    "- **Level:** Beginner\n",
    "- **Data:** XMM observation of NGC 3079 (obsid=0802710101)\n",
    "- **Requirements:** Must be run using pySAS version 2.0.\n",
    "- **Credit:** Ryan Tanner (April 2024)\n",
    "- **Support:** <a href=\"https://heasarc.gsfc.nasa.gov/docs/xmm/xmm_helpdesk.html\">XMM Newton GOF Helpdesk</a>\n",
    "- **Last verified to run:** 21 July 2025, for SAS v22.1 and pySAS v2.0\n",
    "\n",
    "<hr style=\"border: 2px solid #fadbac\" />"
   ]
  },
  {
   "cell_type": "markdown",
   "id": "54d0543d",
   "metadata": {
    "editable": true,
    "slideshow": {
     "slide_type": ""
    },
    "tags": []
   },
   "source": [
    "## 1. Introduction\n",
    "\n",
    "This tutorial provides a much more detailed explanation on how to use pySAS than the one found in the [Short pySAS Introduction](./analysis-xmm-short-intro.ipynb \"Short pySAS Intro\"), but like the Short Intro it only covers how to download observation data files, how to calibrate the data, and how to run any SAS task through pySAS. For explanations on how to use different SAS tasks inside of pySAS see the exmple notebooks provided. A tutorial on how to learn to use SAS and pySAS for XMM analysis can be found in The XMM-Newton ABC Guide ([Part 1](./analysis-xmm-ABC-guide-EPIC-image-filtering.ipynb \"EPIC Image Filtering\") and [Part 2](./analysis-xmm-ABC-guide-EPIC-source-spectrum.ipynb \"EPIC Source Extraction\")).\n",
    "\n",
    "#### SAS Tasks to be Used\n",
    "\n",
    "- `sasver`[(Documentation for sasver)](https://xmm-tools.cosmos.esa.int/external/sas/current/doc/sasver/index.html)\n",
    "- `startsas`[(Documentation for startsas)](https://xmm-tools.cosmos.esa.int/external/sas/current/doc/startsas/index.html)\n",
    "- `cifbuild`[(Documentation for cifbuild)](https://xmm-tools.cosmos.esa.int/external/sas/current/doc/cifbuild/index.html)\n",
    "- `odfingest`[(Documentation for odfingest)](https://xmm-tools.cosmos.esa.int/external/sas/current/doc/odfingest/index.html)\n",
    "- `emproc`[(Documentation for emproc)](https://xmm-tools.cosmos.esa.int/external/sas/current/doc/emproc/index.html \"emproc Documentation\")\n",
    "- `epproc`[(Documentation for epproc)](https://xmm-tools.cosmos.esa.int/external/sas/current/doc/epproc/index.html \"epproc Documentation\")\n",
    "- `rgsproc`[(Documentation for rgsproc)](https://xmm-tools.cosmos.esa.int/external/sas/current/doc/rgsproc/index.html \"rgsproc Documentation\")\n",
    "- `omichain`[(Documentation for omichain)](https://xmm-tools.cosmos.esa.int/external/sas/current/doc/omichain/index.html \"omichain Documentation\")\n",
    "\n",
    "#### Useful Links\n",
    "\n",
    "- [`pysas` Documentation](https://xmm-tools.cosmos.esa.int/external/sas/current/doc/pysas/index.html \"pysas Documentation\")\n",
    "- [`pysas` on GitHub](https://github.com/XMMGOF/pysas)\n",
    "- [Common SAS Threads](https://www.cosmos.esa.int/web/xmm-newton/sas-threads/ \"SAS Threads\")\n",
    "- [Users' Guide to the XMM-Newton Science Analysis System (SAS)](https://xmm-tools.cosmos.esa.int/external/xmm_user_support/documentation/sas_usg/USG/SASUSG.html \"Users' Guide\")\n",
    "- [The XMM-Newton ABC Guide](https://heasarc.gsfc.nasa.gov/docs/xmm/abc/ \"ABC Guide\")\n",
    "- [XMM Newton GOF Helpdesk](https://heasarc.gsfc.nasa.gov/docs/xmm/xmm_helpdesk.html \"Helpdesk\") - Link to form to contact the GOF Helpdesk.\n",
    "\n",
    "<div class=\"alert alert-block alert-warning\">\n",
    "    <b>Warning:</b> By default this notebook will place observation data files in your default <tt>data_dir</tt> directory. Make sure pySAS has been configured properly.\n",
    "</div>"
   ]
  },
  {
   "cell_type": "markdown",
   "id": "274740a4",
   "metadata": {
    "editable": true,
    "slideshow": {
     "slide_type": ""
    },
    "tags": []
   },
   "source": [
    "## 2. Procedure\n",
    " \n",
    "Lets begin by asking three questions:\n",
    "\n",
    "1. What XMM-Newton Observation data do I want to process?\n",
    "2. Which directory will contain the XMM-Newton Observation data I want to process?\n",
    "3. Which directory am I going to use to work with (py)SAS?\n",
    "\n",
    "For the first question, you will need an Observation ID. In this tutorial we use the ObsID `0802710101`. \n",
    "\n",
    "For the second question, when you setup pySAS you had the option to choose a directory for your data (`data_dir`). You can set your data directory to any path you want, and pySAS will automatically place all data in the correct directories.\n",
    "\n",
    "For the third question, a working directory will automatically be created for each ObsID, as explained below. You can change this manually, but using the default is recommended.\n",
    "___"
   ]
  },
  {
   "cell_type": "code",
   "execution_count": null,
   "id": "eea7c42e",
   "metadata": {},
   "outputs": [],
   "source": [
    "import os\n",
    "import pysas"
   ]
  },
  {
   "cell_type": "markdown",
   "id": "1737def4",
   "metadata": {},
   "source": [
    "By running the cell below, an Observation ID (`ObsID`) object is created. By itself it doesn't do anything, but it has several helpful functions to get your data ready to analyse."
   ]
  },
  {
   "cell_type": "code",
   "execution_count": null,
   "id": "0b7bbaf9",
   "metadata": {
    "editable": true,
    "scrolled": true,
    "slideshow": {
     "slide_type": ""
    },
    "tags": []
   },
   "outputs": [],
   "source": [
    "obsid = '0802710101'\n",
    "my_obs = pysas.obsid.ObsID(obsid)"
   ]
  },
  {
   "cell_type": "markdown",
   "id": "355e235f",
   "metadata": {},
   "source": [
    "## 3. Run `ObsID.basic_setup`\n",
    "\n",
    "When you run the cell below the following things will happen.\n",
    "\n",
    "1. `basic_setup` will check if `data_dir` exists, and if not it will create it.\n",
    "2. Inside data_dir `basic_setup` will create a directory with the value for the obs ID (i.e. `$data_dir/0802710101/`).\n",
    "3. Inside of that, `basic_setup` will create two directories:\n",
    "\n",
    "    a. `$data_dir/0802710101/ODF` where the observation data files are kept.\n",
    "    \n",
    "    b. `$data_dir/0802710101/work` where the `ccf.cif`, `*SUM.SAS`, and output files are kept.\n",
    "4. `basic_setup` will automatically transfer the data for `obsid` to `$data_dir/0802710101/ODF` from the HEASARC archive.\n",
    "5. `basic_setup` will run `cfibuild` and `odfingest`.\n",
    "6. `basic_setup` will then run the basic pipeline tasks `emproc`, `epproc`, and `rgsproc`. The output of these three tasks will be in the `work_dir`.\n",
    "\n",
    "That is it! Your data is now calibrated, processed, and ready for use with all the standard SAS commands!"
   ]
  },
  {
   "cell_type": "code",
   "execution_count": null,
   "id": "947e3d4a",
   "metadata": {
    "editable": true,
    "scrolled": true,
    "slideshow": {
     "slide_type": ""
    },
    "tags": []
   },
   "outputs": [],
   "source": [
    "my_obs.basic_setup(repo='heasarc',overwrite=False)"
   ]
  },
  {
   "cell_type": "markdown",
   "id": "2467098d",
   "metadata": {},
   "source": [
    "If you need to include options for either or both `cfibuild` and `odfingest`, these can be passed to `odfcompile` using the inputs `cifbuild_opts='Insert options here'` and `odfingest_opts='Insert options here'`.\n",
    "\n",
    "Input arguments for `epproc`, `emproc`, and `rgsproc` can also be passed in using `epproc_args`, `emproc_args`, or `rgsproc_args` respectively (or `epchain_args` and `emchain_args` if using the chains). By defaut `epproc`, `emproc`, and `rgsproc` will not rerun if output files are found, but they can be forced to rerun by setting `rerun=True` as an input to `basic_setup`.\n",
    " \n",
    "Another important input is `overwrite=True/False`. If set to true, it will erase **all data**, including any previous analysis output, in the obsid directory (i.e. `$data_dir/0802710101/`) and download the original files again.\n",
    " \n",
    "You can also choose the level of data products you download. `ObsID` has three integrated functions for downloading data:\n",
    "\n",
    "    1. download_ODF_data: Will download the raw, uncalibrated Observation Data Files (ODF).\n",
    "    2. download_PPS_data: Will download Pipeline Processed Data Files (PPS).\n",
    "    3. download_ALL_data: Will download both ODF and PPS data files."
   ]
  },
  {
   "cell_type": "markdown",
   "id": "8147011c",
   "metadata": {},
   "source": [
    "The `my_obs` object will also store some useful information for analysis. For example, it stores `data_dir`, `odf_dir`, and `work_dir`:"
   ]
  },
  {
   "cell_type": "code",
   "execution_count": null,
   "id": "4ca2029a",
   "metadata": {},
   "outputs": [],
   "source": [
    "print(\"Data directory: {0}\".format(my_obs.data_dir))\n",
    "print(\"ODF  directory: {0}\".format(my_obs.odf_dir))\n",
    "print(\"Work directory: {0}\".format(my_obs.work_dir))"
   ]
  },
  {
   "cell_type": "markdown",
   "id": "f79dfb7e",
   "metadata": {},
   "source": [
    "The location and name of important files are also stored in a Python dictionary in the `my_obs` object."
   ]
  },
  {
   "cell_type": "code",
   "execution_count": null,
   "id": "3b3db99b",
   "metadata": {
    "editable": true,
    "scrolled": true,
    "slideshow": {
     "slide_type": ""
    },
    "tags": []
   },
   "outputs": [],
   "source": [
    "data_files = list(my_obs.files.keys())\n",
    "print(data_files,'\\n')\n",
    "for list_name in data_files:\n",
    "    if list_name == 'ODF':\n",
    "        # Skip the list of ODF files, because it is LONG\n",
    "        continue\n",
    "    print(f'File Type: {list_name}')\n",
    "    print('>>> {0}'.format(my_obs.files[list_name]),'\\n')"
   ]
  },
  {
   "cell_type": "markdown",
   "id": "996a0769",
   "metadata": {},
   "source": [
    "If you want more information on the function `basic_setup` run the cell below to see the function documentation."
   ]
  },
  {
   "cell_type": "code",
   "execution_count": null,
   "id": "82ef7ab1",
   "metadata": {
    "scrolled": true
   },
   "outputs": [],
   "source": [
    "my_obs.basic_setup?"
   ]
  },
  {
   "cell_type": "markdown",
   "id": "04b29b22",
   "metadata": {
    "editable": true,
    "slideshow": {
     "slide_type": ""
    },
    "tags": []
   },
   "source": [
    "## 4. Invoking SAS tasks from notebooks\n",
    "\n",
    "Now we are ready to execute any SAS task needed to analize our data. To execute any SAS task within a Notebook, we need to import from `pysas` a component known as `MyTask`. The following cell shows how to do that,"
   ]
  },
  {
   "cell_type": "code",
   "execution_count": null,
   "id": "392db26f",
   "metadata": {
    "editable": true,
    "slideshow": {
     "slide_type": ""
    },
    "tags": []
   },
   "outputs": [],
   "source": [
    "from pysas.sastask import MyTask"
   ]
  },
  {
   "cell_type": "markdown",
   "id": "8dfea767",
   "metadata": {},
   "source": [
    "Any SAS task accepts arguments which can be either specific options, e.g. `--version`, which shows the task's version, or parameters with format `param=value`. When the task is invoked from the command line, these arguments follow the name of the task. However, in Notebooks we have to pass them to the task in a different way. This is done using a Python dictionary, whose name you are free to choose. Let the name of such list be `inargs`.\n",
    "\n",
    "To pass the option `--version` to the task to be executed, we must define `inargs` as,"
   ]
  },
  {
   "cell_type": "code",
   "execution_count": null,
   "id": "294f81be",
   "metadata": {
    "editable": true,
    "slideshow": {
     "slide_type": ""
    },
    "tags": []
   },
   "outputs": [],
   "source": [
    "inargs = {'options' : '--version'}"
   ]
  },
  {
   "cell_type": "markdown",
   "id": "a5c207ef",
   "metadata": {},
   "source": [
    "To execute the task, we will use the `MyTask` component imported earlier from <tt>pySAS</tt>, as follows,"
   ]
  },
  {
   "cell_type": "code",
   "execution_count": null,
   "id": "fede600e",
   "metadata": {
    "editable": true,
    "slideshow": {
     "slide_type": ""
    },
    "tags": []
   },
   "outputs": [],
   "source": [
    "t = MyTask('evselect', inargs)"
   ]
  },
  {
   "cell_type": "markdown",
   "id": "53acf936",
   "metadata": {},
   "source": [
    "In Python terms, `t` is an *instantiation* of the object `MyTask`.\n",
    "\n",
    "To run `evselect` [(click here for evselect documentation)](https://xmm-tools.cosmos.esa.int/external/sas/current/doc/evselect/index.html \"Documentation for sasver\") with the input `--version`, we can now do as follows,"
   ]
  },
  {
   "cell_type": "code",
   "execution_count": null,
   "id": "6a19665f",
   "metadata": {},
   "outputs": [],
   "source": [
    "t.run()"
   ]
  },
  {
   "cell_type": "markdown",
   "id": "5aa7d4bf",
   "metadata": {},
   "source": [
    "This output is equivalent to having run `evselect` in the command line with argument `--version`.\n",
    "\n",
    "Each SAS task, regardless of the task being a Python task or not, accepts a predefined set of options. To list which are these options, we can always invoke the task with option `--help` (or `-h` as well).\n",
    "\n",
    "With some SAS tasks, we could define `inargs` as an empty dictionary, which is equivalent to run the task in the command line without options."
   ]
  },
  {
   "cell_type": "markdown",
   "id": "41c50cdc",
   "metadata": {},
   "source": [
    "A similar result can be achieved by combining all the previous steps into a single expression, like this,"
   ]
  },
  {
   "cell_type": "code",
   "execution_count": null,
   "id": "daa55994",
   "metadata": {
    "scrolled": true
   },
   "outputs": [],
   "source": [
    "MyTask('evselect', '-v').run()"
   ]
  },
  {
   "cell_type": "markdown",
   "id": "4ac5c27d",
   "metadata": {},
   "source": [
    "### 4.1 Listing available options\n",
    "As noted earlier, we can list all options available to any SAS task with option `--help` (or `-h`),"
   ]
  },
  {
   "cell_type": "code",
   "execution_count": null,
   "id": "7a008d14",
   "metadata": {
    "editable": true,
    "scrolled": true,
    "slideshow": {
     "slide_type": ""
    },
    "tags": []
   },
   "outputs": [],
   "source": [
    "MyTask('sasversion', '-h').run()"
   ]
  },
  {
   "cell_type": "markdown",
   "id": "7f5827da",
   "metadata": {},
   "source": [
    "As explained in the help text shown here, if the task would have had any available parameters, we would get a listing of them immediately after the help text. Compare the output above with the output for `evselect` below when we pass in the option `-h`."
   ]
  },
  {
   "cell_type": "code",
   "execution_count": null,
   "id": "c9d6806e-b7ee-4da0-808b-5193e78c589a",
   "metadata": {},
   "outputs": [],
   "source": [
    "MyTask('evselect', '-h').run()"
   ]
  },
  {
   "cell_type": "markdown",
   "id": "4c4b950a-3d69-4380-ab70-6aed73ae7e01",
   "metadata": {},
   "source": [
    "### 4.2 Log Files and Log Output\n",
    "\n",
    "Many SAS tasks produce significant amounts of output. There are several ways of controlling the type and amount of output from SAS. The amount of output is controlled by an environment variable called `SAS_VERBOSITY`, which is a number between 0-10. With a value of 0 SAS is entirely silent and does not output anything. A value of 10 is used for debugging purposes and can produce a VERY LARGE AMOUNT OF OUTPUT! Generally a value between 1 and 7 is used. This variable can be set in a few ways.\n",
    "\n",
    "First it can be set directly using (with whatever value you want):\n",
    "```python\n",
    "os.environ['SAS_VERBOSITY'] = '4'\n",
    "```\n",
    "\n",
    "Second, it can be set using:\n",
    "```python\n",
    "my_obs.sas_talk(verbosity=4)\n",
    "```\n",
    "\n",
    "And finally it can be passed in as an option as part of the input arguments when running `MyTask`:\n",
    "```python\n",
    "MyTask('epproc', {'options':'--verbosity 4'}).run()\n",
    "```\n",
    "\n",
    "The first two methods will change `SAS_VERBOSITY` for **the entire SAS session** until pySAS is restarted. *ALL* tasks run after that will be affected. The last method will *only* change `SAS_VERBOSITY` for that single run of that task.\n",
    "\n",
    "The `MyTask` object requires two inputs, the task name and the input arguments for the task. But there are several optional arguments that can control what happens to the output. The optional arguments to `MyTask` are:\n",
    "\n",
    "```python\n",
    "logfilename = None, \n",
    "tasklogdir  = None,\n",
    "output_to_terminal = True, \n",
    "output_to_file     = False\n",
    "```\n",
    "\n",
    "- `logfilename`: If this is defined, then all output will be written to this file (but only if `output_to_file=True`). If no file name is given, then the name of the log file will be the task name.\n",
    "- `tasklogdir`: This is the directory where output log files will be written. If not defined then it will use the `data_dir` for all top level Python related output, and `work_dir` for all other SAS tasks.\n",
    "- `output_to_terminal`: If `True` then output will be written to the terminal, if `False` then not.\n",
    "- `output_to_file`: If `True` then output will be written to a log file, if `False` then not.\n",
    "\n",
    "You can choose to have the output written to both the terminal and a log file (or neither!).\n",
    "\n",
    "As an additional note, when you instatiate `ObsID` (e.g. `my_obs`) you can also use these same inputs (with default values):\n",
    "\n",
    "```python\n",
    "obsid (required)\n",
    "data_dir    = None\n",
    "logfilename = None\n",
    "tasklogdir  = None\n",
    "output_to_terminal = True\n",
    "output_to_file     = False\n",
    "```"
   ]
  },
  {
   "cell_type": "markdown",
   "id": "33cfa707",
   "metadata": {},
   "source": [
    "## 5. How to continue from here?\n",
    "\n",
    "This depends on your experience level with SAS and what you are using the data for. For a tutorial on preparing and filtering your data for analysis or to make images see [The XMM-Newton ABC Guide](./analysis-xmm-ABC-guide-ch6-p1.ipynb), or check out any of the example notebooks."
   ]
  },
  {
   "cell_type": "code",
   "execution_count": null,
   "id": "a6941ccb",
   "metadata": {},
   "outputs": [],
   "source": [
    "os.chdir(my_obs.work_dir)"
   ]
  },
  {
   "cell_type": "markdown",
   "id": "86e38ee9",
   "metadata": {},
   "source": [
    "The most common SAS tasks to run are: `epproc`, `emproc`, and `rgsproc`. Each one can be run without inputs (but some inputs are needed for more advanced analysis). These tasks have been folded into the function `basic_setup`, but they can be run individually."
   ]
  },
  {
   "cell_type": "markdown",
   "id": "56418f29",
   "metadata": {},
   "source": [
    "Here is an example of how to apply a \"standard\" filter. This is equivelant to running the following SAS command:\n",
    "\n",
    "```\n",
    "evselect table=unfiltered_event_list.fits withfilteredset=yes \\\n",
    "    expression='(PATTERN $<=$ 12)&&(PI in [200:12000])&&#XMMEA_EM' \\\n",
    "    filteredset=filtered_event_list.fits filtertype=expression keepfilteroutput=yes \\\n",
    "    updateexposure=yes filterexposure=yes\n",
    "```\n",
    "The input arguments should be in a list, with each input argument a separate string. Note: Some inputs require single quotes to be preserved in the string. This can be done using double quotes to form the string. i.e. `\"expression='(PATTERN <= 12)&&(PI in [200:4000])&&#XMMEA_EM'\"`. An explanation of this filter, and other filters, can be found in [The XMM-Newton ABC Guide](./analysis-xmm-ABC-guide-ch6-p1.ipynb)."
   ]
  },
  {
   "cell_type": "code",
   "execution_count": null,
   "id": "934cb2fe",
   "metadata": {
    "editable": true,
    "scrolled": true,
    "slideshow": {
     "slide_type": ""
    },
    "tags": []
   },
   "outputs": [],
   "source": [
    "unfiltered_event_list = \"3278_0802710101_EMOS1_S001_ImagingEvts.ds\"\n",
    "\n",
    "inargs = {'table'            : unfiltered_event_list,\n",
    "          'withfilteredset'  : 'yes',\n",
    "          'expression'       : \"(PATTERN <= 12)&&(PI in [200:4000])&&#XMMEA_EM'\",\n",
    "          'filteredset'      : 'filtered_event_list.fits',\n",
    "          'filtertype'       : 'expression',\n",
    "          'keepfilteroutput' : 'yes',\n",
    "          'updateexposure'   : 'yes',\n",
    "          'filterexposure'   : 'yes'}\n",
    "\n",
    "MyTask('evselect', inargs).run()"
   ]
  },
  {
   "cell_type": "markdown",
   "id": "9ac934bf",
   "metadata": {},
   "source": [
    "## 6. Alternative to `basic_setup`"
   ]
  },
  {
   "cell_type": "markdown",
   "id": "836dc3e3",
   "metadata": {},
   "source": [
    "The function `basic_setup` is there for convienvience and checks if things have already been run, all with a single command. Running `basic_setup(data_dir=data_dir,overwrite=False,repo='sciserver',rerun=True)` is the same as running the following commands:\n",
    "\n",
    "```python\n",
    "my_obs.download_ODF_data(data_dir=data_dir,overwrite=False,repo='sciserver')\n",
    "my_obs.calibrate_odf()\n",
    "MyTask('epproc',[]).run()\n",
    "MyTask('emproc',[]).run()\n",
    "MyTask('rgsproc',[]).run()\n",
    "```\n",
    "For more information on the functions `download_ODF_data` and `calibrate_odf` see the function documentation by running the cells below."
   ]
  },
  {
   "cell_type": "code",
   "execution_count": null,
   "id": "f27ce911",
   "metadata": {
    "scrolled": true
   },
   "outputs": [],
   "source": [
    "my_obs.download_ODF_data?"
   ]
  },
  {
   "cell_type": "code",
   "execution_count": null,
   "id": "403ac8a1-0e58-444c-8181-7a6f886b39c4",
   "metadata": {
    "scrolled": true
   },
   "outputs": [],
   "source": [
    "my_obs.calibrate_odf?"
   ]
  },
  {
   "cell_type": "markdown",
   "id": "fa417aa3-6595-49b5-bea9-a7344f713885",
   "metadata": {},
   "source": [
    "## 7. A Note on Inputs"
   ]
  },
  {
   "cell_type": "markdown",
   "id": "3a306aa0-0907-4606-ad9e-86aec4f62e0f",
   "metadata": {
    "editable": true,
    "slideshow": {
     "slide_type": ""
    },
    "tags": []
   },
   "source": [
    "Inside the code of pySAS the input arguments are stored in a dictionary, but they can be passed in as a list as well. For example these two are functionally equivalent in pySAS:\n",
    "\n",
    "Inputs as a dictionary:\n",
    "```python\n",
    "inargs = {'table'            : unfiltered_event_list,\n",
    "          'withfilteredset'  : 'yes',\n",
    "          'expression'       : \"'(PATTERN <= 12)&&(PI in [200:4000])&&#XMMEA_EM'\",\n",
    "          'filteredset'      : 'filtered_event_list.fits',\n",
    "          'filtertype'       : 'expression',\n",
    "          'keepfilteroutput' : 'yes',\n",
    "          'updateexposure'   : 'yes',\n",
    "          'filterexposure'   : 'yes'}\n",
    "```\n",
    "\n",
    "Inputs as a list:\n",
    "```python\n",
    "inargs = ['table={}'.format(unfiltered_event_list),\n",
    "          'withfilteredset=yes',\n",
    "          \"expression='(PATTERN <= 12)&&(PI in [200:4000])&&#XMMEA_EM'\",\n",
    "          'filteredset=filtered_event_list.fits',\n",
    "          'filtertype=expression',\n",
    "          'keepfilteroutput=yes',\n",
    "          'updateexposure=yes',\n",
    "          'filterexposure=yes']\n",
    "```\n",
    "\n",
    "If passing in arguments as a list the parameters and values need to have an equals sign (`=`) between them. The same rules about preserving single quotes should be followed (note the input parameter `expression` above).\n",
    "\n",
    "If the inputs are passed in as a dictionary pySAS accepts values other than strings. For example, numbers and boolean values are allowed. All other values must be passed in as a single string.\n",
    "```python\n",
    "inargs = {'table'          : temporary_event_list, \n",
    "          'withrateset'    : True, \n",
    "          'rateset'        : light_curve_file, \n",
    "          'maketimecolumn' : True, \n",
    "          'timecolumn'     : 'TIME', \n",
    "          'timebinsize'    : 100, \n",
    "          'makeratecolumn' : True}\n",
    "```"
   ]
  }
 ],
 "metadata": {
  "kernelspec": {
   "display_name": "Python 3 (ipykernel)",
   "language": "python",
   "name": "python3"
  },
  "language_info": {
   "codemirror_mode": {
    "name": "ipython",
    "version": 3
   },
   "file_extension": ".py",
   "mimetype": "text/x-python",
   "name": "python",
   "nbconvert_exporter": "python",
   "pygments_lexer": "ipython3",
   "version": "3.10.12"
  }
 },
 "nbformat": 4,
 "nbformat_minor": 5
}
