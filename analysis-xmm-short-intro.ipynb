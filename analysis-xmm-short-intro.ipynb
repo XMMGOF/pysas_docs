{
 "cells": [
  {
   "cell_type": "markdown",
   "id": "017c451e",
   "metadata": {},
   "source": [
    "# pySAS Introduction -- Short Version\n",
    "<hr style=\"border: 2px solid #fadbac\" />\n",
    "\n",
    "- **Description:** A short introduction to pySAS on sciserver.\n",
    "- **Level:** Beginner\n",
    "- **Data:** XMM observation of NGC 3079 (obsid=0802710101)\n",
    "- **Requirements:** Must be run using pySAS version 2.0.\n",
    "- **Credit:** Ryan Tanner (April 2024)\n",
    "- **Support:** <a href=\"https://heasarc.gsfc.nasa.gov/docs/xmm/xmm_helpdesk.html\">XMM Newton GOF Helpdesk</a>\n",
    "- **Last verified to run:** 21 July 2025, for SAS v22.1 and pySAS v2.0\n",
    "\n",
    "<hr style=\"border: 2px solid #fadbac\" />"
   ]
  },
  {
   "cell_type": "markdown",
   "id": "8e10a1b0",
   "metadata": {},
   "source": [
    "## 1. Introduction\n",
    "This tutorial provides a short, basic introduction to using pySAS on SciServer. It only covers how to download observation data files and how to calibrate the data.  A much more comprehensive introduction can be found in the [Long pySAS Introduction](./analysis-xmm-long-intro.ipynb \"Long pySAS Intro\"). This tutorial is intened for those who are already familiar with SAS commands and want to use Python to run SAS commands. A tutorial on how to learn to use SAS and pySAS for XMM analysis can be found in The XMM-Newton ABC Guide ([Part 1](./analysis-xmm-ABC-guide-EPIC-image-filtering.ipynb \"EPIC Image Filtering\") and [Part 2](./analysis-xmm-ABC-guide-EPIC-source-spectrum.ipynb \"EPIC Source Extraction\")). In this tutorial we will demonstrate, \n",
    "\n",
    "1. How to select a directory for data and analysis.\n",
    "2. How to copy XMM data from the HEASARC archive.\n",
    "3. How to run the standard XMM SAS commands `cfibuild` and `odfingest`.\n",
    "\n",
    "<div class=\"alert alert-block alert-warning\">\n",
    "    <b>Warning:</b> By default this notebook will place observation data files in your default <tt>data_dir</tt> directory. Make sure pySAS has been configured properly.\n",
    "</div>"
   ]
  },
  {
   "cell_type": "markdown",
   "id": "c74f2cd0",
   "metadata": {},
   "source": [
    "## 2. Import pySAS and Set `obsid`"
   ]
  },
  {
   "cell_type": "code",
   "execution_count": null,
   "id": "fa6d0c41",
   "metadata": {
    "editable": true,
    "slideshow": {
     "slide_type": ""
    },
    "tags": []
   },
   "outputs": [],
   "source": [
    "import os\n",
    "import pysas\n",
    "\n",
    "obsid = '0802710101'"
   ]
  },
  {
   "cell_type": "markdown",
   "id": "619691d1",
   "metadata": {
    "editable": true,
    "slideshow": {
     "slide_type": ""
    },
    "tags": []
   },
   "source": [
    "## 3. Run `ObsID.basic_setup`\n",
    "\n",
    "When you run the cell below the following things will happen.\n",
    "\n",
    "1. `basic_setup` will check if `data_dir` exists, and if not it will create it.\n",
    "2. Inside data_dir `basic_setup` will create a directory with the value for the obs ID (i.e. `$data_dir/0802710101/`).\n",
    "3. Inside of that, `basic_setup` will create two directories:\n",
    "\n",
    "    a. `$data_dir/0802710101/ODF` where the observation data files are kept.\n",
    "    \n",
    "    b. `$data_dir/0802710101/work` where the `ccf.cif`, `*SUM.SAS`, and output files are kept.\n",
    "4. `basic_setup` will automatically transfer the data for `obsid` to `$data_dir/0802710101/ODF` from the HEASARC archive.\n",
    "5. `basic_setup` will run `cfibuild` and `odfingest`.\n",
    "6. `basic_setup` will then run the basic pipeline tasks `emproc`, `epproc`, and `rgsproc`. The output of these three tasks will be in the `work_dir`.\n",
    "\n",
    "That is it! Your data is now calibrated, processed, and ready for use with all the standard SAS commands!"
   ]
  },
  {
   "cell_type": "code",
   "execution_count": null,
   "id": "c682e402",
   "metadata": {
    "editable": true,
    "scrolled": true,
    "slideshow": {
     "slide_type": ""
    },
    "tags": []
   },
   "outputs": [],
   "source": [
    "my_obs = pysas.obsid.ObsID(obsid)\n",
    "my_obs.basic_setup(repo='heasarc',overwrite=False)"
   ]
  },
  {
   "cell_type": "markdown",
   "id": "6f61cf6f",
   "metadata": {
    "editable": true,
    "slideshow": {
     "slide_type": ""
    },
    "tags": []
   },
   "source": [
    "If you want more information on the function `basic_setup` run the cell below or see the long introduction tutorial. All the methods available in the `ObsID` object have documentation that can be accessed by putting a question mark '?' after the name of the method, as shown below."
   ]
  },
  {
   "cell_type": "code",
   "execution_count": null,
   "id": "620a2710",
   "metadata": {},
   "outputs": [],
   "source": [
    "my_obs.basic_setup?"
   ]
  },
  {
   "cell_type": "markdown",
   "id": "e2bf626e",
   "metadata": {
    "editable": true,
    "slideshow": {
     "slide_type": ""
    },
    "tags": []
   },
   "source": [
    "## 4. Running SAS Tasks\n",
    "To run SAS tasks, pySAS has a dedicated class called `MyTask`. SAS tasks should be run from the work directory. The location of the work direcotry is stored as a variable in `my_obs.work_dir`."
   ]
  },
  {
   "cell_type": "code",
   "execution_count": null,
   "id": "5560e058",
   "metadata": {
    "editable": true,
    "slideshow": {
     "slide_type": ""
    },
    "tags": []
   },
   "outputs": [],
   "source": [
    "from pysas.sastask import MyTask\n",
    "os.chdir(my_obs.work_dir)"
   ]
  },
  {
   "cell_type": "markdown",
   "id": "126b9e89",
   "metadata": {
    "editable": true,
    "slideshow": {
     "slide_type": ""
    },
    "tags": []
   },
   "source": [
    "The class, `MyTask`, takes at least two inputs, the name of the SAS task to run, and a Python dictionary of all the input arguments for that task. For example, to run a task with no input arguments you simply provide an empty dictionary as the second argument."
   ]
  },
  {
   "cell_type": "code",
   "execution_count": null,
   "id": "ea428a0f",
   "metadata": {
    "scrolled": true
   },
   "outputs": [],
   "source": [
    "inargs = {}\n",
    "MyTask('emproc', inargs).run()"
   ]
  },
  {
   "cell_type": "markdown",
   "id": "0bec3ab2",
   "metadata": {},
   "source": [
    "The most common SAS tasks to run are: `epproc`, `emproc`, and `rgsproc`. Each one can be run without inputs (but some inputs are needed for more advanced analysis). These tasks have been folded into the function `basic_setup`, but they can be run individually.\n",
    "\n",
    "You can list all input arguments available to any SAS task with the option `'--help'` (or `'-h'`),"
   ]
  },
  {
   "cell_type": "code",
   "execution_count": null,
   "id": "2da571b7",
   "metadata": {
    "editable": true,
    "slideshow": {
     "slide_type": ""
    },
    "tags": []
   },
   "outputs": [],
   "source": [
    "MyTask('emproc', '-h').run()"
   ]
  },
  {
   "cell_type": "markdown",
   "id": "2aab554a",
   "metadata": {
    "editable": true,
    "slideshow": {
     "slide_type": ""
    },
    "tags": []
   },
   "source": [
    "If there are multiple input arguments then in the input dictionary they are entered as 'key'-'value' pairs. The keys are the input parameters and the values are the input values. The values should be entered as a string (or as a variable that is a string). For example, here is how to apply a \"standard\" filter. This is equivelant to running the following SAS command:\n",
    "\n",
    "```\n",
    "evselect table=unfiltered_event_list.fits withfilteredset=yes \\\n",
    "    expression='(PATTERN $<=$ 12)&&(PI in [200:12000])&&#XMMEA_EM' \\\n",
    "    filteredset=filtered_event_list.fits filtertype=expression keepfilteroutput=yes \\\n",
    "    updateexposure=yes filterexposure=yes\n",
    "```\n",
    "\n",
    "The input arguments should be in a dictionary, with each input vaule a single string. Note: Some inputs require single quotes to be preserved in the string. This can be done using double quotes to form the string. i.e. `\"'(PATTERN <= 12)&&(PI in [200:4000])&&#XMMEA_EM'\"`"
   ]
  },
  {
   "cell_type": "code",
   "execution_count": null,
   "id": "0561e909",
   "metadata": {
    "editable": true,
    "scrolled": true,
    "slideshow": {
     "slide_type": ""
    },
    "tags": []
   },
   "outputs": [],
   "source": [
    "unfiltered_event_list = \"3278_0802710101_EMOS1_S001_ImagingEvts.ds\"\n",
    "\n",
    "inargs = {'table'            : unfiltered_event_list,\n",
    "          'withfilteredset'  : 'yes',\n",
    "          'expression'       : \"'(PATTERN <= 12)&&(PI in [200:4000])&&#XMMEA_EM'\",\n",
    "          'filteredset'      : 'filtered_event_list.fits',\n",
    "          'filtertype'       : 'expression',\n",
    "          'keepfilteroutput' : 'yes',\n",
    "          'updateexposure'   : 'yes',\n",
    "          'filterexposure'   : 'yes'}\n",
    "\n",
    "MyTask('evselect', inargs).run()"
   ]
  }
 ],
 "metadata": {
  "kernelspec": {
   "display_name": "Python 3 (ipykernel)",
   "language": "python",
   "name": "python3"
  },
  "language_info": {
   "codemirror_mode": {
    "name": "ipython",
    "version": 3
   },
   "file_extension": ".py",
   "mimetype": "text/x-python",
   "name": "python",
   "nbconvert_exporter": "python",
   "pygments_lexer": "ipython3",
   "version": "3.10.12"
  }
 },
 "nbformat": 4,
 "nbformat_minor": 5
}
