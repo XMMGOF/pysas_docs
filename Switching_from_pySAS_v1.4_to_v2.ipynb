{
 "cells": [
  {
   "cell_type": "markdown",
   "id": "efc317a0-28fd-4d51-97f3-c12e536c00ba",
   "metadata": {
    "execution": {
     "iopub.execute_input": "2025-07-11T15:55:24.717787Z",
     "iopub.status.busy": "2025-07-11T15:55:24.717415Z",
     "iopub.status.idle": "2025-07-11T15:55:24.724173Z",
     "shell.execute_reply": "2025-07-11T15:55:24.723404Z",
     "shell.execute_reply.started": "2025-07-11T15:55:24.717762Z"
    }
   },
   "source": [
    "# pySAS v1.4.8 --> v2.0\n",
    "<hr style=\"border: 2px solid #fadbac\" />\n",
    "\n",
    "- **Description:** Differences between pySAS v1.4 and v2.0.\n",
    "- **Credit:** Ryan Tanner (October 2025)\n",
    "- **Support:** <a href=\"https://heasarc.gsfc.nasa.gov/docs/xmm/xmm_helpdesk.html\">XMM Newton GOF Helpdesk</a>\n",
    "- **Last verified to run:** 15 October 2025\n",
    "\n",
    "<hr style=\"border: 2px solid #fadbac\" />"
   ]
  },
  {
   "cell_type": "markdown",
   "id": "712aedd9-ba0f-4aaf-80ab-dfa35e6aca4b",
   "metadata": {},
   "source": [
    "If you are upgrading pySAS from v1.4.2-v1.4.8 (also known as the development versions) to v2.0, this next section is a quick explanation for the major differences. This includes versions of pySAS:\n",
    "1. Installed using `pip`\n",
    "2. Installed from GitHub\n",
    "3. pySAS on SciServer\n",
    "\n",
    "If you have been using the \"standard\" version of pySAS (v1.4.1) distributed with SAS, or pySAS on ESA's Datalab, skip down to the section `Using pySAS v2.0`."
   ]
  },
  {
   "cell_type": "markdown",
   "id": "64bd42f9-7d1b-4b60-802f-71be10d4988a",
   "metadata": {},
   "source": [
    "## ObsID and MyTask"
   ]
  },
  {
   "cell_type": "markdown",
   "id": "2011ac07-88a1-4ae9-92d4-d2bc1257bf60",
   "metadata": {},
   "source": [
    "Key changes:\n",
    "  - `ObsID` is the new `ODFobject`\n",
    "  - The `Wrapper` has been deprecated and replaced by `MyTask`\n",
    "  - `MyTask` now accepts the options `output_to_terminal` and `output_to_file`\n",
    "  - Input arguments can be passed in as either a dictionary or a list\n",
    "\n",
    "To implement these changes make the following modifications to your code:\n",
    "\n",
    "Change:\n",
    "```python\n",
    "odf = pysas.odfcontrol.ODFobject(obsid)\n",
    "```\n",
    "to\n",
    "```python\n",
    "my_obs = pysas.ObsID(obsid)\n",
    "```\n",
    "\n",
    "And change:\n",
    "```python\n",
    "from pysas.wrapper import Wrapper as w\n",
    "w('Task Name',inargs).run()\n",
    "```\n",
    "to\n",
    "```python\n",
    "from pysas import MyTask\n",
    "MyTask('Task Name',inargs).run()\n",
    "```\n",
    "\n",
    "Everything else should work the same."
   ]
  },
  {
   "cell_type": "markdown",
   "id": "229bd89b-6bae-4d7e-9ead-893ae50d0bb4",
   "metadata": {},
   "source": [
    "### ObsID\n",
    "\n",
    "`ObsID` works just like `ODFobject` and contains all the same methods, plus a few new ones. You can still do basic setup for a single Obs ID by running:\n",
    "```python\n",
    "obsid = '0123456789'\n",
    "my_obs = pysas.ObsID(obsid)\n",
    "my_obs.basic_setup()\n",
    "```"
   ]
  },
  {
   "cell_type": "markdown",
   "id": "388d63cf-e271-4515-9f88-c77f6d13be43",
   "metadata": {},
   "source": [
    "### MyTask\n",
    "`MyTask` replaces the `Wrapper`, and works in the same way, but with new inputs allowed. These are (with defaults):\n",
    "```python\n",
    "logfilename = None, \n",
    "tasklogdir  = None,\n",
    "output_to_terminal = True, \n",
    "output_to_file     = False\n",
    "```\n",
    "These are the same as the inputs for `ObsID`, though `logfilename` will default to the task name, and `tasklogdir` will default to the current working directory (which should be the `work_dir` since that is where you will be running SAS tasks)."
   ]
  },
  {
   "cell_type": "markdown",
   "id": "0d44d6f8-ac21-4ed4-9adc-f4e3b9c4d86b",
   "metadata": {},
   "source": [
    "<hr style=\"border: 2px solid #fadbac\" />\n",
    "\n",
    "# Using pySAS v2.0"
   ]
  },
  {
   "cell_type": "markdown",
   "id": "64f518dd-6f77-4282-a772-2627f28be02b",
   "metadata": {},
   "source": [
    "`ObsID` contains basic methods and classes for interacting with XMM data files. It is **not** a new SAS task, but it can make doing basic or common analysis easier. Almost everything is contained in a single Python class called `ObsID`."
   ]
  },
  {
   "cell_type": "markdown",
   "id": "6f8e034d-758b-4be2-9e15-82dfb7fca486",
   "metadata": {},
   "source": [
    "## obsid.ObsID"
   ]
  },
  {
   "cell_type": "markdown",
   "id": "55d0d418-5df4-4880-a773-f53f6cef94fc",
   "metadata": {},
   "source": [
    "To start analysing a single observation the following lines can be used (insert the particular Obs ID you will be using):\n",
    "```python\n",
    "import pysas\n",
    "obsid  = '0123456789'\n",
    "my_obs = pysas.ObsID(obsid)\n",
    "my_obs.basic_setup()\n",
    "```\n",
    "That will cover set up for 80-90% of use cases. `basic_setup` will assume you are working with `ODF` data, and will only download `ODF` data. If you want to use `PPS` data you will need to use either `download_PPS_data` or `download_ALL_data`.\n",
    "\n",
    "The `ObsID` class accepts inputs to control output logging. The inputs (with defaults) to `ObsID` are:\n",
    "```python\n",
    "obsid (required)\n",
    "data_dir    = None\n",
    "logfilename = None\n",
    "tasklogdir  = None\n",
    "output_to_terminal = True\n",
    "output_to_file     = False\n",
    "```\n",
    "  - `obsid` is required and has to be the 10-digit observation ID number for the observation you are working with.\n",
    "  - `data_dir` is the directory where you want the XMM data downloaded.\n",
    "  - `logfilename`, if this is defined, then all output will be written to this file (but only if `output_to_file=True`). If no file name is given then the name of the log file will be 'ObsID_'+the Obs ID you are working with. Any SAS tasks run using `basic_setup` (i.e. `cifbuild`, `odfingest`, `emproc`, `epproc`, and `rgsproc`) will have their output written to their own file in the `work_dir`.\n",
    "  - `tasklogdir` is the directory where output log files will be written. If not defined then it will use the `data_dir` for all top level Python related output, and `work_dir` for all other SAS tasks.\n",
    "  - `output_to_terminal`, if `True` then output will be written to the terminal, if `False` then not.\n",
    "  - `output_to_file`, if `True` then output will be written to a log file, if `False` then not."
   ]
  },
  {
   "cell_type": "markdown",
   "id": "b07bf76d-da1c-462d-83bc-674b281da7e6",
   "metadata": {},
   "source": [
    "`ObsID` contains the following methods:\n",
    "\n",
    "```python\n",
    "basic_setup(data_dir    = None,\n",
    "            repo        = None,\n",
    "            overwrite   = False,\n",
    "            rerun       = False,\n",
    "            recalibrate = False,\n",
    "            run_epproc  = True,\n",
    "            run_emproc  = True,\n",
    "            run_rgsproc = True,\n",
    "            run_epchain = False,\n",
    "            run_emchain = False,\n",
    "            **kwargs)\n",
    "\n",
    "run_MyTask(taskname, inargs, **kwargs)\n",
    "\n",
    "quick_eplot(fits_event_list_file,\n",
    "            image_file = 'image.fits',\n",
    "            ximagesize = '600',\n",
    "            yimagesize = '600',\n",
    "            vmin = 1.0,\n",
    "            vmax = 10.0,\n",
    "            **kwargs)\n",
    "\n",
    "quick_lcplot(fits_event_list_file,\n",
    "             light_curve_file = 'light_curve.fits',\n",
    "             timebinsize      = '100',\n",
    "             **kwargs)\n",
    "\n",
    "download_ODF_data(repo        = 'esa',\n",
    "                  data_dir    = None,\n",
    "                  overwrite   = False,\n",
    "                  proprietary = False,\n",
    "                  credentials_file = None,\n",
    "                  encryption_key   = None)\n",
    "\n",
    "download_PPS_data(repo      = 'esa',\n",
    "                  data_dir  = None,\n",
    "                  overwrite = False,\n",
    "                  proprietary      = False,\n",
    "                  credentials_file = None,\n",
    "                  encryption_key   = None,\n",
    "                  PPS_subset   = False,\n",
    "                  instname     = None,\n",
    "                  expflag      = None,\n",
    "                  expno        = None,\n",
    "                  product_type = None,\n",
    "                  datasubsetno = None,\n",
    "                  sourceno     = None,\n",
    "                  extension    = None,\n",
    "                  filename     = None,\n",
    "                  **kwargs)\n",
    "\n",
    "download_ALL_data(repo        = 'esa',\n",
    "                  data_dir    = None,\n",
    "                  overwrite   = True,\n",
    "                  proprietary      = False,\n",
    "                  credentials_file = None,\n",
    "                  encryption_key   = None)\n",
    "\n",
    "calibrate_odf(obs_dir = None,\n",
    "              sas_ccf = None,\n",
    "              sas_odf = None,\n",
    "              cifbuild_opts  = {},\n",
    "              odfingest_opts = {},\n",
    "              recalibrate    = False)\n",
    "\n",
    "get_active_instruments()\n",
    "\n",
    "sas_talk(verbosity=4,suppress_warning=1)\n",
    "\n",
    "find_event_list_files(print_output=True)\n",
    "\n",
    "find_rgs_spectra_files(print_output=True)\n",
    "\n",
    "check_for_ccf_cif()\n",
    "\n",
    "check_for_SUM_SAS()\n",
    "```\n",
    "\n",
    "<div class=\"alert alert-block alert-info\">\n",
    "    <b>Note:</b> Some of these functions are not intended to be used by the typical pySAS user. Internal pySAS use only.\n",
    "</div>\n",
    "\n",
    "The only functions desinged to be used by the typical pySAS user are:\n",
    "\n",
    "    - basic_setup\n",
    "    - run_MyTask\n",
    "    - quick_eplot\n",
    "    - quick_lcplot\n",
    "    - download_PPS_data\n",
    "    - sas_talk\n",
    "\n",
    "Other functions that can be used by pySAS users, but usually you will not need to, are:\n",
    "\n",
    "    - calibrate_odf\n",
    "    - download_ODF_data\n",
    "    - download_ALL_data\n",
    "    - get_active_instruments\n",
    "    - find_event_list_files\n",
    "    - find_rgs_spectra_files\n",
    "    - check_for_ccf_cif\n",
    "    - check_for_SUM_SAS\n",
    "\n",
    "<hr style=\"border: 2px solid #fadbac\" />\n",
    "\n",
    "When a user creates an `ObsID` object using:\n",
    "```python\n",
    "obsid = '##########'\n",
    "my_obs = pysas.obsid.ObsID(obsid)\n",
    "```\n",
    "the `ODF` object will have a few important links and information by default. These include:\n",
    "\n",
    "    - odfid:    The ObsID number used to create the ODF object.\n",
    "    - data_dir: Path to base data directory where all XMM data files \n",
    "                will be downloaded.\n",
    "    - obs_dir:  Path to directory containing the data files \n",
    "                (obs_dir = data_dir/obsid).\n",
    "    - odf_dir:  Path to directory with the raw observation data files \n",
    "                (odf_dir = obs_dir/ODF).\n",
    "    - work_dir: The working directory when SAS tasks will be run \n",
    "                (work_dir = obs_dir/work).\n",
    "    - sas_ccf:  Link to the 'ccf.cif' file, if it exists. By default the \n",
    "                'ccf.cif' file will be created in the work_dir.\n",
    "    - sas_odf:  Link to the '*SUM.SAS' file, if it exists. By default the \n",
    "                '*SUM.SAS' file will be created in the work_dir.\n",
    "    - If they exist, links to the basic event lists will be stored in a \n",
    "      dictionary named 'files'.\n",
    "\n",
    "If the ODF files have previously been downloaded and are in the default data directory, then upon creating the ObsID object (i.e. \"my_obs = pysas.obsid.ObsID(obsid)\") pySAS will automatically find and link all important summary and calibration files, and also all previously generated event lists made by `epproc`, `emproc`, and `rgsproc`."
   ]
  },
  {
   "cell_type": "code",
   "execution_count": 1,
   "id": "15b25239-d5ef-48a6-bb26-6fa4296ed2de",
   "metadata": {
    "execution": {
     "iopub.execute_input": "2025-10-16T16:32:02.517701Z",
     "iopub.status.busy": "2025-10-16T16:32:02.517371Z",
     "iopub.status.idle": "2025-10-16T16:32:04.545393Z",
     "shell.execute_reply": "2025-10-16T16:32:04.544538Z",
     "shell.execute_reply.started": "2025-10-16T16:32:02.517671Z"
    }
   },
   "outputs": [],
   "source": [
    "import pysas"
   ]
  },
  {
   "cell_type": "markdown",
   "id": "ae5f6262-8f34-4192-8d31-a6761720ca20",
   "metadata": {},
   "source": [
    "<hr style=\"border: 2px solid #fadbac\" />\n",
    "\n",
    "### ObsID"
   ]
  },
  {
   "cell_type": "code",
   "execution_count": 2,
   "id": "7bbe67c0-6e5a-43ad-a0c2-ead5dd806e38",
   "metadata": {
    "execution": {
     "iopub.execute_input": "2025-10-16T16:32:04.549512Z",
     "iopub.status.busy": "2025-10-16T16:32:04.546587Z",
     "iopub.status.idle": "2025-10-16T16:32:04.608290Z",
     "shell.execute_reply": "2025-10-16T16:32:04.607237Z",
     "shell.execute_reply.started": "2025-10-16T16:32:04.549450Z"
    }
   },
   "outputs": [
    {
     "data": {
      "text/plain": [
       "\u001b[31mInit signature:\u001b[39m\n",
       "pysas.ObsID(\n",
       "    obsid,\n",
       "    data_dir=\u001b[38;5;28;01mNone\u001b[39;00m,\n",
       "    logfilename=\u001b[38;5;28;01mNone\u001b[39;00m,\n",
       "    tasklogdir=\u001b[38;5;28;01mNone\u001b[39;00m,\n",
       "    output_to_terminal=\u001b[38;5;28;01mTrue\u001b[39;00m,\n",
       "    output_to_file=\u001b[38;5;28;01mFalse\u001b[39;00m,\n",
       ")\n",
       "\u001b[31mDocstring:\u001b[39m     \n",
       "Class for and Obs ID object.\n",
       "Inputs:\n",
       "Required:\n",
       "    - obsid: 10 digit number of the Obs ID\n",
       "\n",
       "Optional:\n",
       "    - data_dir   : Data directory. If none is given, \n",
       "                   will use (in this order):\n",
       "                   1. data_dir set in configuration file\n",
       "                   2. Current directory\n",
       "    - logfilename: Name of log file where all output\n",
       "                   will be written. Overrides default\n",
       "                   log file names.\n",
       "    - tasklogdir : Directory for log files. Overrides\n",
       "                   default log directory.\n",
       "    - output_to_terminal: If True, then logger information\n",
       "                          will be output to the terminal.\n",
       "    - output_to_file: If True, then logger information will\n",
       "                      be written to a log file.\n",
       "\u001b[31mFile:\u001b[39m           /opt/envs/sas/lib/python3.12/site-packages/pysas/obsid/obsid.py\n",
       "\u001b[31mType:\u001b[39m           type\n",
       "\u001b[31mSubclasses:\u001b[39m     "
      ]
     },
     "metadata": {},
     "output_type": "display_data"
    }
   ],
   "source": [
    "pysas.ObsID?"
   ]
  },
  {
   "cell_type": "markdown",
   "id": "0693277f-2003-4f00-987c-39b8e7df10c4",
   "metadata": {},
   "source": [
    "## Documentation on ObsID methods"
   ]
  },
  {
   "cell_type": "code",
   "execution_count": 3,
   "id": "0db9be9f-5ce5-41dd-983f-0efd7d3b7002",
   "metadata": {
    "execution": {
     "iopub.execute_input": "2025-10-16T16:32:04.609856Z",
     "iopub.status.busy": "2025-10-16T16:32:04.609408Z",
     "iopub.status.idle": "2025-10-16T16:32:04.618909Z",
     "shell.execute_reply": "2025-10-16T16:32:04.617959Z",
     "shell.execute_reply.started": "2025-10-16T16:32:04.609820Z"
    }
   },
   "outputs": [
    {
     "data": {
      "text/plain": [
       "\u001b[31mSignature:\u001b[39m\n",
       "pysas.ObsID.basic_setup(\n",
       "    self,\n",
       "    data_dir=\u001b[38;5;28;01mNone\u001b[39;00m,\n",
       "    repo=\u001b[38;5;28;01mNone\u001b[39;00m,\n",
       "    overwrite=\u001b[38;5;28;01mFalse\u001b[39;00m,\n",
       "    rerun=\u001b[38;5;28;01mFalse\u001b[39;00m,\n",
       "    recalibrate=\u001b[38;5;28;01mFalse\u001b[39;00m,\n",
       "    run_epproc=\u001b[38;5;28;01mTrue\u001b[39;00m,\n",
       "    run_emproc=\u001b[38;5;28;01mTrue\u001b[39;00m,\n",
       "    run_rgsproc=\u001b[38;5;28;01mTrue\u001b[39;00m,\n",
       "    run_epchain=\u001b[38;5;28;01mFalse\u001b[39;00m,\n",
       "    run_emchain=\u001b[38;5;28;01mFalse\u001b[39;00m,\n",
       "    **kwargs,\n",
       ")\n",
       "\u001b[31mDocstring:\u001b[39m\n",
       "Function to do all basic analysis tasks. The function will:\n",
       "\n",
       "    1. Download data by calling 'download_data'\n",
       "    2. Call the function 'calibrate_odf'\n",
       "        A. Run 'cifbuild'\n",
       "        B. Run 'odfingest'\n",
       "    2. Run 'epproc' -OR- 'epchain'\n",
       "    3. Run 'emproc' -OR- 'emchain'\n",
       "    4. Run 'rgsproc'\n",
       "\n",
       "If 'run_epchain' is set to 'True', then 'epproc' will not run.\n",
       "If 'run_emchain' is set to 'True', then 'emproc' will not run.\n",
       "\n",
       "Inputs:\n",
       "\n",
       "    data_dir:    Data directory.\n",
       "    repo:        Download repository ('esa','heasarc','fornax','aws').\n",
       "    overwrite:   Remove previous data files and download again.\n",
       "    rerun:       Rerun the *procs or *chains.\n",
       "    recalibrate: Rerun 'cifbuild' and 'odfingest'.\n",
       "\n",
       "All input arguments for 'download_ODF_data' and 'calibrate_odf'\n",
       "can be passed to 'basic_setup'.\n",
       "\n",
       "'download_ODF_data' inputs (with defaults):\n",
       "\n",
       "    repo             = 'esa'\n",
       "    data_dir         = None\n",
       "    overwrite        = False\n",
       "    proprietary      = False\n",
       "    credentials_file = None\n",
       "    encryption_key   = None\n",
       "\n",
       "'calibrate_odf' inputs (with defaults):\n",
       "       \n",
       "    obs_dir        = None\n",
       "    sas_ccf        = None\n",
       "    sas_odf        = None\n",
       "    cifbuild_opts  = {}\n",
       "    odfingest_opts = {}\n",
       "    recalibrate    = False\n",
       "\n",
       "Input arguments for 'epproc', 'emproc', and 'rgsproc' can also be \n",
       "passed in using 'epproc_args', 'emproc_args', or 'rgsproc_args' \n",
       "respectively (or 'epchain_args' and 'emchain_args'). By defaut \n",
       "'epproc', 'emproc', and 'rgsproc' will not rerun if output files \n",
       "are found, but they can be forced to rerun by setting 'rerun=True' \n",
       "as an input to 'basic_setup'.\n",
       "\n",
       "Examples for use:\n",
       "\n",
       "    my_obs.basic_setup()\n",
       "\n",
       "        - Uses the defaults.\n",
       "\n",
       "    my_obs.basic_setup(repo='heasarc')\n",
       "\n",
       "        - Uses the defaults, but downloads data from the HEASARC.\n",
       "\n",
       "    my_obs.basic_setup(overwrite=True)\n",
       "\n",
       "        - Will erase any previous data files for the Obs ID and \n",
       "          download a fresh set of data files.\n",
       "\n",
       "    my_obs.basic_setup(recalibrate=True)\n",
       "\n",
       "        - Will rerun cifbuild and odfingest to generate new \n",
       "          ccf.cif and *SUM.SAS files.\n",
       "\n",
       "    my_obs.basic_setup(rerun=True)\n",
       "\n",
       "        - Will **not** download new files, but will rerun 'epproc',\n",
       "          'emproc', and 'rgsproc' and create new event lists.\n",
       "\n",
       "    my_obs.basic_setup(repo='heasarc',\n",
       "                       epproc_args=['withoutoftime=yes'])\n",
       "\n",
       "        - Downloads data from the HEASARC and runs 'epproc' with the\n",
       "          'withoutoftime' option.\n",
       "\n",
       "    my_obs.basic_setup(run_epchain=True,\n",
       "                       run_emchain=True)\n",
       "\n",
       "        - Will run 'epchain' and 'emchain' instead of 'epproc' and\n",
       "          'emproc'.\n",
       "\n",
       "    my_obs.basic_setup(run_epproc=False,\n",
       "                       run_emproc=False)\n",
       "\n",
       "        - Will not run 'epproc' or 'emproc'. Will only run 'rgsproc'\n",
       "          by default.\n",
       "\n",
       "    my_obs.basic_setup(run_epproc=False,\n",
       "                       run_emproc=True,\n",
       "                       run_rgsproc=False)\n",
       "\n",
       "        - Will only run 'emproc', **not** 'epproc' or 'rgsproc'.\n",
       "\n",
       "    my_obs.basic_setup(repo='heasarc',encryption_key='XXXXXXXXXXXXXXX')\n",
       "\n",
       "        - Uses the defaults, but downloads *proprietary* data from \n",
       "          the HEASARC. Must provide an encryption key, an alpha-numeric\n",
       "          string with 30 characters.\n",
       "\n",
       "    my_obs.basic_setup(proprietary=True)\n",
       "\n",
       "        - Uses the defaults, but downloads *proprietary* data from \n",
       "          the XSA at ESA. Astroquery will ask for user's Cosmos\n",
       "          username and password.\n",
       "\u001b[31mFile:\u001b[39m      /opt/envs/sas/lib/python3.12/site-packages/pysas/obsid/obsid.py\n",
       "\u001b[31mType:\u001b[39m      function"
      ]
     },
     "metadata": {},
     "output_type": "display_data"
    }
   ],
   "source": [
    "pysas.ObsID.basic_setup?"
   ]
  },
  {
   "cell_type": "code",
   "execution_count": 4,
   "id": "fd76438d-aa8d-45e2-8325-d9d846ddd74c",
   "metadata": {
    "execution": {
     "iopub.execute_input": "2025-10-16T16:32:04.619918Z",
     "iopub.status.busy": "2025-10-16T16:32:04.619557Z",
     "iopub.status.idle": "2025-10-16T16:32:04.629044Z",
     "shell.execute_reply": "2025-10-16T16:32:04.628226Z",
     "shell.execute_reply.started": "2025-10-16T16:32:04.619884Z"
    }
   },
   "outputs": [
    {
     "data": {
      "text/plain": [
       "\u001b[31mSignature:\u001b[39m pysas.ObsID.run_MyTask(self, taskname, inargs=\u001b[38;5;28;01mNone\u001b[39;00m, **kwargs)\n",
       "\u001b[31mDocstring:\u001b[39m\n",
       "This acts as a wrapper around 'MyTask'. This provides a way of calling\n",
       "SAS tasks, while using the values set when the 'ObsID' object was \n",
       "instantiated.\n",
       "\n",
       "Required inputs (just like MyTask):\n",
       "    taskname\n",
       "    inargs\n",
       "\n",
       "Optional inputs (just like MyTask, but **only** use these if you want \n",
       "them to be different from the values used when instantiating 'ObsID'):\n",
       "    logfilename\n",
       "    tasklogdir\n",
       "    output_to_terminal\n",
       "    output_to_file\n",
       "    logger (Only in very rare circumstances **DO NOT USE** unless you\n",
       "            know exactly what you are doing!!)\n",
       "\u001b[31mFile:\u001b[39m      /opt/envs/sas/lib/python3.12/site-packages/pysas/obsid/obsid.py\n",
       "\u001b[31mType:\u001b[39m      function"
      ]
     },
     "metadata": {},
     "output_type": "display_data"
    }
   ],
   "source": [
    "pysas.ObsID.run_MyTask?"
   ]
  },
  {
   "cell_type": "code",
   "execution_count": 5,
   "id": "7336670d-1035-4482-a668-88cc2db0a26b",
   "metadata": {
    "execution": {
     "iopub.execute_input": "2025-10-16T16:32:04.630407Z",
     "iopub.status.busy": "2025-10-16T16:32:04.629989Z",
     "iopub.status.idle": "2025-10-16T16:32:04.642606Z",
     "shell.execute_reply": "2025-10-16T16:32:04.641500Z",
     "shell.execute_reply.started": "2025-10-16T16:32:04.630372Z"
    }
   },
   "outputs": [
    {
     "data": {
      "text/plain": [
       "\u001b[31mSignature:\u001b[39m\n",
       "pysas.ObsID.quick_eplot(\n",
       "    self,\n",
       "    fits_event_list_file,\n",
       "    image_file=\u001b[33m'image.fits'\u001b[39m,\n",
       "    xcolumn=\u001b[33m'X'\u001b[39m,\n",
       "    ycolumn=\u001b[33m'Y'\u001b[39m,\n",
       "    ximagesize=\u001b[33m'600'\u001b[39m,\n",
       "    yimagesize=\u001b[33m'600'\u001b[39m,\n",
       "    expression=\u001b[38;5;28;01mNone\u001b[39;00m,\n",
       "    vmin=\u001b[32m1.0\u001b[39m,\n",
       "    vmax=\u001b[32m10.0\u001b[39m,\n",
       "    **kwargs,\n",
       ")\n",
       "\u001b[31mDocstring:\u001b[39m\n",
       "Quick plot function for EPIC event lists. As input takes an \n",
       "event list and uses 'evselect' to create a FITS image file.\n",
       "\n",
       "Inputs\n",
       "\n",
       "(Required)\n",
       "    fits_event_list_file: Filename of event list.\n",
       "\n",
       "(Optional)\n",
       "    image_file: Output filename of the image file.\n",
       "    xcolumn: FITS file header name for X column data.\n",
       "    ycolumn: FITS file header name for Y column data.\n",
       "    ximagesize: Output image X resolution in pixels.\n",
       "    yimagesize: Output image Y resolution in pixels.\n",
       "    expression: Filtering expression to be used for 'evselect'.\n",
       "    vmin: Min value for color map.\n",
       "    vmax: Max value for color map.\n",
       "    xlabel: X axis plot label.\n",
       "    ylabel: Y axis plot label.\n",
       "    save_file: If set to True, then a .png image of the plot will be saved.\n",
       "    out_fname: Output filename of the .png plot image.\n",
       "\n",
       "All standard inputs to 'MyTask' can be passed in as optional\n",
       "arguments.\n",
       "\u001b[31mFile:\u001b[39m      /opt/envs/sas/lib/python3.12/site-packages/pysas/obsid/obsid.py\n",
       "\u001b[31mType:\u001b[39m      function"
      ]
     },
     "metadata": {},
     "output_type": "display_data"
    }
   ],
   "source": [
    "pysas.ObsID.quick_eplot?"
   ]
  },
  {
   "cell_type": "code",
   "execution_count": 6,
   "id": "1abbe17b-5154-4afe-bed6-7919ab530c1b",
   "metadata": {
    "execution": {
     "iopub.execute_input": "2025-10-16T16:32:04.645776Z",
     "iopub.status.busy": "2025-10-16T16:32:04.645452Z",
     "iopub.status.idle": "2025-10-16T16:32:04.655818Z",
     "shell.execute_reply": "2025-10-16T16:32:04.655036Z",
     "shell.execute_reply.started": "2025-10-16T16:32:04.645751Z"
    }
   },
   "outputs": [
    {
     "data": {
      "text/plain": [
       "\u001b[31mSignature:\u001b[39m\n",
       "pysas.ObsID.quick_lcplot(\n",
       "    self,\n",
       "    fits_event_list_file,\n",
       "    light_curve_file=\u001b[33m'light_curve.fits'\u001b[39m,\n",
       "    timebinsize=\u001b[33m'100'\u001b[39m,\n",
       "    **kwargs,\n",
       ")\n",
       "\u001b[31mDocstring:\u001b[39m\n",
       "Quick plot function to generate a light curve. As input takes an \n",
       "event list and uses 'evselect' to create a FITS image file.\n",
       "\n",
       "All standard inputs to 'MyTask' can be passed in as optional\n",
       "arguments.\n",
       "\u001b[31mFile:\u001b[39m      /opt/envs/sas/lib/python3.12/site-packages/pysas/obsid/obsid.py\n",
       "\u001b[31mType:\u001b[39m      function"
      ]
     },
     "metadata": {},
     "output_type": "display_data"
    }
   ],
   "source": [
    "pysas.ObsID.quick_lcplot?"
   ]
  },
  {
   "cell_type": "code",
   "execution_count": 7,
   "id": "e410cb47-508e-4e17-8160-fc226d350ab4",
   "metadata": {
    "execution": {
     "iopub.execute_input": "2025-10-16T16:32:04.656710Z",
     "iopub.status.busy": "2025-10-16T16:32:04.656398Z",
     "iopub.status.idle": "2025-10-16T16:32:04.671278Z",
     "shell.execute_reply": "2025-10-16T16:32:04.670183Z",
     "shell.execute_reply.started": "2025-10-16T16:32:04.656679Z"
    }
   },
   "outputs": [
    {
     "data": {
      "text/plain": [
       "\u001b[31mSignature:\u001b[39m\n",
       "pysas.ObsID.download_PPS_data(\n",
       "    self,\n",
       "    repo=\u001b[38;5;28;01mNone\u001b[39;00m,\n",
       "    data_dir=\u001b[38;5;28;01mNone\u001b[39;00m,\n",
       "    overwrite=\u001b[38;5;28;01mFalse\u001b[39;00m,\n",
       "    proprietary=\u001b[38;5;28;01mFalse\u001b[39;00m,\n",
       "    credentials_file=\u001b[38;5;28;01mNone\u001b[39;00m,\n",
       "    encryption_key=\u001b[38;5;28;01mNone\u001b[39;00m,\n",
       "    PPS_subset=\u001b[38;5;28;01mFalse\u001b[39;00m,\n",
       "    instname=\u001b[38;5;28;01mNone\u001b[39;00m,\n",
       "    expflag=\u001b[38;5;28;01mNone\u001b[39;00m,\n",
       "    expno=\u001b[38;5;28;01mNone\u001b[39;00m,\n",
       "    product_type=\u001b[38;5;28;01mNone\u001b[39;00m,\n",
       "    datasubsetno=\u001b[38;5;28;01mNone\u001b[39;00m,\n",
       "    sourceno=\u001b[38;5;28;01mNone\u001b[39;00m,\n",
       "    extension=\u001b[38;5;28;01mNone\u001b[39;00m,\n",
       "    filename=\u001b[38;5;28;01mNone\u001b[39;00m,\n",
       "    **kwargs,\n",
       ")\n",
       "\u001b[31mDocstring:\u001b[39m\n",
       "This handles preliminary setup for downloading data files, then \n",
       "calls download_data (as \"dl_data\") from sasutils.\n",
       "\n",
       "Inputs:\n",
       "    --REQUIRED--\n",
       "\n",
       "        NONE\n",
       "\n",
       "    --OPTIONAL--\n",
       "\n",
       "    --repo:           (string): Which repository to use to download data. \n",
       "                                Default: 'esa'\n",
       "                                Can be either\n",
       "                                'esa' (data from Europe/ESA) or \n",
       "                                'heasarc' (data from North America/NASA) or\n",
       "                                'aws' (data from AWS s3 bucket (NASA)) or\n",
       "                                'fornax' (if user is on Fornax)\n",
       "\n",
       "    --data_dir:  (string/path): Path to directory where the data will be \n",
       "                                downloaded. Automatically creates directory\n",
       "                                data_dir/odfid.\n",
       "                                Default: Default from sas_config file, or\n",
       "                                current working directory.\n",
       "\n",
       "    --overwrite:     (boolean): If True will force overwrite of data if odfid \n",
       "                                data already exists in data_dir/odfid.\n",
       "\n",
       "    --proprietary    (boolean): Flag for downloading proprietary data from\n",
       "                                the XSA at ESA.\n",
       "\n",
       "    --credentials_file (filename): Path and filename of file containing XSA\n",
       "                                username and password. For proprietary data\n",
       "                                only. (Optinal, astroquery will ask user \n",
       "                                for username and password if filename\n",
       "                                not given.)\n",
       "\n",
       "    --encryption_key: (string): Encryption key for proprietary data, a string 32 \n",
       "                                characters long. -OR- path to file containing \n",
       "                                ONLY the encryption key.\n",
       "                                Note: ONLY used for data from the HEASARC.\n",
       "\n",
       "    --PPS_subset:    (boolean): Set PPS_subset=True if downloading a subset of PPS\n",
       "                                files form the XMM-Newton archive.\n",
       "\n",
       "    --filename:       (string): If the exact PPS file name is known, then this can\n",
       "                                be used to download a single PPS file.\n",
       "\n",
       "    \n",
       "    The remaining inputs are used for downloading groups of PPS files using a \n",
       "    particular file pattern. Using these requires an understanding of PPS \n",
       "    filenames.\n",
       "    \n",
       "        instname    : instrument name\n",
       "        expflag     : Exposure flag\n",
       "        expno       : Exposure number\n",
       "        product_type: Product type\n",
       "        datasubsetno: data subset number/character\n",
       "        sourceno    : Source number or slew step number\n",
       "        extension   : File format\n",
       "\u001b[31mFile:\u001b[39m      /opt/envs/sas/lib/python3.12/site-packages/pysas/obsid/obsid.py\n",
       "\u001b[31mType:\u001b[39m      function"
      ]
     },
     "metadata": {},
     "output_type": "display_data"
    }
   ],
   "source": [
    "pysas.ObsID.download_PPS_data?"
   ]
  },
  {
   "cell_type": "code",
   "execution_count": 8,
   "id": "7fe2957b-7dbf-47b3-b4d1-63edb7f08d41",
   "metadata": {
    "execution": {
     "iopub.execute_input": "2025-10-16T16:32:04.672746Z",
     "iopub.status.busy": "2025-10-16T16:32:04.672202Z",
     "iopub.status.idle": "2025-10-16T16:32:04.683569Z",
     "shell.execute_reply": "2025-10-16T16:32:04.682309Z",
     "shell.execute_reply.started": "2025-10-16T16:32:04.672711Z"
    }
   },
   "outputs": [
    {
     "data": {
      "text/plain": [
       "\u001b[31mSignature:\u001b[39m\n",
       "pysas.ObsID.download_ALL_data(\n",
       "    self,\n",
       "    repo=\u001b[38;5;28;01mNone\u001b[39;00m,\n",
       "    data_dir=\u001b[38;5;28;01mNone\u001b[39;00m,\n",
       "    overwrite=\u001b[38;5;28;01mTrue\u001b[39;00m,\n",
       "    proprietary=\u001b[38;5;28;01mFalse\u001b[39;00m,\n",
       "    credentials_file=\u001b[38;5;28;01mNone\u001b[39;00m,\n",
       "    encryption_key=\u001b[38;5;28;01mNone\u001b[39;00m,\n",
       ")\n",
       "\u001b[31mDocstring:\u001b[39m\n",
       "This function assumes you want to overwrite everything in the\n",
       "obs_dir. Makes no checks.\n",
       "\n",
       "This handles preliminary setup for downloading data files, then \n",
       "calls download_data (as \"dl_data\") from sasutils.\n",
       "\n",
       "Inputs:\n",
       "    --REQUIRED--\n",
       "\n",
       "        NONE\n",
       "\n",
       "    --OPTIONAL--\n",
       "\n",
       "    --repo:           (string): Which repository to use to download data. \n",
       "                                Default: 'esa'\n",
       "                                Can be either\n",
       "                                'esa' (data from Europe/ESA) or \n",
       "                                'heasarc' (data from North America/NASA) or\n",
       "                                'aws' (data from AWS s3 bucket (NASA)) or\n",
       "                                'fornax' (if user is on Fornax)\n",
       "\n",
       "    --data_dir:  (string/path): Path to directory where the data will be \n",
       "                                downloaded. Automatically creates directory\n",
       "                                data_dir/obsid.\n",
       "                                Default: Default from sas_config file, or\n",
       "                                current working directory.\n",
       "\n",
       "    --overwrite:     (boolean): If True will force overwrite of data if obsid \n",
       "                                data already exists in data_dir/obsid.\n",
       "\n",
       "    --proprietary    (boolean): Flag for downloading proprietary data from\n",
       "                                the XSA at ESA.\n",
       "\n",
       "    --credentials_file (filename): Path and filename of file containing XSA\n",
       "                                username and password. For proprietary data\n",
       "                                only. (Optinal, astroquery will ask user \n",
       "                                for username and password if filename\n",
       "                                not given.)\n",
       "\n",
       "    --encryption_key: (string): Encryption key for proprietary data, a string 32 \n",
       "                                characters long. -OR- path to file containing \n",
       "                                ONLY the encryption key.\n",
       "                                Note: ONLY used for data from the HEASARC.\n",
       "\u001b[31mFile:\u001b[39m      /opt/envs/sas/lib/python3.12/site-packages/pysas/obsid/obsid.py\n",
       "\u001b[31mType:\u001b[39m      function"
      ]
     },
     "metadata": {},
     "output_type": "display_data"
    }
   ],
   "source": [
    "pysas.ObsID.download_ALL_data?"
   ]
  },
  {
   "cell_type": "code",
   "execution_count": 9,
   "id": "2efd7c03-68db-4155-9afd-6ffc5762f365",
   "metadata": {
    "execution": {
     "iopub.execute_input": "2025-10-16T16:32:04.685176Z",
     "iopub.status.busy": "2025-10-16T16:32:04.684602Z",
     "iopub.status.idle": "2025-10-16T16:32:04.696804Z",
     "shell.execute_reply": "2025-10-16T16:32:04.695882Z",
     "shell.execute_reply.started": "2025-10-16T16:32:04.685142Z"
    }
   },
   "outputs": [
    {
     "data": {
      "text/plain": [
       "\u001b[31mSignature:\u001b[39m pysas.ObsID.sas_talk(self, verbosity=\u001b[32m4\u001b[39m, suppress_warning=\u001b[32m1\u001b[39m)\n",
       "\u001b[31mDocstring:\u001b[39m\n",
       "Simple function to set general SAS veriables 'verbosity' \n",
       "and 'suppress_warning'.\n",
       "\u001b[31mFile:\u001b[39m      /opt/envs/sas/lib/python3.12/site-packages/pysas/obsid/obsid.py\n",
       "\u001b[31mType:\u001b[39m      function"
      ]
     },
     "metadata": {},
     "output_type": "display_data"
    }
   ],
   "source": [
    "pysas.ObsID.sas_talk?"
   ]
  },
  {
   "cell_type": "code",
   "execution_count": 10,
   "id": "c25c1558-d781-42f7-979e-b203b3703932",
   "metadata": {
    "execution": {
     "iopub.execute_input": "2025-10-16T16:32:04.697911Z",
     "iopub.status.busy": "2025-10-16T16:32:04.697644Z",
     "iopub.status.idle": "2025-10-16T16:32:04.710066Z",
     "shell.execute_reply": "2025-10-16T16:32:04.709072Z",
     "shell.execute_reply.started": "2025-10-16T16:32:04.697887Z"
    }
   },
   "outputs": [
    {
     "data": {
      "text/plain": [
       "\u001b[31mSignature:\u001b[39m\n",
       "pysas.ObsID.calibrate_odf(\n",
       "    self,\n",
       "    obs_dir=\u001b[38;5;28;01mNone\u001b[39;00m,\n",
       "    sas_ccf=\u001b[38;5;28;01mNone\u001b[39;00m,\n",
       "    sas_odf=\u001b[38;5;28;01mNone\u001b[39;00m,\n",
       "    cifbuild_opts={},\n",
       "    odfingest_opts={},\n",
       "    recalibrate=\u001b[38;5;28;01mFalse\u001b[39;00m,\n",
       ")\n",
       "\u001b[31mDocstring:\u001b[39m\n",
       "Before running this function an ObsID object must be created first. e.g.\n",
       "\n",
       "    my_obs = pysas.obsid.ObsID(obsid)\n",
       "\n",
       "*Then* the data must be downloaded using:\n",
       "\n",
       "    my_obs.download_ODF_data()\n",
       "\n",
       "This function can then be used as, \n",
       "\n",
       "    my_obs.calibrate_odf()\n",
       "\n",
       "If it exists it will search data_dir/obsid and any subdirectories for the ccf.cif\n",
       "and *SUM.SAS files. Will not rerun calibration if the ccf.cif and *SUM.SAS files\n",
       "exist, unless recalibrate = True.\n",
       "\n",
       "Optionally the paths to the ccf.cif and *SUM.SAS files can be given through \n",
       "sas_ccf and sas_odf respectively.\n",
       "\n",
       "Inputs:\n",
       "    --REQUIRED--\n",
       "\n",
       "        NONE\n",
       "\n",
       "    --OPTIONAL--\n",
       "\n",
       "    --obs_dir:  (string/path): Path to the obs directory. If no path \n",
       "                               given, then will look in \n",
       "                               data_dir/obsid/. If directory exists then \n",
       "                               will look for ccf.cif and *SUM.SAS files. \n",
       "                               Default: None, looks in data_dir/obsid/.\n",
       "\n",
       "    --sas_ccf:   (string/path): Path to ccf.cif file for obsid.\n",
       "\n",
       "    --sas_odf:   (string/path): Path to *SUM.SAS file for obsid.\n",
       "\n",
       "    --cifbuild_opts:    (list): Options for cifbuild.\n",
       "\n",
       "    --odfingest_opts:   (list): Options for odfingest.\n",
       "\n",
       "    --recalibrate:   (boolean): If True will rerun odfingest and cifbuild.\n",
       "\u001b[31mFile:\u001b[39m      /opt/envs/sas/lib/python3.12/site-packages/pysas/obsid/obsid.py\n",
       "\u001b[31mType:\u001b[39m      function"
      ]
     },
     "metadata": {},
     "output_type": "display_data"
    }
   ],
   "source": [
    "pysas.ObsID.calibrate_odf?"
   ]
  },
  {
   "cell_type": "code",
   "execution_count": 11,
   "id": "596ea4cc-a450-45a7-a862-3f3316485332",
   "metadata": {
    "execution": {
     "iopub.execute_input": "2025-10-16T16:32:04.711651Z",
     "iopub.status.busy": "2025-10-16T16:32:04.711270Z",
     "iopub.status.idle": "2025-10-16T16:32:04.722424Z",
     "shell.execute_reply": "2025-10-16T16:32:04.721344Z",
     "shell.execute_reply.started": "2025-10-16T16:32:04.711616Z"
    }
   },
   "outputs": [
    {
     "data": {
      "text/plain": [
       "\u001b[31mSignature:\u001b[39m pysas.ObsID.get_active_instruments(self)\n",
       "\u001b[31mDocstring:\u001b[39m\n",
       "Checks odf summary file for which instruments were active for that odf.\n",
       "\n",
       "Assumes that 'sas_odf' already exists and contains the correct path.\n",
       "\n",
       "Also assumes file name and path are stored in self.files['sas_odf'].\n",
       "\u001b[31mFile:\u001b[39m      /opt/envs/sas/lib/python3.12/site-packages/pysas/obsid/obsid.py\n",
       "\u001b[31mType:\u001b[39m      function"
      ]
     },
     "metadata": {},
     "output_type": "display_data"
    }
   ],
   "source": [
    "pysas.ObsID.get_active_instruments?"
   ]
  },
  {
   "cell_type": "code",
   "execution_count": 12,
   "id": "df1fec60-9f36-4d0a-83b0-9dd29261fda0",
   "metadata": {
    "execution": {
     "iopub.execute_input": "2025-10-16T16:32:04.724097Z",
     "iopub.status.busy": "2025-10-16T16:32:04.723534Z",
     "iopub.status.idle": "2025-10-16T16:32:04.735150Z",
     "shell.execute_reply": "2025-10-16T16:32:04.734041Z",
     "shell.execute_reply.started": "2025-10-16T16:32:04.724059Z"
    }
   },
   "outputs": [
    {
     "data": {
      "text/plain": [
       "\u001b[31mSignature:\u001b[39m pysas.ObsID.find_event_list_files(self, print_output=\u001b[38;5;28;01mTrue\u001b[39;00m)\n",
       "\u001b[31mDocstring:\u001b[39m\n",
       "Checks the observation directory (obs_dir) for basic unfiltered \n",
       "event list files created by 'epproc', 'emproc', and 'rgsproc'. \n",
       "Stores paths and file names in self.files.\n",
       "\n",
       "'self.files' is a dictionary with the following keys:\n",
       "\n",
       "    'PNevt_list'\n",
       "    'M1evt_list'\n",
       "    'M2evt_list'\n",
       "    'R1evt_list'\n",
       "    'R2evt_list'\n",
       "\u001b[31mFile:\u001b[39m      /opt/envs/sas/lib/python3.12/site-packages/pysas/obsid/obsid.py\n",
       "\u001b[31mType:\u001b[39m      function"
      ]
     },
     "metadata": {},
     "output_type": "display_data"
    }
   ],
   "source": [
    "pysas.ObsID.find_event_list_files?"
   ]
  },
  {
   "cell_type": "code",
   "execution_count": 13,
   "id": "aac9a26d-4c13-45b3-9ae5-73775c613ed4",
   "metadata": {
    "execution": {
     "iopub.execute_input": "2025-10-16T16:32:04.736675Z",
     "iopub.status.busy": "2025-10-16T16:32:04.736269Z",
     "iopub.status.idle": "2025-10-16T16:32:04.747163Z",
     "shell.execute_reply": "2025-10-16T16:32:04.746514Z",
     "shell.execute_reply.started": "2025-10-16T16:32:04.736644Z"
    }
   },
   "outputs": [
    {
     "data": {
      "text/plain": [
       "\u001b[31mSignature:\u001b[39m pysas.ObsID.find_rgs_spectra_files(self, print_output=\u001b[38;5;28;01mTrue\u001b[39;00m)\n",
       "\u001b[31mDocstring:\u001b[39m\n",
       "Check for RGS spectra files created by rgsproc. Adds them to \n",
       "'files' dictrionary with the keys:\n",
       "\n",
       "    'R1SPEC'\n",
       "    'R2SPEC'\n",
       "\u001b[31mFile:\u001b[39m      /opt/envs/sas/lib/python3.12/site-packages/pysas/obsid/obsid.py\n",
       "\u001b[31mType:\u001b[39m      function"
      ]
     },
     "metadata": {},
     "output_type": "display_data"
    }
   ],
   "source": [
    "pysas.ObsID.find_rgs_spectra_files?"
   ]
  },
  {
   "cell_type": "code",
   "execution_count": 14,
   "id": "fed1d78f-e928-4b2e-90d4-85104003b43d",
   "metadata": {
    "execution": {
     "iopub.execute_input": "2025-10-16T16:32:04.747936Z",
     "iopub.status.busy": "2025-10-16T16:32:04.747715Z",
     "iopub.status.idle": "2025-10-16T16:32:04.757959Z",
     "shell.execute_reply": "2025-10-16T16:32:04.756991Z",
     "shell.execute_reply.started": "2025-10-16T16:32:04.747912Z"
    }
   },
   "outputs": [
    {
     "data": {
      "text/plain": [
       "\u001b[31mSignature:\u001b[39m pysas.ObsID.clear_obs_dir(self)\n",
       "\u001b[31mDocstring:\u001b[39m Function to remove all files and subdirectories from the obs_dir.\n",
       "\u001b[31mFile:\u001b[39m      /opt/envs/sas/lib/python3.12/site-packages/pysas/obsid/obsid.py\n",
       "\u001b[31mType:\u001b[39m      function"
      ]
     },
     "metadata": {},
     "output_type": "display_data"
    }
   ],
   "source": [
    "pysas.ObsID.clear_obs_dir?"
   ]
  },
  {
   "cell_type": "code",
   "execution_count": 15,
   "id": "8c04117c-4562-4c02-b4bb-00eae1e10c89",
   "metadata": {
    "execution": {
     "iopub.execute_input": "2025-10-16T16:32:04.758843Z",
     "iopub.status.busy": "2025-10-16T16:32:04.758562Z",
     "iopub.status.idle": "2025-10-16T16:32:04.768895Z",
     "shell.execute_reply": "2025-10-16T16:32:04.767940Z",
     "shell.execute_reply.started": "2025-10-16T16:32:04.758819Z"
    }
   },
   "outputs": [
    {
     "data": {
      "text/plain": [
       "\u001b[31mSignature:\u001b[39m pysas.ObsID.clear_work_dir(self)\n",
       "\u001b[31mDocstring:\u001b[39m Function to remove all files and subdirectories from the work_dir.\n",
       "\u001b[31mFile:\u001b[39m      /opt/envs/sas/lib/python3.12/site-packages/pysas/obsid/obsid.py\n",
       "\u001b[31mType:\u001b[39m      function"
      ]
     },
     "metadata": {},
     "output_type": "display_data"
    }
   ],
   "source": [
    "pysas.ObsID.clear_work_dir?"
   ]
  }
 ],
 "metadata": {
  "kernelspec": {
   "display_name": "sas",
   "language": "python",
   "name": "sas"
  },
  "language_info": {
   "codemirror_mode": {
    "name": "ipython",
    "version": 3
   },
   "file_extension": ".py",
   "mimetype": "text/x-python",
   "name": "python",
   "nbconvert_exporter": "python",
   "pygments_lexer": "ipython3",
   "version": "3.12.11"
  }
 },
 "nbformat": 4,
 "nbformat_minor": 5
}
