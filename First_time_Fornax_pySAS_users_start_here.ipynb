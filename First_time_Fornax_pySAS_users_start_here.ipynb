{
 "cells": [
  {
   "cell_type": "markdown",
   "id": "a18393a4-7088-4f6d-99b7-e0ae0ef54fdb",
   "metadata": {},
   "source": [
    "# First Time using pySAS on Fornax\n",
    "<hr style=\"border: 2px solid #fadbac\" />\n",
    "\n",
    "- **Description:** Notebook to help set pySAS user defaults on Fornax.\n",
    "- **Credit:** Ryan Tanner (October 2025)\n",
    "- **Support:** <a href=\"https://heasarc.gsfc.nasa.gov/docs/xmm/xmm_helpdesk.html\">XMM Newton GOF Helpdesk</a>\n",
    "- **Last verified to run:** 15 October 2025\n",
    "\n",
    "<hr style=\"border: 2px solid #fadbac\" />"
   ]
  },
  {
   "cell_type": "markdown",
   "id": "0b21d13d-8276-4ecb-baa6-cca3135d7a3f",
   "metadata": {},
   "source": [
    "## Set your default data directory\n",
    "\n",
    "### If you don't care about the details, then just run the next cell and close this notebook.\n",
    "\n",
    "If you want to know more, or change the default data directory, then read on below."
   ]
  },
  {
   "cell_type": "code",
   "execution_count": null,
   "id": "798a3f92-f940-4fbe-8633-6aea661f26ae",
   "metadata": {},
   "outputs": [],
   "source": [
    "from pathlib import Path\n",
    "from pysas import sas_cfg\n",
    "\n",
    "home_dir = Path.home()\n",
    "data_dir = home_dir / 'xmm_data'\n",
    "sas_cfg.simple_config(data_dir = data_dir)"
   ]
  },
  {
   "cell_type": "markdown",
   "id": "a56e6565-4215-4e34-8ceb-82a2b7189133",
   "metadata": {},
   "source": [
    "<hr style=\"border: 2px solid #fadbac\" />\n",
    "\n",
    "You can find more information in the notebook [Basics of pySAS](./Basics_of_pySAS.ipynb).\n",
    "\n",
    "The first cell in this notebook will set a default data directory for your XMM-Newton data. All observation data files and work files will be stored in that directory. You can name the directory whatever you want by changing `xmm_data` in the cell above. For example,\n",
    "```python\n",
    "data_dir = home_dir / 'my_special_x-ray_data'\n",
    "```\n",
    "You can also set your data directory to be a subdirectory of another directory. For example, you could have your XMM-Newton data in a subdirectory for *all* of your observational data from other telescopes:\n",
    "```python\n",
    "data_dir = home_dir / 'my_obs_data' / 'my_special_x-ray_data'\n",
    "```\n",
    "The path for your `data_dir` will be stored in a configuration file that can be found here:\n",
    "```\n",
    "$HOME/.config/sas/sas.cfg\n",
    "```\n",
    "pySAS assumes your XMM data is kept in a single directory `data_dir`. Once the `data_dir` is set, pySAS will download data files for individual Obs IDs into their own directory. With data from multiple Obs IDs your `data_dir` would look something like this:\n",
    "```\n",
    "└── data_dir\n",
    "    ├── 0104860501\n",
    "    ├── 0112200301\n",
    "    ├── 0123700101\n",
    "    ├── 0400550201\n",
    "    ├── 0790830101\n",
    "    ├── ...\n",
    "```"
   ]
  },
  {
   "cell_type": "markdown",
   "id": "ffcb0ea6-b195-4a6c-8fcb-6f7790dd6310",
   "metadata": {},
   "source": [
    "<hr style=\"border: 2px solid #fadbac\" />\n",
    "\n",
    "If you want to see the contents of your config file, run the following cell."
   ]
  },
  {
   "cell_type": "code",
   "execution_count": null,
   "id": "d6a433be-4ffd-4d2a-af43-791eec51c6e9",
   "metadata": {},
   "outputs": [],
   "source": [
    "sas_cfg.show_config_file()"
   ]
  },
  {
   "cell_type": "markdown",
   "id": "f00fe4fe-6b87-4df2-bddb-a52e0225818e",
   "metadata": {},
   "source": [
    "<hr style=\"border: 2px solid #fadbac\" />\n",
    "\n",
    "You can change settings in your config file by using the following method:\n",
    "```python\n",
    "sas_cfg.set_setting_and_save(setting_name, new_setting_value)\n",
    "```\n",
    "For example, to change the default data directory you would do,\n",
    "```python\n",
    "sas_cfg.set_setting_and_save('data_dir', '/path/to/new/data_dir')\n",
    "```"
   ]
  }
 ],
 "metadata": {
  "kernelspec": {
   "display_name": "sas",
   "language": "python",
   "name": "sas"
  },
  "language_info": {
   "codemirror_mode": {
    "name": "ipython",
    "version": 3
   },
   "file_extension": ".py",
   "mimetype": "text/x-python",
   "name": "python",
   "nbconvert_exporter": "python",
   "pygments_lexer": "ipython3",
   "version": "3.12.11"
  }
 },
 "nbformat": 4,
 "nbformat_minor": 5
}
